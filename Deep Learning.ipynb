{
 "cells": [
  {
   "cell_type": "code",
   "execution_count": 33,
   "metadata": {
    "scrolled": false
   },
   "outputs": [],
   "source": [
    "using Flux, Plots"
   ]
  },
  {
   "cell_type": "markdown",
   "metadata": {},
   "source": [
    "Sigmoid Function"
   ]
  },
  {
   "cell_type": "code",
   "execution_count": 34,
   "metadata": {},
   "outputs": [
    {
     "name": "stdout",
     "output_type": "stream",
     "text": [
      "\"\u001b[36mσ\u001b[39m\" can be typed by \u001b[36m\\sigma<tab>\u001b[39m\n",
      "\n",
      "search: \u001b[0m\u001b[1mσ\u001b[22m log\u001b[0m\u001b[1mσ\u001b[22m hard\u001b[0m\u001b[1mσ\u001b[22m\n",
      "\n"
     ]
    },
    {
     "data": {
      "text/latex": [
       "\\begin{verbatim}\n",
       "σ(x) = 1 / (1 + exp(-x))\n",
       "\\end{verbatim}\n",
       "Classic \\href{https://en.wikipedia.org/wiki/Sigmoid_function}{sigmoid} activation function.\n",
       "\n"
      ],
      "text/markdown": [
       "```\n",
       "σ(x) = 1 / (1 + exp(-x))\n",
       "```\n",
       "\n",
       "Classic [sigmoid](https://en.wikipedia.org/wiki/Sigmoid_function) activation function.\n"
      ],
      "text/plain": [
       "\u001b[36m  σ(x) = 1 / (1 + exp(-x))\u001b[39m\n",
       "\n",
       "  Classic sigmoid (https://en.wikipedia.org/wiki/Sigmoid_function) activation\n",
       "  function."
      ]
     },
     "execution_count": 34,
     "metadata": {},
     "output_type": "execute_result"
    }
   ],
   "source": [
    "?σ"
   ]
  },
  {
   "cell_type": "code",
   "execution_count": 35,
   "metadata": {},
   "outputs": [
    {
     "data": {
      "image/svg+xml": [
       "<?xml version=\"1.0\" encoding=\"utf-8\"?>\n",
       "<svg xmlns=\"http://www.w3.org/2000/svg\" xmlns:xlink=\"http://www.w3.org/1999/xlink\" width=\"600\" height=\"400\" viewBox=\"0 0 2400 1600\">\n",
       "<defs>\n",
       "  <clipPath id=\"clip710\">\n",
       "    <rect x=\"0\" y=\"0\" width=\"2400\" height=\"1600\"/>\n",
       "  </clipPath>\n",
       "</defs>\n",
       "<path clip-path=\"url(#clip710)\" d=\"\n",
       "M0 1600 L2400 1600 L2400 0 L0 0  Z\n",
       "  \" fill=\"#ffffff\" fill-rule=\"evenodd\" fill-opacity=\"1\"/>\n",
       "<defs>\n",
       "  <clipPath id=\"clip711\">\n",
       "    <rect x=\"480\" y=\"0\" width=\"1681\" height=\"1600\"/>\n",
       "  </clipPath>\n",
       "</defs>\n",
       "<path clip-path=\"url(#clip710)\" d=\"\n",
       "M174.862 1486.45 L2352.76 1486.45 L2352.76 47.2441 L174.862 47.2441  Z\n",
       "  \" fill=\"#ffffff\" fill-rule=\"evenodd\" fill-opacity=\"1\"/>\n",
       "<defs>\n",
       "  <clipPath id=\"clip712\">\n",
       "    <rect x=\"174\" y=\"47\" width=\"2179\" height=\"1440\"/>\n",
       "  </clipPath>\n",
       "</defs>\n",
       "<polyline clip-path=\"url(#clip712)\" style=\"stroke:#000000; stroke-width:2; stroke-opacity:0.1; fill:none\" points=\"\n",
       "  441.962,1486.45 441.962,47.2441 \n",
       "  \"/>\n",
       "<polyline clip-path=\"url(#clip712)\" style=\"stroke:#000000; stroke-width:2; stroke-opacity:0.1; fill:none\" points=\"\n",
       "  852.886,1486.45 852.886,47.2441 \n",
       "  \"/>\n",
       "<polyline clip-path=\"url(#clip712)\" style=\"stroke:#000000; stroke-width:2; stroke-opacity:0.1; fill:none\" points=\"\n",
       "  1263.81,1486.45 1263.81,47.2441 \n",
       "  \"/>\n",
       "<polyline clip-path=\"url(#clip712)\" style=\"stroke:#000000; stroke-width:2; stroke-opacity:0.1; fill:none\" points=\"\n",
       "  1674.73,1486.45 1674.73,47.2441 \n",
       "  \"/>\n",
       "<polyline clip-path=\"url(#clip712)\" style=\"stroke:#000000; stroke-width:2; stroke-opacity:0.1; fill:none\" points=\"\n",
       "  2085.66,1486.45 2085.66,47.2441 \n",
       "  \"/>\n",
       "<polyline clip-path=\"url(#clip712)\" style=\"stroke:#000000; stroke-width:2; stroke-opacity:0.1; fill:none\" points=\"\n",
       "  174.862,1454.93 2352.76,1454.93 \n",
       "  \"/>\n",
       "<polyline clip-path=\"url(#clip712)\" style=\"stroke:#000000; stroke-width:2; stroke-opacity:0.1; fill:none\" points=\"\n",
       "  174.862,1110.89 2352.76,1110.89 \n",
       "  \"/>\n",
       "<polyline clip-path=\"url(#clip712)\" style=\"stroke:#000000; stroke-width:2; stroke-opacity:0.1; fill:none\" points=\"\n",
       "  174.862,766.846 2352.76,766.846 \n",
       "  \"/>\n",
       "<polyline clip-path=\"url(#clip712)\" style=\"stroke:#000000; stroke-width:2; stroke-opacity:0.1; fill:none\" points=\"\n",
       "  174.862,422.806 2352.76,422.806 \n",
       "  \"/>\n",
       "<polyline clip-path=\"url(#clip712)\" style=\"stroke:#000000; stroke-width:2; stroke-opacity:0.1; fill:none\" points=\"\n",
       "  174.862,78.7658 2352.76,78.7658 \n",
       "  \"/>\n",
       "<polyline clip-path=\"url(#clip710)\" style=\"stroke:#000000; stroke-width:4; stroke-opacity:1; fill:none\" points=\"\n",
       "  174.862,1486.45 2352.76,1486.45 \n",
       "  \"/>\n",
       "<polyline clip-path=\"url(#clip710)\" style=\"stroke:#000000; stroke-width:4; stroke-opacity:1; fill:none\" points=\"\n",
       "  174.862,1486.45 174.862,47.2441 \n",
       "  \"/>\n",
       "<polyline clip-path=\"url(#clip710)\" style=\"stroke:#000000; stroke-width:4; stroke-opacity:1; fill:none\" points=\"\n",
       "  441.962,1486.45 441.962,1469.18 \n",
       "  \"/>\n",
       "<polyline clip-path=\"url(#clip710)\" style=\"stroke:#000000; stroke-width:4; stroke-opacity:1; fill:none\" points=\"\n",
       "  852.886,1486.45 852.886,1469.18 \n",
       "  \"/>\n",
       "<polyline clip-path=\"url(#clip710)\" style=\"stroke:#000000; stroke-width:4; stroke-opacity:1; fill:none\" points=\"\n",
       "  1263.81,1486.45 1263.81,1469.18 \n",
       "  \"/>\n",
       "<polyline clip-path=\"url(#clip710)\" style=\"stroke:#000000; stroke-width:4; stroke-opacity:1; fill:none\" points=\"\n",
       "  1674.73,1486.45 1674.73,1469.18 \n",
       "  \"/>\n",
       "<polyline clip-path=\"url(#clip710)\" style=\"stroke:#000000; stroke-width:4; stroke-opacity:1; fill:none\" points=\"\n",
       "  2085.66,1486.45 2085.66,1469.18 \n",
       "  \"/>\n",
       "<polyline clip-path=\"url(#clip710)\" style=\"stroke:#000000; stroke-width:4; stroke-opacity:1; fill:none\" points=\"\n",
       "  174.862,1454.93 200.997,1454.93 \n",
       "  \"/>\n",
       "<polyline clip-path=\"url(#clip710)\" style=\"stroke:#000000; stroke-width:4; stroke-opacity:1; fill:none\" points=\"\n",
       "  174.862,1110.89 200.997,1110.89 \n",
       "  \"/>\n",
       "<polyline clip-path=\"url(#clip710)\" style=\"stroke:#000000; stroke-width:4; stroke-opacity:1; fill:none\" points=\"\n",
       "  174.862,766.846 200.997,766.846 \n",
       "  \"/>\n",
       "<polyline clip-path=\"url(#clip710)\" style=\"stroke:#000000; stroke-width:4; stroke-opacity:1; fill:none\" points=\"\n",
       "  174.862,422.806 200.997,422.806 \n",
       "  \"/>\n",
       "<polyline clip-path=\"url(#clip710)\" style=\"stroke:#000000; stroke-width:4; stroke-opacity:1; fill:none\" points=\"\n",
       "  174.862,78.7658 200.997,78.7658 \n",
       "  \"/>\n",
       "<path clip-path=\"url(#clip710)\" d=\"M 0 0 M421.974 1525.04 L434.451 1525.04 L434.451 1528.83 L421.974 1528.83 L421.974 1525.04 Z\" fill=\"#000000\" fill-rule=\"evenodd\" fill-opacity=\"1\" /><path clip-path=\"url(#clip710)\" d=\"M 0 0 M452.367 1509.43 L440.562 1527.88 L452.367 1527.88 L452.367 1509.43 M451.14 1505.36 L457.02 1505.36 L457.02 1527.88 L461.951 1527.88 L461.951 1531.77 L457.02 1531.77 L457.02 1539.92 L452.367 1539.92 L452.367 1531.77 L436.765 1531.77 L436.765 1527.26 L451.14 1505.36 Z\" fill=\"#000000\" fill-rule=\"evenodd\" fill-opacity=\"1\" /><path clip-path=\"url(#clip710)\" d=\"M 0 0 M833.939 1525.04 L846.416 1525.04 L846.416 1528.83 L833.939 1528.83 L833.939 1525.04 Z\" fill=\"#000000\" fill-rule=\"evenodd\" fill-opacity=\"1\" /><path clip-path=\"url(#clip710)\" d=\"M 0 0 M855.513 1535.98 L871.832 1535.98 L871.832 1539.92 L849.888 1539.92 L849.888 1535.98 Q852.55 1533.23 857.133 1528.6 Q861.74 1523.95 862.92 1522.61 Q865.166 1520.08 866.045 1518.35 Q866.948 1516.59 866.948 1514.9 Q866.948 1512.14 865.004 1510.41 Q863.082 1508.67 859.98 1508.67 Q857.781 1508.67 855.328 1509.43 Q852.897 1510.2 850.119 1511.75 L850.119 1507.03 Q852.943 1505.89 855.397 1505.31 Q857.851 1504.73 859.888 1504.73 Q865.258 1504.73 868.453 1507.42 Q871.647 1510.11 871.647 1514.6 Q871.647 1516.73 870.837 1518.65 Q870.05 1520.54 867.943 1523.14 Q867.365 1523.81 864.263 1527.03 Q861.161 1530.22 855.513 1535.98 Z\" fill=\"#000000\" fill-rule=\"evenodd\" fill-opacity=\"1\" /><path clip-path=\"url(#clip710)\" d=\"M 0 0 M1263.81 1508.44 Q1260.2 1508.44 1258.37 1512 Q1256.56 1515.55 1256.56 1522.67 Q1256.56 1529.78 1258.37 1533.35 Q1260.2 1536.89 1263.81 1536.89 Q1267.44 1536.89 1269.25 1533.35 Q1271.08 1529.78 1271.08 1522.67 Q1271.08 1515.55 1269.25 1512 Q1267.44 1508.44 1263.81 1508.44 M1263.81 1504.73 Q1269.62 1504.73 1272.67 1509.34 Q1275.75 1513.92 1275.75 1522.67 Q1275.75 1531.4 1272.67 1536.01 Q1269.62 1540.59 1263.81 1540.59 Q1258 1540.59 1254.92 1536.01 Q1251.86 1531.4 1251.86 1522.67 Q1251.86 1513.92 1254.92 1509.34 Q1258 1504.73 1263.81 1504.73 Z\" fill=\"#000000\" fill-rule=\"evenodd\" fill-opacity=\"1\" /><path clip-path=\"url(#clip710)\" d=\"M 0 0 M1669.39 1535.98 L1685.7 1535.98 L1685.7 1539.92 L1663.76 1539.92 L1663.76 1535.98 Q1666.42 1533.23 1671.01 1528.6 Q1675.61 1523.95 1676.79 1522.61 Q1679.04 1520.08 1679.92 1518.35 Q1680.82 1516.59 1680.82 1514.9 Q1680.82 1512.14 1678.88 1510.41 Q1676.95 1508.67 1673.85 1508.67 Q1671.65 1508.67 1669.2 1509.43 Q1666.77 1510.2 1663.99 1511.75 L1663.99 1507.03 Q1666.82 1505.89 1669.27 1505.31 Q1671.72 1504.73 1673.76 1504.73 Q1679.13 1504.73 1682.32 1507.42 Q1685.52 1510.11 1685.52 1514.6 Q1685.52 1516.73 1684.71 1518.65 Q1683.92 1520.54 1681.82 1523.14 Q1681.24 1523.81 1678.14 1527.03 Q1675.03 1530.22 1669.39 1535.98 Z\" fill=\"#000000\" fill-rule=\"evenodd\" fill-opacity=\"1\" /><path clip-path=\"url(#clip710)\" d=\"M 0 0 M2088.66 1509.43 L2076.86 1527.88 L2088.66 1527.88 L2088.66 1509.43 M2087.44 1505.36 L2093.32 1505.36 L2093.32 1527.88 L2098.25 1527.88 L2098.25 1531.77 L2093.32 1531.77 L2093.32 1539.92 L2088.66 1539.92 L2088.66 1531.77 L2073.06 1531.77 L2073.06 1527.26 L2087.44 1505.36 Z\" fill=\"#000000\" fill-rule=\"evenodd\" fill-opacity=\"1\" /><path clip-path=\"url(#clip710)\" d=\"M 0 0 M74.9365 1440.72 Q71.3254 1440.72 69.4967 1444.29 Q67.6912 1447.83 67.6912 1454.96 Q67.6912 1462.07 69.4967 1465.63 Q71.3254 1469.17 74.9365 1469.17 Q78.5707 1469.17 80.3763 1465.63 Q82.205 1462.07 82.205 1454.96 Q82.205 1447.83 80.3763 1444.29 Q78.5707 1440.72 74.9365 1440.72 M74.9365 1437.02 Q80.7467 1437.02 83.8022 1441.63 Q86.8809 1446.21 86.8809 1454.96 Q86.8809 1463.69 83.8022 1468.29 Q80.7467 1472.88 74.9365 1472.88 Q69.1264 1472.88 66.0477 1468.29 Q62.9921 1463.69 62.9921 1454.96 Q62.9921 1446.21 66.0477 1441.63 Q69.1264 1437.02 74.9365 1437.02 Z\" fill=\"#000000\" fill-rule=\"evenodd\" fill-opacity=\"1\" /><path clip-path=\"url(#clip710)\" d=\"M 0 0 M91.9503 1466.33 L96.8345 1466.33 L96.8345 1472.21 L91.9503 1472.21 L91.9503 1466.33 Z\" fill=\"#000000\" fill-rule=\"evenodd\" fill-opacity=\"1\" /><path clip-path=\"url(#clip710)\" d=\"M 0 0 M111.904 1440.72 Q108.293 1440.72 106.464 1444.29 Q104.659 1447.83 104.659 1454.96 Q104.659 1462.07 106.464 1465.63 Q108.293 1469.17 111.904 1469.17 Q115.538 1469.17 117.344 1465.63 Q119.172 1462.07 119.172 1454.96 Q119.172 1447.83 117.344 1444.29 Q115.538 1440.72 111.904 1440.72 M111.904 1437.02 Q117.714 1437.02 120.77 1441.63 Q123.848 1446.21 123.848 1454.96 Q123.848 1463.69 120.77 1468.29 Q117.714 1472.88 111.904 1472.88 Q106.094 1472.88 103.015 1468.29 Q99.9595 1463.69 99.9595 1454.96 Q99.9595 1446.21 103.015 1441.63 Q106.094 1437.02 111.904 1437.02 Z\" fill=\"#000000\" fill-rule=\"evenodd\" fill-opacity=\"1\" /><path clip-path=\"url(#clip710)\" d=\"M 0 0 M138.918 1440.72 Q135.307 1440.72 133.478 1444.29 Q131.672 1447.83 131.672 1454.96 Q131.672 1462.07 133.478 1465.63 Q135.307 1469.17 138.918 1469.17 Q142.552 1469.17 144.357 1465.63 Q146.186 1462.07 146.186 1454.96 Q146.186 1447.83 144.357 1444.29 Q142.552 1440.72 138.918 1440.72 M138.918 1437.02 Q144.728 1437.02 147.783 1441.63 Q150.862 1446.21 150.862 1454.96 Q150.862 1463.69 147.783 1468.29 Q144.728 1472.88 138.918 1472.88 Q133.107 1472.88 130.029 1468.29 Q126.973 1463.69 126.973 1454.96 Q126.973 1446.21 130.029 1441.63 Q133.107 1437.02 138.918 1437.02 Z\" fill=\"#000000\" fill-rule=\"evenodd\" fill-opacity=\"1\" /><path clip-path=\"url(#clip710)\" d=\"M 0 0 M77.5291 1096.68 Q73.918 1096.68 72.0893 1100.25 Q70.2838 1103.79 70.2838 1110.92 Q70.2838 1118.03 72.0893 1121.59 Q73.918 1125.13 77.5291 1125.13 Q81.1633 1125.13 82.9689 1121.59 Q84.7976 1118.03 84.7976 1110.92 Q84.7976 1103.79 82.9689 1100.25 Q81.1633 1096.68 77.5291 1096.68 M77.5291 1092.98 Q83.3392 1092.98 86.3948 1097.59 Q89.4735 1102.17 89.4735 1110.92 Q89.4735 1119.65 86.3948 1124.25 Q83.3392 1128.84 77.5291 1128.84 Q71.7189 1128.84 68.6402 1124.25 Q65.5847 1119.65 65.5847 1110.92 Q65.5847 1102.17 68.6402 1097.59 Q71.7189 1092.98 77.5291 1092.98 Z\" fill=\"#000000\" fill-rule=\"evenodd\" fill-opacity=\"1\" /><path clip-path=\"url(#clip710)\" d=\"M 0 0 M94.5429 1122.29 L99.4271 1122.29 L99.4271 1128.17 L94.5429 1128.17 L94.5429 1122.29 Z\" fill=\"#000000\" fill-rule=\"evenodd\" fill-opacity=\"1\" /><path clip-path=\"url(#clip710)\" d=\"M 0 0 M108.524 1124.23 L124.844 1124.23 L124.844 1128.17 L102.899 1128.17 L102.899 1124.23 Q105.561 1121.48 110.145 1116.85 Q114.751 1112.19 115.932 1110.85 Q118.177 1108.33 119.057 1106.59 Q119.959 1104.83 119.959 1103.14 Q119.959 1100.39 118.015 1098.65 Q116.094 1096.92 112.992 1096.92 Q110.793 1096.92 108.339 1097.68 Q105.909 1098.44 103.131 1099.99 L103.131 1095.27 Q105.955 1094.14 108.409 1093.56 Q110.862 1092.98 112.899 1092.98 Q118.27 1092.98 121.464 1095.67 Q124.658 1098.35 124.658 1102.84 Q124.658 1104.97 123.848 1106.89 Q123.061 1108.79 120.955 1111.38 Q120.376 1112.06 117.274 1115.27 Q114.172 1118.47 108.524 1124.23 Z\" fill=\"#000000\" fill-rule=\"evenodd\" fill-opacity=\"1\" /><path clip-path=\"url(#clip710)\" d=\"M 0 0 M129.959 1093.61 L148.316 1093.61 L148.316 1097.54 L134.242 1097.54 L134.242 1106.01 Q135.26 1105.67 136.279 1105.5 Q137.297 1105.32 138.316 1105.32 Q144.103 1105.32 147.482 1108.49 Q150.862 1111.66 150.862 1117.08 Q150.862 1122.66 147.39 1125.76 Q143.918 1128.84 137.598 1128.84 Q135.422 1128.84 133.154 1128.47 Q130.908 1128.1 128.501 1127.36 L128.501 1122.66 Q130.584 1123.79 132.807 1124.35 Q135.029 1124.9 137.506 1124.9 Q141.51 1124.9 143.848 1122.8 Q146.186 1120.69 146.186 1117.08 Q146.186 1113.47 143.848 1111.36 Q141.51 1109.25 137.506 1109.25 Q135.631 1109.25 133.756 1109.67 Q131.904 1110.09 129.959 1110.97 L129.959 1093.61 Z\" fill=\"#000000\" fill-rule=\"evenodd\" fill-opacity=\"1\" /><path clip-path=\"url(#clip710)\" d=\"M 0 0 M75.9319 752.645 Q72.3208 752.645 70.4921 756.209 Q68.6865 759.751 68.6865 766.881 Q68.6865 773.987 70.4921 777.552 Q72.3208 781.094 75.9319 781.094 Q79.5661 781.094 81.3717 777.552 Q83.2004 773.987 83.2004 766.881 Q83.2004 759.751 81.3717 756.209 Q79.5661 752.645 75.9319 752.645 M75.9319 748.941 Q81.742 748.941 84.7976 753.547 Q87.8763 758.131 87.8763 766.881 Q87.8763 775.608 84.7976 780.214 Q81.742 784.797 75.9319 784.797 Q70.1217 784.797 67.043 780.214 Q63.9875 775.608 63.9875 766.881 Q63.9875 758.131 67.043 753.547 Q70.1217 748.941 75.9319 748.941 Z\" fill=\"#000000\" fill-rule=\"evenodd\" fill-opacity=\"1\" /><path clip-path=\"url(#clip710)\" d=\"M 0 0 M92.9457 778.246 L97.8299 778.246 L97.8299 784.126 L92.9457 784.126 L92.9457 778.246 Z\" fill=\"#000000\" fill-rule=\"evenodd\" fill-opacity=\"1\" /><path clip-path=\"url(#clip710)\" d=\"M 0 0 M102.946 749.566 L121.302 749.566 L121.302 753.501 L107.228 753.501 L107.228 761.973 Q108.247 761.626 109.265 761.464 Q110.284 761.279 111.302 761.279 Q117.089 761.279 120.469 764.45 Q123.848 767.621 123.848 773.038 Q123.848 778.617 120.376 781.719 Q116.904 784.797 110.584 784.797 Q108.409 784.797 106.14 784.427 Q103.895 784.057 101.487 783.316 L101.487 778.617 Q103.571 779.751 105.793 780.307 Q108.015 780.862 110.492 780.862 Q114.496 780.862 116.834 778.756 Q119.172 776.649 119.172 773.038 Q119.172 769.427 116.834 767.321 Q114.496 765.214 110.492 765.214 Q108.617 765.214 106.742 765.631 Q104.89 766.047 102.946 766.927 L102.946 749.566 Z\" fill=\"#000000\" fill-rule=\"evenodd\" fill-opacity=\"1\" /><path clip-path=\"url(#clip710)\" d=\"M 0 0 M138.918 752.645 Q135.307 752.645 133.478 756.209 Q131.672 759.751 131.672 766.881 Q131.672 773.987 133.478 777.552 Q135.307 781.094 138.918 781.094 Q142.552 781.094 144.357 777.552 Q146.186 773.987 146.186 766.881 Q146.186 759.751 144.357 756.209 Q142.552 752.645 138.918 752.645 M138.918 748.941 Q144.728 748.941 147.783 753.547 Q150.862 758.131 150.862 766.881 Q150.862 775.608 147.783 780.214 Q144.728 784.797 138.918 784.797 Q133.107 784.797 130.029 780.214 Q126.973 775.608 126.973 766.881 Q126.973 758.131 130.029 753.547 Q133.107 748.941 138.918 748.941 Z\" fill=\"#000000\" fill-rule=\"evenodd\" fill-opacity=\"1\" /><path clip-path=\"url(#clip710)\" d=\"M 0 0 M76.8346 408.605 Q73.2236 408.605 71.3949 412.169 Q69.5893 415.711 69.5893 422.841 Q69.5893 429.947 71.3949 433.512 Q73.2236 437.054 76.8346 437.054 Q80.4689 437.054 82.2744 433.512 Q84.1031 429.947 84.1031 422.841 Q84.1031 415.711 82.2744 412.169 Q80.4689 408.605 76.8346 408.605 M76.8346 404.901 Q82.6448 404.901 85.7003 409.507 Q88.779 414.091 88.779 422.841 Q88.779 431.567 85.7003 436.174 Q82.6448 440.757 76.8346 440.757 Q71.0245 440.757 67.9458 436.174 Q64.8903 431.567 64.8903 422.841 Q64.8903 414.091 67.9458 409.507 Q71.0245 404.901 76.8346 404.901 Z\" fill=\"#000000\" fill-rule=\"evenodd\" fill-opacity=\"1\" /><path clip-path=\"url(#clip710)\" d=\"M 0 0 M93.8484 434.206 L98.7327 434.206 L98.7327 440.086 L93.8484 440.086 L93.8484 434.206 Z\" fill=\"#000000\" fill-rule=\"evenodd\" fill-opacity=\"1\" /><path clip-path=\"url(#clip710)\" d=\"M 0 0 M102.622 405.526 L124.844 405.526 L124.844 407.517 L112.297 440.086 L107.413 440.086 L119.219 409.461 L102.622 409.461 L102.622 405.526 Z\" fill=\"#000000\" fill-rule=\"evenodd\" fill-opacity=\"1\" /><path clip-path=\"url(#clip710)\" d=\"M 0 0 M129.959 405.526 L148.316 405.526 L148.316 409.461 L134.242 409.461 L134.242 417.933 Q135.26 417.586 136.279 417.424 Q137.297 417.239 138.316 417.239 Q144.103 417.239 147.482 420.41 Q150.862 423.581 150.862 428.998 Q150.862 434.577 147.39 437.679 Q143.918 440.757 137.598 440.757 Q135.422 440.757 133.154 440.387 Q130.908 440.016 128.501 439.276 L128.501 434.577 Q130.584 435.711 132.807 436.266 Q135.029 436.822 137.506 436.822 Q141.51 436.822 143.848 434.716 Q146.186 432.609 146.186 428.998 Q146.186 425.387 143.848 423.28 Q141.51 421.174 137.506 421.174 Q135.631 421.174 133.756 421.591 Q131.904 422.007 129.959 422.887 L129.959 405.526 Z\" fill=\"#000000\" fill-rule=\"evenodd\" fill-opacity=\"1\" /><path clip-path=\"url(#clip710)\" d=\"M 0 0 M66.9736 92.1107 L74.6124 92.1107 L74.6124 65.7451 L66.3023 67.4117 L66.3023 63.1525 L74.5661 61.4858 L79.242 61.4858 L79.242 92.1107 L86.8809 92.1107 L86.8809 96.0458 L66.9736 96.0458 L66.9736 92.1107 Z\" fill=\"#000000\" fill-rule=\"evenodd\" fill-opacity=\"1\" /><path clip-path=\"url(#clip710)\" d=\"M 0 0 M91.9503 90.1662 L96.8345 90.1662 L96.8345 96.0458 L91.9503 96.0458 L91.9503 90.1662 Z\" fill=\"#000000\" fill-rule=\"evenodd\" fill-opacity=\"1\" /><path clip-path=\"url(#clip710)\" d=\"M 0 0 M111.904 64.5645 Q108.293 64.5645 106.464 68.1293 Q104.659 71.671 104.659 78.8006 Q104.659 85.907 106.464 89.4718 Q108.293 93.0135 111.904 93.0135 Q115.538 93.0135 117.344 89.4718 Q119.172 85.907 119.172 78.8006 Q119.172 71.671 117.344 68.1293 Q115.538 64.5645 111.904 64.5645 M111.904 60.8608 Q117.714 60.8608 120.77 65.4673 Q123.848 70.0506 123.848 78.8006 Q123.848 87.5274 120.77 92.1338 Q117.714 96.7171 111.904 96.7171 Q106.094 96.7171 103.015 92.1338 Q99.9595 87.5274 99.9595 78.8006 Q99.9595 70.0506 103.015 65.4673 Q106.094 60.8608 111.904 60.8608 Z\" fill=\"#000000\" fill-rule=\"evenodd\" fill-opacity=\"1\" /><path clip-path=\"url(#clip710)\" d=\"M 0 0 M138.918 64.5645 Q135.307 64.5645 133.478 68.1293 Q131.672 71.671 131.672 78.8006 Q131.672 85.907 133.478 89.4718 Q135.307 93.0135 138.918 93.0135 Q142.552 93.0135 144.357 89.4718 Q146.186 85.907 146.186 78.8006 Q146.186 71.671 144.357 68.1293 Q142.552 64.5645 138.918 64.5645 M138.918 60.8608 Q144.728 60.8608 147.783 65.4673 Q150.862 70.0506 150.862 78.8006 Q150.862 87.5274 147.783 92.1338 Q144.728 96.7171 138.918 96.7171 Q133.107 96.7171 130.029 92.1338 Q126.973 87.5274 126.973 78.8006 Q126.973 70.0506 130.029 65.4673 Q133.107 60.8608 138.918 60.8608 Z\" fill=\"#000000\" fill-rule=\"evenodd\" fill-opacity=\"1\" /><polyline clip-path=\"url(#clip712)\" style=\"stroke:#009af9; stroke-width:4; stroke-opacity:1; fill:none\" points=\"\n",
       "  236.501,1445.72 256.566,1444.78 442.096,1430.16 553.591,1412.86 647.86,1389.53 699.061,1372.13 750.262,1350.48 797.464,1326.03 844.667,1296.58 895.273,1258.66 \n",
       "  945.879,1213.46 1004.51,1151.31 1063.14,1078.47 1115.25,1005.3 1167.36,925.453 1213.05,851.416 1258.74,775.335 1358.37,611.241 1458.6,463.097 1514,392.997 \n",
       "  1569.41,332.414 1622.13,283.554 1674.84,242.731 1729.66,207.941 1784.47,179.916 1830.61,160.783 1876.75,145.081 1989.42,117.885 2095.33,102.399 2265,89.215 \n",
       "  2291.12,87.9763 \n",
       "  \"/>\n",
       "</svg>\n"
      ]
     },
     "execution_count": 35,
     "metadata": {},
     "output_type": "execute_result"
    }
   ],
   "source": [
    "plot(σ, legend=false)"
   ]
  },
  {
   "cell_type": "markdown",
   "metadata": {},
   "source": [
    "Neural Networks"
   ]
  },
  {
   "cell_type": "code",
   "execution_count": 36,
   "metadata": {},
   "outputs": [
    {
     "data": {
      "text/plain": [
       "Dense(2, 1, σ)"
      ]
     },
     "execution_count": 36,
     "metadata": {},
     "output_type": "execute_result"
    }
   ],
   "source": [
    "model = Dense(2, 1, σ)"
   ]
  },
  {
   "cell_type": "code",
   "execution_count": 37,
   "metadata": {},
   "outputs": [
    {
     "name": "stdout",
     "output_type": "stream",
     "text": [
      "Float32[-0.42133597 0.5934526]\n",
      "Float32[0.0]\n"
     ]
    }
   ],
   "source": [
    "println(model.W)\n",
    "println(model.b)"
   ]
  },
  {
   "cell_type": "code",
   "execution_count": 38,
   "metadata": {},
   "outputs": [
    {
     "data": {
      "text/plain": [
       "1-element Array{Float32,1}:\n",
       " 0.55293584"
      ]
     },
     "execution_count": 38,
     "metadata": {},
     "output_type": "execute_result"
    }
   ],
   "source": [
    "x = rand(2)\n",
    "model(x)"
   ]
  },
  {
   "cell_type": "code",
   "execution_count": 39,
   "metadata": {},
   "outputs": [
    {
     "data": {
      "text/plain": [
       "1-element Array{Float64,1}:\n",
       " 0.5529358403267961"
      ]
     },
     "execution_count": 39,
     "metadata": {},
     "output_type": "execute_result"
    }
   ],
   "source": [
    "σ.(model.W*x + model.b)"
   ]
  },
  {
   "cell_type": "markdown",
   "metadata": {},
   "source": [
    "Loss Functions"
   ]
  },
  {
   "cell_type": "code",
   "execution_count": 40,
   "metadata": {},
   "outputs": [
    {
     "data": {
      "text/html": [
       "# 1 method for generic function <b>mse</b>:<ul><li> mse(ŷ, y) in Flux at <a href=\"file:///home/sahil/.julia/packages/Flux/Fj3bt/src/layers/stateless.jl\" target=\"_blank\">/home/sahil/.julia/packages/Flux/Fj3bt/src/layers/stateless.jl:23</a></li> </ul>"
      ],
      "text/plain": [
       "# 1 method for generic function \"mse\":\n",
       "[1] mse(ŷ, y) in Flux at /home/sahil/.julia/packages/Flux/Fj3bt/src/layers/stateless.jl:23"
      ]
     },
     "execution_count": 40,
     "metadata": {},
     "output_type": "execute_result"
    }
   ],
   "source": [
    "methods(Flux.mse)"
   ]
  },
  {
   "cell_type": "markdown",
   "metadata": {},
   "source": [
    "**Image Classification with Basic MLP**"
   ]
  },
  {
   "cell_type": "code",
   "execution_count": 41,
   "metadata": {},
   "outputs": [],
   "source": [
    "using CSV, DataFrames"
   ]
  },
  {
   "cell_type": "code",
   "execution_count": 42,
   "metadata": {
    "scrolled": true
   },
   "outputs": [
    {
     "data": {
      "text/html": [
       "<table class=\"data-frame\"><thead><tr><th></th><th>height</th><th>width</th><th>red</th><th>green</th><th>blue</th></tr><tr><th></th><th>Int64</th><th>Int64</th><th>Float64</th><th>Float64</th><th>Float64</th></tr></thead><tbody><p>490 rows × 5 columns</p><tr><th>1</th><td>98</td><td>99</td><td>0.583507</td><td>0.500662</td><td>0.207504</td></tr><tr><th>2</th><td>50</td><td>99</td><td>0.609666</td><td>0.514869</td><td>0.186871</td></tr><tr><th>3</th><td>52</td><td>99</td><td>0.610012</td><td>0.515759</td><td>0.187504</td></tr><tr><th>4</th><td>99</td><td>69</td><td>0.568033</td><td>0.492939</td><td>0.239316</td></tr><tr><th>5</th><td>51</td><td>99</td><td>0.609766</td><td>0.51485</td><td>0.183329</td></tr><tr><th>6</th><td>53</td><td>99</td><td>0.608089</td><td>0.514609</td><td>0.183374</td></tr><tr><th>7</th><td>53</td><td>99</td><td>0.608676</td><td>0.515487</td><td>0.186206</td></tr><tr><th>8</th><td>53</td><td>99</td><td>0.609278</td><td>0.516486</td><td>0.188582</td></tr><tr><th>9</th><td>99</td><td>67</td><td>0.569099</td><td>0.494501</td><td>0.241941</td></tr><tr><th>10</th><td>54</td><td>99</td><td>0.610284</td><td>0.516183</td><td>0.189116</td></tr><tr><th>11</th><td>54</td><td>99</td><td>0.607329</td><td>0.515344</td><td>0.188351</td></tr><tr><th>12</th><td>56</td><td>99</td><td>0.608367</td><td>0.51465</td><td>0.188733</td></tr><tr><th>13</th><td>56</td><td>99</td><td>0.606331</td><td>0.513778</td><td>0.18818</td></tr><tr><th>14</th><td>56</td><td>99</td><td>0.608364</td><td>0.516287</td><td>0.193825</td></tr><tr><th>15</th><td>57</td><td>99</td><td>0.605807</td><td>0.513735</td><td>0.191391</td></tr><tr><th>16</th><td>58</td><td>99</td><td>0.605733</td><td>0.512879</td><td>0.190078</td></tr><tr><th>17</th><td>59</td><td>99</td><td>0.604937</td><td>0.513665</td><td>0.192874</td></tr><tr><th>18</th><td>59</td><td>99</td><td>0.603498</td><td>0.511384</td><td>0.192722</td></tr><tr><th>19</th><td>59</td><td>99</td><td>0.600693</td><td>0.510035</td><td>0.189299</td></tr><tr><th>20</th><td>61</td><td>99</td><td>0.602988</td><td>0.511165</td><td>0.194563</td></tr><tr><th>21</th><td>61</td><td>99</td><td>0.600188</td><td>0.509263</td><td>0.193743</td></tr><tr><th>22</th><td>61</td><td>99</td><td>0.599505</td><td>0.507729</td><td>0.193026</td></tr><tr><th>23</th><td>63</td><td>99</td><td>0.597605</td><td>0.507</td><td>0.194595</td></tr><tr><th>24</th><td>65</td><td>99</td><td>0.596964</td><td>0.506184</td><td>0.196388</td></tr><tr><th>25</th><td>66</td><td>99</td><td>0.597058</td><td>0.506745</td><td>0.197678</td></tr><tr><th>26</th><td>67</td><td>99</td><td>0.597075</td><td>0.50638</td><td>0.19838</td></tr><tr><th>27</th><td>69</td><td>99</td><td>0.592933</td><td>0.504191</td><td>0.198419</td></tr><tr><th>28</th><td>73</td><td>99</td><td>0.589429</td><td>0.500421</td><td>0.201329</td></tr><tr><th>29</th><td>78</td><td>99</td><td>0.586179</td><td>0.49841</td><td>0.201781</td></tr><tr><th>30</th><td>79</td><td>99</td><td>0.582614</td><td>0.495792</td><td>0.201449</td></tr><tr><th>&vellip;</th><td>&vellip;</td><td>&vellip;</td><td>&vellip;</td><td>&vellip;</td><td>&vellip;</td></tr></tbody></table>"
      ],
      "text/latex": [
       "\\begin{tabular}{r|ccccc}\n",
       "\t& height & width & red & green & blue\\\\\n",
       "\t\\hline\n",
       "\t& Int64 & Int64 & Float64 & Float64 & Float64\\\\\n",
       "\t\\hline\n",
       "\t1 & 98 & 99 & 0.583507 & 0.500662 & 0.207504 \\\\\n",
       "\t2 & 50 & 99 & 0.609666 & 0.514869 & 0.186871 \\\\\n",
       "\t3 & 52 & 99 & 0.610012 & 0.515759 & 0.187504 \\\\\n",
       "\t4 & 99 & 69 & 0.568033 & 0.492939 & 0.239316 \\\\\n",
       "\t5 & 51 & 99 & 0.609766 & 0.51485 & 0.183329 \\\\\n",
       "\t6 & 53 & 99 & 0.608089 & 0.514609 & 0.183374 \\\\\n",
       "\t7 & 53 & 99 & 0.608676 & 0.515487 & 0.186206 \\\\\n",
       "\t8 & 53 & 99 & 0.609278 & 0.516486 & 0.188582 \\\\\n",
       "\t9 & 99 & 67 & 0.569099 & 0.494501 & 0.241941 \\\\\n",
       "\t10 & 54 & 99 & 0.610284 & 0.516183 & 0.189116 \\\\\n",
       "\t11 & 54 & 99 & 0.607329 & 0.515344 & 0.188351 \\\\\n",
       "\t12 & 56 & 99 & 0.608367 & 0.51465 & 0.188733 \\\\\n",
       "\t13 & 56 & 99 & 0.606331 & 0.513778 & 0.18818 \\\\\n",
       "\t14 & 56 & 99 & 0.608364 & 0.516287 & 0.193825 \\\\\n",
       "\t15 & 57 & 99 & 0.605807 & 0.513735 & 0.191391 \\\\\n",
       "\t16 & 58 & 99 & 0.605733 & 0.512879 & 0.190078 \\\\\n",
       "\t17 & 59 & 99 & 0.604937 & 0.513665 & 0.192874 \\\\\n",
       "\t18 & 59 & 99 & 0.603498 & 0.511384 & 0.192722 \\\\\n",
       "\t19 & 59 & 99 & 0.600693 & 0.510035 & 0.189299 \\\\\n",
       "\t20 & 61 & 99 & 0.602988 & 0.511165 & 0.194563 \\\\\n",
       "\t21 & 61 & 99 & 0.600188 & 0.509263 & 0.193743 \\\\\n",
       "\t22 & 61 & 99 & 0.599505 & 0.507729 & 0.193026 \\\\\n",
       "\t23 & 63 & 99 & 0.597605 & 0.507 & 0.194595 \\\\\n",
       "\t24 & 65 & 99 & 0.596964 & 0.506184 & 0.196388 \\\\\n",
       "\t25 & 66 & 99 & 0.597058 & 0.506745 & 0.197678 \\\\\n",
       "\t26 & 67 & 99 & 0.597075 & 0.50638 & 0.19838 \\\\\n",
       "\t27 & 69 & 99 & 0.592933 & 0.504191 & 0.198419 \\\\\n",
       "\t28 & 73 & 99 & 0.589429 & 0.500421 & 0.201329 \\\\\n",
       "\t29 & 78 & 99 & 0.586179 & 0.49841 & 0.201781 \\\\\n",
       "\t30 & 79 & 99 & 0.582614 & 0.495792 & 0.201449 \\\\\n",
       "\t$\\dots$ & $\\dots$ & $\\dots$ & $\\dots$ & $\\dots$ & $\\dots$ \\\\\n",
       "\\end{tabular}\n"
      ],
      "text/plain": [
       "490×5 DataFrame\n",
       "│ Row │ height │ width │ red      │ green    │ blue     │\n",
       "│     │ \u001b[90mInt64\u001b[39m  │ \u001b[90mInt64\u001b[39m │ \u001b[90mFloat64\u001b[39m  │ \u001b[90mFloat64\u001b[39m  │ \u001b[90mFloat64\u001b[39m  │\n",
       "├─────┼────────┼───────┼──────────┼──────────┼──────────┤\n",
       "│ 1   │ 98     │ 99    │ 0.583507 │ 0.500662 │ 0.207504 │\n",
       "│ 2   │ 50     │ 99    │ 0.609666 │ 0.514869 │ 0.186871 │\n",
       "│ 3   │ 52     │ 99    │ 0.610012 │ 0.515759 │ 0.187504 │\n",
       "│ 4   │ 99     │ 69    │ 0.568033 │ 0.492939 │ 0.239316 │\n",
       "│ 5   │ 51     │ 99    │ 0.609766 │ 0.51485  │ 0.183329 │\n",
       "│ 6   │ 53     │ 99    │ 0.608089 │ 0.514609 │ 0.183374 │\n",
       "│ 7   │ 53     │ 99    │ 0.608676 │ 0.515487 │ 0.186206 │\n",
       "│ 8   │ 53     │ 99    │ 0.609278 │ 0.516486 │ 0.188582 │\n",
       "│ 9   │ 99     │ 67    │ 0.569099 │ 0.494501 │ 0.241941 │\n",
       "│ 10  │ 54     │ 99    │ 0.610284 │ 0.516183 │ 0.189116 │\n",
       "⋮\n",
       "│ 480 │ 37     │ 99    │ 0.528731 │ 0.456548 │ 0.230871 │\n",
       "│ 481 │ 37     │ 99    │ 0.524028 │ 0.452379 │ 0.226256 │\n",
       "│ 482 │ 37     │ 99    │ 0.523906 │ 0.452571 │ 0.230475 │\n",
       "│ 483 │ 39     │ 99    │ 0.523823 │ 0.4514   │ 0.229759 │\n",
       "│ 484 │ 39     │ 99    │ 0.522489 │ 0.449973 │ 0.233683 │\n",
       "│ 485 │ 41     │ 99    │ 0.517573 │ 0.444391 │ 0.227029 │\n",
       "│ 486 │ 41     │ 99    │ 0.515956 │ 0.441912 │ 0.230229 │\n",
       "│ 487 │ 41     │ 99    │ 0.517585 │ 0.444827 │ 0.234798 │\n",
       "│ 488 │ 41     │ 99    │ 0.510357 │ 0.436022 │ 0.228139 │\n",
       "│ 489 │ 43     │ 99    │ 0.508873 │ 0.43433  │ 0.230683 │\n",
       "│ 490 │ 31     │ 99    │ 0.528205 │ 0.440139 │ 0.199588 │"
      ]
     },
     "execution_count": 42,
     "metadata": {},
     "output_type": "execute_result"
    }
   ],
   "source": [
    "apples = DataFrame(CSV.File(\"data/apples.dat\", delim=\"\\t\", normalizenames=true))\n",
    "bananas = DataFrame(CSV.File(\"data/bananas.dat\", delim=\"\\t\", normalizenames=true))"
   ]
  },
  {
   "cell_type": "code",
   "execution_count": 43,
   "metadata": {
    "scrolled": true
   },
   "outputs": [
    {
     "data": {
      "text/plain": [
       "490-element Array{Array{Float64,1},1}:\n",
       " [0.5835067538126356, 0.500662309368192]\n",
       " [0.6096658836445241, 0.514868541076373]\n",
       " [0.61001222127424, 0.5157592947018083]\n",
       " [0.5680333392636676, 0.4929391278094967]\n",
       " [0.6097662880271572, 0.5148498882514222]\n",
       " [0.6080886893475433, 0.5146088965412025]\n",
       " [0.6086763977507786, 0.5154866998805462]\n",
       " [0.6092775365179625, 0.5164860873506747]\n",
       " [0.5690986557452848, 0.4945007761667278]\n",
       " [0.610284435646972, 0.5161825666623635]\n",
       " [0.607329117213896, 0.5153440757746397]\n",
       " [0.6083665640474657, 0.5146497517166334]\n",
       " [0.6063312071816673, 0.5137782965773128]\n",
       " ⋮\n",
       " [0.5291302161890399, 0.4403100385453329]\n",
       " [0.5287307644576823, 0.4565478406552493]\n",
       " [0.5240277326400172, 0.45237940480059413]\n",
       " [0.5239057876671794, 0.4525711129522229]\n",
       " [0.5238233433790978, 0.45140008185437314]\n",
       " [0.5224889335097888, 0.44997337957681116]\n",
       " [0.5175726263709806, 0.4443909309164674]\n",
       " [0.5159556048834634, 0.4419119496855347]\n",
       " [0.5175850178187539, 0.44482679017155075]\n",
       " [0.5103568171454631, 0.4360222868217053]\n",
       " [0.5088734503702476, 0.43433036580969037]\n",
       " [0.5282048652067627, 0.4401388105372926]"
      ]
     },
     "execution_count": 43,
     "metadata": {},
     "output_type": "execute_result"
    }
   ],
   "source": [
    "x_apples = [[row.red, row.green] for row in eachrow(apples)]\n",
    "x_bananas = [[row.red, row.green] for row in eachrow(bananas)]"
   ]
  },
  {
   "cell_type": "code",
   "execution_count": 44,
   "metadata": {
    "scrolled": true
   },
   "outputs": [
    {
     "data": {
      "text/plain": [
       "982-element Array{Int64,1}:\n",
       " 0\n",
       " 0\n",
       " 0\n",
       " 0\n",
       " 0\n",
       " 0\n",
       " 0\n",
       " 0\n",
       " 0\n",
       " 0\n",
       " 0\n",
       " 0\n",
       " 0\n",
       " ⋮\n",
       " 1\n",
       " 1\n",
       " 1\n",
       " 1\n",
       " 1\n",
       " 1\n",
       " 1\n",
       " 1\n",
       " 1\n",
       " 1\n",
       " 1\n",
       " 1"
      ]
     },
     "execution_count": 44,
     "metadata": {},
     "output_type": "execute_result"
    }
   ],
   "source": [
    "X = [x_apples; x_bananas]\n",
    "y = [fill(0, size(x_apples)); fill(1, size(x_bananas))]"
   ]
  },
  {
   "cell_type": "code",
   "execution_count": 45,
   "metadata": {},
   "outputs": [
    {
     "data": {
      "text/plain": [
       "Dense(2, 1, σ)"
      ]
     },
     "execution_count": 45,
     "metadata": {},
     "output_type": "execute_result"
    }
   ],
   "source": [
    "model = Dense(2, 1, σ)"
   ]
  },
  {
   "cell_type": "code",
   "execution_count": 46,
   "metadata": {},
   "outputs": [
    {
     "data": {
      "text/plain": [
       "1-element Array{Float32,1}:\n",
       " 0.60165817"
      ]
     },
     "execution_count": 46,
     "metadata": {},
     "output_type": "execute_result"
    }
   ],
   "source": [
    "model(X[1])"
   ]
  },
  {
   "cell_type": "code",
   "execution_count": 47,
   "metadata": {},
   "outputs": [
    {
     "data": {
      "text/plain": [
       "0.36199254f0"
      ]
     },
     "execution_count": 47,
     "metadata": {},
     "output_type": "execute_result"
    }
   ],
   "source": [
    "loss = Flux.mse(model(X[1]), y[1])"
   ]
  },
  {
   "cell_type": "code",
   "execution_count": 48,
   "metadata": {},
   "outputs": [
    {
     "data": {
      "text/latex": [
       "\\begin{verbatim}\n",
       "train!(loss, params, data, opt; cb)\n",
       "\\end{verbatim}\n",
       "For each datapoint \\texttt{d} in \\texttt{data} compute the gradient of \\texttt{loss(d...)} through backpropagation and call the optimizer \\texttt{opt}.\n",
       "\n",
       "In case datapoints \\texttt{d} are of numeric array type, assume no splatting is needed and compute the gradient of \\texttt{loss(d)}.\n",
       "\n",
       "A callback is given with the keyword argument \\texttt{cb}. For example, this will print \"training\" every 10 seconds (using \\href{@ref}{\\texttt{Flux.throttle}}):\n",
       "\n",
       "train!(loss, params, data, opt,          cb = throttle(() -> println(\"training\"), 10))\n",
       "\n",
       "The callback can call \\href{@ref}{\\texttt{Flux.stop}} to interrupt the training loop.\n",
       "\n",
       "Multiple optimisers and callbacks can be passed to \\texttt{opt} and \\texttt{cb} as arrays.\n",
       "\n"
      ],
      "text/markdown": [
       "```\n",
       "train!(loss, params, data, opt; cb)\n",
       "```\n",
       "\n",
       "For each datapoint `d` in `data` compute the gradient of `loss(d...)` through backpropagation and call the optimizer `opt`.\n",
       "\n",
       "In case datapoints `d` are of numeric array type, assume no splatting is needed and compute the gradient of `loss(d)`.\n",
       "\n",
       "A callback is given with the keyword argument `cb`. For example, this will print \"training\" every 10 seconds (using [`Flux.throttle`](@ref)):\n",
       "\n",
       "train!(loss, params, data, opt,          cb = throttle(() -> println(\"training\"), 10))\n",
       "\n",
       "The callback can call [`Flux.stop`](@ref) to interrupt the training loop.\n",
       "\n",
       "Multiple optimisers and callbacks can be passed to `opt` and `cb` as arrays.\n"
      ],
      "text/plain": [
       "\u001b[36m  train!(loss, params, data, opt; cb)\u001b[39m\n",
       "\n",
       "  For each datapoint \u001b[36md\u001b[39m in \u001b[36mdata\u001b[39m compute the gradient of \u001b[36mloss(d...)\u001b[39m through\n",
       "  backpropagation and call the optimizer \u001b[36mopt\u001b[39m.\n",
       "\n",
       "  In case datapoints \u001b[36md\u001b[39m are of numeric array type, assume no splatting is\n",
       "  needed and compute the gradient of \u001b[36mloss(d)\u001b[39m.\n",
       "\n",
       "  A callback is given with the keyword argument \u001b[36mcb\u001b[39m. For example, this will\n",
       "  print \"training\" every 10 seconds (using \u001b[36mFlux.throttle\u001b[39m):\n",
       "\n",
       "  train!(loss, params, data, opt, cb = throttle(() -> println(\"training\"),\n",
       "  10))\n",
       "\n",
       "  The callback can call \u001b[36mFlux.stop\u001b[39m to interrupt the training loop.\n",
       "\n",
       "  Multiple optimisers and callbacks can be passed to \u001b[36mopt\u001b[39m and \u001b[36mcb\u001b[39m as arrays."
      ]
     },
     "execution_count": 48,
     "metadata": {},
     "output_type": "execute_result"
    }
   ],
   "source": [
    "?Flux.train!"
   ]
  },
  {
   "cell_type": "code",
   "execution_count": 49,
   "metadata": {},
   "outputs": [
    {
     "data": {
      "text/plain": [
       "Params([Float32[0.97591126 -0.3358308], Float32[0.0]])"
      ]
     },
     "execution_count": 49,
     "metadata": {},
     "output_type": "execute_result"
    }
   ],
   "source": [
    "params(model)"
   ]
  },
  {
   "cell_type": "code",
   "execution_count": 50,
   "metadata": {},
   "outputs": [],
   "source": [
    "model = Dense(2, 1, σ)\n",
    "L(x,y) = Flux.mse(model(x), y)\n",
    "ps = params(model)\n",
    "opt = ADAM()\n",
    "Flux.train!(L, ps, zip(X, y), opt)"
   ]
  },
  {
   "cell_type": "code",
   "execution_count": 51,
   "metadata": {},
   "outputs": [],
   "source": [
    "for step in 1:100\n",
    "    Flux.train!(L, ps, zip(X, y), opt)\n",
    "end"
   ]
  },
  {
   "cell_type": "markdown",
   "metadata": {},
   "source": [
    "**Multiclassification Task**"
   ]
  },
  {
   "cell_type": "code",
   "execution_count": 52,
   "metadata": {
    "scrolled": true
   },
   "outputs": [
    {
     "data": {
      "text/html": [
       "<table class=\"data-frame\"><thead><tr><th></th><th>height</th><th>width</th><th>red</th><th>green</th><th>blue</th></tr><tr><th></th><th>Int64</th><th>Int64</th><th>Float64</th><th>Float64</th><th>Float64</th></tr></thead><tbody><p>490 rows × 5 columns</p><tr><th>1</th><td>98</td><td>84</td><td>0.615648</td><td>0.625358</td><td>0.435313</td></tr><tr><th>2</th><td>98</td><td>84</td><td>0.623257</td><td>0.64083</td><td>0.463301</td></tr><tr><th>3</th><td>99</td><td>83</td><td>0.622386</td><td>0.640902</td><td>0.463111</td></tr><tr><th>4</th><td>99</td><td>83</td><td>0.622452</td><td>0.64107</td><td>0.463373</td></tr><tr><th>5</th><td>99</td><td>84</td><td>0.621801</td><td>0.641156</td><td>0.462681</td></tr><tr><th>6</th><td>99</td><td>84</td><td>0.622526</td><td>0.641055</td><td>0.463552</td></tr><tr><th>7</th><td>99</td><td>84</td><td>0.622833</td><td>0.641057</td><td>0.465057</td></tr><tr><th>8</th><td>99</td><td>84</td><td>0.622422</td><td>0.64084</td><td>0.463884</td></tr><tr><th>9</th><td>99</td><td>85</td><td>0.61479</td><td>0.623654</td><td>0.435193</td></tr><tr><th>10</th><td>99</td><td>84</td><td>0.623142</td><td>0.641046</td><td>0.464785</td></tr><tr><th>11</th><td>99</td><td>85</td><td>0.622403</td><td>0.641473</td><td>0.465021</td></tr><tr><th>12</th><td>99</td><td>85</td><td>0.62348</td><td>0.641305</td><td>0.466316</td></tr><tr><th>13</th><td>99</td><td>85</td><td>0.622477</td><td>0.641767</td><td>0.466371</td></tr><tr><th>14</th><td>99</td><td>85</td><td>0.623397</td><td>0.642148</td><td>0.467837</td></tr><tr><th>15</th><td>99</td><td>85</td><td>0.62278</td><td>0.64204</td><td>0.467367</td></tr><tr><th>16</th><td>99</td><td>85</td><td>0.622965</td><td>0.642598</td><td>0.468292</td></tr><tr><th>17</th><td>99</td><td>85</td><td>0.622241</td><td>0.642388</td><td>0.467543</td></tr><tr><th>18</th><td>99</td><td>85</td><td>0.622901</td><td>0.642089</td><td>0.468861</td></tr><tr><th>19</th><td>99</td><td>85</td><td>0.621805</td><td>0.641931</td><td>0.468479</td></tr><tr><th>20</th><td>98</td><td>84</td><td>0.614758</td><td>0.624289</td><td>0.435787</td></tr><tr><th>21</th><td>99</td><td>85</td><td>0.62301</td><td>0.641917</td><td>0.469374</td></tr><tr><th>22</th><td>99</td><td>85</td><td>0.622458</td><td>0.642247</td><td>0.469654</td></tr><tr><th>23</th><td>99</td><td>85</td><td>0.622968</td><td>0.64243</td><td>0.471515</td></tr><tr><th>24</th><td>99</td><td>84</td><td>0.62206</td><td>0.642652</td><td>0.471853</td></tr><tr><th>25</th><td>99</td><td>84</td><td>0.62316</td><td>0.643334</td><td>0.473359</td></tr><tr><th>26</th><td>99</td><td>84</td><td>0.622844</td><td>0.6432</td><td>0.473965</td></tr><tr><th>27</th><td>99</td><td>84</td><td>0.624304</td><td>0.644192</td><td>0.475997</td></tr><tr><th>28</th><td>99</td><td>84</td><td>0.623433</td><td>0.644264</td><td>0.475759</td></tr><tr><th>29</th><td>99</td><td>84</td><td>0.624042</td><td>0.64543</td><td>0.478525</td></tr><tr><th>30</th><td>99</td><td>84</td><td>0.623328</td><td>0.645483</td><td>0.478151</td></tr><tr><th>&vellip;</th><td>&vellip;</td><td>&vellip;</td><td>&vellip;</td><td>&vellip;</td><td>&vellip;</td></tr></tbody></table>"
      ],
      "text/latex": [
       "\\begin{tabular}{r|ccccc}\n",
       "\t& height & width & red & green & blue\\\\\n",
       "\t\\hline\n",
       "\t& Int64 & Int64 & Float64 & Float64 & Float64\\\\\n",
       "\t\\hline\n",
       "\t1 & 98 & 84 & 0.615648 & 0.625358 & 0.435313 \\\\\n",
       "\t2 & 98 & 84 & 0.623257 & 0.64083 & 0.463301 \\\\\n",
       "\t3 & 99 & 83 & 0.622386 & 0.640902 & 0.463111 \\\\\n",
       "\t4 & 99 & 83 & 0.622452 & 0.64107 & 0.463373 \\\\\n",
       "\t5 & 99 & 84 & 0.621801 & 0.641156 & 0.462681 \\\\\n",
       "\t6 & 99 & 84 & 0.622526 & 0.641055 & 0.463552 \\\\\n",
       "\t7 & 99 & 84 & 0.622833 & 0.641057 & 0.465057 \\\\\n",
       "\t8 & 99 & 84 & 0.622422 & 0.64084 & 0.463884 \\\\\n",
       "\t9 & 99 & 85 & 0.61479 & 0.623654 & 0.435193 \\\\\n",
       "\t10 & 99 & 84 & 0.623142 & 0.641046 & 0.464785 \\\\\n",
       "\t11 & 99 & 85 & 0.622403 & 0.641473 & 0.465021 \\\\\n",
       "\t12 & 99 & 85 & 0.62348 & 0.641305 & 0.466316 \\\\\n",
       "\t13 & 99 & 85 & 0.622477 & 0.641767 & 0.466371 \\\\\n",
       "\t14 & 99 & 85 & 0.623397 & 0.642148 & 0.467837 \\\\\n",
       "\t15 & 99 & 85 & 0.62278 & 0.64204 & 0.467367 \\\\\n",
       "\t16 & 99 & 85 & 0.622965 & 0.642598 & 0.468292 \\\\\n",
       "\t17 & 99 & 85 & 0.622241 & 0.642388 & 0.467543 \\\\\n",
       "\t18 & 99 & 85 & 0.622901 & 0.642089 & 0.468861 \\\\\n",
       "\t19 & 99 & 85 & 0.621805 & 0.641931 & 0.468479 \\\\\n",
       "\t20 & 98 & 84 & 0.614758 & 0.624289 & 0.435787 \\\\\n",
       "\t21 & 99 & 85 & 0.62301 & 0.641917 & 0.469374 \\\\\n",
       "\t22 & 99 & 85 & 0.622458 & 0.642247 & 0.469654 \\\\\n",
       "\t23 & 99 & 85 & 0.622968 & 0.64243 & 0.471515 \\\\\n",
       "\t24 & 99 & 84 & 0.62206 & 0.642652 & 0.471853 \\\\\n",
       "\t25 & 99 & 84 & 0.62316 & 0.643334 & 0.473359 \\\\\n",
       "\t26 & 99 & 84 & 0.622844 & 0.6432 & 0.473965 \\\\\n",
       "\t27 & 99 & 84 & 0.624304 & 0.644192 & 0.475997 \\\\\n",
       "\t28 & 99 & 84 & 0.623433 & 0.644264 & 0.475759 \\\\\n",
       "\t29 & 99 & 84 & 0.624042 & 0.64543 & 0.478525 \\\\\n",
       "\t30 & 99 & 84 & 0.623328 & 0.645483 & 0.478151 \\\\\n",
       "\t$\\dots$ & $\\dots$ & $\\dots$ & $\\dots$ & $\\dots$ & $\\dots$ \\\\\n",
       "\\end{tabular}\n"
      ],
      "text/plain": [
       "490×5 DataFrame\n",
       "│ Row │ height │ width │ red      │ green    │ blue     │\n",
       "│     │ \u001b[90mInt64\u001b[39m  │ \u001b[90mInt64\u001b[39m │ \u001b[90mFloat64\u001b[39m  │ \u001b[90mFloat64\u001b[39m  │ \u001b[90mFloat64\u001b[39m  │\n",
       "├─────┼────────┼───────┼──────────┼──────────┼──────────┤\n",
       "│ 1   │ 98     │ 84    │ 0.615648 │ 0.625358 │ 0.435313 │\n",
       "│ 2   │ 98     │ 84    │ 0.623257 │ 0.64083  │ 0.463301 │\n",
       "│ 3   │ 99     │ 83    │ 0.622386 │ 0.640902 │ 0.463111 │\n",
       "│ 4   │ 99     │ 83    │ 0.622452 │ 0.64107  │ 0.463373 │\n",
       "│ 5   │ 99     │ 84    │ 0.621801 │ 0.641156 │ 0.462681 │\n",
       "│ 6   │ 99     │ 84    │ 0.622526 │ 0.641055 │ 0.463552 │\n",
       "│ 7   │ 99     │ 84    │ 0.622833 │ 0.641057 │ 0.465057 │\n",
       "│ 8   │ 99     │ 84    │ 0.622422 │ 0.64084  │ 0.463884 │\n",
       "│ 9   │ 99     │ 85    │ 0.61479  │ 0.623654 │ 0.435193 │\n",
       "│ 10  │ 99     │ 84    │ 0.623142 │ 0.641046 │ 0.464785 │\n",
       "⋮\n",
       "│ 480 │ 86     │ 99    │ 0.600361 │ 0.604506 │ 0.416551 │\n",
       "│ 481 │ 85     │ 99    │ 0.60225  │ 0.605449 │ 0.418553 │\n",
       "│ 482 │ 85     │ 99    │ 0.602332 │ 0.606113 │ 0.41906  │\n",
       "│ 483 │ 85     │ 99    │ 0.603787 │ 0.606943 │ 0.41945  │\n",
       "│ 484 │ 84     │ 98    │ 0.603222 │ 0.607676 │ 0.418477 │\n",
       "│ 485 │ 84     │ 99    │ 0.604857 │ 0.609105 │ 0.420731 │\n",
       "│ 486 │ 85     │ 99    │ 0.604634 │ 0.609301 │ 0.419876 │\n",
       "│ 487 │ 84     │ 98    │ 0.606472 │ 0.610819 │ 0.422749 │\n",
       "│ 488 │ 98     │ 99    │ 0.592942 │ 0.608335 │ 0.454372 │\n",
       "│ 489 │ 98     │ 99    │ 0.593707 │ 0.607731 │ 0.453736 │\n",
       "│ 490 │ 98     │ 99    │ 0.5919   │ 0.60648  │ 0.451744 │"
      ]
     },
     "execution_count": 52,
     "metadata": {},
     "output_type": "execute_result"
    }
   ],
   "source": [
    "apples = DataFrame(CSV.File(\"data/apples.dat\", delim=\"\\t\", normalizenames=true))[1:490, :]\n",
    "grapes = DataFrame(CSV.File(\"data/grapes.dat\", delim=\"\\t\", normalizenames=true))"
   ]
  },
  {
   "cell_type": "code",
   "execution_count": 53,
   "metadata": {
    "scrolled": true
   },
   "outputs": [
    {
     "data": {
      "text/plain": [
       "1470-element Array{Array{Int64,1},1}:\n",
       " [1, 0, 0]\n",
       " [1, 0, 0]\n",
       " [1, 0, 0]\n",
       " [1, 0, 0]\n",
       " [1, 0, 0]\n",
       " [1, 0, 0]\n",
       " [1, 0, 0]\n",
       " [1, 0, 0]\n",
       " [1, 0, 0]\n",
       " [1, 0, 0]\n",
       " [1, 0, 0]\n",
       " [1, 0, 0]\n",
       " [1, 0, 0]\n",
       " ⋮\n",
       " [0, 0, 1]\n",
       " [0, 0, 1]\n",
       " [0, 0, 1]\n",
       " [0, 0, 1]\n",
       " [0, 0, 1]\n",
       " [0, 0, 1]\n",
       " [0, 0, 1]\n",
       " [0, 0, 1]\n",
       " [0, 0, 1]\n",
       " [0, 0, 1]\n",
       " [0, 0, 1]\n",
       " [0, 0, 1]"
      ]
     },
     "execution_count": 53,
     "metadata": {},
     "output_type": "execute_result"
    }
   ],
   "source": [
    "x_apples = [[i.red, i.blue] for i in eachrow(apples)]\n",
    "x_bananas = [[i.red, i.blue] for i in eachrow(bananas)]\n",
    "x_grapes = [[i.red, i.blue] for i in eachrow(grapes)]\n",
    "X = vcat(x_apples, x_bananas, x_grapes)\n",
    "y = vcat(fill([1,0,0], size(x_apples)), fill([0,1,0], size(x_bananas)), fill([0,0,1], size(x_grapes)))"
   ]
  },
  {
   "cell_type": "code",
   "execution_count": 54,
   "metadata": {},
   "outputs": [
    {
     "name": "stdout",
     "output_type": "stream",
     "text": [
      "Flux.OneHotVector\n",
      "  ix: UInt32 0x00000002\n",
      "  of: UInt32 0x00000008\n"
     ]
    }
   ],
   "source": [
    "#Store one hot vectors as ints instead of arrays\n",
    "using Flux: onehot\n",
    "dump(onehot(2, 1:8))"
   ]
  },
  {
   "cell_type": "code",
   "execution_count": 55,
   "metadata": {
    "scrolled": true
   },
   "outputs": [
    {
     "data": {
      "text/plain": [
       "1470-element Array{Flux.OneHotVector,1}:\n",
       " [1, 0, 0]\n",
       " [1, 0, 0]\n",
       " [1, 0, 0]\n",
       " [1, 0, 0]\n",
       " [1, 0, 0]\n",
       " [1, 0, 0]\n",
       " [1, 0, 0]\n",
       " [1, 0, 0]\n",
       " [1, 0, 0]\n",
       " [1, 0, 0]\n",
       " [1, 0, 0]\n",
       " [1, 0, 0]\n",
       " [1, 0, 0]\n",
       " ⋮\n",
       " [1, 0, 0]\n",
       " [1, 0, 0]\n",
       " [1, 0, 0]\n",
       " [1, 0, 0]\n",
       " [1, 0, 0]\n",
       " [1, 0, 0]\n",
       " [1, 0, 0]\n",
       " [1, 0, 0]\n",
       " [1, 0, 0]\n",
       " [1, 0, 0]\n",
       " [1, 0, 0]\n",
       " [1, 0, 0]"
      ]
     },
     "execution_count": 55,
     "metadata": {},
     "output_type": "execute_result"
    }
   ],
   "source": [
    "y = vcat(fill(onehot(1, 1:3), size(x_apples)),\n",
    "         fill(onehot(2, 1:3), size(x_bananas)),\n",
    "         fill(onehot(1, 1:3), size(x_grapes)))"
   ]
  },
  {
   "cell_type": "code",
   "execution_count": 56,
   "metadata": {},
   "outputs": [],
   "source": [
    "model = Dense(2, 3, σ)\n",
    "L(x,y) = Flux.mse(model(x),y)\n",
    "opt = ADAM()\n",
    "Flux.train!(L, params(model), zip(X,y), opt)"
   ]
  },
  {
   "cell_type": "code",
   "execution_count": 57,
   "metadata": {},
   "outputs": [],
   "source": [
    "for _ in 1:100\n",
    "    Flux.train!(L, params(model), zip(X,y), opt)\n",
    "end"
   ]
  },
  {
   "cell_type": "markdown",
   "metadata": {},
   "source": [
    "This model is not complex enough to properly classify the images. Let's try deep neural networks"
   ]
  },
  {
   "cell_type": "code",
   "execution_count": 58,
   "metadata": {},
   "outputs": [
    {
     "data": {
      "text/plain": [
       "Dense(4, 3, σ)"
      ]
     },
     "execution_count": 58,
     "metadata": {},
     "output_type": "execute_result"
    }
   ],
   "source": [
    "layer1 = Dense(2, 4, σ)\n",
    "layer2 = Dense(4, 3, σ)"
   ]
  },
  {
   "cell_type": "code",
   "execution_count": 59,
   "metadata": {},
   "outputs": [
    {
     "data": {
      "text/plain": [
       "3-element Array{Float32,1}:\n",
       " 0.59881485\n",
       " 0.6326986\n",
       " 0.36871278"
      ]
     },
     "execution_count": 59,
     "metadata": {},
     "output_type": "execute_result"
    }
   ],
   "source": [
    "layer1(X[1])\n",
    "layer2(layer1(X[1]))"
   ]
  },
  {
   "cell_type": "code",
   "execution_count": 60,
   "metadata": {},
   "outputs": [
    {
     "name": "stdout",
     "output_type": "stream",
     "text": [
      "search: \u001b[0m\u001b[1mC\u001b[22m\u001b[0m\u001b[1mh\u001b[22m\u001b[0m\u001b[1ma\u001b[22m\u001b[0m\u001b[1mi\u001b[22m\u001b[0m\u001b[1mn\u001b[22m bat\u001b[0m\u001b[1mc\u001b[22m\u001b[0m\u001b[1mh\u001b[22med_\u001b[0m\u001b[1ma\u001b[22mdjo\u001b[0m\u001b[1mi\u001b[22m\u001b[0m\u001b[1mn\u001b[22mt \u001b[0m\u001b[1mc\u001b[22m\u001b[0m\u001b[1mh\u001b[22m\u001b[0m\u001b[1ma\u001b[22mnnelv\u001b[0m\u001b[1mi\u001b[22mew\n",
      "\n"
     ]
    },
    {
     "data": {
      "text/latex": [
       "\\begin{verbatim}\n",
       "Chain(layers...)\n",
       "\\end{verbatim}\n",
       "Chain multiple layers / functions together, so that they are called in sequence on a given input.\n",
       "\n",
       "\\texttt{Chain} also supports indexing and slicing, e.g. \\texttt{m[2]} or \\texttt{m[1:end-1]}. \\texttt{m[1:3](x)} will calculate the output of the first three layers.\n",
       "\n",
       "\\section{Examples}\n",
       "\\begin{verbatim}\n",
       "julia> m = Chain(x -> x^2, x -> x+1);\n",
       "\n",
       "julia> m(5) == 26\n",
       "true\n",
       "\n",
       "julia> m = Chain(Dense(10, 5), Dense(5, 2));\n",
       "\n",
       "julia> x = rand(10);\n",
       "\n",
       "julia> m(x) == m[2](m[1](x))\n",
       "true\n",
       "\\end{verbatim}\n"
      ],
      "text/markdown": [
       "```\n",
       "Chain(layers...)\n",
       "```\n",
       "\n",
       "Chain multiple layers / functions together, so that they are called in sequence on a given input.\n",
       "\n",
       "`Chain` also supports indexing and slicing, e.g. `m[2]` or `m[1:end-1]`. `m[1:3](x)` will calculate the output of the first three layers.\n",
       "\n",
       "# Examples\n",
       "\n",
       "```jldoctest\n",
       "julia> m = Chain(x -> x^2, x -> x+1);\n",
       "\n",
       "julia> m(5) == 26\n",
       "true\n",
       "\n",
       "julia> m = Chain(Dense(10, 5), Dense(5, 2));\n",
       "\n",
       "julia> x = rand(10);\n",
       "\n",
       "julia> m(x) == m[2](m[1](x))\n",
       "true\n",
       "```\n"
      ],
      "text/plain": [
       "\u001b[36m  Chain(layers...)\u001b[39m\n",
       "\n",
       "  Chain multiple layers / functions together, so that they are called in\n",
       "  sequence on a given input.\n",
       "\n",
       "  \u001b[36mChain\u001b[39m also supports indexing and slicing, e.g. \u001b[36mm[2]\u001b[39m or \u001b[36mm[1:end-1]\u001b[39m. \u001b[36mm[1:3](x)\u001b[39m\n",
       "  will calculate the output of the first three layers.\n",
       "\n",
       "\u001b[1m  Examples\u001b[22m\n",
       "\u001b[1m  ≡≡≡≡≡≡≡≡≡≡\u001b[22m\n",
       "\n",
       "\u001b[36m  julia> m = Chain(x -> x^2, x -> x+1);\u001b[39m\n",
       "\u001b[36m  \u001b[39m\n",
       "\u001b[36m  julia> m(5) == 26\u001b[39m\n",
       "\u001b[36m  true\u001b[39m\n",
       "\u001b[36m  \u001b[39m\n",
       "\u001b[36m  julia> m = Chain(Dense(10, 5), Dense(5, 2));\u001b[39m\n",
       "\u001b[36m  \u001b[39m\n",
       "\u001b[36m  julia> x = rand(10);\u001b[39m\n",
       "\u001b[36m  \u001b[39m\n",
       "\u001b[36m  julia> m(x) == m[2](m[1](x))\u001b[39m\n",
       "\u001b[36m  true\u001b[39m"
      ]
     },
     "execution_count": 60,
     "metadata": {},
     "output_type": "execute_result"
    }
   ],
   "source": [
    "?Chain"
   ]
  },
  {
   "cell_type": "code",
   "execution_count": 61,
   "metadata": {},
   "outputs": [
    {
     "data": {
      "text/plain": [
       "3-element Array{Float32,1}:\n",
       " 0.59881485\n",
       " 0.6326986\n",
       " 0.36871278"
      ]
     },
     "execution_count": 61,
     "metadata": {},
     "output_type": "execute_result"
    }
   ],
   "source": [
    "m = Chain(layer1, layer2)\n",
    "m(X[1])"
   ]
  },
  {
   "cell_type": "code",
   "execution_count": 62,
   "metadata": {},
   "outputs": [
    {
     "data": {
      "text/plain": [
       "3-element Array{Float32,1}:\n",
       " 0.59881485\n",
       " 0.6326986\n",
       " 0.36871278"
      ]
     },
     "execution_count": 62,
     "metadata": {},
     "output_type": "execute_result"
    }
   ],
   "source": [
    "#Piping can also work\n",
    "X[1] |> layer1 |> layer2"
   ]
  },
  {
   "cell_type": "code",
   "execution_count": 63,
   "metadata": {},
   "outputs": [
    {
     "data": {
      "text/plain": [
       "ADAM(0.001, (0.9, 0.999), IdDict{Any,Any}(Float32[-2.8963506 5.327563; 2.5654883 -5.171878; -7.406034 -5.0119424] => (Float32[-0.013890686 -0.009885846; 0.014009194 0.009972363; 3.4740987f-13 2.473301f-13], Float32[0.0011509263 0.00022123307; 0.0011568493 0.0002229552; 6.059507f-22 3.8509712f-23], (2.5e-323, 3.073281911462156e-65)),Float32[0.7905926, -0.6529338, -7.321782] => (Float32[-0.023234058, 0.02343321, 5.818148f-13], Float32[0.0037748665, 0.0037939355, 3.3200415f-21], (2.5e-323, 3.073281911462156e-65))))"
      ]
     },
     "execution_count": 63,
     "metadata": {},
     "output_type": "execute_result"
    }
   ],
   "source": [
    "opt"
   ]
  },
  {
   "cell_type": "code",
   "execution_count": 64,
   "metadata": {},
   "outputs": [
    {
     "name": "stdout",
     "output_type": "stream",
     "text": [
      "  0.742131 seconds (1.88 M allocations: 82.767 MiB)\n"
     ]
    }
   ],
   "source": [
    "model = Chain(Dense(2, 4, σ), Dense(4, 3, σ))\n",
    "L(x, y) = Flux.mse(model(x), y)\n",
    "ps = Flux.params(model)\n",
    "opt = ADAM()\n",
    "@time Flux.train!(L, ps, zip(X, y), opt)"
   ]
  },
  {
   "cell_type": "markdown",
   "metadata": {},
   "source": [
    "Use batching to improve efficiency"
   ]
  },
  {
   "cell_type": "code",
   "execution_count": 65,
   "metadata": {},
   "outputs": [
    {
     "data": {
      "text/plain": [
       "2×1470 Array{Float64,2}:\n",
       " 0.501466  0.434225  0.43412   0.432922  …  0.592942  0.593707  0.5919\n",
       " 0.148436  0.108166  0.108348  0.106358     0.454372  0.453736  0.451744"
      ]
     },
     "execution_count": 65,
     "metadata": {},
     "output_type": "execute_result"
    }
   ],
   "source": [
    "Flux.batch(X)"
   ]
  },
  {
   "cell_type": "code",
   "execution_count": 66,
   "metadata": {},
   "outputs": [
    {
     "data": {
      "text/plain": [
       "3×1470 Array{Float32,2}:\n",
       " 0.724334   0.721234   0.721224   …  0.724508   0.724558   0.72449\n",
       " 0.311628   0.317215   0.317201      0.287245   0.287264   0.287416\n",
       " 0.0851001  0.0848572  0.0848515     0.0807318  0.0807543  0.0807609"
      ]
     },
     "execution_count": 66,
     "metadata": {},
     "output_type": "execute_result"
    }
   ],
   "source": [
    "model(Flux.batch(X))"
   ]
  },
  {
   "cell_type": "code",
   "execution_count": 67,
   "metadata": {},
   "outputs": [
    {
     "name": "stdout",
     "output_type": "stream",
     "text": [
      "  2.604219 seconds (6.35 M allocations: 309.159 MiB, 3.75% gc time)\n",
      "  0.001008 seconds (15.11 k allocations: 553.266 KiB)\n"
     ]
    }
   ],
   "source": [
    "databatch = (Flux.batch(X), Flux.batch(y))\n",
    "@time Flux.train!(L, ps, (databatch,), opt)\n",
    "@time Flux.train!(L, ps, (databatch,), opt)"
   ]
  },
  {
   "cell_type": "code",
   "execution_count": 36,
   "metadata": {},
   "outputs": [],
   "source": [
    "for _ in 1:10000\n",
    "    Flux.train!(L, ps, (databatch,), opt)\n",
    "end"
   ]
  },
  {
   "cell_type": "markdown",
   "metadata": {},
   "source": [
    "Cross entropy would be a better loss function as the graph below shows since it would more heavily penalize wrong answers"
   ]
  },
  {
   "cell_type": "code",
   "execution_count": 68,
   "metadata": {},
   "outputs": [
    {
     "data": {
      "image/svg+xml": [
       "<?xml version=\"1.0\" encoding=\"utf-8\"?>\n",
       "<svg xmlns=\"http://www.w3.org/2000/svg\" xmlns:xlink=\"http://www.w3.org/1999/xlink\" width=\"600\" height=\"400\" viewBox=\"0 0 2400 1600\">\n",
       "<defs>\n",
       "  <clipPath id=\"clip750\">\n",
       "    <rect x=\"0\" y=\"0\" width=\"2400\" height=\"1600\"/>\n",
       "  </clipPath>\n",
       "</defs>\n",
       "<path clip-path=\"url(#clip750)\" d=\"\n",
       "M0 1600 L2400 1600 L2400 0 L0 0  Z\n",
       "  \" fill=\"#ffffff\" fill-rule=\"evenodd\" fill-opacity=\"1\"/>\n",
       "<defs>\n",
       "  <clipPath id=\"clip751\">\n",
       "    <rect x=\"480\" y=\"0\" width=\"1681\" height=\"1600\"/>\n",
       "  </clipPath>\n",
       "</defs>\n",
       "<path clip-path=\"url(#clip750)\" d=\"\n",
       "M175.445 1423.18 L2352.76 1423.18 L2352.76 123.472 L175.445 123.472  Z\n",
       "  \" fill=\"#ffffff\" fill-rule=\"evenodd\" fill-opacity=\"1\"/>\n",
       "<defs>\n",
       "  <clipPath id=\"clip752\">\n",
       "    <rect x=\"175\" y=\"123\" width=\"2178\" height=\"1301\"/>\n",
       "  </clipPath>\n",
       "</defs>\n",
       "<polyline clip-path=\"url(#clip752)\" style=\"stroke:#000000; stroke-width:2; stroke-opacity:0.1; fill:none\" points=\"\n",
       "  237.067,1423.18 237.067,123.472 \n",
       "  \"/>\n",
       "<polyline clip-path=\"url(#clip752)\" style=\"stroke:#000000; stroke-width:2; stroke-opacity:0.1; fill:none\" points=\"\n",
       "  579.412,1423.18 579.412,123.472 \n",
       "  \"/>\n",
       "<polyline clip-path=\"url(#clip752)\" style=\"stroke:#000000; stroke-width:2; stroke-opacity:0.1; fill:none\" points=\"\n",
       "  921.756,1423.18 921.756,123.472 \n",
       "  \"/>\n",
       "<polyline clip-path=\"url(#clip752)\" style=\"stroke:#000000; stroke-width:2; stroke-opacity:0.1; fill:none\" points=\"\n",
       "  1264.1,1423.18 1264.1,123.472 \n",
       "  \"/>\n",
       "<polyline clip-path=\"url(#clip752)\" style=\"stroke:#000000; stroke-width:2; stroke-opacity:0.1; fill:none\" points=\"\n",
       "  1606.45,1423.18 1606.45,123.472 \n",
       "  \"/>\n",
       "<polyline clip-path=\"url(#clip752)\" style=\"stroke:#000000; stroke-width:2; stroke-opacity:0.1; fill:none\" points=\"\n",
       "  1948.79,1423.18 1948.79,123.472 \n",
       "  \"/>\n",
       "<polyline clip-path=\"url(#clip752)\" style=\"stroke:#000000; stroke-width:2; stroke-opacity:0.1; fill:none\" points=\"\n",
       "  2291.13,1423.18 2291.13,123.472 \n",
       "  \"/>\n",
       "<polyline clip-path=\"url(#clip752)\" style=\"stroke:#000000; stroke-width:2; stroke-opacity:0.1; fill:none\" points=\"\n",
       "  175.445,1386.4 2352.76,1386.4 \n",
       "  \"/>\n",
       "<polyline clip-path=\"url(#clip752)\" style=\"stroke:#000000; stroke-width:2; stroke-opacity:0.1; fill:none\" points=\"\n",
       "  175.445,1120.35 2352.76,1120.35 \n",
       "  \"/>\n",
       "<polyline clip-path=\"url(#clip752)\" style=\"stroke:#000000; stroke-width:2; stroke-opacity:0.1; fill:none\" points=\"\n",
       "  175.445,854.302 2352.76,854.302 \n",
       "  \"/>\n",
       "<polyline clip-path=\"url(#clip752)\" style=\"stroke:#000000; stroke-width:2; stroke-opacity:0.1; fill:none\" points=\"\n",
       "  175.445,588.255 2352.76,588.255 \n",
       "  \"/>\n",
       "<polyline clip-path=\"url(#clip752)\" style=\"stroke:#000000; stroke-width:2; stroke-opacity:0.1; fill:none\" points=\"\n",
       "  175.445,322.208 2352.76,322.208 \n",
       "  \"/>\n",
       "<polyline clip-path=\"url(#clip750)\" style=\"stroke:#000000; stroke-width:4; stroke-opacity:1; fill:none\" points=\"\n",
       "  175.445,1423.18 2352.76,1423.18 \n",
       "  \"/>\n",
       "<polyline clip-path=\"url(#clip750)\" style=\"stroke:#000000; stroke-width:4; stroke-opacity:1; fill:none\" points=\"\n",
       "  175.445,1423.18 175.445,123.472 \n",
       "  \"/>\n",
       "<polyline clip-path=\"url(#clip750)\" style=\"stroke:#000000; stroke-width:4; stroke-opacity:1; fill:none\" points=\"\n",
       "  237.067,1423.18 237.067,1407.58 \n",
       "  \"/>\n",
       "<polyline clip-path=\"url(#clip750)\" style=\"stroke:#000000; stroke-width:4; stroke-opacity:1; fill:none\" points=\"\n",
       "  579.412,1423.18 579.412,1407.58 \n",
       "  \"/>\n",
       "<polyline clip-path=\"url(#clip750)\" style=\"stroke:#000000; stroke-width:4; stroke-opacity:1; fill:none\" points=\"\n",
       "  921.756,1423.18 921.756,1407.58 \n",
       "  \"/>\n",
       "<polyline clip-path=\"url(#clip750)\" style=\"stroke:#000000; stroke-width:4; stroke-opacity:1; fill:none\" points=\"\n",
       "  1264.1,1423.18 1264.1,1407.58 \n",
       "  \"/>\n",
       "<polyline clip-path=\"url(#clip750)\" style=\"stroke:#000000; stroke-width:4; stroke-opacity:1; fill:none\" points=\"\n",
       "  1606.45,1423.18 1606.45,1407.58 \n",
       "  \"/>\n",
       "<polyline clip-path=\"url(#clip750)\" style=\"stroke:#000000; stroke-width:4; stroke-opacity:1; fill:none\" points=\"\n",
       "  1948.79,1423.18 1948.79,1407.58 \n",
       "  \"/>\n",
       "<polyline clip-path=\"url(#clip750)\" style=\"stroke:#000000; stroke-width:4; stroke-opacity:1; fill:none\" points=\"\n",
       "  2291.13,1423.18 2291.13,1407.58 \n",
       "  \"/>\n",
       "<polyline clip-path=\"url(#clip750)\" style=\"stroke:#000000; stroke-width:4; stroke-opacity:1; fill:none\" points=\"\n",
       "  175.445,1386.4 201.573,1386.4 \n",
       "  \"/>\n",
       "<polyline clip-path=\"url(#clip750)\" style=\"stroke:#000000; stroke-width:4; stroke-opacity:1; fill:none\" points=\"\n",
       "  175.445,1120.35 201.573,1120.35 \n",
       "  \"/>\n",
       "<polyline clip-path=\"url(#clip750)\" style=\"stroke:#000000; stroke-width:4; stroke-opacity:1; fill:none\" points=\"\n",
       "  175.445,854.302 201.573,854.302 \n",
       "  \"/>\n",
       "<polyline clip-path=\"url(#clip750)\" style=\"stroke:#000000; stroke-width:4; stroke-opacity:1; fill:none\" points=\"\n",
       "  175.445,588.255 201.573,588.255 \n",
       "  \"/>\n",
       "<polyline clip-path=\"url(#clip750)\" style=\"stroke:#000000; stroke-width:4; stroke-opacity:1; fill:none\" points=\"\n",
       "  175.445,322.208 201.573,322.208 \n",
       "  \"/>\n",
       "<path clip-path=\"url(#clip750)\" d=\"M 0 0 M199.949 1461.77 L212.426 1461.77 L212.426 1465.56 L199.949 1465.56 L199.949 1461.77 Z\" fill=\"#000000\" fill-rule=\"evenodd\" fill-opacity=\"1\" /><path clip-path=\"url(#clip750)\" d=\"M 0 0 M218.306 1472.72 L225.945 1472.72 L225.945 1446.35 L217.634 1448.02 L217.634 1443.76 L225.898 1442.09 L230.574 1442.09 L230.574 1472.72 L238.213 1472.72 L238.213 1476.65 L218.306 1476.65 L218.306 1472.72 Z\" fill=\"#000000\" fill-rule=\"evenodd\" fill-opacity=\"1\" /><path clip-path=\"url(#clip750)\" d=\"M 0 0 M243.282 1470.77 L248.167 1470.77 L248.167 1476.65 L243.282 1476.65 L243.282 1470.77 Z\" fill=\"#000000\" fill-rule=\"evenodd\" fill-opacity=\"1\" /><path clip-path=\"url(#clip750)\" d=\"M 0 0 M253.282 1442.09 L271.639 1442.09 L271.639 1446.03 L257.565 1446.03 L257.565 1454.5 Q258.583 1454.15 259.602 1453.99 Q260.62 1453.8 261.639 1453.8 Q267.426 1453.8 270.805 1456.98 Q274.185 1460.15 274.185 1465.56 Q274.185 1471.14 270.713 1474.24 Q267.241 1477.32 260.921 1477.32 Q258.745 1477.32 256.477 1476.95 Q254.231 1476.58 251.824 1475.84 L251.824 1471.14 Q253.907 1472.28 256.13 1472.83 Q258.352 1473.39 260.829 1473.39 Q264.833 1473.39 267.171 1471.28 Q269.509 1469.18 269.509 1465.56 Q269.509 1461.95 267.171 1459.85 Q264.833 1457.74 260.829 1457.74 Q258.954 1457.74 257.079 1458.16 Q255.227 1458.57 253.282 1459.45 L253.282 1442.09 Z\" fill=\"#000000\" fill-rule=\"evenodd\" fill-opacity=\"1\" /><path clip-path=\"url(#clip750)\" d=\"M 0 0 M541.796 1461.77 L554.273 1461.77 L554.273 1465.56 L541.796 1465.56 L541.796 1461.77 Z\" fill=\"#000000\" fill-rule=\"evenodd\" fill-opacity=\"1\" /><path clip-path=\"url(#clip750)\" d=\"M 0 0 M560.153 1472.72 L567.791 1472.72 L567.791 1446.35 L559.481 1448.02 L559.481 1443.76 L567.745 1442.09 L572.421 1442.09 L572.421 1472.72 L580.06 1472.72 L580.06 1476.65 L560.153 1476.65 L560.153 1472.72 Z\" fill=\"#000000\" fill-rule=\"evenodd\" fill-opacity=\"1\" /><path clip-path=\"url(#clip750)\" d=\"M 0 0 M585.129 1470.77 L590.013 1470.77 L590.013 1476.65 L585.129 1476.65 L585.129 1470.77 Z\" fill=\"#000000\" fill-rule=\"evenodd\" fill-opacity=\"1\" /><path clip-path=\"url(#clip750)\" d=\"M 0 0 M605.083 1445.17 Q601.472 1445.17 599.643 1448.74 Q597.837 1452.28 597.837 1459.41 Q597.837 1466.51 599.643 1470.08 Q601.472 1473.62 605.083 1473.62 Q608.717 1473.62 610.523 1470.08 Q612.351 1466.51 612.351 1459.41 Q612.351 1452.28 610.523 1448.74 Q608.717 1445.17 605.083 1445.17 M605.083 1441.47 Q610.893 1441.47 613.949 1446.07 Q617.027 1450.66 617.027 1459.41 Q617.027 1468.13 613.949 1472.74 Q610.893 1477.32 605.083 1477.32 Q599.273 1477.32 596.194 1472.74 Q593.138 1468.13 593.138 1459.41 Q593.138 1450.66 596.194 1446.07 Q599.273 1441.47 605.083 1441.47 Z\" fill=\"#000000\" fill-rule=\"evenodd\" fill-opacity=\"1\" /><path clip-path=\"url(#clip750)\" d=\"M 0 0 M884.025 1461.77 L896.502 1461.77 L896.502 1465.56 L884.025 1465.56 L884.025 1461.77 Z\" fill=\"#000000\" fill-rule=\"evenodd\" fill-opacity=\"1\" /><path clip-path=\"url(#clip750)\" d=\"M 0 0 M911.571 1445.17 Q907.96 1445.17 906.131 1448.74 Q904.326 1452.28 904.326 1459.41 Q904.326 1466.51 906.131 1470.08 Q907.96 1473.62 911.571 1473.62 Q915.205 1473.62 917.011 1470.08 Q918.839 1466.51 918.839 1459.41 Q918.839 1452.28 917.011 1448.74 Q915.205 1445.17 911.571 1445.17 M911.571 1441.47 Q917.381 1441.47 920.437 1446.07 Q923.515 1450.66 923.515 1459.41 Q923.515 1468.13 920.437 1472.74 Q917.381 1477.32 911.571 1477.32 Q905.761 1477.32 902.682 1472.74 Q899.627 1468.13 899.627 1459.41 Q899.627 1450.66 902.682 1446.07 Q905.761 1441.47 911.571 1441.47 Z\" fill=\"#000000\" fill-rule=\"evenodd\" fill-opacity=\"1\" /><path clip-path=\"url(#clip750)\" d=\"M 0 0 M928.585 1470.77 L933.469 1470.77 L933.469 1476.65 L928.585 1476.65 L928.585 1470.77 Z\" fill=\"#000000\" fill-rule=\"evenodd\" fill-opacity=\"1\" /><path clip-path=\"url(#clip750)\" d=\"M 0 0 M938.585 1442.09 L956.941 1442.09 L956.941 1446.03 L942.867 1446.03 L942.867 1454.5 Q943.886 1454.15 944.904 1453.99 Q945.923 1453.8 946.941 1453.8 Q952.728 1453.8 956.108 1456.98 Q959.487 1460.15 959.487 1465.56 Q959.487 1471.14 956.015 1474.24 Q952.543 1477.32 946.224 1477.32 Q944.048 1477.32 941.779 1476.95 Q939.534 1476.58 937.126 1475.84 L937.126 1471.14 Q939.21 1472.28 941.432 1472.83 Q943.654 1473.39 946.131 1473.39 Q950.136 1473.39 952.474 1471.28 Q954.811 1469.18 954.811 1465.56 Q954.811 1461.95 952.474 1459.85 Q950.136 1457.74 946.131 1457.74 Q944.256 1457.74 942.381 1458.16 Q940.529 1458.57 938.585 1459.45 L938.585 1442.09 Z\" fill=\"#000000\" fill-rule=\"evenodd\" fill-opacity=\"1\" /><path clip-path=\"url(#clip750)\" d=\"M 0 0 M1245.62 1445.17 Q1242.01 1445.17 1240.18 1448.74 Q1238.37 1452.28 1238.37 1459.41 Q1238.37 1466.51 1240.18 1470.08 Q1242.01 1473.62 1245.62 1473.62 Q1249.25 1473.62 1251.06 1470.08 Q1252.89 1466.51 1252.89 1459.41 Q1252.89 1452.28 1251.06 1448.74 Q1249.25 1445.17 1245.62 1445.17 M1245.62 1441.47 Q1251.43 1441.47 1254.48 1446.07 Q1257.56 1450.66 1257.56 1459.41 Q1257.56 1468.13 1254.48 1472.74 Q1251.43 1477.32 1245.62 1477.32 Q1239.81 1477.32 1236.73 1472.74 Q1233.67 1468.13 1233.67 1459.41 Q1233.67 1450.66 1236.73 1446.07 Q1239.81 1441.47 1245.62 1441.47 Z\" fill=\"#000000\" fill-rule=\"evenodd\" fill-opacity=\"1\" /><path clip-path=\"url(#clip750)\" d=\"M 0 0 M1262.63 1470.77 L1267.51 1470.77 L1267.51 1476.65 L1262.63 1476.65 L1262.63 1470.77 Z\" fill=\"#000000\" fill-rule=\"evenodd\" fill-opacity=\"1\" /><path clip-path=\"url(#clip750)\" d=\"M 0 0 M1282.58 1445.17 Q1278.97 1445.17 1277.14 1448.74 Q1275.34 1452.28 1275.34 1459.41 Q1275.34 1466.51 1277.14 1470.08 Q1278.97 1473.62 1282.58 1473.62 Q1286.22 1473.62 1288.02 1470.08 Q1289.85 1466.51 1289.85 1459.41 Q1289.85 1452.28 1288.02 1448.74 Q1286.22 1445.17 1282.58 1445.17 M1282.58 1441.47 Q1288.39 1441.47 1291.45 1446.07 Q1294.53 1450.66 1294.53 1459.41 Q1294.53 1468.13 1291.45 1472.74 Q1288.39 1477.32 1282.58 1477.32 Q1276.77 1477.32 1273.7 1472.74 Q1270.64 1468.13 1270.64 1459.41 Q1270.64 1450.66 1273.7 1446.07 Q1276.77 1441.47 1282.58 1441.47 Z\" fill=\"#000000\" fill-rule=\"evenodd\" fill-opacity=\"1\" /><path clip-path=\"url(#clip750)\" d=\"M 0 0 M1588.46 1445.17 Q1584.85 1445.17 1583.02 1448.74 Q1581.21 1452.28 1581.21 1459.41 Q1581.21 1466.51 1583.02 1470.08 Q1584.85 1473.62 1588.46 1473.62 Q1592.09 1473.62 1593.9 1470.08 Q1595.73 1466.51 1595.73 1459.41 Q1595.73 1452.28 1593.9 1448.74 Q1592.09 1445.17 1588.46 1445.17 M1588.46 1441.47 Q1594.27 1441.47 1597.32 1446.07 Q1600.4 1450.66 1600.4 1459.41 Q1600.4 1468.13 1597.32 1472.74 Q1594.27 1477.32 1588.46 1477.32 Q1582.65 1477.32 1579.57 1472.74 Q1576.51 1468.13 1576.51 1459.41 Q1576.51 1450.66 1579.57 1446.07 Q1582.65 1441.47 1588.46 1441.47 Z\" fill=\"#000000\" fill-rule=\"evenodd\" fill-opacity=\"1\" /><path clip-path=\"url(#clip750)\" d=\"M 0 0 M1605.47 1470.77 L1610.36 1470.77 L1610.36 1476.65 L1605.47 1476.65 L1605.47 1470.77 Z\" fill=\"#000000\" fill-rule=\"evenodd\" fill-opacity=\"1\" /><path clip-path=\"url(#clip750)\" d=\"M 0 0 M1615.47 1442.09 L1633.83 1442.09 L1633.83 1446.03 L1619.76 1446.03 L1619.76 1454.5 Q1620.77 1454.15 1621.79 1453.99 Q1622.81 1453.8 1623.83 1453.8 Q1629.62 1453.8 1633 1456.98 Q1636.38 1460.15 1636.38 1465.56 Q1636.38 1471.14 1632.9 1474.24 Q1629.43 1477.32 1623.11 1477.32 Q1620.94 1477.32 1618.67 1476.95 Q1616.42 1476.58 1614.01 1475.84 L1614.01 1471.14 Q1616.1 1472.28 1618.32 1472.83 Q1620.54 1473.39 1623.02 1473.39 Q1627.02 1473.39 1629.36 1471.28 Q1631.7 1469.18 1631.7 1465.56 Q1631.7 1461.95 1629.36 1459.85 Q1627.02 1457.74 1623.02 1457.74 Q1621.14 1457.74 1619.27 1458.16 Q1617.42 1458.57 1615.47 1459.45 L1615.47 1442.09 Z\" fill=\"#000000\" fill-rule=\"evenodd\" fill-opacity=\"1\" /><path clip-path=\"url(#clip750)\" d=\"M 0 0 M1920.69 1472.72 L1928.33 1472.72 L1928.33 1446.35 L1920.02 1448.02 L1920.02 1443.76 L1928.28 1442.09 L1932.96 1442.09 L1932.96 1472.72 L1940.6 1472.72 L1940.6 1476.65 L1920.69 1476.65 L1920.69 1472.72 Z\" fill=\"#000000\" fill-rule=\"evenodd\" fill-opacity=\"1\" /><path clip-path=\"url(#clip750)\" d=\"M 0 0 M1945.66 1470.77 L1950.55 1470.77 L1950.55 1476.65 L1945.66 1476.65 L1945.66 1470.77 Z\" fill=\"#000000\" fill-rule=\"evenodd\" fill-opacity=\"1\" /><path clip-path=\"url(#clip750)\" d=\"M 0 0 M1965.62 1445.17 Q1962.01 1445.17 1960.18 1448.74 Q1958.37 1452.28 1958.37 1459.41 Q1958.37 1466.51 1960.18 1470.08 Q1962.01 1473.62 1965.62 1473.62 Q1969.25 1473.62 1971.06 1470.08 Q1972.89 1466.51 1972.89 1459.41 Q1972.89 1452.28 1971.06 1448.74 Q1969.25 1445.17 1965.62 1445.17 M1965.62 1441.47 Q1971.43 1441.47 1974.48 1446.07 Q1977.56 1450.66 1977.56 1459.41 Q1977.56 1468.13 1974.48 1472.74 Q1971.43 1477.32 1965.62 1477.32 Q1959.81 1477.32 1956.73 1472.74 Q1953.67 1468.13 1953.67 1459.41 Q1953.67 1450.66 1956.73 1446.07 Q1959.81 1441.47 1965.62 1441.47 Z\" fill=\"#000000\" fill-rule=\"evenodd\" fill-opacity=\"1\" /><path clip-path=\"url(#clip750)\" d=\"M 0 0 M2263.53 1472.72 L2271.17 1472.72 L2271.17 1446.35 L2262.86 1448.02 L2262.86 1443.76 L2271.12 1442.09 L2275.8 1442.09 L2275.8 1472.72 L2283.44 1472.72 L2283.44 1476.65 L2263.53 1476.65 L2263.53 1472.72 Z\" fill=\"#000000\" fill-rule=\"evenodd\" fill-opacity=\"1\" /><path clip-path=\"url(#clip750)\" d=\"M 0 0 M2288.51 1470.77 L2293.39 1470.77 L2293.39 1476.65 L2288.51 1476.65 L2288.51 1470.77 Z\" fill=\"#000000\" fill-rule=\"evenodd\" fill-opacity=\"1\" /><path clip-path=\"url(#clip750)\" d=\"M 0 0 M2298.51 1442.09 L2316.86 1442.09 L2316.86 1446.03 L2302.79 1446.03 L2302.79 1454.5 Q2303.81 1454.15 2304.83 1453.99 Q2305.84 1453.8 2306.86 1453.8 Q2312.65 1453.8 2316.03 1456.98 Q2319.41 1460.15 2319.41 1465.56 Q2319.41 1471.14 2315.94 1474.24 Q2312.46 1477.32 2306.15 1477.32 Q2303.97 1477.32 2301.7 1476.95 Q2299.46 1476.58 2297.05 1475.84 L2297.05 1471.14 Q2299.13 1472.28 2301.35 1472.83 Q2303.58 1473.39 2306.05 1473.39 Q2310.06 1473.39 2312.4 1471.28 Q2314.73 1469.18 2314.73 1465.56 Q2314.73 1461.95 2312.4 1459.85 Q2310.06 1457.74 2306.05 1457.74 Q2304.18 1457.74 2302.3 1458.16 Q2300.45 1458.57 2298.51 1459.45 L2298.51 1442.09 Z\" fill=\"#000000\" fill-rule=\"evenodd\" fill-opacity=\"1\" /><path clip-path=\"url(#clip750)\" d=\"M 0 0 M139.501 1372.19 Q135.89 1372.19 134.061 1375.76 Q132.255 1379.3 132.255 1386.43 Q132.255 1393.54 134.061 1397.1 Q135.89 1400.64 139.501 1400.64 Q143.135 1400.64 144.941 1397.1 Q146.769 1393.54 146.769 1386.43 Q146.769 1379.3 144.941 1375.76 Q143.135 1372.19 139.501 1372.19 M139.501 1368.49 Q145.311 1368.49 148.367 1373.1 Q151.445 1377.68 151.445 1386.43 Q151.445 1395.16 148.367 1399.76 Q145.311 1404.35 139.501 1404.35 Q133.691 1404.35 130.612 1399.76 Q127.556 1395.16 127.556 1386.43 Q127.556 1377.68 130.612 1373.1 Q133.691 1368.49 139.501 1368.49 Z\" fill=\"#000000\" fill-rule=\"evenodd\" fill-opacity=\"1\" /><path clip-path=\"url(#clip750)\" d=\"M 0 0 M135.126 1133.69 L151.445 1133.69 L151.445 1137.63 L129.501 1137.63 L129.501 1133.69 Q132.163 1130.94 136.746 1126.31 Q141.353 1121.66 142.533 1120.31 Q144.779 1117.79 145.658 1116.05 Q146.561 1114.3 146.561 1112.61 Q146.561 1109.85 144.617 1108.11 Q142.695 1106.38 139.593 1106.38 Q137.394 1106.38 134.941 1107.14 Q132.51 1107.91 129.732 1109.46 L129.732 1104.74 Q132.556 1103.6 135.01 1103.02 Q137.464 1102.44 139.501 1102.44 Q144.871 1102.44 148.066 1105.13 Q151.26 1107.81 151.26 1112.3 Q151.26 1114.43 150.45 1116.36 Q149.663 1118.25 147.556 1120.85 Q146.978 1121.52 143.876 1124.74 Q140.774 1127.93 135.126 1133.69 Z\" fill=\"#000000\" fill-rule=\"evenodd\" fill-opacity=\"1\" /><path clip-path=\"url(#clip750)\" d=\"M 0 0 M141.862 841.096 L130.056 859.545 L141.862 859.545 L141.862 841.096 M140.635 837.022 L146.515 837.022 L146.515 859.545 L151.445 859.545 L151.445 863.434 L146.515 863.434 L146.515 871.582 L141.862 871.582 L141.862 863.434 L126.26 863.434 L126.26 858.92 L140.635 837.022 Z\" fill=\"#000000\" fill-rule=\"evenodd\" fill-opacity=\"1\" /><path clip-path=\"url(#clip750)\" d=\"M 0 0 M139.917 586.391 Q136.769 586.391 134.918 588.544 Q133.089 590.697 133.089 594.447 Q133.089 598.174 134.918 600.35 Q136.769 602.502 139.917 602.502 Q143.066 602.502 144.894 600.35 Q146.746 598.174 146.746 594.447 Q146.746 590.697 144.894 588.544 Q143.066 586.391 139.917 586.391 M149.2 571.739 L149.2 575.998 Q147.441 575.164 145.635 574.725 Q143.853 574.285 142.093 574.285 Q137.464 574.285 135.01 577.41 Q132.58 580.535 132.232 586.854 Q133.598 584.84 135.658 583.776 Q137.718 582.688 140.195 582.688 Q145.404 582.688 148.413 585.859 Q151.445 589.007 151.445 594.447 Q151.445 599.771 148.297 602.988 Q145.149 606.206 139.917 606.206 Q133.922 606.206 130.751 601.623 Q127.58 597.016 127.58 588.289 Q127.58 580.095 131.468 575.234 Q135.357 570.35 141.908 570.35 Q143.667 570.35 145.45 570.697 Q147.255 571.044 149.2 571.739 Z\" fill=\"#000000\" fill-rule=\"evenodd\" fill-opacity=\"1\" /><path clip-path=\"url(#clip750)\" d=\"M 0 0 M139.593 323.076 Q136.26 323.076 134.339 324.858 Q132.441 326.641 132.441 329.766 Q132.441 332.89 134.339 334.673 Q136.26 336.455 139.593 336.455 Q142.927 336.455 144.848 334.673 Q146.769 332.867 146.769 329.766 Q146.769 326.641 144.848 324.858 Q142.95 323.076 139.593 323.076 M134.918 321.085 Q131.908 320.344 130.218 318.284 Q128.552 316.224 128.552 313.261 Q128.552 309.117 131.492 306.71 Q134.455 304.303 139.593 304.303 Q144.755 304.303 147.695 306.71 Q150.635 309.117 150.635 313.261 Q150.635 316.224 148.945 318.284 Q147.279 320.344 144.292 321.085 Q147.672 321.872 149.547 324.164 Q151.445 326.455 151.445 329.766 Q151.445 334.789 148.367 337.474 Q145.311 340.159 139.593 340.159 Q133.876 340.159 130.797 337.474 Q127.742 334.789 127.742 329.766 Q127.742 326.455 129.64 324.164 Q131.538 321.872 134.918 321.085 M133.205 313.701 Q133.205 316.386 134.871 317.891 Q136.561 319.395 139.593 319.395 Q142.603 319.395 144.292 317.891 Q146.005 316.386 146.005 313.701 Q146.005 311.016 144.292 309.511 Q142.603 308.006 139.593 308.006 Q136.561 308.006 134.871 309.511 Q133.205 311.016 133.205 313.701 Z\" fill=\"#000000\" fill-rule=\"evenodd\" fill-opacity=\"1\" /><path clip-path=\"url(#clip750)\" d=\"M 0 0 M839.505 12.096 L847.688 12.096 L847.688 65.6895 L877.138 65.6895 L877.138 72.576 L839.505 72.576 L839.505 12.096 Z\" fill=\"#000000\" fill-rule=\"evenodd\" fill-opacity=\"1\" /><path clip-path=\"url(#clip750)\" d=\"M 0 0 M901.079 32.4315 Q895.083 32.4315 891.6 37.1306 Q888.116 41.7891 888.116 49.9314 Q888.116 58.0738 891.559 62.7728 Q895.043 67.4314 901.079 67.4314 Q907.034 67.4314 910.517 62.7323 Q914.001 58.0333 914.001 49.9314 Q914.001 41.8701 910.517 37.1711 Q907.034 32.4315 901.079 32.4315 M901.079 26.1121 Q910.801 26.1121 916.351 32.4315 Q921.9 38.7509 921.9 49.9314 Q921.9 61.0714 916.351 67.4314 Q910.801 73.7508 901.079 73.7508 Q891.316 73.7508 885.766 67.4314 Q880.257 61.0714 880.257 49.9314 Q880.257 38.7509 885.766 32.4315 Q891.316 26.1121 901.079 26.1121 Z\" fill=\"#000000\" fill-rule=\"evenodd\" fill-opacity=\"1\" /><path clip-path=\"url(#clip750)\" d=\"M 0 0 M958.642 28.5427 L958.642 35.5912 Q955.482 33.9709 952.08 33.1607 Q948.677 32.3505 945.031 32.3505 Q939.481 32.3505 936.686 34.0519 Q933.932 35.7533 933.932 39.156 Q933.932 41.7486 935.917 43.2475 Q937.901 44.7058 943.897 46.0426 L946.449 46.6097 Q954.389 48.3111 957.71 51.4303 Q961.073 54.509 961.073 60.0587 Q961.073 66.3781 956.05 70.0644 Q951.067 73.7508 942.317 73.7508 Q938.671 73.7508 934.701 73.0216 Q930.772 72.3329 926.397 70.9151 L926.397 63.2184 Q930.529 65.3654 934.539 66.4591 Q938.55 67.5124 942.479 67.5124 Q947.745 67.5124 950.581 65.73 Q953.416 63.9071 953.416 60.6258 Q953.416 57.5877 951.35 55.9673 Q949.325 54.3469 942.398 52.8481 L939.805 52.2405 Q932.878 50.7821 929.8 47.7845 Q926.721 44.7463 926.721 39.4801 Q926.721 33.0797 931.258 29.5959 Q935.795 26.1121 944.14 26.1121 Q948.272 26.1121 951.918 26.7198 Q955.563 27.3274 958.642 28.5427 Z\" fill=\"#000000\" fill-rule=\"evenodd\" fill-opacity=\"1\" /><path clip-path=\"url(#clip750)\" d=\"M 0 0 M997.814 28.5427 L997.814 35.5912 Q994.655 33.9709 991.252 33.1607 Q987.849 32.3505 984.203 32.3505 Q978.654 32.3505 975.858 34.0519 Q973.104 35.7533 973.104 39.156 Q973.104 41.7486 975.089 43.2475 Q977.074 44.7058 983.069 46.0426 L985.621 46.6097 Q993.561 48.3111 996.883 51.4303 Q1000.24 54.509 1000.24 60.0587 Q1000.24 66.3781 995.222 70.0644 Q990.239 73.7508 981.489 73.7508 Q977.843 73.7508 973.874 73.0216 Q969.944 72.3329 965.569 70.9151 L965.569 63.2184 Q969.701 65.3654 973.711 66.4591 Q977.722 67.5124 981.651 67.5124 Q986.917 67.5124 989.753 65.73 Q992.589 63.9071 992.589 60.6258 Q992.589 57.5877 990.523 55.9673 Q988.497 54.3469 981.57 52.8481 L978.978 52.2405 Q972.051 50.7821 968.972 47.7845 Q965.893 44.7463 965.893 39.4801 Q965.893 33.0797 970.43 29.5959 Q974.967 26.1121 983.312 26.1121 Q987.444 26.1121 991.09 26.7198 Q994.736 27.3274 997.814 28.5427 Z\" fill=\"#000000\" fill-rule=\"evenodd\" fill-opacity=\"1\" /><path clip-path=\"url(#clip750)\" d=\"M 0 0 M1034.76 12.096 L1069.52 12.096 L1069.52 18.9825 L1042.94 18.9825 L1042.94 36.8065 L1066.92 36.8065 L1066.92 43.6931 L1042.94 43.6931 L1042.94 72.576 L1034.76 72.576 L1034.76 12.096 Z\" fill=\"#000000\" fill-rule=\"evenodd\" fill-opacity=\"1\" /><path clip-path=\"url(#clip750)\" d=\"M 0 0 M1072.03 54.671 L1072.03 27.2059 L1079.48 27.2059 L1079.48 54.3874 Q1079.48 60.8284 1081.99 64.0691 Q1084.5 67.2693 1089.53 67.2693 Q1095.56 67.2693 1099.05 63.421 Q1102.57 59.5726 1102.57 52.9291 L1102.57 27.2059 L1110.02 27.2059 L1110.02 72.576 L1102.57 72.576 L1102.57 65.6084 Q1099.86 69.7404 1096.25 71.7658 Q1092.69 73.7508 1087.95 73.7508 Q1080.13 73.7508 1076.08 68.8897 Q1072.03 64.0286 1072.03 54.671 M1090.78 26.1121 L1090.78 26.1121 Z\" fill=\"#000000\" fill-rule=\"evenodd\" fill-opacity=\"1\" /><path clip-path=\"url(#clip750)\" d=\"M 0 0 M1155.56 45.1919 L1155.56 72.576 L1148.1 72.576 L1148.1 45.4349 Q1148.1 38.994 1145.59 35.7938 Q1143.08 32.5936 1138.06 32.5936 Q1132.02 32.5936 1128.54 36.4419 Q1125.05 40.2903 1125.05 46.9338 L1125.05 72.576 L1117.56 72.576 L1117.56 27.2059 L1125.05 27.2059 L1125.05 34.2544 Q1127.73 30.163 1131.33 28.1376 Q1134.98 26.1121 1139.72 26.1121 Q1147.54 26.1121 1151.55 30.9732 Q1155.56 35.7938 1155.56 45.1919 Z\" fill=\"#000000\" fill-rule=\"evenodd\" fill-opacity=\"1\" /><path clip-path=\"url(#clip750)\" d=\"M 0 0 M1196.03 28.9478 L1196.03 35.9153 Q1192.87 34.1734 1189.67 33.3227 Q1186.51 32.4315 1183.26 32.4315 Q1176.01 32.4315 1172 37.0496 Q1167.99 41.6271 1167.99 49.9314 Q1167.99 58.2358 1172 62.8538 Q1176.01 67.4314 1183.26 67.4314 Q1186.51 67.4314 1189.67 66.5807 Q1192.87 65.6895 1196.03 63.9476 L1196.03 70.8341 Q1192.91 72.2924 1189.54 73.0216 Q1186.22 73.7508 1182.45 73.7508 Q1172.21 73.7508 1166.17 67.3098 Q1160.13 60.8689 1160.13 49.9314 Q1160.13 38.832 1166.21 32.472 Q1172.33 26.1121 1182.94 26.1121 Q1186.38 26.1121 1189.67 26.8413 Q1192.95 27.5299 1196.03 28.9478 Z\" fill=\"#000000\" fill-rule=\"evenodd\" fill-opacity=\"1\" /><path clip-path=\"url(#clip750)\" d=\"M 0 0 M1211.22 14.324 L1211.22 27.2059 L1226.57 27.2059 L1226.57 32.9987 L1211.22 32.9987 L1211.22 57.6282 Q1211.22 63.1779 1212.71 64.7578 Q1214.25 66.3376 1218.91 66.3376 L1226.57 66.3376 L1226.57 72.576 L1218.91 72.576 Q1210.28 72.576 1207 69.3758 Q1203.72 66.1351 1203.72 57.6282 L1203.72 32.9987 L1198.25 32.9987 L1198.25 27.2059 L1203.72 27.2059 L1203.72 14.324 L1211.22 14.324 Z\" fill=\"#000000\" fill-rule=\"evenodd\" fill-opacity=\"1\" /><path clip-path=\"url(#clip750)\" d=\"M 0 0 M1234.39 27.2059 L1241.84 27.2059 L1241.84 72.576 L1234.39 72.576 L1234.39 27.2059 M1234.39 9.54393 L1241.84 9.54393 L1241.84 18.9825 L1234.39 18.9825 L1234.39 9.54393 Z\" fill=\"#000000\" fill-rule=\"evenodd\" fill-opacity=\"1\" /><path clip-path=\"url(#clip750)\" d=\"M 0 0 M1267.24 32.4315 Q1261.24 32.4315 1257.76 37.1306 Q1254.28 41.7891 1254.28 49.9314 Q1254.28 58.0738 1257.72 62.7728 Q1261.2 67.4314 1267.24 67.4314 Q1273.19 67.4314 1276.68 62.7323 Q1280.16 58.0333 1280.16 49.9314 Q1280.16 41.8701 1276.68 37.1711 Q1273.19 32.4315 1267.24 32.4315 M1267.24 26.1121 Q1276.96 26.1121 1282.51 32.4315 Q1288.06 38.7509 1288.06 49.9314 Q1288.06 61.0714 1282.51 67.4314 Q1276.96 73.7508 1267.24 73.7508 Q1257.48 73.7508 1251.93 67.4314 Q1246.42 61.0714 1246.42 49.9314 Q1246.42 38.7509 1251.93 32.4315 Q1257.48 26.1121 1267.24 26.1121 Z\" fill=\"#000000\" fill-rule=\"evenodd\" fill-opacity=\"1\" /><path clip-path=\"url(#clip750)\" d=\"M 0 0 M1333.59 45.1919 L1333.59 72.576 L1326.14 72.576 L1326.14 45.4349 Q1326.14 38.994 1323.63 35.7938 Q1321.12 32.5936 1316.09 32.5936 Q1310.06 32.5936 1306.57 36.4419 Q1303.09 40.2903 1303.09 46.9338 L1303.09 72.576 L1295.6 72.576 L1295.6 27.2059 L1303.09 27.2059 L1303.09 34.2544 Q1305.76 30.163 1309.37 28.1376 Q1313.02 26.1121 1317.75 26.1121 Q1325.57 26.1121 1329.58 30.9732 Q1333.59 35.7938 1333.59 45.1919 Z\" fill=\"#000000\" fill-rule=\"evenodd\" fill-opacity=\"1\" /><path clip-path=\"url(#clip750)\" d=\"M 0 0 M1376.29 43.6931 L1376.29 65.8515 L1389.42 65.8515 Q1396.02 65.8515 1399.18 63.1374 Q1402.38 60.3828 1402.38 54.752 Q1402.38 49.0808 1399.18 46.4072 Q1396.02 43.6931 1389.42 43.6931 L1376.29 43.6931 M1376.29 18.8205 L1376.29 37.0496 L1388.4 37.0496 Q1394.4 37.0496 1397.31 34.8216 Q1400.27 32.5531 1400.27 27.935 Q1400.27 23.3575 1397.31 21.089 Q1394.4 18.8205 1388.4 18.8205 L1376.29 18.8205 M1368.11 12.096 L1389.01 12.096 Q1398.37 12.096 1403.43 15.9849 Q1408.5 19.8737 1408.5 27.0438 Q1408.5 32.5936 1405.9 35.8748 Q1403.31 39.156 1398.29 39.9662 Q1404.32 41.2625 1407.64 45.3944 Q1411.01 49.4858 1411.01 55.6432 Q1411.01 63.745 1405.5 68.1605 Q1399.99 72.576 1389.82 72.576 L1368.11 72.576 L1368.11 12.096 Z\" fill=\"#000000\" fill-rule=\"evenodd\" fill-opacity=\"1\" /><path clip-path=\"url(#clip750)\" d=\"M 0 0 M1457.63 48.0275 L1457.63 51.6733 L1423.36 51.6733 Q1423.85 59.3701 1427.98 63.421 Q1432.15 67.4314 1439.57 67.4314 Q1443.86 67.4314 1447.87 66.3781 Q1451.92 65.3249 1455.89 63.2184 L1455.89 70.267 Q1451.88 71.9684 1447.67 72.8596 Q1443.45 73.7508 1439.12 73.7508 Q1428.26 73.7508 1421.9 67.4314 Q1415.58 61.1119 1415.58 50.3365 Q1415.58 39.1965 1421.58 32.6746 Q1427.62 26.1121 1437.82 26.1121 Q1446.98 26.1121 1452.29 32.0264 Q1457.63 37.9003 1457.63 48.0275 M1450.18 45.84 Q1450.1 39.7232 1446.74 36.0774 Q1443.41 32.4315 1437.9 32.4315 Q1431.67 32.4315 1427.9 35.9558 Q1424.17 39.4801 1423.6 45.8805 L1450.18 45.84 Z\" fill=\"#000000\" fill-rule=\"evenodd\" fill-opacity=\"1\" /><path clip-path=\"url(#clip750)\" d=\"M 0 0 M1503.16 45.1919 L1503.16 72.576 L1495.71 72.576 L1495.71 45.4349 Q1495.71 38.994 1493.2 35.7938 Q1490.69 32.5936 1485.66 32.5936 Q1479.63 32.5936 1476.15 36.4419 Q1472.66 40.2903 1472.66 46.9338 L1472.66 72.576 L1465.17 72.576 L1465.17 9.54393 L1472.66 9.54393 L1472.66 34.2544 Q1475.33 30.163 1478.94 28.1376 Q1482.59 26.1121 1487.33 26.1121 Q1495.14 26.1121 1499.15 30.9732 Q1503.16 35.7938 1503.16 45.1919 Z\" fill=\"#000000\" fill-rule=\"evenodd\" fill-opacity=\"1\" /><path clip-path=\"url(#clip750)\" d=\"M 0 0 M1531.6 49.7694 Q1522.57 49.7694 1519.08 51.8354 Q1515.6 53.9013 1515.6 58.8839 Q1515.6 62.8538 1518.19 65.2034 Q1520.83 67.5124 1525.32 67.5124 Q1531.52 67.5124 1535.25 63.1374 Q1539.02 58.7219 1539.02 51.4303 L1539.02 49.7694 L1531.6 49.7694 M1546.47 46.6907 L1546.47 72.576 L1539.02 72.576 L1539.02 65.6895 Q1536.46 69.8214 1532.66 71.8063 Q1528.85 73.7508 1523.34 73.7508 Q1516.37 73.7508 1512.24 69.8619 Q1508.15 65.9325 1508.15 59.3701 Q1508.15 51.7138 1513.25 47.825 Q1518.4 43.9361 1528.56 43.9361 L1539.02 43.9361 L1539.02 43.2069 Q1539.02 38.0623 1535.61 35.2672 Q1532.25 32.4315 1526.13 32.4315 Q1522.24 32.4315 1518.56 33.3632 Q1514.87 34.295 1511.47 36.1584 L1511.47 29.2718 Q1515.56 27.692 1519.41 26.9223 Q1523.26 26.1121 1526.9 26.1121 Q1536.75 26.1121 1541.61 31.2163 Q1546.47 36.3204 1546.47 46.6907 Z\" fill=\"#000000\" fill-rule=\"evenodd\" fill-opacity=\"1\" /><path clip-path=\"url(#clip750)\" d=\"M 0 0 M1548.94 27.2059 L1556.84 27.2059 L1571.02 65.2844 L1585.2 27.2059 L1593.09 27.2059 L1576.08 72.576 L1565.95 72.576 L1548.94 27.2059 Z\" fill=\"#000000\" fill-rule=\"evenodd\" fill-opacity=\"1\" /><path clip-path=\"url(#clip750)\" d=\"M 0 0 M1600.91 27.2059 L1608.37 27.2059 L1608.37 72.576 L1600.91 72.576 L1600.91 27.2059 M1600.91 9.54393 L1608.37 9.54393 L1608.37 18.9825 L1600.91 18.9825 L1600.91 9.54393 Z\" fill=\"#000000\" fill-rule=\"evenodd\" fill-opacity=\"1\" /><path clip-path=\"url(#clip750)\" d=\"M 0 0 M1633.77 32.4315 Q1627.77 32.4315 1624.29 37.1306 Q1620.8 41.7891 1620.8 49.9314 Q1620.8 58.0738 1624.25 62.7728 Q1627.73 67.4314 1633.77 67.4314 Q1639.72 67.4314 1643.2 62.7323 Q1646.69 58.0333 1646.69 49.9314 Q1646.69 41.8701 1643.2 37.1711 Q1639.72 32.4315 1633.77 32.4315 M1633.77 26.1121 Q1643.49 26.1121 1649.04 32.4315 Q1654.59 38.7509 1654.59 49.9314 Q1654.59 61.0714 1649.04 67.4314 Q1643.49 73.7508 1633.77 73.7508 Q1624 73.7508 1618.45 67.4314 Q1612.94 61.0714 1612.94 49.9314 Q1612.94 38.7509 1618.45 32.4315 Q1624 26.1121 1633.77 26.1121 Z\" fill=\"#000000\" fill-rule=\"evenodd\" fill-opacity=\"1\" /><path clip-path=\"url(#clip750)\" d=\"M 0 0 M1688.7 34.1734 Q1687.44 33.4443 1685.94 33.1202 Q1684.48 32.7556 1682.7 32.7556 Q1676.38 32.7556 1672.98 36.8875 Q1669.62 40.9789 1669.62 48.6757 L1669.62 72.576 L1662.12 72.576 L1662.12 27.2059 L1669.62 27.2059 L1669.62 34.2544 Q1671.97 30.1225 1675.73 28.1376 Q1679.5 26.1121 1684.89 26.1121 Q1685.66 26.1121 1686.59 26.2337 Q1687.52 26.3147 1688.66 26.5172 L1688.7 34.1734 Z\" fill=\"#000000\" fill-rule=\"evenodd\" fill-opacity=\"1\" /><path clip-path=\"url(#clip750)\" d=\"M 0 0 M980.158 1527.24 Q982.354 1523.29 985.41 1521.41 Q988.465 1519.54 992.603 1519.54 Q998.173 1519.54 1001.2 1523.45 Q1004.22 1527.33 1004.22 1534.53 L1004.22 1556.04 L998.332 1556.04 L998.332 1534.72 Q998.332 1529.59 996.518 1527.11 Q994.704 1524.63 990.98 1524.63 Q986.428 1524.63 983.787 1527.65 Q981.145 1530.68 981.145 1535.9 L981.145 1556.04 L975.257 1556.04 L975.257 1534.72 Q975.257 1529.56 973.442 1527.11 Q971.628 1524.63 967.841 1524.63 Q963.353 1524.63 960.711 1527.68 Q958.069 1530.71 958.069 1535.9 L958.069 1556.04 L952.181 1556.04 L952.181 1520.4 L958.069 1520.4 L958.069 1525.93 Q960.074 1522.66 962.875 1521.1 Q965.676 1519.54 969.527 1519.54 Q973.411 1519.54 976.116 1521.51 Q978.853 1523.48 980.158 1527.24 Z\" fill=\"#000000\" fill-rule=\"evenodd\" fill-opacity=\"1\" /><path clip-path=\"url(#clip750)\" d=\"M 0 0 M1024.18 1524.5 Q1019.47 1524.5 1016.73 1528.19 Q1013.99 1531.85 1013.99 1538.25 Q1013.99 1544.65 1016.7 1548.34 Q1019.43 1552 1024.18 1552 Q1028.86 1552 1031.59 1548.31 Q1034.33 1544.62 1034.33 1538.25 Q1034.33 1531.92 1031.59 1528.23 Q1028.86 1524.5 1024.18 1524.5 M1024.18 1519.54 Q1031.82 1519.54 1036.18 1524.5 Q1040.54 1529.47 1040.54 1538.25 Q1040.54 1547 1036.18 1552 Q1031.82 1556.97 1024.18 1556.97 Q1016.51 1556.97 1012.15 1552 Q1007.82 1547 1007.82 1538.25 Q1007.82 1529.47 1012.15 1524.5 Q1016.51 1519.54 1024.18 1519.54 Z\" fill=\"#000000\" fill-rule=\"evenodd\" fill-opacity=\"1\" /><path clip-path=\"url(#clip750)\" d=\"M 0 0 M1070.14 1525.81 L1070.14 1506.52 L1075.99 1506.52 L1075.99 1556.04 L1070.14 1556.04 L1070.14 1550.7 Q1068.29 1553.88 1065.46 1555.44 Q1062.66 1556.97 1058.71 1556.97 Q1052.25 1556.97 1048.18 1551.81 Q1044.13 1546.65 1044.13 1538.25 Q1044.13 1529.85 1048.18 1524.69 Q1052.25 1519.54 1058.71 1519.54 Q1062.66 1519.54 1065.46 1521.1 Q1068.29 1522.62 1070.14 1525.81 M1050.18 1538.25 Q1050.18 1544.71 1052.82 1548.4 Q1055.5 1552.07 1060.14 1552.07 Q1064.79 1552.07 1067.46 1548.4 Q1070.14 1544.71 1070.14 1538.25 Q1070.14 1531.79 1067.46 1528.13 Q1064.79 1524.44 1060.14 1524.44 Q1055.5 1524.44 1052.82 1528.13 Q1050.18 1531.79 1050.18 1538.25 Z\" fill=\"#000000\" fill-rule=\"evenodd\" fill-opacity=\"1\" /><path clip-path=\"url(#clip750)\" d=\"M 0 0 M1112.63 1536.76 L1112.63 1539.62 L1085.7 1539.62 Q1086.08 1545.67 1089.33 1548.85 Q1092.61 1552 1098.43 1552 Q1101.81 1552 1104.96 1551.17 Q1108.14 1550.35 1111.26 1548.69 L1111.26 1554.23 Q1108.11 1555.57 1104.8 1556.27 Q1101.49 1556.97 1098.08 1556.97 Q1089.55 1556.97 1084.56 1552 Q1079.59 1547.04 1079.59 1538.57 Q1079.59 1529.82 1084.3 1524.69 Q1089.04 1519.54 1097.06 1519.54 Q1104.26 1519.54 1108.43 1524.18 Q1112.63 1528.8 1112.63 1536.76 M1106.77 1535.04 Q1106.71 1530.23 1104.07 1527.37 Q1101.46 1524.5 1097.13 1524.5 Q1092.23 1524.5 1089.27 1527.27 Q1086.34 1530.04 1085.89 1535.07 L1106.77 1535.04 Z\" fill=\"#000000\" fill-rule=\"evenodd\" fill-opacity=\"1\" /><path clip-path=\"url(#clip750)\" d=\"M 0 0 M1118.77 1506.52 L1124.63 1506.52 L1124.63 1556.04 L1118.77 1556.04 L1118.77 1506.52 Z\" fill=\"#000000\" fill-rule=\"evenodd\" fill-opacity=\"1\" /><path clip-path=\"url(#clip750)\" d=\"M 0 0 M1165.3 1524.5 Q1160.59 1524.5 1157.86 1528.19 Q1155.12 1531.85 1155.12 1538.25 Q1155.12 1544.65 1157.83 1548.34 Q1160.56 1552 1165.3 1552 Q1169.98 1552 1172.72 1548.31 Q1175.46 1544.62 1175.46 1538.25 Q1175.46 1531.92 1172.72 1528.23 Q1169.98 1524.5 1165.3 1524.5 M1165.3 1519.54 Q1172.94 1519.54 1177.3 1524.5 Q1181.66 1529.47 1181.66 1538.25 Q1181.66 1547 1177.3 1552 Q1172.94 1556.97 1165.3 1556.97 Q1157.63 1556.97 1153.27 1552 Q1148.94 1547 1148.94 1538.25 Q1148.94 1529.47 1153.27 1524.5 Q1157.63 1519.54 1165.3 1519.54 Z\" fill=\"#000000\" fill-rule=\"evenodd\" fill-opacity=\"1\" /><path clip-path=\"url(#clip750)\" d=\"M 0 0 M1187.2 1541.98 L1187.2 1520.4 L1193.06 1520.4 L1193.06 1541.75 Q1193.06 1546.81 1195.03 1549.36 Q1197.01 1551.87 1200.95 1551.87 Q1205.7 1551.87 1208.43 1548.85 Q1211.2 1545.83 1211.2 1540.61 L1211.2 1520.4 L1217.06 1520.4 L1217.06 1556.04 L1211.2 1556.04 L1211.2 1550.57 Q1209.07 1553.82 1206.24 1555.41 Q1203.44 1556.97 1199.71 1556.97 Q1193.57 1556.97 1190.39 1553.15 Q1187.2 1549.33 1187.2 1541.98 M1201.94 1519.54 L1201.94 1519.54 Z\" fill=\"#000000\" fill-rule=\"evenodd\" fill-opacity=\"1\" /><path clip-path=\"url(#clip750)\" d=\"M 0 0 M1228.99 1510.27 L1228.99 1520.4 L1241.06 1520.4 L1241.06 1524.95 L1228.99 1524.95 L1228.99 1544.3 Q1228.99 1548.66 1230.17 1549.9 Q1231.38 1551.14 1235.04 1551.14 L1241.06 1551.14 L1241.06 1556.04 L1235.04 1556.04 Q1228.26 1556.04 1225.68 1553.53 Q1223.11 1550.98 1223.11 1544.3 L1223.11 1524.95 L1218.81 1524.95 L1218.81 1520.4 L1223.11 1520.4 L1223.11 1510.27 L1228.99 1510.27 Z\" fill=\"#000000\" fill-rule=\"evenodd\" fill-opacity=\"1\" /><path clip-path=\"url(#clip750)\" d=\"M 0 0 M1252.87 1550.7 L1252.87 1569.6 L1246.98 1569.6 L1246.98 1520.4 L1252.87 1520.4 L1252.87 1525.81 Q1254.71 1522.62 1257.51 1521.1 Q1260.34 1519.54 1264.26 1519.54 Q1270.75 1519.54 1274.79 1524.69 Q1278.87 1529.85 1278.87 1538.25 Q1278.87 1546.65 1274.79 1551.81 Q1270.75 1556.97 1264.26 1556.97 Q1260.34 1556.97 1257.51 1555.44 Q1254.71 1553.88 1252.87 1550.7 M1272.79 1538.25 Q1272.79 1531.79 1270.12 1528.13 Q1267.47 1524.44 1262.83 1524.44 Q1258.18 1524.44 1255.51 1528.13 Q1252.87 1531.79 1252.87 1538.25 Q1252.87 1544.71 1255.51 1548.4 Q1258.18 1552.07 1262.83 1552.07 Q1267.47 1552.07 1270.12 1548.4 Q1272.79 1544.71 1272.79 1538.25 Z\" fill=\"#000000\" fill-rule=\"evenodd\" fill-opacity=\"1\" /><path clip-path=\"url(#clip750)\" d=\"M 0 0 M1284.41 1541.98 L1284.41 1520.4 L1290.26 1520.4 L1290.26 1541.75 Q1290.26 1546.81 1292.24 1549.36 Q1294.21 1551.87 1298.16 1551.87 Q1302.9 1551.87 1305.64 1548.85 Q1308.41 1545.83 1308.41 1540.61 L1308.41 1520.4 L1314.26 1520.4 L1314.26 1556.04 L1308.41 1556.04 L1308.41 1550.57 Q1306.27 1553.82 1303.44 1555.41 Q1300.64 1556.97 1296.92 1556.97 Q1290.77 1556.97 1287.59 1553.15 Q1284.41 1549.33 1284.41 1541.98 M1299.14 1519.54 L1299.14 1519.54 Z\" fill=\"#000000\" fill-rule=\"evenodd\" fill-opacity=\"1\" /><path clip-path=\"url(#clip750)\" d=\"M 0 0 M1326.2 1510.27 L1326.2 1520.4 L1338.26 1520.4 L1338.26 1524.95 L1326.2 1524.95 L1326.2 1544.3 Q1326.2 1548.66 1327.38 1549.9 Q1328.59 1551.14 1332.25 1551.14 L1338.26 1551.14 L1338.26 1556.04 L1332.25 1556.04 Q1325.47 1556.04 1322.89 1553.53 Q1320.31 1550.98 1320.31 1544.3 L1320.31 1524.95 L1316.01 1524.95 L1316.01 1520.4 L1320.31 1520.4 L1320.31 1510.27 L1326.2 1510.27 Z\" fill=\"#000000\" fill-rule=\"evenodd\" fill-opacity=\"1\" /><path clip-path=\"url(#clip750)\" d=\"M 0 0 M1345.9 1547.96 L1352.62 1547.96 L1352.62 1556.04 L1345.9 1556.04 L1345.9 1547.96 M1345.9 1522.34 L1352.62 1522.34 L1352.62 1530.42 L1345.9 1530.42 L1345.9 1522.34 Z\" fill=\"#000000\" fill-rule=\"evenodd\" fill-opacity=\"1\" /><path clip-path=\"url(#clip750)\" d=\"M 0 0 M1378.94 1506.52 L1392.43 1506.52 L1392.43 1511.07 L1384.79 1511.07 L1384.79 1560.09 L1392.43 1560.09 L1392.43 1564.64 L1378.94 1564.64 L1378.94 1506.52 Z\" fill=\"#000000\" fill-rule=\"evenodd\" fill-opacity=\"1\" /><path clip-path=\"url(#clip750)\" d=\"M 0 0 M1400.52 1550.63 L1411.02 1550.63 L1411.02 1514.38 L1399.59 1516.67 L1399.59 1510.82 L1410.96 1508.52 L1417.39 1508.52 L1417.39 1550.63 L1427.89 1550.63 L1427.89 1556.04 L1400.52 1556.04 L1400.52 1550.63 Z\" fill=\"#000000\" fill-rule=\"evenodd\" fill-opacity=\"1\" /><path clip-path=\"url(#clip750)\" d=\"M 0 0 M1431.07 1535.58 L1448.23 1535.58 L1448.23 1540.8 L1431.07 1540.8 L1431.07 1535.58 Z\" fill=\"#000000\" fill-rule=\"evenodd\" fill-opacity=\"1\" /><path clip-path=\"url(#clip750)\" d=\"M 0 0 M1484 1520.4 L1471.11 1537.74 L1484.67 1556.04 L1477.77 1556.04 L1467.39 1542.04 L1457.01 1556.04 L1450.11 1556.04 L1463.95 1537.39 L1451.28 1520.4 L1458.19 1520.4 L1467.64 1533.1 L1477.1 1520.4 L1484 1520.4 Z\" fill=\"#000000\" fill-rule=\"evenodd\" fill-opacity=\"1\" /><path clip-path=\"url(#clip750)\" d=\"M 0 0 M1492.31 1547.96 L1499.03 1547.96 L1499.03 1553.43 L1493.81 1563.62 L1489.7 1563.62 L1492.31 1553.43 L1492.31 1547.96 Z\" fill=\"#000000\" fill-rule=\"evenodd\" fill-opacity=\"1\" /><path clip-path=\"url(#clip750)\" d=\"M 0 0 M1555.52 1520.4 L1542.63 1537.74 L1556.19 1556.04 L1549.28 1556.04 L1538.91 1542.04 L1528.53 1556.04 L1521.63 1556.04 L1535.47 1537.39 L1522.8 1520.4 L1529.71 1520.4 L1539.16 1533.1 L1548.62 1520.4 L1555.52 1520.4 Z\" fill=\"#000000\" fill-rule=\"evenodd\" fill-opacity=\"1\" /><path clip-path=\"url(#clip750)\" d=\"M 0 0 M1576.02 1506.52 L1576.02 1564.64 L1562.52 1564.64 L1562.52 1560.09 L1570.13 1560.09 L1570.13 1511.07 L1562.52 1511.07 L1562.52 1506.52 L1576.02 1506.52 Z\" fill=\"#000000\" fill-rule=\"evenodd\" fill-opacity=\"1\" /><path clip-path=\"url(#clip750)\" d=\"M 0 0 M38.479 1022.24 L38.479 1016.38 L88.0042 1016.38 L88.0042 1022.24 L38.479 1022.24 Z\" fill=\"#000000\" fill-rule=\"evenodd\" fill-opacity=\"1\" /><path clip-path=\"url(#clip750)\" d=\"M 0 0 M56.4621 996.428 Q56.4621 1001.14 60.1542 1003.88 Q63.8145 1006.61 70.212 1006.61 Q76.6095 1006.61 80.3017 1003.91 Q83.9619 1001.17 83.9619 996.428 Q83.9619 991.749 80.2698 989.012 Q76.5777 986.275 70.212 986.275 Q63.8781 986.275 60.186 989.012 Q56.4621 991.749 56.4621 996.428 M51.4968 996.428 Q51.4968 988.789 56.4621 984.429 Q61.4273 980.068 70.212 980.068 Q78.9649 980.068 83.9619 984.429 Q88.9272 988.789 88.9272 996.428 Q88.9272 1004.1 83.9619 1008.46 Q78.9649 1012.79 70.212 1012.79 Q61.4273 1012.79 56.4621 1008.46 Q51.4968 1004.1 51.4968 996.428 Z\" fill=\"#000000\" fill-rule=\"evenodd\" fill-opacity=\"1\" /><path clip-path=\"url(#clip750)\" d=\"M 0 0 M53.4065 951.2 L58.9447 951.2 Q57.6716 953.682 57.035 956.356 Q56.3984 959.03 56.3984 961.894 Q56.3984 966.255 57.7352 968.451 Q59.072 970.615 61.7456 970.615 Q63.7826 970.615 64.9603 969.056 Q66.1061 967.496 67.1565 962.785 L67.6021 960.78 Q68.9389 954.542 71.3897 951.932 Q73.8086 949.29 78.1691 949.29 Q83.1344 949.29 86.0308 953.237 Q88.9272 957.152 88.9272 964.027 Q88.9272 966.891 88.3543 970.01 Q87.8132 973.098 86.6992 976.535 L80.6518 976.535 Q82.3387 973.289 83.198 970.138 Q84.0256 966.987 84.0256 963.899 Q84.0256 959.762 82.6251 957.534 Q81.1929 955.306 78.6147 955.306 Q76.2276 955.306 74.9545 956.929 Q73.6813 958.52 72.5037 963.963 L72.0262 966 Q70.8804 971.443 68.5251 973.862 Q66.138 976.281 62.0002 976.281 Q56.9713 976.281 54.2341 972.716 Q51.4968 969.151 51.4968 962.594 Q51.4968 959.348 51.9743 956.483 Q52.4517 953.619 53.4065 951.2 Z\" fill=\"#000000\" fill-rule=\"evenodd\" fill-opacity=\"1\" /><path clip-path=\"url(#clip750)\" d=\"M 0 0 M53.4065 920.422 L58.9447 920.422 Q57.6716 922.904 57.035 925.578 Q56.3984 928.251 56.3984 931.116 Q56.3984 935.476 57.7352 937.673 Q59.072 939.837 61.7456 939.837 Q63.7826 939.837 64.9603 938.277 Q66.1061 936.718 67.1565 932.007 L67.6021 930.002 Q68.9389 923.764 71.3897 921.154 Q73.8086 918.512 78.1691 918.512 Q83.1344 918.512 86.0308 922.459 Q88.9272 926.373 88.9272 933.248 Q88.9272 936.113 88.3543 939.232 Q87.8132 942.32 86.6992 945.757 L80.6518 945.757 Q82.3387 942.511 83.198 939.36 Q84.0256 936.209 84.0256 933.121 Q84.0256 928.983 82.6251 926.755 Q81.1929 924.527 78.6147 924.527 Q76.2276 924.527 74.9545 926.151 Q73.6813 927.742 72.5037 933.185 L72.0262 935.222 Q70.8804 940.664 68.5251 943.083 Q66.138 945.502 62.0002 945.502 Q56.9713 945.502 54.2341 941.938 Q51.4968 938.373 51.4968 931.816 Q51.4968 928.57 51.9743 925.705 Q52.4517 922.841 53.4065 920.422 Z\" fill=\"#000000\" fill-rule=\"evenodd\" fill-opacity=\"1\" /><path clip-path=\"url(#clip750)\" d=\"M 0 0 M70.0847 875.448 Q70.0847 882.546 71.7079 885.283 Q73.3312 888.02 77.2461 888.02 Q80.3653 888.02 82.2114 885.983 Q84.0256 883.914 84.0256 880.381 Q84.0256 875.511 80.5881 872.583 Q77.1188 869.623 71.3897 869.623 L70.0847 869.623 L70.0847 875.448 M67.6657 863.767 L88.0042 863.767 L88.0042 869.623 L82.5933 869.623 Q85.8398 871.628 87.3994 874.62 Q88.9272 877.612 88.9272 881.941 Q88.9272 887.415 85.8716 890.662 Q82.7843 893.877 77.6281 893.877 Q71.6125 893.877 68.5569 889.866 Q65.5014 885.824 65.5014 877.835 L65.5014 869.623 L64.9285 869.623 Q60.8862 869.623 58.6901 872.297 Q56.4621 874.939 56.4621 879.745 Q56.4621 882.8 57.1941 885.697 Q57.9262 888.593 59.3903 891.267 L53.9795 891.267 Q52.7381 888.052 52.1334 885.028 Q51.4968 882.005 51.4968 879.14 Q51.4968 871.406 55.5072 867.586 Q59.5176 863.767 67.6657 863.767 Z\" fill=\"#000000\" fill-rule=\"evenodd\" fill-opacity=\"1\" /><path clip-path=\"url(#clip750)\" d=\"M 0 0 M69.7664 834.166 Q63.4007 834.166 59.8996 836.808 Q56.3984 839.418 56.3984 844.16 Q56.3984 848.871 59.8996 851.513 Q63.4007 854.123 69.7664 854.123 Q76.1003 854.123 79.6014 851.513 Q83.1026 848.871 83.1026 844.16 Q83.1026 839.418 79.6014 836.808 Q76.1003 834.166 69.7664 834.166 M83.58 828.31 Q92.683 828.31 97.1071 832.352 Q101.563 836.394 101.563 844.733 Q101.563 847.821 101.086 850.558 Q100.64 853.295 99.6852 855.873 L93.9879 855.873 Q95.3884 853.295 96.0568 850.781 Q96.7252 848.266 96.7252 845.656 Q96.7252 839.895 93.7015 837.031 Q90.7096 834.166 84.6303 834.166 L81.7339 834.166 Q84.885 835.98 86.4446 838.813 Q88.0042 841.646 88.0042 845.593 Q88.0042 852.149 83.0071 856.16 Q78.01 860.17 69.7664 860.17 Q61.491 860.17 56.4939 856.16 Q51.4968 852.149 51.4968 845.593 Q51.4968 841.646 53.0564 838.813 Q54.616 835.98 57.7671 834.166 L52.3562 834.166 L52.3562 828.31 L83.58 828.31 Z\" fill=\"#000000\" fill-rule=\"evenodd\" fill-opacity=\"1\" /><path clip-path=\"url(#clip750)\" d=\"M 0 0 M70.0847 805.966 Q70.0847 813.064 71.7079 815.801 Q73.3312 818.538 77.2461 818.538 Q80.3653 818.538 82.2114 816.501 Q84.0256 814.433 84.0256 810.9 Q84.0256 806.03 80.5881 803.102 Q77.1188 800.142 71.3897 800.142 L70.0847 800.142 L70.0847 805.966 M67.6657 794.285 L88.0042 794.285 L88.0042 800.142 L82.5933 800.142 Q85.8398 802.147 87.3994 805.139 Q88.9272 808.13 88.9272 812.459 Q88.9272 817.934 85.8716 821.18 Q82.7843 824.395 77.6281 824.395 Q71.6125 824.395 68.5569 820.384 Q65.5014 816.342 65.5014 808.353 L65.5014 800.142 L64.9285 800.142 Q60.8862 800.142 58.6901 802.815 Q56.4621 805.457 56.4621 810.263 Q56.4621 813.319 57.1941 816.215 Q57.9262 819.111 59.3903 821.785 L53.9795 821.785 Q52.7381 818.57 52.1334 815.547 Q51.4968 812.523 51.4968 809.658 Q51.4968 801.924 55.5072 798.104 Q59.5176 794.285 67.6657 794.285 Z\" fill=\"#000000\" fill-rule=\"evenodd\" fill-opacity=\"1\" /><path clip-path=\"url(#clip750)\" d=\"M 0 0 M52.3562 788.142 L52.3562 782.286 L88.0042 782.286 L88.0042 788.142 L52.3562 788.142 M38.479 788.142 L38.479 782.286 L45.895 782.286 L45.895 788.142 L38.479 788.142 Z\" fill=\"#000000\" fill-rule=\"evenodd\" fill-opacity=\"1\" /><path clip-path=\"url(#clip750)\" d=\"M 0 0 M66.4881 746.51 L88.0042 746.51 L88.0042 752.367 L66.679 752.367 Q61.6183 752.367 59.1038 754.34 Q56.5894 756.314 56.5894 760.26 Q56.5894 765.003 59.6131 767.74 Q62.6368 770.477 67.8567 770.477 L88.0042 770.477 L88.0042 776.366 L52.3562 776.366 L52.3562 770.477 L57.8944 770.477 Q54.6797 768.377 53.0883 765.544 Q51.4968 762.679 51.4968 758.955 Q51.4968 752.812 55.3163 749.661 Q59.1038 746.51 66.4881 746.51 Z\" fill=\"#000000\" fill-rule=\"evenodd\" fill-opacity=\"1\" /><path clip-path=\"url(#clip750)\" d=\"M 0 0 M53.4065 717.642 L58.9447 717.642 Q57.6716 720.125 57.035 722.798 Q56.3984 725.472 56.3984 728.336 Q56.3984 732.697 57.7352 734.893 Q59.072 737.057 61.7456 737.057 Q63.7826 737.057 64.9603 735.498 Q66.1061 733.938 67.1565 729.228 L67.6021 727.222 Q68.9389 720.984 71.3897 718.374 Q73.8086 715.732 78.1691 715.732 Q83.1344 715.732 86.0308 719.679 Q88.9272 723.594 88.9272 730.469 Q88.9272 733.333 88.3543 736.453 Q87.8132 739.54 86.6992 742.977 L80.6518 742.977 Q82.3387 739.731 83.198 736.58 Q84.0256 733.429 84.0256 730.342 Q84.0256 726.204 82.6251 723.976 Q81.1929 721.748 78.6147 721.748 Q76.2276 721.748 74.9545 723.371 Q73.6813 724.963 72.5037 730.405 L72.0262 732.442 Q70.8804 737.885 68.5251 740.304 Q66.138 742.723 62.0002 742.723 Q56.9713 742.723 54.2341 739.158 Q51.4968 735.593 51.4968 729.037 Q51.4968 725.79 51.9743 722.926 Q52.4517 720.061 53.4065 717.642 Z\" fill=\"#000000\" fill-rule=\"evenodd\" fill-opacity=\"1\" /><path clip-path=\"url(#clip750)\" d=\"M 0 0 M42.2347 703.797 L52.3562 703.797 L52.3562 691.734 L56.9077 691.734 L56.9077 703.797 L76.2594 703.797 Q80.6199 703.797 81.8613 702.619 Q83.1026 701.409 83.1026 697.749 L83.1026 691.734 L88.0042 691.734 L88.0042 697.749 Q88.0042 704.529 85.4897 707.107 Q82.9434 709.685 76.2594 709.685 L56.9077 709.685 L56.9077 713.982 L52.3562 713.982 L52.3562 709.685 L42.2347 709.685 L42.2347 703.797 Z\" fill=\"#000000\" fill-rule=\"evenodd\" fill-opacity=\"1\" /><path clip-path=\"url(#clip750)\" d=\"M 0 0 M38.479 665.411 L38.479 651.916 L43.0304 651.916 L43.0304 659.555 L92.0464 659.555 L92.0464 651.916 L96.5979 651.916 L96.5979 665.411 L38.479 665.411 Z\" fill=\"#000000\" fill-rule=\"evenodd\" fill-opacity=\"1\" /><path clip-path=\"url(#clip750)\" d=\"M 0 0 M82.5933 643.832 L82.5933 633.328 L46.3406 633.328 L48.6323 644.755 L42.7758 644.755 L40.4842 633.392 L40.4842 626.962 L82.5933 626.962 L82.5933 616.459 L88.0042 616.459 L88.0042 643.832 L82.5933 643.832 Z\" fill=\"#000000\" fill-rule=\"evenodd\" fill-opacity=\"1\" /><path clip-path=\"url(#clip750)\" d=\"M 0 0 M79.9197 608.82 L79.9197 602.104 L85.3942 602.104 L95.5793 607.324 L95.5793 611.43 L85.3942 608.82 L79.9197 608.82 Z\" fill=\"#000000\" fill-rule=\"evenodd\" fill-opacity=\"1\" /><path clip-path=\"url(#clip750)\" d=\"M 0 0 M44.7174 560.664 Q44.7174 565.629 49.6189 568.143 Q54.4887 570.626 64.2919 570.626 Q74.0633 570.626 78.9649 568.143 Q83.8346 565.629 83.8346 560.664 Q83.8346 555.667 78.9649 553.184 Q74.0633 550.669 64.2919 550.669 Q54.4887 550.669 49.6189 553.184 Q44.7174 555.667 44.7174 560.664 M39.6248 560.664 Q39.6248 552.675 45.9587 548.473 Q52.2607 544.24 64.2919 544.24 Q76.2913 544.24 82.6251 548.473 Q88.9272 552.675 88.9272 560.664 Q88.9272 568.653 82.6251 572.886 Q76.2913 577.087 64.2919 577.087 Q52.2607 577.087 45.9587 572.886 Q39.6248 568.653 39.6248 560.664 Z\" fill=\"#000000\" fill-rule=\"evenodd\" fill-opacity=\"1\" /><path clip-path=\"url(#clip750)\" d=\"M 0 0 M38.479 524.411 L96.5979 524.411 L96.5979 537.906 L92.0464 537.906 L92.0464 530.299 L43.0304 530.299 L43.0304 537.906 L38.479 537.906 L38.479 524.411 Z\" fill=\"#000000\" fill-rule=\"evenodd\" fill-opacity=\"1\" /><circle clip-path=\"url(#clip752)\" cx=\"1264.1\" cy=\"1386.4\" r=\"14\" fill=\"#009af9\" fill-rule=\"evenodd\" fill-opacity=\"1\" stroke=\"#000000\" stroke-opacity=\"1\" stroke-width=\"3.2\"/>\n",
       "<polyline clip-path=\"url(#clip752)\" style=\"stroke:#e26f46; stroke-width:4; stroke-opacity:1; fill:none\" points=\"\n",
       "  237.067,1199.33 247.097,1202.97 257.127,1206.57 349.867,1238.17 442.607,1266.71 498.34,1282.4 554.073,1296.99 601.195,1308.46 648.316,1319.15 699.503,1329.86 \n",
       "  750.691,1339.65 797.881,1347.85 845.071,1355.26 895.663,1362.32 946.256,1368.48 1004.87,1374.48 1063.49,1379.26 1115.58,1382.48 1167.67,1384.75 1213.35,1385.94 \n",
       "  1259.03,1386.39 1308.83,1386.04 1358.64,1384.81 1408.74,1382.69 1458.84,1379.67 1514.23,1375.3 1569.62,1369.84 1622.32,1363.64 1675.02,1356.45 1729.82,1347.93 \n",
       "  1784.62,1338.35 1830.75,1329.45 1876.88,1319.8 1933.2,1307 1989.52,1293.07 2042.46,1278.95 2095.4,1263.84 2180.21,1237.56 2265.03,1208.72 2278.08,1204.06 \n",
       "  2291.13,1199.33 \n",
       "  \"/>\n",
       "<polyline clip-path=\"url(#clip752)\" style=\"stroke:#3da44d; stroke-width:4; stroke-opacity:1; fill:none\" points=\"\n",
       "  1270.79,1385.09 1332.61,1372.37 1369.77,1364.1 1401.18,1356.68 1435.31,1348.12 1466.77,1339.71 1500.5,1330.06 1539.57,1317.93 1574.3,1306.13 1604.76,1294.85 \n",
       "  1637.96,1281.35 1671.36,1266.22 1708.28,1247.22 1743.42,1226.22 1779.95,1200.16 1810.7,1173.41 1829.48,1153.97 1848.25,1131.2 1857.07,1118.98 1865.9,1105.53 \n",
       "  1874.72,1090.56 1883.54,1073.68 1890.61,1058.43 1897.68,1041.2 1904.75,1021.4 1911.82,998.132 1918.88,969.91 1925.95,934.042 1929.49,911.679 1933.02,884.781 \n",
       "  1936.55,851.029 1940.09,805.69 1941.18,787.928 1942.26,767.422 1943.35,743.169 1944.44,713.485 1944.98,695.723 1945.53,675.217 1946.07,650.964 1946.61,621.281 \n",
       "  1946.89,603.518 1947.16,583.012 1947.43,558.759 1947.7,529.076 1947.84,511.313 1947.97,490.807 1948.11,466.554 1948.25,436.871 1948.31,419.108 1948.38,398.602 \n",
       "  1948.45,374.349 1948.52,344.666 1948.59,306.398 1948.65,252.461 1948.72,160.256 \n",
       "  \"/>\n",
       "<path clip-path=\"url(#clip750)\" d=\"\n",
       "M1718.37 448.912 L2280.76 448.912 L2280.76 206.992 L1718.37 206.992  Z\n",
       "  \" fill=\"#ffffff\" fill-rule=\"evenodd\" fill-opacity=\"1\"/>\n",
       "<polyline clip-path=\"url(#clip750)\" style=\"stroke:#000000; stroke-width:4; stroke-opacity:1; fill:none\" points=\"\n",
       "  1718.37,448.912 2280.76,448.912 2280.76,206.992 1718.37,206.992 1718.37,448.912 \n",
       "  \"/>\n",
       "<circle clip-path=\"url(#clip750)\" cx=\"1826.37\" cy=\"267.472\" r=\"23\" fill=\"#009af9\" fill-rule=\"evenodd\" fill-opacity=\"1\" stroke=\"#000000\" stroke-opacity=\"1\" stroke-width=\"5.12\"/>\n",
       "<path clip-path=\"url(#clip750)\" d=\"M 0 0 M1930.88 259.822 L1930.88 263.803 Q1929.08 262.808 1927.25 262.322 Q1925.44 261.812 1923.59 261.812 Q1919.45 261.812 1917.16 264.451 Q1914.86 267.067 1914.86 271.812 Q1914.86 276.558 1917.16 279.197 Q1919.45 281.812 1923.59 281.812 Q1925.44 281.812 1927.25 281.326 Q1929.08 280.817 1930.88 279.822 L1930.88 283.757 Q1929.1 284.59 1927.18 285.007 Q1925.28 285.423 1923.13 285.423 Q1917.27 285.423 1913.82 281.743 Q1910.37 278.062 1910.37 271.812 Q1910.37 265.47 1913.85 261.836 Q1917.34 258.201 1923.41 258.201 Q1925.37 258.201 1927.25 258.618 Q1929.12 259.012 1930.88 259.822 Z\" fill=\"#000000\" fill-rule=\"evenodd\" fill-opacity=\"1\" /><path clip-path=\"url(#clip750)\" d=\"M 0 0 M1945.4 261.812 Q1941.97 261.812 1939.98 264.498 Q1937.99 267.16 1937.99 271.812 Q1937.99 276.465 1939.96 279.15 Q1941.95 281.812 1945.4 281.812 Q1948.8 281.812 1950.79 279.127 Q1952.78 276.442 1952.78 271.812 Q1952.78 267.206 1950.79 264.521 Q1948.8 261.812 1945.4 261.812 M1945.4 258.201 Q1950.95 258.201 1954.12 261.812 Q1957.29 265.424 1957.29 271.812 Q1957.29 278.178 1954.12 281.812 Q1950.95 285.423 1945.4 285.423 Q1939.82 285.423 1936.65 281.812 Q1933.5 278.178 1933.5 271.812 Q1933.5 265.424 1936.65 261.812 Q1939.82 258.201 1945.4 258.201 Z\" fill=\"#000000\" fill-rule=\"evenodd\" fill-opacity=\"1\" /><path clip-path=\"url(#clip750)\" d=\"M 0 0 M1976.79 262.808 Q1976.07 262.391 1975.21 262.206 Q1974.38 261.998 1973.36 261.998 Q1969.75 261.998 1967.8 264.359 Q1965.88 266.697 1965.88 271.095 L1965.88 284.752 L1961.6 284.752 L1961.6 258.826 L1965.88 258.826 L1965.88 262.854 Q1967.22 260.493 1969.38 259.359 Q1971.53 258.201 1974.61 258.201 Q1975.05 258.201 1975.58 258.271 Q1976.11 258.317 1976.76 258.433 L1976.79 262.808 Z\" fill=\"#000000\" fill-rule=\"evenodd\" fill-opacity=\"1\" /><path clip-path=\"url(#clip750)\" d=\"M 0 0 M1995.44 262.808 Q1994.72 262.391 1993.87 262.206 Q1993.03 261.998 1992.02 261.998 Q1988.41 261.998 1986.46 264.359 Q1984.54 266.697 1984.54 271.095 L1984.54 284.752 L1980.26 284.752 L1980.26 258.826 L1984.54 258.826 L1984.54 262.854 Q1985.88 260.493 1988.03 259.359 Q1990.19 258.201 1993.27 258.201 Q1993.71 258.201 1994.24 258.271 Q1994.77 258.317 1995.42 258.433 L1995.44 262.808 Z\" fill=\"#000000\" fill-rule=\"evenodd\" fill-opacity=\"1\" /><path clip-path=\"url(#clip750)\" d=\"M 0 0 M2021.04 270.724 L2021.04 272.808 L2001.46 272.808 Q2001.74 277.206 2004.1 279.521 Q2006.48 281.812 2010.72 281.812 Q2013.17 281.812 2015.47 281.21 Q2017.78 280.609 2020.05 279.405 L2020.05 283.433 Q2017.76 284.405 2015.35 284.914 Q2012.94 285.423 2010.47 285.423 Q2004.26 285.423 2000.63 281.812 Q1997.02 278.201 1997.02 272.044 Q1997.02 265.678 2000.44 261.951 Q2003.89 258.201 2009.72 258.201 Q2014.96 258.201 2017.99 261.581 Q2021.04 264.937 2021.04 270.724 M2016.78 269.474 Q2016.74 265.979 2014.82 263.896 Q2012.92 261.812 2009.77 261.812 Q2006.21 261.812 2004.05 263.826 Q2001.92 265.84 2001.6 269.498 L2016.78 269.474 Z\" fill=\"#000000\" fill-rule=\"evenodd\" fill-opacity=\"1\" /><path clip-path=\"url(#clip750)\" d=\"M 0 0 M2044.17 259.822 L2044.17 263.803 Q2042.36 262.808 2040.53 262.322 Q2038.73 261.812 2036.88 261.812 Q2032.73 261.812 2030.44 264.451 Q2028.15 267.067 2028.15 271.812 Q2028.15 276.558 2030.44 279.197 Q2032.73 281.812 2036.88 281.812 Q2038.73 281.812 2040.53 281.326 Q2042.36 280.817 2044.17 279.822 L2044.17 283.757 Q2042.39 284.59 2040.47 285.007 Q2038.57 285.423 2036.41 285.423 Q2030.56 285.423 2027.11 281.743 Q2023.66 278.062 2023.66 271.812 Q2023.66 265.47 2027.13 261.836 Q2030.63 258.201 2036.69 258.201 Q2038.66 258.201 2040.53 258.618 Q2042.41 259.012 2044.17 259.822 Z\" fill=\"#000000\" fill-rule=\"evenodd\" fill-opacity=\"1\" /><path clip-path=\"url(#clip750)\" d=\"M 0 0 M2052.85 251.465 L2052.85 258.826 L2061.62 258.826 L2061.62 262.137 L2052.85 262.137 L2052.85 276.211 Q2052.85 279.382 2053.71 280.285 Q2054.59 281.187 2057.25 281.187 L2061.62 281.187 L2061.62 284.752 L2057.25 284.752 Q2052.32 284.752 2050.44 282.923 Q2048.57 281.072 2048.57 276.211 L2048.57 262.137 L2045.44 262.137 L2045.44 258.826 L2048.57 258.826 L2048.57 251.465 L2052.85 251.465 Z\" fill=\"#000000\" fill-rule=\"evenodd\" fill-opacity=\"1\" /><path clip-path=\"url(#clip750)\" d=\"M 0 0 M2092.94 271.72 Q2087.78 271.72 2085.79 272.9 Q2083.8 274.081 2083.8 276.928 Q2083.8 279.197 2085.28 280.539 Q2086.78 281.859 2089.35 281.859 Q2092.9 281.859 2095.03 279.359 Q2097.18 276.836 2097.18 272.669 L2097.18 271.72 L2092.94 271.72 M2101.44 269.961 L2101.44 284.752 L2097.18 284.752 L2097.18 280.817 Q2095.72 283.178 2093.54 284.312 Q2091.37 285.423 2088.22 285.423 Q2084.24 285.423 2081.88 283.201 Q2079.54 280.956 2079.54 277.206 Q2079.54 272.831 2082.46 270.609 Q2085.4 268.386 2091.21 268.386 L2097.18 268.386 L2097.18 267.97 Q2097.18 265.03 2095.23 263.433 Q2093.31 261.812 2089.82 261.812 Q2087.59 261.812 2085.49 262.345 Q2083.38 262.877 2081.44 263.942 L2081.44 260.007 Q2083.78 259.104 2085.97 258.664 Q2088.17 258.201 2090.26 258.201 Q2095.88 258.201 2098.66 261.118 Q2101.44 264.035 2101.44 269.961 Z\" fill=\"#000000\" fill-rule=\"evenodd\" fill-opacity=\"1\" /><path clip-path=\"url(#clip750)\" d=\"M 0 0 M2127.46 269.104 L2127.46 284.752 L2123.2 284.752 L2123.2 269.243 Q2123.2 265.562 2121.76 263.734 Q2120.33 261.905 2117.46 261.905 Q2114.01 261.905 2112.02 264.104 Q2110.03 266.303 2110.03 270.099 L2110.03 284.752 L2105.74 284.752 L2105.74 258.826 L2110.03 258.826 L2110.03 262.854 Q2111.55 260.516 2113.61 259.359 Q2115.7 258.201 2118.4 258.201 Q2122.87 258.201 2125.16 260.979 Q2127.46 263.734 2127.46 269.104 Z\" fill=\"#000000\" fill-rule=\"evenodd\" fill-opacity=\"1\" /><path clip-path=\"url(#clip750)\" d=\"M 0 0 M2148.45 259.59 L2148.45 263.618 Q2146.65 262.692 2144.7 262.229 Q2142.76 261.766 2140.67 261.766 Q2137.5 261.766 2135.9 262.738 Q2134.33 263.711 2134.33 265.655 Q2134.33 267.136 2135.46 267.993 Q2136.6 268.826 2140.02 269.59 L2141.48 269.914 Q2146.02 270.886 2147.92 272.669 Q2149.84 274.428 2149.84 277.599 Q2149.84 281.21 2146.97 283.317 Q2144.12 285.423 2139.12 285.423 Q2137.04 285.423 2134.77 285.007 Q2132.52 284.613 2130.02 283.803 L2130.02 279.405 Q2132.39 280.632 2134.68 281.257 Q2136.97 281.859 2139.21 281.859 Q2142.22 281.859 2143.84 280.84 Q2145.46 279.798 2145.46 277.923 Q2145.46 276.187 2144.28 275.261 Q2143.13 274.336 2139.17 273.479 L2137.69 273.132 Q2133.73 272.298 2131.97 270.586 Q2130.21 268.849 2130.21 265.84 Q2130.21 262.183 2132.8 260.192 Q2135.4 258.201 2140.16 258.201 Q2142.52 258.201 2144.61 258.549 Q2146.69 258.896 2148.45 259.59 Z\" fill=\"#000000\" fill-rule=\"evenodd\" fill-opacity=\"1\" /><path clip-path=\"url(#clip750)\" d=\"M 0 0 M2151.83 258.826 L2156.09 258.826 L2161.41 279.058 L2166.71 258.826 L2171.74 258.826 L2177.06 279.058 L2182.36 258.826 L2186.62 258.826 L2179.84 284.752 L2174.82 284.752 L2169.24 263.502 L2163.64 284.752 L2158.61 284.752 L2151.83 258.826 Z\" fill=\"#000000\" fill-rule=\"evenodd\" fill-opacity=\"1\" /><path clip-path=\"url(#clip750)\" d=\"M 0 0 M2213.27 270.724 L2213.27 272.808 L2193.68 272.808 Q2193.96 277.206 2196.32 279.521 Q2198.71 281.812 2202.94 281.812 Q2205.39 281.812 2207.69 281.21 Q2210 280.609 2212.27 279.405 L2212.27 283.433 Q2209.98 284.405 2207.57 284.914 Q2205.16 285.423 2202.69 285.423 Q2196.48 285.423 2192.85 281.812 Q2189.24 278.201 2189.24 272.044 Q2189.24 265.678 2192.66 261.951 Q2196.11 258.201 2201.95 258.201 Q2207.18 258.201 2210.21 261.581 Q2213.27 264.937 2213.27 270.724 M2209.01 269.474 Q2208.96 265.979 2207.04 263.896 Q2205.14 261.812 2201.99 261.812 Q2198.43 261.812 2196.27 263.826 Q2194.15 265.84 2193.82 269.498 L2209.01 269.474 Z\" fill=\"#000000\" fill-rule=\"evenodd\" fill-opacity=\"1\" /><path clip-path=\"url(#clip750)\" d=\"M 0 0 M2232.76 262.808 Q2232.04 262.391 2231.18 262.206 Q2230.35 261.998 2229.33 261.998 Q2225.72 261.998 2223.77 264.359 Q2221.85 266.697 2221.85 271.095 L2221.85 284.752 L2217.57 284.752 L2217.57 258.826 L2221.85 258.826 L2221.85 262.854 Q2223.2 260.493 2225.35 259.359 Q2227.5 258.201 2230.58 258.201 Q2231.02 258.201 2231.55 258.271 Q2232.08 258.317 2232.73 258.433 L2232.76 262.808 Z\" fill=\"#000000\" fill-rule=\"evenodd\" fill-opacity=\"1\" /><polyline clip-path=\"url(#clip750)\" style=\"stroke:#e26f46; stroke-width:4; stroke-opacity:1; fill:none\" points=\"\n",
       "  1742.37,327.952 1886.37,327.952 \n",
       "  \"/>\n",
       "<path clip-path=\"url(#clip750)\" d=\"M 0 0 M1930.72 324.283 Q1932.32 321.413 1934.54 320.047 Q1936.76 318.681 1939.77 318.681 Q1943.82 318.681 1946.02 321.529 Q1948.22 324.353 1948.22 329.584 L1948.22 345.232 L1943.94 345.232 L1943.94 329.723 Q1943.94 325.996 1942.62 324.191 Q1941.3 322.385 1938.59 322.385 Q1935.28 322.385 1933.36 324.584 Q1931.44 326.783 1931.44 330.579 L1931.44 345.232 L1927.16 345.232 L1927.16 329.723 Q1927.16 325.973 1925.84 324.191 Q1924.52 322.385 1921.76 322.385 Q1918.5 322.385 1916.58 324.607 Q1914.66 326.806 1914.66 330.579 L1914.66 345.232 L1910.37 345.232 L1910.37 319.306 L1914.66 319.306 L1914.66 323.334 Q1916.11 320.95 1918.15 319.816 Q1920.19 318.681 1922.99 318.681 Q1925.81 318.681 1927.78 320.117 Q1929.77 321.552 1930.72 324.283 Z\" fill=\"#000000\" fill-rule=\"evenodd\" fill-opacity=\"1\" /><path clip-path=\"url(#clip750)\" d=\"M 0 0 M1969.22 320.07 L1969.22 324.098 Q1967.41 323.172 1965.47 322.709 Q1963.52 322.246 1961.44 322.246 Q1958.27 322.246 1956.67 323.218 Q1955.1 324.191 1955.1 326.135 Q1955.1 327.616 1956.23 328.473 Q1957.36 329.306 1960.79 330.07 L1962.25 330.394 Q1966.79 331.366 1968.68 333.149 Q1970.6 334.908 1970.6 338.079 Q1970.6 341.69 1967.73 343.797 Q1964.89 345.903 1959.89 345.903 Q1957.8 345.903 1955.54 345.487 Q1953.29 345.093 1950.79 344.283 L1950.79 339.885 Q1953.15 341.112 1955.44 341.737 Q1957.73 342.339 1959.98 342.339 Q1962.99 342.339 1964.61 341.32 Q1966.23 340.278 1966.23 338.403 Q1966.23 336.667 1965.05 335.741 Q1963.89 334.816 1959.93 333.959 L1958.45 333.612 Q1954.49 332.778 1952.73 331.066 Q1950.98 329.329 1950.98 326.32 Q1950.98 322.663 1953.57 320.672 Q1956.16 318.681 1960.93 318.681 Q1963.29 318.681 1965.37 319.029 Q1967.46 319.376 1969.22 320.07 Z\" fill=\"#000000\" fill-rule=\"evenodd\" fill-opacity=\"1\" /><path clip-path=\"url(#clip750)\" d=\"M 0 0 M1997.25 331.204 L1997.25 333.288 L1977.66 333.288 Q1977.94 337.686 1980.3 340.001 Q1982.69 342.292 1986.92 342.292 Q1989.38 342.292 1991.67 341.69 Q1993.98 341.089 1996.25 339.885 L1996.25 343.913 Q1993.96 344.885 1991.55 345.394 Q1989.15 345.903 1986.67 345.903 Q1980.47 345.903 1976.83 342.292 Q1973.22 338.681 1973.22 332.524 Q1973.22 326.158 1976.65 322.431 Q1980.1 318.681 1985.93 318.681 Q1991.16 318.681 1994.19 322.061 Q1997.25 325.417 1997.25 331.204 M1992.99 329.954 Q1992.94 326.459 1991.02 324.376 Q1989.12 322.292 1985.97 322.292 Q1982.41 322.292 1980.26 324.306 Q1978.13 326.32 1977.8 329.978 L1992.99 329.954 Z\" fill=\"#000000\" fill-rule=\"evenodd\" fill-opacity=\"1\" /><polyline clip-path=\"url(#clip750)\" style=\"stroke:#3da44d; stroke-width:4; stroke-opacity:1; fill:none\" points=\"\n",
       "  1742.37,388.432 1886.37,388.432 \n",
       "  \"/>\n",
       "<path clip-path=\"url(#clip750)\" d=\"M 0 0 M1930.88 380.782 L1930.88 384.763 Q1929.08 383.768 1927.25 383.282 Q1925.44 382.772 1923.59 382.772 Q1919.45 382.772 1917.16 385.411 Q1914.86 388.027 1914.86 392.772 Q1914.86 397.518 1917.16 400.157 Q1919.45 402.772 1923.59 402.772 Q1925.44 402.772 1927.25 402.286 Q1929.08 401.777 1930.88 400.782 L1930.88 404.717 Q1929.1 405.55 1927.18 405.967 Q1925.28 406.383 1923.13 406.383 Q1917.27 406.383 1913.82 402.703 Q1910.37 399.022 1910.37 392.772 Q1910.37 386.43 1913.85 382.796 Q1917.34 379.161 1923.41 379.161 Q1925.37 379.161 1927.25 379.578 Q1929.12 379.972 1930.88 380.782 Z\" fill=\"#000000\" fill-rule=\"evenodd\" fill-opacity=\"1\" /><path clip-path=\"url(#clip750)\" d=\"M 0 0 M1950.37 383.768 Q1949.66 383.351 1948.8 383.166 Q1947.97 382.958 1946.95 382.958 Q1943.34 382.958 1941.39 385.319 Q1939.47 387.657 1939.47 392.055 L1939.47 405.712 L1935.19 405.712 L1935.19 379.786 L1939.47 379.786 L1939.47 383.814 Q1940.81 381.453 1942.97 380.319 Q1945.12 379.161 1948.2 379.161 Q1948.64 379.161 1949.17 379.231 Q1949.7 379.277 1950.35 379.393 L1950.37 383.768 Z\" fill=\"#000000\" fill-rule=\"evenodd\" fill-opacity=\"1\" /><path clip-path=\"url(#clip750)\" d=\"M 0 0 M1963.85 382.772 Q1960.42 382.772 1958.43 385.458 Q1956.44 388.12 1956.44 392.772 Q1956.44 397.425 1958.41 400.11 Q1960.4 402.772 1963.85 402.772 Q1967.25 402.772 1969.24 400.087 Q1971.23 397.402 1971.23 392.772 Q1971.23 388.166 1969.24 385.481 Q1967.25 382.772 1963.85 382.772 M1963.85 379.161 Q1969.4 379.161 1972.57 382.772 Q1975.74 386.384 1975.74 392.772 Q1975.74 399.138 1972.57 402.772 Q1969.4 406.383 1963.85 406.383 Q1958.27 406.383 1955.1 402.772 Q1951.95 399.138 1951.95 392.772 Q1951.95 386.384 1955.1 382.772 Q1958.27 379.161 1963.85 379.161 Z\" fill=\"#000000\" fill-rule=\"evenodd\" fill-opacity=\"1\" /><path clip-path=\"url(#clip750)\" d=\"M 0 0 M1996.74 380.55 L1996.74 384.578 Q1994.93 383.652 1992.99 383.189 Q1991.04 382.726 1988.96 382.726 Q1985.79 382.726 1984.19 383.698 Q1982.62 384.671 1982.62 386.615 Q1982.62 388.096 1983.75 388.953 Q1984.89 389.786 1988.31 390.55 L1989.77 390.874 Q1994.31 391.846 1996.21 393.629 Q1998.13 395.388 1998.13 398.559 Q1998.13 402.17 1995.26 404.277 Q1992.41 406.383 1987.41 406.383 Q1985.33 406.383 1983.06 405.967 Q1980.81 405.573 1978.31 404.763 L1978.31 400.365 Q1980.67 401.592 1982.97 402.217 Q1985.26 402.819 1987.5 402.819 Q1990.51 402.819 1992.13 401.8 Q1993.75 400.758 1993.75 398.883 Q1993.75 397.147 1992.57 396.221 Q1991.41 395.296 1987.46 394.439 L1985.97 394.092 Q1982.02 393.258 1980.26 391.546 Q1978.5 389.809 1978.5 386.8 Q1978.5 383.143 1981.09 381.152 Q1983.68 379.161 1988.45 379.161 Q1990.81 379.161 1992.9 379.509 Q1994.98 379.856 1996.74 380.55 Z\" fill=\"#000000\" fill-rule=\"evenodd\" fill-opacity=\"1\" /><path clip-path=\"url(#clip750)\" d=\"M 0 0 M2019.12 380.55 L2019.12 384.578 Q2017.32 383.652 2015.37 383.189 Q2013.43 382.726 2011.35 382.726 Q2008.17 382.726 2006.58 383.698 Q2005 384.671 2005 386.615 Q2005 388.096 2006.14 388.953 Q2007.27 389.786 2010.7 390.55 L2012.16 390.874 Q2016.69 391.846 2018.59 393.629 Q2020.51 395.388 2020.51 398.559 Q2020.51 402.17 2017.64 404.277 Q2014.79 406.383 2009.79 406.383 Q2007.71 406.383 2005.44 405.967 Q2003.2 405.573 2000.7 404.763 L2000.7 400.365 Q2003.06 401.592 2005.35 402.217 Q2007.64 402.819 2009.89 402.819 Q2012.9 402.819 2014.52 401.8 Q2016.14 400.758 2016.14 398.883 Q2016.14 397.147 2014.96 396.221 Q2013.8 395.296 2009.84 394.439 L2008.36 394.092 Q2004.4 393.258 2002.64 391.546 Q2000.88 389.809 2000.88 386.8 Q2000.88 383.143 2003.47 381.152 Q2006.07 379.161 2010.84 379.161 Q2013.2 379.161 2015.28 379.509 Q2017.36 379.856 2019.12 380.55 Z\" fill=\"#000000\" fill-rule=\"evenodd\" fill-opacity=\"1\" /><path clip-path=\"url(#clip750)\" d=\"M 0 0 M2062.22 391.684 L2062.22 393.768 L2042.64 393.768 Q2042.92 398.166 2045.28 400.481 Q2047.66 402.772 2051.9 402.772 Q2054.35 402.772 2056.65 402.17 Q2058.96 401.569 2061.23 400.365 L2061.23 404.393 Q2058.94 405.365 2056.53 405.874 Q2054.12 406.383 2051.65 406.383 Q2045.44 406.383 2041.81 402.772 Q2038.2 399.161 2038.2 393.004 Q2038.2 386.638 2041.62 382.911 Q2045.07 379.161 2050.91 379.161 Q2056.14 379.161 2059.17 382.541 Q2062.22 385.897 2062.22 391.684 M2057.97 390.434 Q2057.92 386.939 2056 384.856 Q2054.1 382.772 2050.95 382.772 Q2047.39 382.772 2045.23 384.786 Q2043.1 386.8 2042.78 390.458 L2057.97 390.434 Z\" fill=\"#000000\" fill-rule=\"evenodd\" fill-opacity=\"1\" /><path clip-path=\"url(#clip750)\" d=\"M 0 0 M2088.24 390.064 L2088.24 405.712 L2083.98 405.712 L2083.98 390.203 Q2083.98 386.522 2082.55 384.694 Q2081.11 382.865 2078.24 382.865 Q2074.79 382.865 2072.8 385.064 Q2070.81 387.263 2070.81 391.059 L2070.81 405.712 L2066.53 405.712 L2066.53 379.786 L2070.81 379.786 L2070.81 383.814 Q2072.34 381.476 2074.4 380.319 Q2076.48 379.161 2079.19 379.161 Q2083.66 379.161 2085.95 381.939 Q2088.24 384.694 2088.24 390.064 Z\" fill=\"#000000\" fill-rule=\"evenodd\" fill-opacity=\"1\" /><path clip-path=\"url(#clip750)\" d=\"M 0 0 M2096.92 372.425 L2096.92 379.786 L2105.7 379.786 L2105.7 383.097 L2096.92 383.097 L2096.92 397.171 Q2096.92 400.342 2097.78 401.245 Q2098.66 402.147 2101.32 402.147 L2105.7 402.147 L2105.7 405.712 L2101.32 405.712 Q2096.39 405.712 2094.52 403.883 Q2092.64 402.032 2092.64 397.171 L2092.64 383.097 L2089.52 383.097 L2089.52 379.786 L2092.64 379.786 L2092.64 372.425 L2096.92 372.425 Z\" fill=\"#000000\" fill-rule=\"evenodd\" fill-opacity=\"1\" /><path clip-path=\"url(#clip750)\" d=\"M 0 0 M2125.19 383.768 Q2124.47 383.351 2123.61 383.166 Q2122.78 382.958 2121.76 382.958 Q2118.15 382.958 2116.21 385.319 Q2114.28 387.657 2114.28 392.055 L2114.28 405.712 L2110 405.712 L2110 379.786 L2114.28 379.786 L2114.28 383.814 Q2115.63 381.453 2117.78 380.319 Q2119.93 379.161 2123.01 379.161 Q2123.45 379.161 2123.98 379.231 Q2124.52 379.277 2125.16 379.393 L2125.19 383.768 Z\" fill=\"#000000\" fill-rule=\"evenodd\" fill-opacity=\"1\" /><path clip-path=\"url(#clip750)\" d=\"M 0 0 M2138.66 382.772 Q2135.23 382.772 2133.24 385.458 Q2131.25 388.12 2131.25 392.772 Q2131.25 397.425 2133.22 400.11 Q2135.21 402.772 2138.66 402.772 Q2142.06 402.772 2144.05 400.087 Q2146.04 397.402 2146.04 392.772 Q2146.04 388.166 2144.05 385.481 Q2142.06 382.772 2138.66 382.772 M2138.66 379.161 Q2144.21 379.161 2147.39 382.772 Q2150.56 386.384 2150.56 392.772 Q2150.56 399.138 2147.39 402.772 Q2144.21 406.383 2138.66 406.383 Q2133.08 406.383 2129.91 402.772 Q2126.76 399.138 2126.76 392.772 Q2126.76 386.384 2129.91 382.772 Q2133.08 379.161 2138.66 379.161 Z\" fill=\"#000000\" fill-rule=\"evenodd\" fill-opacity=\"1\" /><path clip-path=\"url(#clip750)\" d=\"M 0 0 M2159.15 401.823 L2159.15 415.573 L2154.86 415.573 L2154.86 379.786 L2159.15 379.786 L2159.15 383.722 Q2160.49 381.407 2162.52 380.296 Q2164.58 379.161 2167.43 379.161 Q2172.15 379.161 2175.09 382.911 Q2178.06 386.661 2178.06 392.772 Q2178.06 398.883 2175.09 402.633 Q2172.15 406.383 2167.43 406.383 Q2164.58 406.383 2162.52 405.272 Q2160.49 404.138 2159.15 401.823 M2173.64 392.772 Q2173.64 388.073 2171.69 385.411 Q2169.77 382.726 2166.39 382.726 Q2163.01 382.726 2161.07 385.411 Q2159.15 388.073 2159.15 392.772 Q2159.15 397.471 2161.07 400.157 Q2163.01 402.819 2166.39 402.819 Q2169.77 402.819 2171.69 400.157 Q2173.64 397.471 2173.64 392.772 Z\" fill=\"#000000\" fill-rule=\"evenodd\" fill-opacity=\"1\" /><path clip-path=\"url(#clip750)\" d=\"M 0 0 M2193.31 408.12 Q2191.51 412.749 2189.79 414.161 Q2188.08 415.573 2185.21 415.573 L2181.81 415.573 L2181.81 412.008 L2184.31 412.008 Q2186.07 412.008 2187.04 411.175 Q2188.01 410.342 2189.19 407.24 L2189.96 405.295 L2179.47 379.786 L2183.98 379.786 L2192.08 400.064 L2200.19 379.786 L2204.7 379.786 L2193.31 408.12 Z\" fill=\"#000000\" fill-rule=\"evenodd\" fill-opacity=\"1\" /></svg>\n"
      ]
     },
     "execution_count": 68,
     "metadata": {},
     "output_type": "execute_result"
    }
   ],
   "source": [
    "scatter([0],[0], label=\"correct answer\", xlabel=\"model output: [1-x, x]\")\n",
    "plot!(x->Flux.mse([1-x, x/2], [1,0]), -1.5, 1.5, label=\"mse\")\n",
    "plot!(x->Flux.crossentropy([1-x, x/2], [1,0]), 0, 1, label=\"cross entropy\")\n",
    "xlabel!(\"model output: [1-x, x]\")\n",
    "ylabel!(\"loss against [1, 0]\")\n",
    "title!(\"Loss Function Behavior\")"
   ]
  },
  {
   "cell_type": "code",
   "execution_count": 69,
   "metadata": {},
   "outputs": [
    {
     "name": "stdout",
     "output_type": "stream",
     "text": [
      "0.00020000000000000025\n"
     ]
    },
    {
     "data": {
      "text/plain": [
       "0.6468666666666666"
      ]
     },
     "execution_count": 69,
     "metadata": {},
     "output_type": "execute_result"
    }
   ],
   "source": [
    "println(Flux.mse([0.98, 0.01, 0.01], [1.0,0,0]))\n",
    "Flux.mse([0.01,0.98,0.01], [1.0,0,0])"
   ]
  },
  {
   "cell_type": "code",
   "execution_count": 70,
   "metadata": {},
   "outputs": [
    {
     "name": "stdout",
     "output_type": "stream",
     "text": [
      "0.020202707317519466\n"
     ]
    },
    {
     "data": {
      "text/plain": [
       "4.605170185988091"
      ]
     },
     "execution_count": 70,
     "metadata": {},
     "output_type": "execute_result"
    }
   ],
   "source": [
    "println(Flux.crossentropy([0.98, 0.01, 0.01], [1.0,0,0]))\n",
    "Flux.crossentropy([0.01,0.98,0.01], [1.0,0,0])"
   ]
  },
  {
   "cell_type": "markdown",
   "metadata": {},
   "source": [
    "Softmax converts losses to probabilities"
   ]
  },
  {
   "cell_type": "code",
   "execution_count": 71,
   "metadata": {},
   "outputs": [
    {
     "data": {
      "text/plain": [
       "3-element Array{Float32,1}:\n",
       " 0.45701635\n",
       " 0.30202326\n",
       " 0.24096036"
      ]
     },
     "execution_count": 71,
     "metadata": {},
     "output_type": "execute_result"
    }
   ],
   "source": [
    "softmax(model(X[1]))"
   ]
  },
  {
   "cell_type": "code",
   "execution_count": 72,
   "metadata": {},
   "outputs": [
    {
     "data": {
      "text/plain": [
       "1.0f0"
      ]
     },
     "execution_count": 72,
     "metadata": {},
     "output_type": "execute_result"
    }
   ],
   "source": [
    "sum(softmax(model(X[1])))"
   ]
  },
  {
   "cell_type": "code",
   "execution_count": 73,
   "metadata": {},
   "outputs": [],
   "source": [
    "model = Chain(Dense(2, 4, σ), Dense(4, 3, identity), softmax)\n",
    "ps = params(model)\n",
    "L(x,y) = Flux.crossentropy(model(x), y)\n",
    "opt = ADAM()\n",
    "Flux.train!(L, ps, Iterators.repeated(databatch, 5000), opt)"
   ]
  },
  {
   "cell_type": "markdown",
   "metadata": {},
   "source": [
    "**Handwritten Recognition Example**"
   ]
  },
  {
   "cell_type": "code",
   "execution_count": 74,
   "metadata": {
    "scrolled": true
   },
   "outputs": [],
   "source": [
    "using Flux.Data.MNIST, Images, ImageMagick, ImageIO"
   ]
  },
  {
   "cell_type": "code",
   "execution_count": 75,
   "metadata": {},
   "outputs": [],
   "source": [
    "labels = MNIST.labels();\n",
    "images = MNIST.images();"
   ]
  },
  {
   "cell_type": "code",
   "execution_count": 76,
   "metadata": {},
   "outputs": [
    {
     "data": {
      "text/plain": [
       "60000"
      ]
     },
     "execution_count": 76,
     "metadata": {},
     "output_type": "execute_result"
    }
   ],
   "source": [
    "length(labels)"
   ]
  },
  {
   "cell_type": "code",
   "execution_count": 77,
   "metadata": {},
   "outputs": [
    {
     "data": {
      "image/png": "[encoded data removed]",
      "text/plain": [
       "28×28 Array{Gray{N0f8},2} with eltype Gray{Normed{UInt8,8}}:\n",
       " Gray{N0f8}(0.0)  Gray{N0f8}(0.0)  …  Gray{N0f8}(0.0)  Gray{N0f8}(0.0)\n",
       " Gray{N0f8}(0.0)  Gray{N0f8}(0.0)     Gray{N0f8}(0.0)  Gray{N0f8}(0.0)\n",
       " Gray{N0f8}(0.0)  Gray{N0f8}(0.0)     Gray{N0f8}(0.0)  Gray{N0f8}(0.0)\n",
       " Gray{N0f8}(0.0)  Gray{N0f8}(0.0)     Gray{N0f8}(0.0)  Gray{N0f8}(0.0)\n",
       " Gray{N0f8}(0.0)  Gray{N0f8}(0.0)     Gray{N0f8}(0.0)  Gray{N0f8}(0.0)\n",
       " Gray{N0f8}(0.0)  Gray{N0f8}(0.0)  …  Gray{N0f8}(0.0)  Gray{N0f8}(0.0)\n",
       " Gray{N0f8}(0.0)  Gray{N0f8}(0.0)     Gray{N0f8}(0.0)  Gray{N0f8}(0.0)\n",
       " Gray{N0f8}(0.0)  Gray{N0f8}(0.0)     Gray{N0f8}(0.0)  Gray{N0f8}(0.0)\n",
       " Gray{N0f8}(0.0)  Gray{N0f8}(0.0)     Gray{N0f8}(0.0)  Gray{N0f8}(0.0)\n",
       " Gray{N0f8}(0.0)  Gray{N0f8}(0.0)     Gray{N0f8}(0.0)  Gray{N0f8}(0.0)\n",
       " Gray{N0f8}(0.0)  Gray{N0f8}(0.0)  …  Gray{N0f8}(0.0)  Gray{N0f8}(0.0)\n",
       " Gray{N0f8}(0.0)  Gray{N0f8}(0.0)     Gray{N0f8}(0.0)  Gray{N0f8}(0.0)\n",
       " Gray{N0f8}(0.0)  Gray{N0f8}(0.0)     Gray{N0f8}(0.0)  Gray{N0f8}(0.0)\n",
       " ⋮                                 ⋱                   \n",
       " Gray{N0f8}(0.0)  Gray{N0f8}(0.0)     Gray{N0f8}(0.0)  Gray{N0f8}(0.0)\n",
       " Gray{N0f8}(0.0)  Gray{N0f8}(0.0)     Gray{N0f8}(0.0)  Gray{N0f8}(0.0)\n",
       " Gray{N0f8}(0.0)  Gray{N0f8}(0.0)     Gray{N0f8}(0.0)  Gray{N0f8}(0.0)\n",
       " Gray{N0f8}(0.0)  Gray{N0f8}(0.0)     Gray{N0f8}(0.0)  Gray{N0f8}(0.0)\n",
       " Gray{N0f8}(0.0)  Gray{N0f8}(0.0)  …  Gray{N0f8}(0.0)  Gray{N0f8}(0.0)\n",
       " Gray{N0f8}(0.0)  Gray{N0f8}(0.0)     Gray{N0f8}(0.0)  Gray{N0f8}(0.0)\n",
       " Gray{N0f8}(0.0)  Gray{N0f8}(0.0)     Gray{N0f8}(0.0)  Gray{N0f8}(0.0)\n",
       " Gray{N0f8}(0.0)  Gray{N0f8}(0.0)     Gray{N0f8}(0.0)  Gray{N0f8}(0.0)\n",
       " Gray{N0f8}(0.0)  Gray{N0f8}(0.0)     Gray{N0f8}(0.0)  Gray{N0f8}(0.0)\n",
       " Gray{N0f8}(0.0)  Gray{N0f8}(0.0)  …  Gray{N0f8}(0.0)  Gray{N0f8}(0.0)\n",
       " Gray{N0f8}(0.0)  Gray{N0f8}(0.0)     Gray{N0f8}(0.0)  Gray{N0f8}(0.0)\n",
       " Gray{N0f8}(0.0)  Gray{N0f8}(0.0)     Gray{N0f8}(0.0)  Gray{N0f8}(0.0)"
      ]
     },
     "execution_count": 77,
     "metadata": {},
     "output_type": "execute_result"
    }
   ],
   "source": [
    "images[1]"
   ]
  },
  {
   "cell_type": "code",
   "execution_count": 78,
   "metadata": {},
   "outputs": [
    {
     "data": {
      "text/plain": [
       "(28, 28)"
      ]
     },
     "execution_count": 78,
     "metadata": {},
     "output_type": "execute_result"
    }
   ],
   "source": [
    "size(images[1])"
   ]
  },
  {
   "cell_type": "code",
   "execution_count": 79,
   "metadata": {
    "scrolled": true
   },
   "outputs": [
    {
     "data": {
      "text/plain": [
       "28×28 Array{Float64,2}:\n",
       " 0.0  0.0  0.0  0.0  0.0       0.0       …  0.0       0.0  0.0  0.0  0.0\n",
       " 0.0  0.0  0.0  0.0  0.0       0.0          0.0       0.0  0.0  0.0  0.0\n",
       " 0.0  0.0  0.0  0.0  0.0       0.0          0.0       0.0  0.0  0.0  0.0\n",
       " 0.0  0.0  0.0  0.0  0.0       0.0          0.0       0.0  0.0  0.0  0.0\n",
       " 0.0  0.0  0.0  0.0  0.0       0.0          0.0       0.0  0.0  0.0  0.0\n",
       " 0.0  0.0  0.0  0.0  0.0       0.0       …  0.498039  0.0  0.0  0.0  0.0\n",
       " 0.0  0.0  0.0  0.0  0.0       0.0          0.25098   0.0  0.0  0.0  0.0\n",
       " 0.0  0.0  0.0  0.0  0.0       0.0          0.0       0.0  0.0  0.0  0.0\n",
       " 0.0  0.0  0.0  0.0  0.0       0.0          0.0       0.0  0.0  0.0  0.0\n",
       " 0.0  0.0  0.0  0.0  0.0       0.0          0.0       0.0  0.0  0.0  0.0\n",
       " 0.0  0.0  0.0  0.0  0.0       0.0       …  0.0       0.0  0.0  0.0  0.0\n",
       " 0.0  0.0  0.0  0.0  0.0       0.0          0.0       0.0  0.0  0.0  0.0\n",
       " 0.0  0.0  0.0  0.0  0.0       0.0          0.0       0.0  0.0  0.0  0.0\n",
       " ⋮                             ⋮         ⋱                 ⋮         \n",
       " 0.0  0.0  0.0  0.0  0.0       0.0          0.0       0.0  0.0  0.0  0.0\n",
       " 0.0  0.0  0.0  0.0  0.0       0.0          0.0       0.0  0.0  0.0  0.0\n",
       " 0.0  0.0  0.0  0.0  0.0       0.0          0.0       0.0  0.0  0.0  0.0\n",
       " 0.0  0.0  0.0  0.0  0.0       0.0          0.0       0.0  0.0  0.0  0.0\n",
       " 0.0  0.0  0.0  0.0  0.0       0.0       …  0.0       0.0  0.0  0.0  0.0\n",
       " 0.0  0.0  0.0  0.0  0.0       0.0          0.0       0.0  0.0  0.0  0.0\n",
       " 0.0  0.0  0.0  0.0  0.0       0.0          0.0       0.0  0.0  0.0  0.0\n",
       " 0.0  0.0  0.0  0.0  0.215686  0.67451      0.0       0.0  0.0  0.0  0.0\n",
       " 0.0  0.0  0.0  0.0  0.533333  0.992157     0.0       0.0  0.0  0.0  0.0\n",
       " 0.0  0.0  0.0  0.0  0.0       0.0       …  0.0       0.0  0.0  0.0  0.0\n",
       " 0.0  0.0  0.0  0.0  0.0       0.0          0.0       0.0  0.0  0.0  0.0\n",
       " 0.0  0.0  0.0  0.0  0.0       0.0          0.0       0.0  0.0  0.0  0.0"
      ]
     },
     "execution_count": 79,
     "metadata": {},
     "output_type": "execute_result"
    }
   ],
   "source": [
    "Float64.(images[1])"
   ]
  },
  {
   "cell_type": "code",
   "execution_count": 80,
   "metadata": {},
   "outputs": [
    {
     "data": {
      "text/plain": [
       "784"
      ]
     },
     "execution_count": 80,
     "metadata": {},
     "output_type": "execute_result"
    }
   ],
   "source": [
    "n_inputs = unique(length.(images))[]"
   ]
  },
  {
   "cell_type": "code",
   "execution_count": 81,
   "metadata": {},
   "outputs": [
    {
     "data": {
      "text/plain": [
       "10"
      ]
     },
     "execution_count": 81,
     "metadata": {},
     "output_type": "execute_result"
    }
   ],
   "source": [
    "n_outputs = length(unique(labels))"
   ]
  },
  {
   "cell_type": "code",
   "execution_count": 82,
   "metadata": {},
   "outputs": [
    {
     "data": {
      "text/plain": [
       "preprocess (generic function with 1 method)"
      ]
     },
     "execution_count": 82,
     "metadata": {},
     "output_type": "execute_result"
    }
   ],
   "source": [
    "preprocess(img) = vec(Float64.(img))"
   ]
  },
  {
   "cell_type": "code",
   "execution_count": 83,
   "metadata": {
    "scrolled": true
   },
   "outputs": [
    {
     "data": {
      "text/plain": [
       "5000-element Array{Array{Float64,1},1}:\n",
       " [0.0, 0.0, 0.0, 0.0, 0.0, 0.0, 0.0, 0.0, 0.0, 0.0  …  0.0, 0.0, 0.0, 0.0, 0.0, 0.0, 0.0, 0.0, 0.0, 0.0]\n",
       " [0.0, 0.0, 0.0, 0.0, 0.0, 0.0, 0.0, 0.0, 0.0, 0.0  …  0.0, 0.0, 0.0, 0.0, 0.0, 0.0, 0.0, 0.0, 0.0, 0.0]\n",
       " [0.0, 0.0, 0.0, 0.0, 0.0, 0.0, 0.0, 0.0, 0.0, 0.0  …  0.0, 0.0, 0.0, 0.0, 0.0, 0.0, 0.0, 0.0, 0.0, 0.0]\n",
       " [0.0, 0.0, 0.0, 0.0, 0.0, 0.0, 0.0, 0.0, 0.0, 0.0  …  0.0, 0.0, 0.0, 0.0, 0.0, 0.0, 0.0, 0.0, 0.0, 0.0]\n",
       " [0.0, 0.0, 0.0, 0.0, 0.0, 0.0, 0.0, 0.0, 0.0, 0.0  …  0.0, 0.0, 0.0, 0.0, 0.0, 0.0, 0.0, 0.0, 0.0, 0.0]\n",
       " [0.0, 0.0, 0.0, 0.0, 0.0, 0.0, 0.0, 0.0, 0.0, 0.0  …  0.0, 0.0, 0.0, 0.0, 0.0, 0.0, 0.0, 0.0, 0.0, 0.0]\n",
       " [0.0, 0.0, 0.0, 0.0, 0.0, 0.0, 0.0, 0.0, 0.0, 0.0  …  0.0, 0.0, 0.0, 0.0, 0.0, 0.0, 0.0, 0.0, 0.0, 0.0]\n",
       " [0.0, 0.0, 0.0, 0.0, 0.0, 0.0, 0.0, 0.0, 0.0, 0.0  …  0.0, 0.0, 0.0, 0.0, 0.0, 0.0, 0.0, 0.0, 0.0, 0.0]\n",
       " [0.0, 0.0, 0.0, 0.0, 0.0, 0.0, 0.0, 0.0, 0.0, 0.0  …  0.0, 0.0, 0.0, 0.0, 0.0, 0.0, 0.0, 0.0, 0.0, 0.0]\n",
       " [0.0, 0.0, 0.0, 0.0, 0.0, 0.0, 0.0, 0.0, 0.0, 0.0  …  0.0, 0.0, 0.0, 0.0, 0.0, 0.0, 0.0, 0.0, 0.0, 0.0]\n",
       " [0.0, 0.0, 0.0, 0.0, 0.0, 0.0, 0.0, 0.0, 0.0, 0.0  …  0.0, 0.0, 0.0, 0.0, 0.0, 0.0, 0.0, 0.0, 0.0, 0.0]\n",
       " [0.0, 0.0, 0.0, 0.0, 0.0, 0.0, 0.0, 0.0, 0.0, 0.0  …  0.0, 0.0, 0.0, 0.0, 0.0, 0.0, 0.0, 0.0, 0.0, 0.0]\n",
       " [0.0, 0.0, 0.0, 0.0, 0.0, 0.0, 0.0, 0.0, 0.0, 0.0  …  0.0, 0.0, 0.0, 0.0, 0.0, 0.0, 0.0, 0.0, 0.0, 0.0]\n",
       " ⋮\n",
       " [0.0, 0.0, 0.0, 0.0, 0.0, 0.0, 0.0, 0.0, 0.0, 0.0  …  0.0, 0.0, 0.0, 0.0, 0.0, 0.0, 0.0, 0.0, 0.0, 0.0]\n",
       " [0.0, 0.0, 0.0, 0.0, 0.0, 0.0, 0.0, 0.0, 0.0, 0.0  …  0.0, 0.0, 0.0, 0.0, 0.0, 0.0, 0.0, 0.0, 0.0, 0.0]\n",
       " [0.0, 0.0, 0.0, 0.0, 0.0, 0.0, 0.0, 0.0, 0.0, 0.0  …  0.0, 0.0, 0.0, 0.0, 0.0, 0.0, 0.0, 0.0, 0.0, 0.0]\n",
       " [0.0, 0.0, 0.0, 0.0, 0.0, 0.0, 0.0, 0.0, 0.0, 0.0  …  0.0, 0.0, 0.0, 0.0, 0.0, 0.0, 0.0, 0.0, 0.0, 0.0]\n",
       " [0.0, 0.0, 0.0, 0.0, 0.0, 0.0, 0.0, 0.0, 0.0, 0.0  …  0.0, 0.0, 0.0, 0.0, 0.0, 0.0, 0.0, 0.0, 0.0, 0.0]\n",
       " [0.0, 0.0, 0.0, 0.0, 0.0, 0.0, 0.0, 0.0, 0.0, 0.0  …  0.0, 0.0, 0.0, 0.0, 0.0, 0.0, 0.0, 0.0, 0.0, 0.0]\n",
       " [0.0, 0.0, 0.0, 0.0, 0.0, 0.0, 0.0, 0.0, 0.0, 0.0  …  0.0, 0.0, 0.0, 0.0, 0.0, 0.0, 0.0, 0.0, 0.0, 0.0]\n",
       " [0.0, 0.0, 0.0, 0.0, 0.0, 0.0, 0.0, 0.0, 0.0, 0.0  …  0.0, 0.0, 0.0, 0.0, 0.0, 0.0, 0.0, 0.0, 0.0, 0.0]\n",
       " [0.0, 0.0, 0.0, 0.0, 0.0, 0.0, 0.0, 0.0, 0.0, 0.0  …  0.0, 0.0, 0.0, 0.0, 0.0, 0.0, 0.0, 0.0, 0.0, 0.0]\n",
       " [0.0, 0.0, 0.0, 0.0, 0.0, 0.0, 0.0, 0.0, 0.0, 0.0  …  0.0, 0.0, 0.0, 0.0, 0.0, 0.0, 0.0, 0.0, 0.0, 0.0]\n",
       " [0.0, 0.0, 0.0, 0.0, 0.0, 0.0, 0.0, 0.0, 0.0, 0.0  …  0.0, 0.0, 0.0, 0.0, 0.0, 0.0, 0.0, 0.0, 0.0, 0.0]\n",
       " [0.0, 0.0, 0.0, 0.0, 0.0, 0.0, 0.0, 0.0, 0.0, 0.0  …  0.0, 0.0, 0.0, 0.0, 0.0, 0.0, 0.0, 0.0, 0.0, 0.0]"
      ]
     },
     "execution_count": 83,
     "metadata": {},
     "output_type": "execute_result"
    }
   ],
   "source": [
    "X = preprocess.(images[1:5000])"
   ]
  },
  {
   "cell_type": "code",
   "execution_count": 84,
   "metadata": {
    "scrolled": true
   },
   "outputs": [
    {
     "data": {
      "text/plain": [
       "5000-element Array{Flux.OneHotVector,1}:\n",
       " [0, 0, 0, 0, 0, 1, 0, 0, 0, 0]\n",
       " [1, 0, 0, 0, 0, 0, 0, 0, 0, 0]\n",
       " [0, 0, 0, 0, 1, 0, 0, 0, 0, 0]\n",
       " [0, 1, 0, 0, 0, 0, 0, 0, 0, 0]\n",
       " [0, 0, 0, 0, 0, 0, 0, 0, 0, 1]\n",
       " [0, 0, 1, 0, 0, 0, 0, 0, 0, 0]\n",
       " [0, 1, 0, 0, 0, 0, 0, 0, 0, 0]\n",
       " [0, 0, 0, 1, 0, 0, 0, 0, 0, 0]\n",
       " [0, 1, 0, 0, 0, 0, 0, 0, 0, 0]\n",
       " [0, 0, 0, 0, 1, 0, 0, 0, 0, 0]\n",
       " [0, 0, 0, 1, 0, 0, 0, 0, 0, 0]\n",
       " [0, 0, 0, 0, 0, 1, 0, 0, 0, 0]\n",
       " [0, 0, 0, 1, 0, 0, 0, 0, 0, 0]\n",
       " ⋮\n",
       " [0, 0, 0, 1, 0, 0, 0, 0, 0, 0]\n",
       " [0, 0, 0, 0, 0, 0, 0, 0, 0, 1]\n",
       " [0, 0, 0, 0, 0, 0, 1, 0, 0, 0]\n",
       " [0, 0, 0, 0, 0, 0, 0, 1, 0, 0]\n",
       " [0, 0, 0, 0, 0, 0, 0, 0, 1, 0]\n",
       " [0, 1, 0, 0, 0, 0, 0, 0, 0, 0]\n",
       " [1, 0, 0, 0, 0, 0, 0, 0, 0, 0]\n",
       " [0, 0, 0, 0, 0, 0, 0, 1, 0, 0]\n",
       " [0, 0, 0, 1, 0, 0, 0, 0, 0, 0]\n",
       " [0, 0, 1, 0, 0, 0, 0, 0, 0, 0]\n",
       " [0, 1, 0, 0, 0, 0, 0, 0, 0, 0]\n",
       " [0, 0, 1, 0, 0, 0, 0, 0, 0, 0]"
      ]
     },
     "execution_count": 84,
     "metadata": {},
     "output_type": "execute_result"
    }
   ],
   "source": [
    "y = [Flux.onehot(label, 0:9) for label in labels[1:5000]]"
   ]
  },
  {
   "cell_type": "code",
   "execution_count": 85,
   "metadata": {},
   "outputs": [
    {
     "data": {
      "text/plain": [
       "create_batch (generic function with 1 method)"
      ]
     },
     "execution_count": 85,
     "metadata": {},
     "output_type": "execute_result"
    }
   ],
   "source": [
    "function create_batch(r)\n",
    "    X = [preprocess(img) for img in images[r]]\n",
    "    y = [Flux.onehot(label, 0:9) for label in labels[r]]\n",
    "    return (Flux.batch(X), Flux.batch(y))\n",
    "end"
   ]
  },
  {
   "cell_type": "code",
   "execution_count": 86,
   "metadata": {},
   "outputs": [],
   "source": [
    "trainbatch = create_batch(1:5000);"
   ]
  },
  {
   "cell_type": "markdown",
   "metadata": {},
   "source": [
    "One layer"
   ]
  },
  {
   "cell_type": "code",
   "execution_count": 87,
   "metadata": {},
   "outputs": [
    {
     "name": "stdout",
     "output_type": "stream",
     "text": [
      "  1.349642 seconds (20.38 M allocations: 410.946 MiB, 5.78% gc time)\n",
      "  0.826094 seconds (19.75 M allocations: 379.567 MiB, 5.15% gc time)\n"
     ]
    }
   ],
   "source": [
    "model = Chain(Dense(n_inputs, n_outputs, identity), softmax)\n",
    "ps = params(model)\n",
    "L(x,y) = Flux.crossentropy(model(x), y)\n",
    "opt = ADAM()\n",
    "@time Flux.train!(L, ps, [trainbatch], opt)\n",
    "@time Flux.train!(L, ps, [trainbatch], opt)"
   ]
  },
  {
   "cell_type": "code",
   "execution_count": 88,
   "metadata": {},
   "outputs": [],
   "source": [
    "Iterators.repeated(trainbatch, 100);"
   ]
  },
  {
   "cell_type": "code",
   "execution_count": 89,
   "metadata": {},
   "outputs": [
    {
     "data": {
      "text/plain": [
       "2.331337f0"
      ]
     },
     "execution_count": 89,
     "metadata": {},
     "output_type": "execute_result"
    }
   ],
   "source": [
    "L(trainbatch...)"
   ]
  },
  {
   "cell_type": "code",
   "execution_count": 90,
   "metadata": {},
   "outputs": [
    {
     "name": "stdout",
     "output_type": "stream",
     "text": [
      "  0.823166 seconds (19.75 M allocations: 379.567 MiB, 5.13% gc time)\n"
     ]
    }
   ],
   "source": [
    "@time Flux.train!(L, ps, [trainbatch], opt)"
   ]
  },
  {
   "cell_type": "code",
   "execution_count": 91,
   "metadata": {},
   "outputs": [
    {
     "data": {
      "text/plain": [
       "2.2781827f0"
      ]
     },
     "execution_count": 91,
     "metadata": {},
     "output_type": "execute_result"
    }
   ],
   "source": [
    "L(trainbatch...)"
   ]
  },
  {
   "cell_type": "markdown",
   "metadata": {},
   "source": [
    "Using callbacks"
   ]
  },
  {
   "cell_type": "code",
   "execution_count": 92,
   "metadata": {},
   "outputs": [
    {
     "name": "stdout",
     "output_type": "stream",
     "text": [
      "L(trainbatch...) = 2.226663f0\n",
      "L(trainbatch...) = 2.1766834f0\n",
      "L(trainbatch...) = 2.1281548f0\n"
     ]
    }
   ],
   "source": [
    "callback() = @show(L(trainbatch...))\n",
    "Flux.train!(L, ps, Iterators.repeated(trainbatch, 3), opt; cb=callback)"
   ]
  },
  {
   "cell_type": "code",
   "execution_count": 93,
   "metadata": {},
   "outputs": [
    {
     "name": "stdout",
     "output_type": "stream",
     "text": [
      "L(trainbatch...) = 2.08099f0\n",
      "L(trainbatch...) = 1.904486f0\n",
      "L(trainbatch...) = 1.7452328f0\n",
      "L(trainbatch...) = 1.6023773f0\n",
      "L(trainbatch...) = 1.4758562f0\n",
      "L(trainbatch...) = 1.364886f0\n",
      "L(trainbatch...) = 1.2680519f0\n",
      "L(trainbatch...) = 1.1837422f0\n",
      "L(trainbatch...) = 1.1277382f0\n",
      "L(trainbatch...) = 1.061451f0\n",
      "L(trainbatch...) = 1.0034667f0\n"
     ]
    }
   ],
   "source": [
    "Flux.train!(L, ps, Iterators.repeated(trainbatch, 40), opt; cb=Flux.throttle(callback, 1))"
   ]
  },
  {
   "cell_type": "code",
   "execution_count": 94,
   "metadata": {},
   "outputs": [],
   "source": [
    "testbatch = create_batch(5001:10000);"
   ]
  },
  {
   "cell_type": "code",
   "execution_count": 95,
   "metadata": {},
   "outputs": [
    {
     "data": {
      "text/plain": [
       "update_loss! (generic function with 1 method)"
      ]
     },
     "execution_count": 95,
     "metadata": {},
     "output_type": "execute_result"
    }
   ],
   "source": [
    "using Printf\n",
    "train_loss = []\n",
    "test_loss = []\n",
    "function update_loss!()\n",
    "    train_val = L(trainbatch...)\n",
    "    test_val = L(testbatch...)\n",
    "    push!(train_loss, train_val)\n",
    "    push!(test_loss, test_val)\n",
    "    @printf(\"train loss = %.2f, test loss=%.2f\\n\", train_val, test_val)\n",
    "end"
   ]
  },
  {
   "cell_type": "code",
   "execution_count": 65,
   "metadata": {
    "scrolled": true
   },
   "outputs": [
    {
     "name": "stdout",
     "output_type": "stream",
     "text": [
      "train loss = 0.95, test loss=0.98\n",
      "train loss = 0.92, test loss=0.95\n",
      "train loss = 0.88, test loss=0.91\n",
      "train loss = 0.84, test loss=0.87\n",
      "train loss = 0.80, test loss=0.84\n",
      "train loss = 0.77, test loss=0.81\n",
      "train loss = 0.75, test loss=0.79\n",
      "train loss = 0.73, test loss=0.77\n",
      "train loss = 0.71, test loss=0.75\n",
      "train loss = 0.68, test loss=0.73\n",
      "train loss = 0.67, test loss=0.71\n",
      "train loss = 0.65, test loss=0.69\n",
      "train loss = 0.63, test loss=0.68\n",
      "train loss = 0.62, test loss=0.66\n",
      "train loss = 0.61, test loss=0.65\n",
      "train loss = 0.59, test loss=0.64\n",
      "train loss = 0.58, test loss=0.63\n",
      "train loss = 0.57, test loss=0.62\n",
      "train loss = 0.56, test loss=0.61\n",
      "train loss = 0.55, test loss=0.60\n",
      "train loss = 0.54, test loss=0.59\n",
      "train loss = 0.53, test loss=0.59\n",
      "train loss = 0.52, test loss=0.58\n",
      "train loss = 0.52, test loss=0.57\n",
      "train loss = 0.51, test loss=0.57\n",
      "train loss = 0.50, test loss=0.56\n",
      "train loss = 0.50, test loss=0.55\n",
      "train loss = 0.49, test loss=0.55\n",
      "train loss = 0.48, test loss=0.54\n",
      "train loss = 0.48, test loss=0.54\n",
      "train loss = 0.47, test loss=0.53\n",
      "train loss = 0.46, test loss=0.53\n",
      "train loss = 0.46, test loss=0.52\n",
      "train loss = 0.45, test loss=0.52\n",
      "train loss = 0.45, test loss=0.51\n",
      "train loss = 0.44, test loss=0.51\n",
      "train loss = 0.44, test loss=0.50\n",
      "train loss = 0.43, test loss=0.50\n",
      "train loss = 0.43, test loss=0.49\n",
      "train loss = 0.42, test loss=0.49\n",
      "train loss = 0.42, test loss=0.49\n",
      "train loss = 0.41, test loss=0.48\n",
      "train loss = 0.41, test loss=0.48\n",
      "train loss = 0.41, test loss=0.48\n",
      "train loss = 0.40, test loss=0.47\n",
      "train loss = 0.40, test loss=0.47\n",
      "train loss = 0.39, test loss=0.47\n",
      "train loss = 0.39, test loss=0.46\n",
      "train loss = 0.39, test loss=0.46\n",
      "train loss = 0.38, test loss=0.46\n",
      "train loss = 0.38, test loss=0.46\n",
      "train loss = 0.38, test loss=0.46\n",
      "train loss = 0.37, test loss=0.45\n",
      "train loss = 0.37, test loss=0.45\n",
      "train loss = 0.37, test loss=0.45\n",
      "train loss = 0.37, test loss=0.45\n",
      "train loss = 0.36, test loss=0.44\n",
      "train loss = 0.36, test loss=0.44\n",
      "train loss = 0.36, test loss=0.44\n",
      "train loss = 0.35, test loss=0.44\n",
      "train loss = 0.35, test loss=0.43\n",
      "train loss = 0.35, test loss=0.43\n",
      "train loss = 0.35, test loss=0.43\n",
      "train loss = 0.34, test loss=0.43\n",
      "train loss = 0.34, test loss=0.43\n",
      "train loss = 0.34, test loss=0.43\n",
      "train loss = 0.34, test loss=0.42\n",
      "train loss = 0.33, test loss=0.42\n",
      "train loss = 0.33, test loss=0.42\n",
      "train loss = 0.33, test loss=0.42\n",
      "train loss = 0.33, test loss=0.42\n",
      "train loss = 0.33, test loss=0.42\n",
      "train loss = 0.32, test loss=0.42\n",
      "train loss = 0.32, test loss=0.41\n",
      "train loss = 0.32, test loss=0.41\n",
      "train loss = 0.32, test loss=0.41\n",
      "train loss = 0.31, test loss=0.41\n",
      "train loss = 0.31, test loss=0.41\n",
      "train loss = 0.31, test loss=0.41\n",
      "train loss = 0.31, test loss=0.41\n",
      "train loss = 0.31, test loss=0.41\n",
      "train loss = 0.31, test loss=0.40\n",
      "train loss = 0.30, test loss=0.40\n",
      "train loss = 0.30, test loss=0.40\n",
      "train loss = 0.30, test loss=0.40\n",
      "train loss = 0.30, test loss=0.40\n",
      "train loss = 0.30, test loss=0.40\n",
      "train loss = 0.30, test loss=0.40\n",
      "train loss = 0.29, test loss=0.40\n",
      "train loss = 0.29, test loss=0.40\n",
      "train loss = 0.29, test loss=0.40\n",
      "train loss = 0.29, test loss=0.39\n",
      "train loss = 0.29, test loss=0.39\n",
      "train loss = 0.29, test loss=0.39\n",
      "train loss = 0.29, test loss=0.39\n",
      "train loss = 0.28, test loss=0.39\n",
      "train loss = 0.28, test loss=0.39\n",
      "train loss = 0.28, test loss=0.39\n",
      "train loss = 0.28, test loss=0.39\n",
      "train loss = 0.28, test loss=0.39\n",
      "train loss = 0.28, test loss=0.39\n",
      "train loss = 0.28, test loss=0.39\n",
      "train loss = 0.27, test loss=0.39\n",
      "train loss = 0.27, test loss=0.39\n",
      "train loss = 0.27, test loss=0.39\n",
      "train loss = 0.27, test loss=0.38\n",
      "train loss = 0.27, test loss=0.38\n",
      "train loss = 0.27, test loss=0.38\n",
      "train loss = 0.27, test loss=0.38\n",
      "train loss = 0.27, test loss=0.38\n",
      "train loss = 0.27, test loss=0.38\n",
      "train loss = 0.26, test loss=0.38\n",
      "train loss = 0.26, test loss=0.38\n",
      "train loss = 0.26, test loss=0.38\n",
      "train loss = 0.26, test loss=0.38\n",
      "train loss = 0.26, test loss=0.38\n",
      "train loss = 0.26, test loss=0.38\n",
      "train loss = 0.26, test loss=0.38\n",
      "train loss = 0.26, test loss=0.38\n",
      "train loss = 0.26, test loss=0.38\n",
      "train loss = 0.26, test loss=0.38\n",
      "train loss = 0.25, test loss=0.38\n",
      "train loss = 0.25, test loss=0.38\n",
      "train loss = 0.25, test loss=0.38\n",
      "train loss = 0.25, test loss=0.37\n",
      "train loss = 0.25, test loss=0.37\n",
      "train loss = 0.25, test loss=0.37\n",
      "train loss = 0.25, test loss=0.37\n",
      "train loss = 0.25, test loss=0.37\n",
      "train loss = 0.25, test loss=0.37\n",
      "train loss = 0.25, test loss=0.37\n",
      "train loss = 0.24, test loss=0.37\n",
      "train loss = 0.24, test loss=0.37\n",
      "train loss = 0.24, test loss=0.37\n",
      "train loss = 0.24, test loss=0.37\n",
      "train loss = 0.24, test loss=0.37\n",
      "train loss = 0.24, test loss=0.37\n",
      "train loss = 0.24, test loss=0.37\n",
      "train loss = 0.24, test loss=0.37\n",
      "train loss = 0.24, test loss=0.37\n",
      "train loss = 0.24, test loss=0.37\n",
      "train loss = 0.24, test loss=0.37\n",
      "train loss = 0.24, test loss=0.37\n",
      "train loss = 0.24, test loss=0.37\n",
      "train loss = 0.23, test loss=0.37\n",
      "train loss = 0.23, test loss=0.37\n",
      "train loss = 0.23, test loss=0.37\n",
      "train loss = 0.23, test loss=0.37\n",
      "train loss = 0.23, test loss=0.37\n",
      "train loss = 0.23, test loss=0.37\n",
      "train loss = 0.23, test loss=0.37\n",
      "train loss = 0.23, test loss=0.37\n",
      "train loss = 0.23, test loss=0.37\n",
      "train loss = 0.23, test loss=0.37\n",
      "train loss = 0.23, test loss=0.37\n",
      "train loss = 0.23, test loss=0.37\n",
      "train loss = 0.22, test loss=0.37\n",
      "train loss = 0.22, test loss=0.36\n",
      "train loss = 0.22, test loss=0.36\n",
      "train loss = 0.22, test loss=0.36\n",
      "train loss = 0.22, test loss=0.36\n",
      "train loss = 0.22, test loss=0.36\n",
      "train loss = 0.22, test loss=0.36\n",
      "train loss = 0.22, test loss=0.36\n",
      "train loss = 0.22, test loss=0.36\n",
      "train loss = 0.22, test loss=0.36\n",
      "train loss = 0.22, test loss=0.36\n",
      "train loss = 0.22, test loss=0.36\n",
      "train loss = 0.22, test loss=0.36\n",
      "train loss = 0.22, test loss=0.36\n",
      "train loss = 0.22, test loss=0.36\n",
      "train loss = 0.21, test loss=0.36\n",
      "train loss = 0.21, test loss=0.36\n",
      "train loss = 0.21, test loss=0.36\n",
      "train loss = 0.21, test loss=0.36\n",
      "train loss = 0.21, test loss=0.36\n",
      "train loss = 0.21, test loss=0.36\n",
      "train loss = 0.21, test loss=0.36\n",
      "train loss = 0.21, test loss=0.36\n",
      "train loss = 0.21, test loss=0.36\n",
      "train loss = 0.21, test loss=0.36\n",
      "train loss = 0.21, test loss=0.36\n",
      "train loss = 0.21, test loss=0.36\n",
      "train loss = 0.21, test loss=0.36\n",
      "train loss = 0.21, test loss=0.36\n",
      "train loss = 0.20, test loss=0.36\n",
      "train loss = 0.20, test loss=0.36\n",
      "train loss = 0.20, test loss=0.36\n",
      "train loss = 0.20, test loss=0.36\n",
      "train loss = 0.20, test loss=0.36\n",
      "train loss = 0.20, test loss=0.36\n",
      "train loss = 0.20, test loss=0.36\n",
      "train loss = 0.20, test loss=0.36\n",
      "train loss = 0.20, test loss=0.36\n",
      "train loss = 0.20, test loss=0.36\n",
      "train loss = 0.20, test loss=0.36\n",
      "train loss = 0.20, test loss=0.36\n",
      "train loss = 0.20, test loss=0.36\n",
      "train loss = 0.20, test loss=0.36\n",
      "train loss = 0.20, test loss=0.36\n",
      "train loss = 0.20, test loss=0.36\n",
      "train loss = 0.20, test loss=0.36\n",
      "train loss = 0.19, test loss=0.36\n",
      "train loss = 0.19, test loss=0.36\n",
      "train loss = 0.19, test loss=0.36\n",
      "train loss = 0.19, test loss=0.36\n",
      "train loss = 0.19, test loss=0.36\n",
      "train loss = 0.19, test loss=0.36\n",
      "train loss = 0.19, test loss=0.36\n",
      "train loss = 0.19, test loss=0.36\n",
      "train loss = 0.19, test loss=0.36\n",
      "train loss = 0.19, test loss=0.36\n",
      "train loss = 0.19, test loss=0.36\n",
      "train loss = 0.19, test loss=0.36\n",
      "train loss = 0.19, test loss=0.36\n",
      "train loss = 0.19, test loss=0.36\n",
      "train loss = 0.19, test loss=0.36\n",
      "train loss = 0.19, test loss=0.36\n",
      "train loss = 0.19, test loss=0.36\n",
      "train loss = 0.19, test loss=0.36\n",
      "train loss = 0.18, test loss=0.36\n",
      "train loss = 0.18, test loss=0.36\n",
      "train loss = 0.18, test loss=0.36\n",
      "train loss = 0.18, test loss=0.36\n",
      "train loss = 0.18, test loss=0.36\n",
      "train loss = 0.18, test loss=0.36\n",
      "train loss = 0.18, test loss=0.36\n",
      "train loss = 0.18, test loss=0.36\n",
      "train loss = 0.18, test loss=0.36\n",
      "train loss = 0.18, test loss=0.36\n",
      "train loss = 0.18, test loss=0.36\n",
      "train loss = 0.18, test loss=0.36\n",
      "train loss = 0.18, test loss=0.36\n",
      "train loss = 0.18, test loss=0.36\n",
      "train loss = 0.18, test loss=0.36\n",
      "train loss = 0.18, test loss=0.36\n",
      "train loss = 0.18, test loss=0.36\n",
      "train loss = 0.18, test loss=0.36\n",
      "train loss = 0.18, test loss=0.36\n",
      "train loss = 0.18, test loss=0.36\n",
      "train loss = 0.18, test loss=0.36\n"
     ]
    },
    {
     "name": "stdout",
     "output_type": "stream",
     "text": [
      "train loss = 0.18, test loss=0.36\n",
      "train loss = 0.18, test loss=0.36\n",
      "train loss = 0.17, test loss=0.36\n",
      "train loss = 0.17, test loss=0.36\n",
      "train loss = 0.17, test loss=0.36\n",
      "train loss = 0.17, test loss=0.36\n",
      "train loss = 0.17, test loss=0.36\n",
      "train loss = 0.17, test loss=0.36\n",
      "train loss = 0.17, test loss=0.36\n",
      "train loss = 0.17, test loss=0.36\n",
      "train loss = 0.17, test loss=0.36\n",
      "train loss = 0.17, test loss=0.36\n",
      "train loss = 0.17, test loss=0.36\n",
      "train loss = 0.17, test loss=0.36\n",
      "train loss = 0.17, test loss=0.36\n",
      "train loss = 0.17, test loss=0.36\n",
      "train loss = 0.17, test loss=0.36\n",
      "train loss = 0.17, test loss=0.36\n",
      "train loss = 0.17, test loss=0.36\n",
      "train loss = 0.17, test loss=0.36\n",
      "train loss = 0.17, test loss=0.36\n",
      "train loss = 0.17, test loss=0.36\n",
      "train loss = 0.17, test loss=0.36\n",
      "train loss = 0.17, test loss=0.36\n",
      "train loss = 0.17, test loss=0.36\n",
      "train loss = 0.17, test loss=0.36\n",
      "train loss = 0.17, test loss=0.36\n",
      "train loss = 0.17, test loss=0.36\n",
      "train loss = 0.17, test loss=0.36\n",
      "train loss = 0.17, test loss=0.36\n",
      "train loss = 0.16, test loss=0.36\n",
      "train loss = 0.16, test loss=0.36\n"
     ]
    }
   ],
   "source": [
    "Flux.train!(L, ps, Iterators.repeated(trainbatch, 1000), opt; cb=Flux.throttle(update_loss!, 1))"
   ]
  },
  {
   "cell_type": "code",
   "execution_count": 66,
   "metadata": {},
   "outputs": [
    {
     "data": {
      "image/svg+xml": [
       "<?xml version=\"1.0\" encoding=\"utf-8\"?>\n",
       "<svg xmlns=\"http://www.w3.org/2000/svg\" xmlns:xlink=\"http://www.w3.org/1999/xlink\" width=\"600\" height=\"400\" viewBox=\"0 0 2400 1600\">\n",
       "<defs>\n",
       "  <clipPath id=\"clip780\">\n",
       "    <rect x=\"0\" y=\"0\" width=\"2400\" height=\"1600\"/>\n",
       "  </clipPath>\n",
       "</defs>\n",
       "<path clip-path=\"url(#clip780)\" d=\"\n",
       "M0 1600 L2400 1600 L2400 0 L0 0  Z\n",
       "  \" fill=\"#ffffff\" fill-rule=\"evenodd\" fill-opacity=\"1\"/>\n",
       "<defs>\n",
       "  <clipPath id=\"clip781\">\n",
       "    <rect x=\"480\" y=\"0\" width=\"1681\" height=\"1600\"/>\n",
       "  </clipPath>\n",
       "</defs>\n",
       "<path clip-path=\"url(#clip780)\" d=\"\n",
       "M211.602 1423.18 L2352.76 1423.18 L2352.76 123.472 L211.602 123.472  Z\n",
       "  \" fill=\"#ffffff\" fill-rule=\"evenodd\" fill-opacity=\"1\"/>\n",
       "<defs>\n",
       "  <clipPath id=\"clip782\">\n",
       "    <rect x=\"211\" y=\"123\" width=\"2142\" height=\"1301\"/>\n",
       "  </clipPath>\n",
       "</defs>\n",
       "<polyline clip-path=\"url(#clip782)\" style=\"stroke:#000000; stroke-width:2; stroke-opacity:0.1; fill:none\" points=\"\n",
       "  264.775,1423.18 264.775,123.472 \n",
       "  \"/>\n",
       "<polyline clip-path=\"url(#clip782)\" style=\"stroke:#000000; stroke-width:2; stroke-opacity:0.1; fill:none\" points=\"\n",
       "  636.09,1423.18 636.09,123.472 \n",
       "  \"/>\n",
       "<polyline clip-path=\"url(#clip782)\" style=\"stroke:#000000; stroke-width:2; stroke-opacity:0.1; fill:none\" points=\"\n",
       "  1007.41,1423.18 1007.41,123.472 \n",
       "  \"/>\n",
       "<polyline clip-path=\"url(#clip782)\" style=\"stroke:#000000; stroke-width:2; stroke-opacity:0.1; fill:none\" points=\"\n",
       "  1378.72,1423.18 1378.72,123.472 \n",
       "  \"/>\n",
       "<polyline clip-path=\"url(#clip782)\" style=\"stroke:#000000; stroke-width:2; stroke-opacity:0.1; fill:none\" points=\"\n",
       "  1750.04,1423.18 1750.04,123.472 \n",
       "  \"/>\n",
       "<polyline clip-path=\"url(#clip782)\" style=\"stroke:#000000; stroke-width:2; stroke-opacity:0.1; fill:none\" points=\"\n",
       "  2121.35,1423.18 2121.35,123.472 \n",
       "  \"/>\n",
       "<polyline clip-path=\"url(#clip782)\" style=\"stroke:#000000; stroke-width:2; stroke-opacity:0.1; fill:none\" points=\"\n",
       "  211.602,1333.37 2352.76,1333.37 \n",
       "  \"/>\n",
       "<polyline clip-path=\"url(#clip782)\" style=\"stroke:#000000; stroke-width:2; stroke-opacity:0.1; fill:none\" points=\"\n",
       "  211.602,1034.45 2352.76,1034.45 \n",
       "  \"/>\n",
       "<polyline clip-path=\"url(#clip782)\" style=\"stroke:#000000; stroke-width:2; stroke-opacity:0.1; fill:none\" points=\"\n",
       "  211.602,735.532 2352.76,735.532 \n",
       "  \"/>\n",
       "<polyline clip-path=\"url(#clip782)\" style=\"stroke:#000000; stroke-width:2; stroke-opacity:0.1; fill:none\" points=\"\n",
       "  211.602,436.614 2352.76,436.614 \n",
       "  \"/>\n",
       "<polyline clip-path=\"url(#clip782)\" style=\"stroke:#000000; stroke-width:2; stroke-opacity:0.1; fill:none\" points=\"\n",
       "  211.602,137.697 2352.76,137.697 \n",
       "  \"/>\n",
       "<polyline clip-path=\"url(#clip780)\" style=\"stroke:#000000; stroke-width:4; stroke-opacity:1; fill:none\" points=\"\n",
       "  211.602,1423.18 2352.76,1423.18 \n",
       "  \"/>\n",
       "<polyline clip-path=\"url(#clip780)\" style=\"stroke:#000000; stroke-width:4; stroke-opacity:1; fill:none\" points=\"\n",
       "  211.602,1423.18 211.602,123.472 \n",
       "  \"/>\n",
       "<polyline clip-path=\"url(#clip780)\" style=\"stroke:#000000; stroke-width:4; stroke-opacity:1; fill:none\" points=\"\n",
       "  264.775,1423.18 264.775,1407.58 \n",
       "  \"/>\n",
       "<polyline clip-path=\"url(#clip780)\" style=\"stroke:#000000; stroke-width:4; stroke-opacity:1; fill:none\" points=\"\n",
       "  636.09,1423.18 636.09,1407.58 \n",
       "  \"/>\n",
       "<polyline clip-path=\"url(#clip780)\" style=\"stroke:#000000; stroke-width:4; stroke-opacity:1; fill:none\" points=\"\n",
       "  1007.41,1423.18 1007.41,1407.58 \n",
       "  \"/>\n",
       "<polyline clip-path=\"url(#clip780)\" style=\"stroke:#000000; stroke-width:4; stroke-opacity:1; fill:none\" points=\"\n",
       "  1378.72,1423.18 1378.72,1407.58 \n",
       "  \"/>\n",
       "<polyline clip-path=\"url(#clip780)\" style=\"stroke:#000000; stroke-width:4; stroke-opacity:1; fill:none\" points=\"\n",
       "  1750.04,1423.18 1750.04,1407.58 \n",
       "  \"/>\n",
       "<polyline clip-path=\"url(#clip780)\" style=\"stroke:#000000; stroke-width:4; stroke-opacity:1; fill:none\" points=\"\n",
       "  2121.35,1423.18 2121.35,1407.58 \n",
       "  \"/>\n",
       "<polyline clip-path=\"url(#clip780)\" style=\"stroke:#000000; stroke-width:4; stroke-opacity:1; fill:none\" points=\"\n",
       "  211.602,1333.37 237.296,1333.37 \n",
       "  \"/>\n",
       "<polyline clip-path=\"url(#clip780)\" style=\"stroke:#000000; stroke-width:4; stroke-opacity:1; fill:none\" points=\"\n",
       "  211.602,1034.45 237.296,1034.45 \n",
       "  \"/>\n",
       "<polyline clip-path=\"url(#clip780)\" style=\"stroke:#000000; stroke-width:4; stroke-opacity:1; fill:none\" points=\"\n",
       "  211.602,735.532 237.296,735.532 \n",
       "  \"/>\n",
       "<polyline clip-path=\"url(#clip780)\" style=\"stroke:#000000; stroke-width:4; stroke-opacity:1; fill:none\" points=\"\n",
       "  211.602,436.614 237.296,436.614 \n",
       "  \"/>\n",
       "<polyline clip-path=\"url(#clip780)\" style=\"stroke:#000000; stroke-width:4; stroke-opacity:1; fill:none\" points=\"\n",
       "  211.602,137.697 237.296,137.697 \n",
       "  \"/>\n",
       "<path clip-path=\"url(#clip780)\" d=\"M 0 0 M264.775 1445.17 Q261.164 1445.17 259.335 1448.74 Q257.529 1452.28 257.529 1459.41 Q257.529 1466.51 259.335 1470.08 Q261.164 1473.62 264.775 1473.62 Q268.409 1473.62 270.215 1470.08 Q272.043 1466.51 272.043 1459.41 Q272.043 1452.28 270.215 1448.74 Q268.409 1445.17 264.775 1445.17 M264.775 1441.47 Q270.585 1441.47 273.64 1446.07 Q276.719 1450.66 276.719 1459.41 Q276.719 1468.13 273.64 1472.74 Q270.585 1477.32 264.775 1477.32 Q258.965 1477.32 255.886 1472.74 Q252.83 1468.13 252.83 1459.41 Q252.83 1450.66 255.886 1446.07 Q258.965 1441.47 264.775 1441.47 Z\" fill=\"#000000\" fill-rule=\"evenodd\" fill-opacity=\"1\" /><path clip-path=\"url(#clip780)\" d=\"M 0 0 M612.861 1442.09 L631.218 1442.09 L631.218 1446.03 L617.144 1446.03 L617.144 1454.5 Q618.162 1454.15 619.181 1453.99 Q620.199 1453.8 621.218 1453.8 Q627.005 1453.8 630.384 1456.98 Q633.764 1460.15 633.764 1465.56 Q633.764 1471.14 630.292 1474.24 Q626.819 1477.32 620.5 1477.32 Q618.324 1477.32 616.056 1476.95 Q613.81 1476.58 611.403 1475.84 L611.403 1471.14 Q613.486 1472.28 615.708 1472.83 Q617.931 1473.39 620.407 1473.39 Q624.412 1473.39 626.75 1471.28 Q629.088 1469.18 629.088 1465.56 Q629.088 1461.95 626.75 1459.85 Q624.412 1457.74 620.407 1457.74 Q618.532 1457.74 616.657 1458.16 Q614.806 1458.57 612.861 1459.45 L612.861 1442.09 Z\" fill=\"#000000\" fill-rule=\"evenodd\" fill-opacity=\"1\" /><path clip-path=\"url(#clip780)\" d=\"M 0 0 M648.833 1445.17 Q645.222 1445.17 643.393 1448.74 Q641.588 1452.28 641.588 1459.41 Q641.588 1466.51 643.393 1470.08 Q645.222 1473.62 648.833 1473.62 Q652.467 1473.62 654.273 1470.08 Q656.102 1466.51 656.102 1459.41 Q656.102 1452.28 654.273 1448.74 Q652.467 1445.17 648.833 1445.17 M648.833 1441.47 Q654.643 1441.47 657.699 1446.07 Q660.778 1450.66 660.778 1459.41 Q660.778 1468.13 657.699 1472.74 Q654.643 1477.32 648.833 1477.32 Q643.023 1477.32 639.944 1472.74 Q636.889 1468.13 636.889 1459.41 Q636.889 1450.66 639.944 1446.07 Q643.023 1441.47 648.833 1441.47 Z\" fill=\"#000000\" fill-rule=\"evenodd\" fill-opacity=\"1\" /><path clip-path=\"url(#clip780)\" d=\"M 0 0 M970.774 1472.72 L978.413 1472.72 L978.413 1446.35 L970.103 1448.02 L970.103 1443.76 L978.367 1442.09 L983.042 1442.09 L983.042 1472.72 L990.681 1472.72 L990.681 1476.65 L970.774 1476.65 L970.774 1472.72 Z\" fill=\"#000000\" fill-rule=\"evenodd\" fill-opacity=\"1\" /><path clip-path=\"url(#clip780)\" d=\"M 0 0 M1005.75 1445.17 Q1002.14 1445.17 1000.31 1448.74 Q998.505 1452.28 998.505 1459.41 Q998.505 1466.51 1000.31 1470.08 Q1002.14 1473.62 1005.75 1473.62 Q1009.38 1473.62 1011.19 1470.08 Q1013.02 1466.51 1013.02 1459.41 Q1013.02 1452.28 1011.19 1448.74 Q1009.38 1445.17 1005.75 1445.17 M1005.75 1441.47 Q1011.56 1441.47 1014.62 1446.07 Q1017.7 1450.66 1017.7 1459.41 Q1017.7 1468.13 1014.62 1472.74 Q1011.56 1477.32 1005.75 1477.32 Q999.94 1477.32 996.862 1472.74 Q993.806 1468.13 993.806 1459.41 Q993.806 1450.66 996.862 1446.07 Q999.94 1441.47 1005.75 1441.47 Z\" fill=\"#000000\" fill-rule=\"evenodd\" fill-opacity=\"1\" /><path clip-path=\"url(#clip780)\" d=\"M 0 0 M1032.76 1445.17 Q1029.15 1445.17 1027.32 1448.74 Q1025.52 1452.28 1025.52 1459.41 Q1025.52 1466.51 1027.32 1470.08 Q1029.15 1473.62 1032.76 1473.62 Q1036.4 1473.62 1038.2 1470.08 Q1040.03 1466.51 1040.03 1459.41 Q1040.03 1452.28 1038.2 1448.74 Q1036.4 1445.17 1032.76 1445.17 M1032.76 1441.47 Q1038.57 1441.47 1041.63 1446.07 Q1044.71 1450.66 1044.71 1459.41 Q1044.71 1468.13 1041.63 1472.74 Q1038.57 1477.32 1032.76 1477.32 Q1026.95 1477.32 1023.88 1472.74 Q1020.82 1468.13 1020.82 1459.41 Q1020.82 1450.66 1023.88 1446.07 Q1026.95 1441.47 1032.76 1441.47 Z\" fill=\"#000000\" fill-rule=\"evenodd\" fill-opacity=\"1\" /><path clip-path=\"url(#clip780)\" d=\"M 0 0 M1342.59 1472.72 L1350.23 1472.72 L1350.23 1446.35 L1341.92 1448.02 L1341.92 1443.76 L1350.18 1442.09 L1354.86 1442.09 L1354.86 1472.72 L1362.49 1472.72 L1362.49 1476.65 L1342.59 1476.65 L1342.59 1472.72 Z\" fill=\"#000000\" fill-rule=\"evenodd\" fill-opacity=\"1\" /><path clip-path=\"url(#clip780)\" d=\"M 0 0 M1367.61 1442.09 L1385.97 1442.09 L1385.97 1446.03 L1371.89 1446.03 L1371.89 1454.5 Q1372.91 1454.15 1373.93 1453.99 Q1374.95 1453.8 1375.97 1453.8 Q1381.75 1453.8 1385.13 1456.98 Q1388.51 1460.15 1388.51 1465.56 Q1388.51 1471.14 1385.04 1474.24 Q1381.57 1477.32 1375.25 1477.32 Q1373.07 1477.32 1370.8 1476.95 Q1368.56 1476.58 1366.15 1475.84 L1366.15 1471.14 Q1368.24 1472.28 1370.46 1472.83 Q1372.68 1473.39 1375.16 1473.39 Q1379.16 1473.39 1381.5 1471.28 Q1383.84 1469.18 1383.84 1465.56 Q1383.84 1461.95 1381.5 1459.85 Q1379.16 1457.74 1375.16 1457.74 Q1373.28 1457.74 1371.41 1458.16 Q1369.55 1458.57 1367.61 1459.45 L1367.61 1442.09 Z\" fill=\"#000000\" fill-rule=\"evenodd\" fill-opacity=\"1\" /><path clip-path=\"url(#clip780)\" d=\"M 0 0 M1403.58 1445.17 Q1399.97 1445.17 1398.14 1448.74 Q1396.34 1452.28 1396.34 1459.41 Q1396.34 1466.51 1398.14 1470.08 Q1399.97 1473.62 1403.58 1473.62 Q1407.22 1473.62 1409.02 1470.08 Q1410.85 1466.51 1410.85 1459.41 Q1410.85 1452.28 1409.02 1448.74 Q1407.22 1445.17 1403.58 1445.17 M1403.58 1441.47 Q1409.39 1441.47 1412.45 1446.07 Q1415.53 1450.66 1415.53 1459.41 Q1415.53 1468.13 1412.45 1472.74 Q1409.39 1477.32 1403.58 1477.32 Q1397.77 1477.32 1394.69 1472.74 Q1391.64 1468.13 1391.64 1459.41 Q1391.64 1450.66 1394.69 1446.07 Q1397.77 1441.47 1403.58 1441.47 Z\" fill=\"#000000\" fill-rule=\"evenodd\" fill-opacity=\"1\" /><path clip-path=\"url(#clip780)\" d=\"M 0 0 M1717.68 1472.72 L1734 1472.72 L1734 1476.65 L1712.05 1476.65 L1712.05 1472.72 Q1714.71 1469.96 1719.3 1465.33 Q1723.9 1460.68 1725.08 1459.34 Q1727.33 1456.81 1728.21 1455.08 Q1729.11 1453.32 1729.11 1451.63 Q1729.11 1448.87 1727.17 1447.14 Q1725.25 1445.4 1722.14 1445.4 Q1719.94 1445.4 1717.49 1446.17 Q1715.06 1446.93 1712.28 1448.48 L1712.28 1443.76 Q1715.11 1442.62 1717.56 1442.05 Q1720.01 1441.47 1722.05 1441.47 Q1727.42 1441.47 1730.62 1444.15 Q1733.81 1446.84 1733.81 1451.33 Q1733.81 1453.46 1733 1455.38 Q1732.21 1457.28 1730.11 1459.87 Q1729.53 1460.54 1726.43 1463.76 Q1723.32 1466.95 1717.68 1472.72 Z\" fill=\"#000000\" fill-rule=\"evenodd\" fill-opacity=\"1\" /><path clip-path=\"url(#clip780)\" d=\"M 0 0 M1749.06 1445.17 Q1745.45 1445.17 1743.62 1448.74 Q1741.82 1452.28 1741.82 1459.41 Q1741.82 1466.51 1743.62 1470.08 Q1745.45 1473.62 1749.06 1473.62 Q1752.7 1473.62 1754.5 1470.08 Q1756.33 1466.51 1756.33 1459.41 Q1756.33 1452.28 1754.5 1448.74 Q1752.7 1445.17 1749.06 1445.17 M1749.06 1441.47 Q1754.87 1441.47 1757.93 1446.07 Q1761.01 1450.66 1761.01 1459.41 Q1761.01 1468.13 1757.93 1472.74 Q1754.87 1477.32 1749.06 1477.32 Q1743.25 1477.32 1740.18 1472.74 Q1737.12 1468.13 1737.12 1459.41 Q1737.12 1450.66 1740.18 1446.07 Q1743.25 1441.47 1749.06 1441.47 Z\" fill=\"#000000\" fill-rule=\"evenodd\" fill-opacity=\"1\" /><path clip-path=\"url(#clip780)\" d=\"M 0 0 M1776.08 1445.17 Q1772.47 1445.17 1770.64 1448.74 Q1768.83 1452.28 1768.83 1459.41 Q1768.83 1466.51 1770.64 1470.08 Q1772.47 1473.62 1776.08 1473.62 Q1779.71 1473.62 1781.52 1470.08 Q1783.35 1466.51 1783.35 1459.41 Q1783.35 1452.28 1781.52 1448.74 Q1779.71 1445.17 1776.08 1445.17 M1776.08 1441.47 Q1781.89 1441.47 1784.94 1446.07 Q1788.02 1450.66 1788.02 1459.41 Q1788.02 1468.13 1784.94 1472.74 Q1781.89 1477.32 1776.08 1477.32 Q1770.27 1477.32 1767.19 1472.74 Q1764.13 1468.13 1764.13 1459.41 Q1764.13 1450.66 1767.19 1446.07 Q1770.27 1441.47 1776.08 1441.47 Z\" fill=\"#000000\" fill-rule=\"evenodd\" fill-opacity=\"1\" /><path clip-path=\"url(#clip780)\" d=\"M 0 0 M2089.49 1472.72 L2105.81 1472.72 L2105.81 1476.65 L2083.86 1476.65 L2083.86 1472.72 Q2086.53 1469.96 2091.11 1465.33 Q2095.72 1460.68 2096.9 1459.34 Q2099.14 1456.81 2100.02 1455.08 Q2100.92 1453.32 2100.92 1451.63 Q2100.92 1448.87 2098.98 1447.14 Q2097.06 1445.4 2093.96 1445.4 Q2091.76 1445.4 2089.3 1446.17 Q2086.87 1446.93 2084.1 1448.48 L2084.1 1443.76 Q2086.92 1442.62 2089.37 1442.05 Q2091.83 1441.47 2093.86 1441.47 Q2099.23 1441.47 2102.43 1444.15 Q2105.62 1446.84 2105.62 1451.33 Q2105.62 1453.46 2104.81 1455.38 Q2104.03 1457.28 2101.92 1459.87 Q2101.34 1460.54 2098.24 1463.76 Q2095.14 1466.95 2089.49 1472.72 Z\" fill=\"#000000\" fill-rule=\"evenodd\" fill-opacity=\"1\" /><path clip-path=\"url(#clip780)\" d=\"M 0 0 M2110.92 1442.09 L2129.28 1442.09 L2129.28 1446.03 L2115.21 1446.03 L2115.21 1454.5 Q2116.22 1454.15 2117.24 1453.99 Q2118.26 1453.8 2119.28 1453.8 Q2125.07 1453.8 2128.45 1456.98 Q2131.83 1460.15 2131.83 1465.56 Q2131.83 1471.14 2128.35 1474.24 Q2124.88 1477.32 2118.56 1477.32 Q2116.39 1477.32 2114.12 1476.95 Q2111.87 1476.58 2109.47 1475.84 L2109.47 1471.14 Q2111.55 1472.28 2113.77 1472.83 Q2115.99 1473.39 2118.47 1473.39 Q2122.47 1473.39 2124.81 1471.28 Q2127.15 1469.18 2127.15 1465.56 Q2127.15 1461.95 2124.81 1459.85 Q2122.47 1457.74 2118.47 1457.74 Q2116.6 1457.74 2114.72 1458.16 Q2112.87 1458.57 2110.92 1459.45 L2110.92 1442.09 Z\" fill=\"#000000\" fill-rule=\"evenodd\" fill-opacity=\"1\" /><path clip-path=\"url(#clip780)\" d=\"M 0 0 M2146.9 1445.17 Q2143.28 1445.17 2141.46 1448.74 Q2139.65 1452.28 2139.65 1459.41 Q2139.65 1466.51 2141.46 1470.08 Q2143.28 1473.62 2146.9 1473.62 Q2150.53 1473.62 2152.34 1470.08 Q2154.16 1466.51 2154.16 1459.41 Q2154.16 1452.28 2152.34 1448.74 Q2150.53 1445.17 2146.9 1445.17 M2146.9 1441.47 Q2152.71 1441.47 2155.76 1446.07 Q2158.84 1450.66 2158.84 1459.41 Q2158.84 1468.13 2155.76 1472.74 Q2152.71 1477.32 2146.9 1477.32 Q2141.09 1477.32 2138.01 1472.74 Q2134.95 1468.13 2134.95 1459.41 Q2134.95 1450.66 2138.01 1446.07 Q2141.09 1441.47 2146.9 1441.47 Z\" fill=\"#000000\" fill-rule=\"evenodd\" fill-opacity=\"1\" /><path clip-path=\"url(#clip780)\" d=\"M 0 0 M140.288 1319.17 Q136.677 1319.17 134.848 1322.73 Q133.043 1326.27 133.043 1333.4 Q133.043 1340.51 134.848 1344.07 Q136.677 1347.61 140.288 1347.61 Q143.922 1347.61 145.728 1344.07 Q147.556 1340.51 147.556 1333.4 Q147.556 1326.27 145.728 1322.73 Q143.922 1319.17 140.288 1319.17 M140.288 1315.46 Q146.098 1315.46 149.154 1320.07 Q152.232 1324.65 152.232 1333.4 Q152.232 1342.13 149.154 1346.73 Q146.098 1351.32 140.288 1351.32 Q134.478 1351.32 131.399 1346.73 Q128.343 1342.13 128.343 1333.4 Q128.343 1324.65 131.399 1320.07 Q134.478 1315.46 140.288 1315.46 Z\" fill=\"#000000\" fill-rule=\"evenodd\" fill-opacity=\"1\" /><path clip-path=\"url(#clip780)\" d=\"M 0 0 M157.302 1344.77 L162.186 1344.77 L162.186 1350.65 L157.302 1350.65 L157.302 1344.77 Z\" fill=\"#000000\" fill-rule=\"evenodd\" fill-opacity=\"1\" /><path clip-path=\"url(#clip780)\" d=\"M 0 0 M171.283 1346.71 L187.602 1346.71 L187.602 1350.65 L165.658 1350.65 L165.658 1346.71 Q168.32 1343.96 172.903 1339.33 Q177.51 1334.67 178.69 1333.33 Q180.936 1330.81 181.815 1329.07 Q182.718 1327.31 182.718 1325.62 Q182.718 1322.87 180.774 1321.13 Q178.852 1319.4 175.751 1319.4 Q173.552 1319.4 171.098 1320.16 Q168.667 1320.92 165.89 1322.48 L165.89 1317.75 Q168.714 1316.62 171.167 1316.04 Q173.621 1315.46 175.658 1315.46 Q181.028 1315.46 184.223 1318.15 Q187.417 1320.83 187.417 1325.32 Q187.417 1327.45 186.607 1329.37 Q185.82 1331.27 183.714 1333.86 Q183.135 1334.54 180.033 1337.75 Q176.931 1340.95 171.283 1346.71 Z\" fill=\"#000000\" fill-rule=\"evenodd\" fill-opacity=\"1\" /><path clip-path=\"url(#clip780)\" d=\"M 0 0 M138.205 1020.25 Q134.593 1020.25 132.765 1023.81 Q130.959 1027.35 130.959 1034.48 Q130.959 1041.59 132.765 1045.15 Q134.593 1048.7 138.205 1048.7 Q141.839 1048.7 143.644 1045.15 Q145.473 1041.59 145.473 1034.48 Q145.473 1027.35 143.644 1023.81 Q141.839 1020.25 138.205 1020.25 M138.205 1016.54 Q144.015 1016.54 147.07 1021.15 Q150.149 1025.73 150.149 1034.48 Q150.149 1043.21 147.07 1047.82 Q144.015 1052.4 138.205 1052.4 Q132.394 1052.4 129.316 1047.82 Q126.26 1043.21 126.26 1034.48 Q126.26 1025.73 129.316 1021.15 Q132.394 1016.54 138.205 1016.54 Z\" fill=\"#000000\" fill-rule=\"evenodd\" fill-opacity=\"1\" /><path clip-path=\"url(#clip780)\" d=\"M 0 0 M155.218 1045.85 L160.103 1045.85 L160.103 1051.73 L155.218 1051.73 L155.218 1045.85 Z\" fill=\"#000000\" fill-rule=\"evenodd\" fill-opacity=\"1\" /><path clip-path=\"url(#clip780)\" d=\"M 0 0 M178.019 1021.24 L166.214 1039.69 L178.019 1039.69 L178.019 1021.24 M176.792 1017.17 L182.672 1017.17 L182.672 1039.69 L187.602 1039.69 L187.602 1043.58 L182.672 1043.58 L182.672 1051.73 L178.019 1051.73 L178.019 1043.58 L162.417 1043.58 L162.417 1039.07 L176.792 1017.17 Z\" fill=\"#000000\" fill-rule=\"evenodd\" fill-opacity=\"1\" /><path clip-path=\"url(#clip780)\" d=\"M 0 0 M138.529 721.33 Q134.918 721.33 133.089 724.895 Q131.283 728.437 131.283 735.566 Q131.283 742.673 133.089 746.238 Q134.918 749.779 138.529 749.779 Q142.163 749.779 143.968 746.238 Q145.797 742.673 145.797 735.566 Q145.797 728.437 143.968 724.895 Q142.163 721.33 138.529 721.33 M138.529 717.627 Q144.339 717.627 147.394 722.233 Q150.473 726.816 150.473 735.566 Q150.473 744.293 147.394 748.9 Q144.339 753.483 138.529 753.483 Q132.718 753.483 129.64 748.9 Q126.584 744.293 126.584 735.566 Q126.584 726.816 129.64 722.233 Q132.718 717.627 138.529 717.627 Z\" fill=\"#000000\" fill-rule=\"evenodd\" fill-opacity=\"1\" /><path clip-path=\"url(#clip780)\" d=\"M 0 0 M155.542 746.932 L160.427 746.932 L160.427 752.812 L155.542 752.812 L155.542 746.932 Z\" fill=\"#000000\" fill-rule=\"evenodd\" fill-opacity=\"1\" /><path clip-path=\"url(#clip780)\" d=\"M 0 0 M176.075 733.668 Q172.927 733.668 171.075 735.821 Q169.246 737.974 169.246 741.724 Q169.246 745.451 171.075 747.627 Q172.927 749.779 176.075 749.779 Q179.223 749.779 181.052 747.627 Q182.903 745.451 182.903 741.724 Q182.903 737.974 181.052 735.821 Q179.223 733.668 176.075 733.668 M185.357 719.016 L185.357 723.275 Q183.598 722.441 181.792 722.002 Q180.01 721.562 178.251 721.562 Q173.621 721.562 171.167 724.687 Q168.737 727.812 168.39 734.131 Q169.755 732.117 171.815 731.053 Q173.876 729.965 176.352 729.965 Q181.561 729.965 184.57 733.136 Q187.602 736.284 187.602 741.724 Q187.602 747.048 184.454 750.265 Q181.306 753.483 176.075 753.483 Q170.079 753.483 166.908 748.9 Q163.737 744.293 163.737 735.566 Q163.737 727.372 167.626 722.511 Q171.515 717.627 178.065 717.627 Q179.825 717.627 181.607 717.974 Q183.413 718.321 185.357 719.016 Z\" fill=\"#000000\" fill-rule=\"evenodd\" fill-opacity=\"1\" /><path clip-path=\"url(#clip780)\" d=\"M 0 0 M138.783 422.413 Q135.172 422.413 133.343 425.978 Q131.538 429.52 131.538 436.649 Q131.538 443.756 133.343 447.32 Q135.172 450.862 138.783 450.862 Q142.417 450.862 144.223 447.32 Q146.052 443.756 146.052 436.649 Q146.052 429.52 144.223 425.978 Q142.417 422.413 138.783 422.413 M138.783 418.709 Q144.593 418.709 147.649 423.316 Q150.728 427.899 150.728 436.649 Q150.728 445.376 147.649 449.982 Q144.593 454.566 138.783 454.566 Q132.973 454.566 129.894 449.982 Q126.839 445.376 126.839 436.649 Q126.839 427.899 129.894 423.316 Q132.973 418.709 138.783 418.709 Z\" fill=\"#000000\" fill-rule=\"evenodd\" fill-opacity=\"1\" /><path clip-path=\"url(#clip780)\" d=\"M 0 0 M155.797 448.015 L160.681 448.015 L160.681 453.894 L155.797 453.894 L155.797 448.015 Z\" fill=\"#000000\" fill-rule=\"evenodd\" fill-opacity=\"1\" /><path clip-path=\"url(#clip780)\" d=\"M 0 0 M175.751 437.482 Q172.417 437.482 170.496 439.265 Q168.598 441.047 168.598 444.172 Q168.598 447.297 170.496 449.08 Q172.417 450.862 175.751 450.862 Q179.084 450.862 181.005 449.08 Q182.927 447.274 182.927 444.172 Q182.927 441.047 181.005 439.265 Q179.107 437.482 175.751 437.482 M171.075 435.492 Q168.065 434.751 166.376 432.691 Q164.709 430.631 164.709 427.668 Q164.709 423.524 167.649 421.117 Q170.612 418.709 175.751 418.709 Q180.913 418.709 183.852 421.117 Q186.792 423.524 186.792 427.668 Q186.792 430.631 185.102 432.691 Q183.436 434.751 180.45 435.492 Q183.829 436.279 185.704 438.57 Q187.602 440.862 187.602 444.172 Q187.602 449.195 184.524 451.88 Q181.468 454.566 175.751 454.566 Q170.033 454.566 166.954 451.88 Q163.899 449.195 163.899 444.172 Q163.899 440.862 165.797 438.57 Q167.695 436.279 171.075 435.492 M169.362 428.107 Q169.362 430.793 171.028 432.297 Q172.718 433.802 175.751 433.802 Q178.76 433.802 180.45 432.297 Q182.163 430.793 182.163 428.107 Q182.163 425.422 180.45 423.918 Q178.76 422.413 175.751 422.413 Q172.718 422.413 171.028 423.918 Q169.362 425.422 169.362 428.107 Z\" fill=\"#000000\" fill-rule=\"evenodd\" fill-opacity=\"1\" /><path clip-path=\"url(#clip780)\" d=\"M 0 0 M130.728 151.042 L138.367 151.042 L138.367 124.676 L130.056 126.343 L130.056 122.084 L138.32 120.417 L142.996 120.417 L142.996 151.042 L150.635 151.042 L150.635 154.977 L130.728 154.977 L130.728 151.042 Z\" fill=\"#000000\" fill-rule=\"evenodd\" fill-opacity=\"1\" /><path clip-path=\"url(#clip780)\" d=\"M 0 0 M155.704 149.097 L160.589 149.097 L160.589 154.977 L155.704 154.977 L155.704 149.097 Z\" fill=\"#000000\" fill-rule=\"evenodd\" fill-opacity=\"1\" /><path clip-path=\"url(#clip780)\" d=\"M 0 0 M175.658 123.496 Q172.047 123.496 170.218 127.061 Q168.413 130.602 168.413 137.732 Q168.413 144.838 170.218 148.403 Q172.047 151.945 175.658 151.945 Q179.292 151.945 181.098 148.403 Q182.927 144.838 182.927 137.732 Q182.927 130.602 181.098 127.061 Q179.292 123.496 175.658 123.496 M175.658 119.792 Q181.468 119.792 184.524 124.399 Q187.602 128.982 187.602 137.732 Q187.602 146.459 184.524 151.065 Q181.468 155.648 175.658 155.648 Q169.848 155.648 166.769 151.065 Q163.714 146.459 163.714 137.732 Q163.714 128.982 166.769 124.399 Q169.848 119.792 175.658 119.792 Z\" fill=\"#000000\" fill-rule=\"evenodd\" fill-opacity=\"1\" /><path clip-path=\"url(#clip780)\" d=\"M 0 0 M950.106 12.096 L1001.27 12.096 L1001.27 18.9825 L979.799 18.9825 L979.799 72.576 L971.576 72.576 L971.576 18.9825 L950.106 18.9825 L950.106 12.096 Z\" fill=\"#000000\" fill-rule=\"evenodd\" fill-opacity=\"1\" /><path clip-path=\"url(#clip780)\" d=\"M 0 0 M1023.18 34.1734 Q1021.93 33.4443 1020.43 33.1202 Q1018.97 32.7556 1017.19 32.7556 Q1010.87 32.7556 1007.47 36.8875 Q1004.1 40.9789 1004.1 48.6757 L1004.1 72.576 L996.611 72.576 L996.611 27.2059 L1004.1 27.2059 L1004.1 34.2544 Q1006.45 30.1225 1010.22 28.1376 Q1013.99 26.1121 1019.38 26.1121 Q1020.15 26.1121 1021.08 26.2337 Q1022.01 26.3147 1023.14 26.5172 L1023.18 34.1734 Z\" fill=\"#000000\" fill-rule=\"evenodd\" fill-opacity=\"1\" /><path clip-path=\"url(#clip780)\" d=\"M 0 0 M1051.62 49.7694 Q1042.59 49.7694 1039.1 51.8354 Q1035.62 53.9013 1035.62 58.8839 Q1035.62 62.8538 1038.21 65.2034 Q1040.85 67.5124 1045.34 67.5124 Q1051.54 67.5124 1055.27 63.1374 Q1059.04 58.7219 1059.04 51.4303 L1059.04 49.7694 L1051.62 49.7694 M1066.49 46.6907 L1066.49 72.576 L1059.04 72.576 L1059.04 65.6895 Q1056.48 69.8214 1052.68 71.8063 Q1048.87 73.7508 1043.36 73.7508 Q1036.39 73.7508 1032.26 69.8619 Q1028.17 65.9325 1028.17 59.3701 Q1028.17 51.7138 1033.27 47.825 Q1038.42 43.9361 1048.58 43.9361 L1059.04 43.9361 L1059.04 43.2069 Q1059.04 38.0623 1055.63 35.2672 Q1052.27 32.4315 1046.15 32.4315 Q1042.26 32.4315 1038.58 33.3632 Q1034.89 34.295 1031.49 36.1584 L1031.49 29.2718 Q1035.58 27.692 1039.43 26.9223 Q1043.28 26.1121 1046.92 26.1121 Q1056.77 26.1121 1061.63 31.2163 Q1066.49 36.3204 1066.49 46.6907 Z\" fill=\"#000000\" fill-rule=\"evenodd\" fill-opacity=\"1\" /><path clip-path=\"url(#clip780)\" d=\"M 0 0 M1074.31 27.2059 L1081.76 27.2059 L1081.76 72.576 L1074.31 72.576 L1074.31 27.2059 M1074.31 9.54393 L1081.76 9.54393 L1081.76 18.9825 L1074.31 18.9825 L1074.31 9.54393 Z\" fill=\"#000000\" fill-rule=\"evenodd\" fill-opacity=\"1\" /><path clip-path=\"url(#clip780)\" d=\"M 0 0 M1127.29 45.1919 L1127.29 72.576 L1119.84 72.576 L1119.84 45.4349 Q1119.84 38.994 1117.33 35.7938 Q1114.82 32.5936 1109.79 32.5936 Q1103.76 32.5936 1100.27 36.4419 Q1096.79 40.2903 1096.79 46.9338 L1096.79 72.576 L1089.3 72.576 L1089.3 27.2059 L1096.79 27.2059 L1096.79 34.2544 Q1099.46 30.163 1103.07 28.1376 Q1106.71 26.1121 1111.45 26.1121 Q1119.27 26.1121 1123.28 30.9732 Q1127.29 35.7938 1127.29 45.1919 Z\" fill=\"#000000\" fill-rule=\"evenodd\" fill-opacity=\"1\" /><path clip-path=\"url(#clip780)\" d=\"M 0 0 M1156.14 27.2059 L1164.03 27.2059 L1178.21 65.2844 L1192.39 27.2059 L1200.29 27.2059 L1183.28 72.576 L1173.15 72.576 L1156.14 27.2059 Z\" fill=\"#000000\" fill-rule=\"evenodd\" fill-opacity=\"1\" /><path clip-path=\"url(#clip780)\" d=\"M 0 0 M1237.03 28.5427 L1237.03 35.5912 Q1233.87 33.9709 1230.47 33.1607 Q1227.07 32.3505 1223.42 32.3505 Q1217.87 32.3505 1215.08 34.0519 Q1212.32 35.7533 1212.32 39.156 Q1212.32 41.7486 1214.31 43.2475 Q1216.29 44.7058 1222.29 46.0426 L1224.84 46.6097 Q1232.78 48.3111 1236.1 51.4303 Q1239.46 54.509 1239.46 60.0587 Q1239.46 66.3781 1234.44 70.0644 Q1229.46 73.7508 1220.71 73.7508 Q1217.06 73.7508 1213.09 73.0216 Q1209.16 72.3329 1204.79 70.9151 L1204.79 63.2184 Q1208.92 65.3654 1212.93 66.4591 Q1216.94 67.5124 1220.87 67.5124 Q1226.13 67.5124 1228.97 65.73 Q1231.81 63.9071 1231.81 60.6258 Q1231.81 57.5877 1229.74 55.9673 Q1227.71 54.3469 1220.79 52.8481 L1218.2 52.2405 Q1211.27 50.7821 1208.19 47.7845 Q1205.11 44.7463 1205.11 39.4801 Q1205.11 33.0797 1209.65 29.5959 Q1214.18 26.1121 1222.53 26.1121 Q1226.66 26.1121 1230.31 26.7198 Q1233.95 27.3274 1237.03 28.5427 Z\" fill=\"#000000\" fill-rule=\"evenodd\" fill-opacity=\"1\" /><path clip-path=\"url(#clip780)\" d=\"M 0 0 M1265.59 12.096 L1316.75 12.096 L1316.75 18.9825 L1295.28 18.9825 L1295.28 72.576 L1287.06 72.576 L1287.06 18.9825 L1265.59 18.9825 L1265.59 12.096 Z\" fill=\"#000000\" fill-rule=\"evenodd\" fill-opacity=\"1\" /><path clip-path=\"url(#clip780)\" d=\"M 0 0 M1349.28 48.0275 L1349.28 51.6733 L1315.01 51.6733 Q1315.5 59.3701 1319.63 63.421 Q1323.8 67.4314 1331.22 67.4314 Q1335.51 67.4314 1339.52 66.3781 Q1343.57 65.3249 1347.54 63.2184 L1347.54 70.267 Q1343.53 71.9684 1339.32 72.8596 Q1335.1 73.7508 1330.77 73.7508 Q1319.91 73.7508 1313.55 67.4314 Q1307.23 61.1119 1307.23 50.3365 Q1307.23 39.1965 1313.23 32.6746 Q1319.27 26.1121 1329.47 26.1121 Q1338.63 26.1121 1343.94 32.0264 Q1349.28 37.9003 1349.28 48.0275 M1341.83 45.84 Q1341.75 39.7232 1338.39 36.0774 Q1335.06 32.4315 1329.55 32.4315 Q1323.32 32.4315 1319.55 35.9558 Q1315.82 39.4801 1315.25 45.8805 L1341.83 45.84 Z\" fill=\"#000000\" fill-rule=\"evenodd\" fill-opacity=\"1\" /><path clip-path=\"url(#clip780)\" d=\"M 0 0 M1386.02 28.5427 L1386.02 35.5912 Q1382.86 33.9709 1379.46 33.1607 Q1376.06 32.3505 1372.41 32.3505 Q1366.86 32.3505 1364.07 34.0519 Q1361.31 35.7533 1361.31 39.156 Q1361.31 41.7486 1363.3 43.2475 Q1365.28 44.7058 1371.28 46.0426 L1373.83 46.6097 Q1381.77 48.3111 1385.09 51.4303 Q1388.45 54.509 1388.45 60.0587 Q1388.45 66.3781 1383.43 70.0644 Q1378.45 73.7508 1369.7 73.7508 Q1366.05 73.7508 1362.08 73.0216 Q1358.15 72.3329 1353.78 70.9151 L1353.78 63.2184 Q1357.91 65.3654 1361.92 66.4591 Q1365.93 67.5124 1369.86 67.5124 Q1375.13 67.5124 1377.96 65.73 Q1380.8 63.9071 1380.8 60.6258 Q1380.8 57.5877 1378.73 55.9673 Q1376.71 54.3469 1369.78 52.8481 L1367.19 52.2405 Q1360.26 50.7821 1357.18 47.7845 Q1354.1 44.7463 1354.1 39.4801 Q1354.1 33.0797 1358.64 29.5959 Q1363.18 26.1121 1371.52 26.1121 Q1375.65 26.1121 1379.3 26.7198 Q1382.95 27.3274 1386.02 28.5427 Z\" fill=\"#000000\" fill-rule=\"evenodd\" fill-opacity=\"1\" /><path clip-path=\"url(#clip780)\" d=\"M 0 0 M1403.65 14.324 L1403.65 27.2059 L1419 27.2059 L1419 32.9987 L1403.65 32.9987 L1403.65 57.6282 Q1403.65 63.1779 1405.14 64.7578 Q1406.68 66.3376 1411.34 66.3376 L1419 66.3376 L1419 72.576 L1411.34 72.576 Q1402.71 72.576 1399.43 69.3758 Q1396.15 66.1351 1396.15 57.6282 L1396.15 32.9987 L1390.68 32.9987 L1390.68 27.2059 L1396.15 27.2059 L1396.15 14.324 L1403.65 14.324 Z\" fill=\"#000000\" fill-rule=\"evenodd\" fill-opacity=\"1\" /><path clip-path=\"url(#clip780)\" d=\"M 0 0 M1453.51 12.096 L1461.69 12.096 L1461.69 65.6895 L1491.15 65.6895 L1491.15 72.576 L1453.51 72.576 L1453.51 12.096 Z\" fill=\"#000000\" fill-rule=\"evenodd\" fill-opacity=\"1\" /><path clip-path=\"url(#clip780)\" d=\"M 0 0 M1515.09 32.4315 Q1509.09 32.4315 1505.61 37.1306 Q1502.12 41.7891 1502.12 49.9314 Q1502.12 58.0738 1505.57 62.7728 Q1509.05 67.4314 1515.09 67.4314 Q1521.04 67.4314 1524.52 62.7323 Q1528.01 58.0333 1528.01 49.9314 Q1528.01 41.8701 1524.52 37.1711 Q1521.04 32.4315 1515.09 32.4315 M1515.09 26.1121 Q1524.81 26.1121 1530.36 32.4315 Q1535.91 38.7509 1535.91 49.9314 Q1535.91 61.0714 1530.36 67.4314 Q1524.81 73.7508 1515.09 73.7508 Q1505.32 73.7508 1499.77 67.4314 Q1494.26 61.0714 1494.26 49.9314 Q1494.26 38.7509 1499.77 32.4315 Q1505.32 26.1121 1515.09 26.1121 Z\" fill=\"#000000\" fill-rule=\"evenodd\" fill-opacity=\"1\" /><path clip-path=\"url(#clip780)\" d=\"M 0 0 M1572.65 28.5427 L1572.65 35.5912 Q1569.49 33.9709 1566.09 33.1607 Q1562.68 32.3505 1559.04 32.3505 Q1553.49 32.3505 1550.69 34.0519 Q1547.94 35.7533 1547.94 39.156 Q1547.94 41.7486 1549.92 43.2475 Q1551.91 44.7058 1557.9 46.0426 L1560.46 46.6097 Q1568.4 48.3111 1571.72 51.4303 Q1575.08 54.509 1575.08 60.0587 Q1575.08 66.3781 1570.06 70.0644 Q1565.07 73.7508 1556.32 73.7508 Q1552.68 73.7508 1548.71 73.0216 Q1544.78 72.3329 1540.4 70.9151 L1540.4 63.2184 Q1544.54 65.3654 1548.55 66.4591 Q1552.56 67.5124 1556.49 67.5124 Q1561.75 67.5124 1564.59 65.73 Q1567.42 63.9071 1567.42 60.6258 Q1567.42 57.5877 1565.36 55.9673 Q1563.33 54.3469 1556.41 52.8481 L1553.81 52.2405 Q1546.89 50.7821 1543.81 47.7845 Q1540.73 44.7463 1540.73 39.4801 Q1540.73 33.0797 1545.27 29.5959 Q1549.8 26.1121 1558.15 26.1121 Q1562.28 26.1121 1565.92 26.7198 Q1569.57 27.3274 1572.65 28.5427 Z\" fill=\"#000000\" fill-rule=\"evenodd\" fill-opacity=\"1\" /><path clip-path=\"url(#clip780)\" d=\"M 0 0 M1611.82 28.5427 L1611.82 35.5912 Q1608.66 33.9709 1605.26 33.1607 Q1601.86 32.3505 1598.21 32.3505 Q1592.66 32.3505 1589.87 34.0519 Q1587.11 35.7533 1587.11 39.156 Q1587.11 41.7486 1589.1 43.2475 Q1591.08 44.7058 1597.08 46.0426 L1599.63 46.6097 Q1607.57 48.3111 1610.89 51.4303 Q1614.25 54.509 1614.25 60.0587 Q1614.25 66.3781 1609.23 70.0644 Q1604.25 73.7508 1595.5 73.7508 Q1591.85 73.7508 1587.88 73.0216 Q1583.95 72.3329 1579.58 70.9151 L1579.58 63.2184 Q1583.71 65.3654 1587.72 66.4591 Q1591.73 67.5124 1595.66 67.5124 Q1600.92 67.5124 1603.76 65.73 Q1606.6 63.9071 1606.6 60.6258 Q1606.6 57.5877 1604.53 55.9673 Q1602.5 54.3469 1595.58 52.8481 L1592.98 52.2405 Q1586.06 50.7821 1582.98 47.7845 Q1579.9 44.7463 1579.9 39.4801 Q1579.9 33.0797 1584.44 29.5959 Q1588.97 26.1121 1597.32 26.1121 Q1601.45 26.1121 1605.1 26.7198 Q1608.74 27.3274 1611.82 28.5427 Z\" fill=\"#000000\" fill-rule=\"evenodd\" fill-opacity=\"1\" /><path clip-path=\"url(#clip780)\" d=\"M 0 0 M1024.93 1530.04 L1024.93 1535.71 Q1021.58 1538.22 1018.72 1539.3 Q1015.89 1540.38 1012.8 1540.38 Q1009.3 1540.38 1004.65 1538.51 Q1004.3 1538.38 1004.14 1538.32 Q1003.92 1538.22 1003.44 1538.06 Q998.507 1536.09 995.515 1536.09 Q992.715 1536.09 989.977 1537.33 Q987.24 1538.54 984.121 1541.18 L984.121 1535.51 Q987.463 1533 990.296 1531.92 Q993.16 1530.8 996.248 1530.8 Q999.749 1530.8 1004.43 1532.71 Q1004.75 1532.84 1004.9 1532.9 Q1005.16 1533 1005.61 1533.16 Q1010.54 1535.13 1013.53 1535.13 Q1016.27 1535.13 1018.94 1533.92 Q1021.65 1532.71 1024.93 1530.04 Z\" fill=\"#000000\" fill-rule=\"evenodd\" fill-opacity=\"1\" /><path clip-path=\"url(#clip780)\" d=\"M 0 0 M1053.79 1521.45 L1053.79 1526.98 Q1051.31 1525.71 1048.64 1525.07 Q1045.96 1524.44 1043.1 1524.44 Q1038.74 1524.44 1036.54 1525.77 Q1034.38 1527.11 1034.38 1529.79 Q1034.38 1531.82 1035.94 1533 Q1037.5 1534.15 1042.21 1535.2 L1044.21 1535.64 Q1050.45 1536.98 1053.06 1539.43 Q1055.7 1541.85 1055.7 1546.21 Q1055.7 1551.17 1051.76 1554.07 Q1047.84 1556.97 1040.97 1556.97 Q1038.1 1556.97 1034.98 1556.39 Q1031.9 1555.85 1028.46 1554.74 L1028.46 1548.69 Q1031.7 1550.38 1034.86 1551.24 Q1038.01 1552.07 1041.09 1552.07 Q1045.23 1552.07 1047.46 1550.66 Q1049.69 1549.23 1049.69 1546.65 Q1049.69 1544.27 1048.06 1542.99 Q1046.47 1541.72 1041.03 1540.54 L1038.99 1540.07 Q1033.55 1538.92 1031.13 1536.56 Q1028.71 1534.18 1028.71 1530.04 Q1028.71 1525.01 1032.28 1522.27 Q1035.84 1519.54 1042.4 1519.54 Q1045.65 1519.54 1048.51 1520.01 Q1051.37 1520.49 1053.79 1521.45 Z\" fill=\"#000000\" fill-rule=\"evenodd\" fill-opacity=\"1\" /><path clip-path=\"url(#clip780)\" d=\"M 0 0 M1092.34 1536.76 L1092.34 1539.62 L1065.41 1539.62 Q1065.79 1545.67 1069.04 1548.85 Q1072.32 1552 1078.14 1552 Q1081.52 1552 1084.67 1551.17 Q1087.85 1550.35 1090.97 1548.69 L1090.97 1554.23 Q1087.82 1555.57 1084.51 1556.27 Q1081.2 1556.97 1077.79 1556.97 Q1069.26 1556.97 1064.27 1552 Q1059.3 1547.04 1059.3 1538.57 Q1059.3 1529.82 1064.01 1524.69 Q1068.75 1519.54 1076.77 1519.54 Q1083.97 1519.54 1088.14 1524.18 Q1092.34 1528.8 1092.34 1536.76 M1086.48 1535.04 Q1086.42 1530.23 1083.78 1527.37 Q1081.17 1524.5 1076.84 1524.5 Q1071.94 1524.5 1068.98 1527.27 Q1066.05 1530.04 1065.6 1535.07 L1086.48 1535.04 Z\" fill=\"#000000\" fill-rule=\"evenodd\" fill-opacity=\"1\" /><path clip-path=\"url(#clip780)\" d=\"M 0 0 M1124.13 1521.76 L1124.13 1527.24 Q1121.65 1525.87 1119.14 1525.2 Q1116.65 1524.5 1114.11 1524.5 Q1108.41 1524.5 1105.26 1528.13 Q1102.11 1531.73 1102.11 1538.25 Q1102.11 1544.78 1105.26 1548.4 Q1108.41 1552 1114.11 1552 Q1116.65 1552 1119.14 1551.33 Q1121.65 1550.63 1124.13 1549.26 L1124.13 1554.68 Q1121.68 1555.82 1119.04 1556.39 Q1116.43 1556.97 1113.47 1556.97 Q1105.42 1556.97 1100.68 1551.91 Q1095.93 1546.85 1095.93 1538.25 Q1095.93 1529.53 1100.71 1524.53 Q1105.51 1519.54 1113.85 1519.54 Q1116.56 1519.54 1119.14 1520.11 Q1121.72 1520.65 1124.13 1521.76 Z\" fill=\"#000000\" fill-rule=\"evenodd\" fill-opacity=\"1\" /><path clip-path=\"url(#clip780)\" d=\"M 0 0 M1144.09 1524.5 Q1139.38 1524.5 1136.64 1528.19 Q1133.91 1531.85 1133.91 1538.25 Q1133.91 1544.65 1136.61 1548.34 Q1139.35 1552 1144.09 1552 Q1148.77 1552 1151.51 1548.31 Q1154.24 1544.62 1154.24 1538.25 Q1154.24 1531.92 1151.51 1528.23 Q1148.77 1524.5 1144.09 1524.5 M1144.09 1519.54 Q1151.73 1519.54 1156.09 1524.5 Q1160.45 1529.47 1160.45 1538.25 Q1160.45 1547 1156.09 1552 Q1151.73 1556.97 1144.09 1556.97 Q1136.42 1556.97 1132.06 1552 Q1127.73 1547 1127.73 1538.25 Q1127.73 1529.47 1132.06 1524.5 Q1136.42 1519.54 1144.09 1519.54 Z\" fill=\"#000000\" fill-rule=\"evenodd\" fill-opacity=\"1\" /><path clip-path=\"url(#clip780)\" d=\"M 0 0 M1196.23 1534.53 L1196.23 1556.04 L1190.37 1556.04 L1190.37 1534.72 Q1190.37 1529.66 1188.4 1527.14 Q1186.42 1524.63 1182.48 1524.63 Q1177.73 1524.63 1175 1527.65 Q1172.26 1530.68 1172.26 1535.9 L1172.26 1556.04 L1166.37 1556.04 L1166.37 1520.4 L1172.26 1520.4 L1172.26 1525.93 Q1174.36 1522.72 1177.19 1521.13 Q1180.06 1519.54 1183.78 1519.54 Q1189.92 1519.54 1193.08 1523.36 Q1196.23 1527.14 1196.23 1534.53 Z\" fill=\"#000000\" fill-rule=\"evenodd\" fill-opacity=\"1\" /><path clip-path=\"url(#clip780)\" d=\"M 0 0 M1225.83 1525.81 L1225.83 1506.52 L1231.68 1506.52 L1231.68 1556.04 L1225.83 1556.04 L1225.83 1550.7 Q1223.98 1553.88 1221.15 1555.44 Q1218.35 1556.97 1214.4 1556.97 Q1207.94 1556.97 1203.87 1551.81 Q1199.82 1546.65 1199.82 1538.25 Q1199.82 1529.85 1203.87 1524.69 Q1207.94 1519.54 1214.4 1519.54 Q1218.35 1519.54 1221.15 1521.1 Q1223.98 1522.62 1225.83 1525.81 M1205.87 1538.25 Q1205.87 1544.71 1208.51 1548.4 Q1211.19 1552.07 1215.83 1552.07 Q1220.48 1552.07 1223.15 1548.4 Q1225.83 1544.71 1225.83 1538.25 Q1225.83 1531.79 1223.15 1528.13 Q1220.48 1524.44 1215.83 1524.44 Q1211.19 1524.44 1208.51 1528.13 Q1205.87 1531.79 1205.87 1538.25 Z\" fill=\"#000000\" fill-rule=\"evenodd\" fill-opacity=\"1\" /><path clip-path=\"url(#clip780)\" d=\"M 0 0 M1260.55 1521.45 L1260.55 1526.98 Q1258.07 1525.71 1255.4 1525.07 Q1252.72 1524.44 1249.86 1524.44 Q1245.5 1524.44 1243.3 1525.77 Q1241.14 1527.11 1241.14 1529.79 Q1241.14 1531.82 1242.7 1533 Q1244.26 1534.15 1248.97 1535.2 L1250.97 1535.64 Q1257.21 1536.98 1259.82 1539.43 Q1262.46 1541.85 1262.46 1546.21 Q1262.46 1551.17 1258.51 1554.07 Q1254.6 1556.97 1247.72 1556.97 Q1244.86 1556.97 1241.74 1556.39 Q1238.65 1555.85 1235.22 1554.74 L1235.22 1548.69 Q1238.46 1550.38 1241.61 1551.24 Q1244.76 1552.07 1247.85 1552.07 Q1251.99 1552.07 1254.22 1550.66 Q1256.45 1549.23 1256.45 1546.65 Q1256.45 1544.27 1254.82 1542.99 Q1253.23 1541.72 1247.79 1540.54 L1245.75 1540.07 Q1240.31 1538.92 1237.89 1536.56 Q1235.47 1534.18 1235.47 1530.04 Q1235.47 1525.01 1239.04 1522.27 Q1242.6 1519.54 1249.16 1519.54 Q1252.4 1519.54 1255.27 1520.01 Q1258.13 1520.49 1260.55 1521.45 Z\" fill=\"#000000\" fill-rule=\"evenodd\" fill-opacity=\"1\" /><path clip-path=\"url(#clip780)\" d=\"M 0 0 M1303.14 1524.5 Q1298.43 1524.5 1295.69 1528.19 Q1292.95 1531.85 1292.95 1538.25 Q1292.95 1544.65 1295.66 1548.34 Q1298.4 1552 1303.14 1552 Q1307.82 1552 1310.55 1548.31 Q1313.29 1544.62 1313.29 1538.25 Q1313.29 1531.92 1310.55 1528.23 Q1307.82 1524.5 1303.14 1524.5 M1303.14 1519.54 Q1310.78 1519.54 1315.14 1524.5 Q1319.5 1529.47 1319.5 1538.25 Q1319.5 1547 1315.14 1552 Q1310.78 1556.97 1303.14 1556.97 Q1295.47 1556.97 1291.11 1552 Q1286.78 1547 1286.78 1538.25 Q1286.78 1529.47 1291.11 1524.5 Q1295.47 1519.54 1303.14 1519.54 Z\" fill=\"#000000\" fill-rule=\"evenodd\" fill-opacity=\"1\" /><path clip-path=\"url(#clip780)\" d=\"M 0 0 M1343.69 1506.52 L1343.69 1511.39 L1338.09 1511.39 Q1334.93 1511.39 1333.69 1512.66 Q1332.48 1513.93 1332.48 1517.24 L1332.48 1520.4 L1342.13 1520.4 L1342.13 1524.95 L1332.48 1524.95 L1332.48 1556.04 L1326.6 1556.04 L1326.6 1524.95 L1320.99 1524.95 L1320.99 1520.4 L1326.6 1520.4 L1326.6 1517.91 Q1326.6 1511.96 1329.36 1509.26 Q1332.13 1506.52 1338.15 1506.52 L1343.69 1506.52 Z\" fill=\"#000000\" fill-rule=\"evenodd\" fill-opacity=\"1\" /><path clip-path=\"url(#clip780)\" d=\"M 0 0 M1376.34 1510.27 L1376.34 1520.4 L1388.41 1520.4 L1388.41 1524.95 L1376.34 1524.95 L1376.34 1544.3 Q1376.34 1548.66 1377.52 1549.9 Q1378.73 1551.14 1382.39 1551.14 L1388.41 1551.14 L1388.41 1556.04 L1382.39 1556.04 Q1375.61 1556.04 1373.03 1553.53 Q1370.46 1550.98 1370.46 1544.3 L1370.46 1524.95 L1366.16 1524.95 L1366.16 1520.4 L1370.46 1520.4 L1370.46 1510.27 L1376.34 1510.27 Z\" fill=\"#000000\" fill-rule=\"evenodd\" fill-opacity=\"1\" /><path clip-path=\"url(#clip780)\" d=\"M 0 0 M1415.21 1525.87 Q1414.22 1525.3 1413.04 1525.04 Q1411.9 1524.76 1410.5 1524.76 Q1405.53 1524.76 1402.86 1528 Q1400.22 1531.22 1400.22 1537.27 L1400.22 1556.04 L1394.33 1556.04 L1394.33 1520.4 L1400.22 1520.4 L1400.22 1525.93 Q1402.06 1522.69 1405.02 1521.13 Q1407.98 1519.54 1412.21 1519.54 Q1412.82 1519.54 1413.55 1519.63 Q1414.28 1519.7 1415.17 1519.85 L1415.21 1525.87 Z\" fill=\"#000000\" fill-rule=\"evenodd\" fill-opacity=\"1\" /><path clip-path=\"url(#clip780)\" d=\"M 0 0 M1437.55 1538.12 Q1430.45 1538.12 1427.72 1539.75 Q1424.98 1541.37 1424.98 1545.29 Q1424.98 1548.4 1427.01 1550.25 Q1429.08 1552.07 1432.62 1552.07 Q1437.49 1552.07 1440.41 1548.63 Q1443.37 1545.16 1443.37 1539.43 L1443.37 1538.12 L1437.55 1538.12 M1449.23 1535.71 L1449.23 1556.04 L1443.37 1556.04 L1443.37 1550.63 Q1441.37 1553.88 1438.38 1555.44 Q1435.39 1556.97 1431.06 1556.97 Q1425.58 1556.97 1422.34 1553.91 Q1419.12 1550.82 1419.12 1545.67 Q1419.12 1539.65 1423.13 1536.6 Q1427.17 1533.54 1435.16 1533.54 L1443.37 1533.54 L1443.37 1532.97 Q1443.37 1528.93 1440.7 1526.73 Q1438.06 1524.5 1433.25 1524.5 Q1430.2 1524.5 1427.3 1525.23 Q1424.4 1525.97 1421.73 1527.43 L1421.73 1522.02 Q1424.95 1520.78 1427.97 1520.17 Q1430.99 1519.54 1433.86 1519.54 Q1441.59 1519.54 1445.41 1523.55 Q1449.23 1527.56 1449.23 1535.71 Z\" fill=\"#000000\" fill-rule=\"evenodd\" fill-opacity=\"1\" /><path clip-path=\"url(#clip780)\" d=\"M 0 0 M1455.37 1520.4 L1461.23 1520.4 L1461.23 1556.04 L1455.37 1556.04 L1455.37 1520.4 M1455.37 1506.52 L1461.23 1506.52 L1461.23 1513.93 L1455.37 1513.93 L1455.37 1506.52 Z\" fill=\"#000000\" fill-rule=\"evenodd\" fill-opacity=\"1\" /><path clip-path=\"url(#clip780)\" d=\"M 0 0 M1497.01 1534.53 L1497.01 1556.04 L1491.15 1556.04 L1491.15 1534.72 Q1491.15 1529.66 1489.18 1527.14 Q1487.2 1524.63 1483.26 1524.63 Q1478.51 1524.63 1475.78 1527.65 Q1473.04 1530.68 1473.04 1535.9 L1473.04 1556.04 L1467.15 1556.04 L1467.15 1520.4 L1473.04 1520.4 L1473.04 1525.93 Q1475.14 1522.72 1477.97 1521.13 Q1480.84 1519.54 1484.56 1519.54 Q1490.7 1519.54 1493.85 1523.36 Q1497.01 1527.14 1497.01 1534.53 Z\" fill=\"#000000\" fill-rule=\"evenodd\" fill-opacity=\"1\" /><path clip-path=\"url(#clip780)\" d=\"M 0 0 M1503.15 1520.4 L1509.01 1520.4 L1509.01 1556.04 L1503.15 1556.04 L1503.15 1520.4 M1503.15 1506.52 L1509.01 1506.52 L1509.01 1513.93 L1503.15 1513.93 L1503.15 1506.52 Z\" fill=\"#000000\" fill-rule=\"evenodd\" fill-opacity=\"1\" /><path clip-path=\"url(#clip780)\" d=\"M 0 0 M1544.78 1534.53 L1544.78 1556.04 L1538.92 1556.04 L1538.92 1534.72 Q1538.92 1529.66 1536.95 1527.14 Q1534.98 1524.63 1531.03 1524.63 Q1526.29 1524.63 1523.55 1527.65 Q1520.81 1530.68 1520.81 1535.9 L1520.81 1556.04 L1514.93 1556.04 L1514.93 1520.4 L1520.81 1520.4 L1520.81 1525.93 Q1522.91 1522.72 1525.75 1521.13 Q1528.61 1519.54 1532.34 1519.54 Q1538.48 1519.54 1541.63 1523.36 Q1544.78 1527.14 1544.78 1534.53 Z\" fill=\"#000000\" fill-rule=\"evenodd\" fill-opacity=\"1\" /><path clip-path=\"url(#clip780)\" d=\"M 0 0 M1574.38 1537.81 Q1574.38 1531.44 1571.74 1527.94 Q1569.13 1524.44 1564.39 1524.44 Q1559.68 1524.44 1557.03 1527.94 Q1554.42 1531.44 1554.42 1537.81 Q1554.42 1544.14 1557.03 1547.64 Q1559.68 1551.14 1564.39 1551.14 Q1569.13 1551.14 1571.74 1547.64 Q1574.38 1544.14 1574.38 1537.81 M1580.24 1551.62 Q1580.24 1560.72 1576.2 1565.15 Q1572.15 1569.6 1563.81 1569.6 Q1560.73 1569.6 1557.99 1569.13 Q1555.25 1568.68 1552.67 1567.72 L1552.67 1562.03 Q1555.25 1563.43 1557.77 1564.1 Q1560.28 1564.76 1562.89 1564.76 Q1568.65 1564.76 1571.52 1561.74 Q1574.38 1558.75 1574.38 1552.67 L1574.38 1549.77 Q1572.57 1552.92 1569.73 1554.48 Q1566.9 1556.04 1562.95 1556.04 Q1556.4 1556.04 1552.39 1551.05 Q1548.38 1546.05 1548.38 1537.81 Q1548.38 1529.53 1552.39 1524.53 Q1556.4 1519.54 1562.95 1519.54 Q1566.9 1519.54 1569.73 1521.1 Q1572.57 1522.66 1574.38 1525.81 L1574.38 1520.4 L1580.24 1520.4 L1580.24 1551.62 Z\" fill=\"#000000\" fill-rule=\"evenodd\" fill-opacity=\"1\" /><path clip-path=\"url(#clip780)\" d=\"M 0 0 M40.4842 836.474 L40.4842 830.044 L82.5933 830.044 L82.5933 806.905 L88.0042 806.905 L88.0042 836.474 L40.4842 836.474 Z\" fill=\"#000000\" fill-rule=\"evenodd\" fill-opacity=\"1\" /><path clip-path=\"url(#clip780)\" d=\"M 0 0 M56.4621 788.094 Q56.4621 792.805 60.1542 795.542 Q63.8145 798.28 70.212 798.28 Q76.6095 798.28 80.3017 795.574 Q83.9619 792.837 83.9619 788.094 Q83.9619 783.416 80.2698 780.678 Q76.5777 777.941 70.212 777.941 Q63.8781 777.941 60.186 780.678 Q56.4621 783.416 56.4621 788.094 M51.4968 788.094 Q51.4968 780.456 56.4621 776.095 Q61.4273 771.735 70.212 771.735 Q78.9649 771.735 83.9619 776.095 Q88.9272 780.456 88.9272 788.094 Q88.9272 795.765 83.9619 800.126 Q78.9649 804.454 70.212 804.454 Q61.4273 804.454 56.4621 800.126 Q51.4968 795.765 51.4968 788.094 Z\" fill=\"#000000\" fill-rule=\"evenodd\" fill-opacity=\"1\" /><path clip-path=\"url(#clip780)\" d=\"M 0 0 M53.4065 742.866 L58.9447 742.866 Q57.6716 745.349 57.035 748.022 Q56.3984 750.696 56.3984 753.56 Q56.3984 757.921 57.7352 760.117 Q59.072 762.281 61.7456 762.281 Q63.7826 762.281 64.9603 760.722 Q66.1061 759.162 67.1565 754.452 L67.6021 752.446 Q68.9389 746.208 71.3897 743.598 Q73.8086 740.956 78.1691 740.956 Q83.1344 740.956 86.0308 744.903 Q88.9272 748.818 88.9272 755.693 Q88.9272 758.558 88.3543 761.677 Q87.8132 764.764 86.6992 768.202 L80.6518 768.202 Q82.3387 764.955 83.198 761.804 Q84.0256 758.653 84.0256 755.566 Q84.0256 751.428 82.6251 749.2 Q81.1929 746.972 78.6147 746.972 Q76.2276 746.972 74.9545 748.595 Q73.6813 750.187 72.5037 755.629 L72.0262 757.666 Q70.8804 763.109 68.5251 765.528 Q66.138 767.947 62.0002 767.947 Q56.9713 767.947 54.2341 764.382 Q51.4968 760.817 51.4968 754.261 Q51.4968 751.014 51.9743 748.15 Q52.4517 745.285 53.4065 742.866 Z\" fill=\"#000000\" fill-rule=\"evenodd\" fill-opacity=\"1\" /><path clip-path=\"url(#clip780)\" d=\"M 0 0 M53.4065 712.088 L58.9447 712.088 Q57.6716 714.571 57.035 717.244 Q56.3984 719.918 56.3984 722.782 Q56.3984 727.143 57.7352 729.339 Q59.072 731.503 61.7456 731.503 Q63.7826 731.503 64.9603 729.944 Q66.1061 728.384 67.1565 723.673 L67.6021 721.668 Q68.9389 715.43 71.3897 712.82 Q73.8086 710.178 78.1691 710.178 Q83.1344 710.178 86.0308 714.125 Q88.9272 718.04 88.9272 724.915 Q88.9272 727.779 88.3543 730.899 Q87.8132 733.986 86.6992 737.423 L80.6518 737.423 Q82.3387 734.177 83.198 731.026 Q84.0256 727.875 84.0256 724.787 Q84.0256 720.65 82.6251 718.422 Q81.1929 716.194 78.6147 716.194 Q76.2276 716.194 74.9545 717.817 Q73.6813 719.408 72.5037 724.851 L72.0262 726.888 Q70.8804 732.331 68.5251 734.75 Q66.138 737.169 62.0002 737.169 Q56.9713 737.169 54.2341 733.604 Q51.4968 730.039 51.4968 723.483 Q51.4968 720.236 51.9743 717.371 Q52.4517 714.507 53.4065 712.088 Z\" fill=\"#000000\" fill-rule=\"evenodd\" fill-opacity=\"1\" /><polyline clip-path=\"url(#clip782)\" style=\"stroke:#009af9; stroke-width:4; stroke-opacity:1; fill:none\" points=\"\n",
       "  272.201,208.72 279.627,261.413 287.054,324.436 294.48,380.352 301.906,430.241 309.333,475.004 316.759,515.385 324.185,543.172 331.612,577.314 339.038,608.538 \n",
       "  346.464,637.218 353.891,663.669 361.317,688.156 368.743,710.903 376.169,726.936 383.596,747.08 391.022,761.341 398.448,779.332 405.875,796.254 413.301,812.207 \n",
       "  420.727,827.278 428.154,838.049 435.58,848.396 443.006,858.346 450.433,871.036 457.859,880.15 465.285,891.802 472.711,900.189 480.138,910.934 487.564,921.213 \n",
       "  494.99,928.635 502.417,938.172 509.843,947.325 517.269,956.119 524.696,964.575 532.122,972.716 539.548,980.56 546.975,988.125 554.401,995.428 561.827,1002.48 \n",
       "  569.253,1009.3 576.68,1015.9 584.106,1020.71 591.532,1026.95 598.959,1031.51 606.385,1037.42 613.811,1043.16 621.238,1048.74 628.664,1054.15 636.09,1058.12 \n",
       "  643.517,1062 650.943,1067.05 658.369,1071.97 665.795,1076.77 673.222,1081.44 680.648,1086 688.074,1090.44 695.501,1094.78 702.927,1099.01 710.353,1103.15 \n",
       "  717.78,1107.19 725.206,1111.14 732.632,1115 740.059,1118.79 747.485,1122.49 754.911,1126.11 762.338,1129.65 769.764,1133.13 777.19,1136.54 784.616,1139.87 \n",
       "  792.043,1143.15 799.469,1146.36 806.895,1149.51 814.322,1152.6 821.748,1155.64 829.174,1158.62 836.601,1161.55 844.027,1164.43 851.453,1167.25 858.88,1169.34 \n",
       "  866.306,1172.09 873.732,1174.79 881.158,1177.44 888.585,1180.06 896.011,1182.63 903.437,1185.16 910.864,1187.65 918.29,1190.1 925.716,1192.52 933.143,1194.89 \n",
       "  940.569,1197.24 947.995,1198.98 955.422,1201.26 962.848,1203.51 970.274,1205.73 977.7,1207.92 985.127,1210.09 992.553,1212.22 999.979,1214.32 1007.41,1216.39 \n",
       "  1014.83,1218.44 1022.26,1219.96 1029.68,1221.46 1037.11,1222.95 1044.54,1224.91 1051.96,1226.37 1059.39,1228.29 1066.82,1229.71 1074.24,1231.13 1081.67,1232.99 \n",
       "  1089.1,1234.83 1096.52,1236.65 1103.95,1238 1111.37,1239.78 1118.8,1241.1 1126.23,1242.41 1133.65,1244.15 1141.08,1245.86 1148.51,1247.55 1155.93,1249.23 \n",
       "  1163.36,1250.47 1170.78,1252.11 1178.21,1253.74 1185.64,1255.35 1193.06,1256.94 1200.49,1258.51 1207.92,1260.07 1215.34,1261.61 1222.77,1263.14 1230.19,1264.65 \n",
       "  1237.62,1265.77 1245.05,1266.89 1252.47,1268 1259.9,1269.09 1267.33,1270.55 1274.75,1271.99 1282.18,1273.41 1289.61,1274.47 1297.03,1275.52 1304.46,1276.57 \n",
       "  1311.88,1277.61 1319.31,1278.64 1326.74,1279.66 1334.16,1280.68 1341.59,1282.02 1349.02,1283.35 1356.44,1284.68 1363.87,1285.98 1371.29,1287.28 1378.72,1288.25 \n",
       "  1386.15,1289.52 1393.57,1290.79 1401,1291.73 1408.43,1292.98 1415.85,1294.22 1423.28,1295.45 1430.71,1296.36 1438.13,1297.27 1445.56,1298.17 1452.98,1299.37 \n",
       "  1460.41,1300.26 1467.84,1301.14 1475.26,1302.02 1482.69,1303.18 1490.12,1304.34 1497.54,1305.48 1504.97,1306.33 1512.39,1307.46 1519.82,1308.58 1527.25,1309.7 \n",
       "  1534.67,1310.8 1542.1,1311.9 1549.53,1312.98 1556.95,1314.06 1564.38,1315.13 1571.81,1316.19 1579.23,1317.25 1586.66,1318.3 1594.08,1319.34 1601.51,1320.37 \n",
       "  1608.94,1321.39 1616.36,1322.41 1623.79,1323.17 1631.22,1324.18 1638.64,1325.17 1646.07,1326.16 1653.49,1327.15 1660.92,1328.13 1668.35,1328.85 1675.77,1329.58 \n",
       "  1683.2,1330.54 1690.63,1331.49 1698.05,1332.44 1705.48,1333.38 1712.91,1334.09 1720.33,1335.02 1727.76,1335.71 1735.18,1336.63 1742.61,1337.54 1750.04,1338.45 \n",
       "  1757.46,1339.36 1764.89,1340.25 1772.32,1341.14 1779.74,1342.03 1787.17,1342.91 1794.59,1343.78 1802.02,1344.65 1809.45,1345.51 1816.87,1346.37 1824.3,1347.23 \n",
       "  1831.73,1348.07 1839.15,1348.92 1846.58,1349.75 1854,1350.59 1861.43,1351.41 1868.86,1352.24 1876.28,1353.05 1883.71,1353.87 1891.14,1354.68 1898.56,1355.48 \n",
       "  1905.99,1356.28 1913.42,1357.07 1920.84,1357.86 1928.27,1358.65 1935.69,1359.43 1943.12,1360.01 1950.55,1360.59 1957.97,1361.36 1965.4,1362.13 1972.83,1362.89 \n",
       "  1980.25,1363.65 1987.68,1364.21 1995.1,1364.96 2002.53,1365.52 2009.96,1366.08 2017.38,1366.64 2024.81,1367.19 2032.24,1367.74 2039.66,1368.29 2047.09,1368.84 \n",
       "  2054.52,1369.38 2061.94,1369.92 2069.37,1370.46 2076.79,1371 2084.22,1371.54 2091.65,1372.07 2099.07,1372.6 2106.5,1373.13 2113.93,1373.66 2121.35,1374.19 \n",
       "  2128.78,1374.71 2136.2,1375.23 2143.63,1375.75 2151.06,1376.27 2158.48,1376.79 2165.91,1377.3 2173.34,1377.98 2180.76,1378.49 2188.19,1379.17 2195.62,1379.67 \n",
       "  2203.04,1380.18 2210.47,1380.84 2217.89,1381.34 2225.32,1381.84 2232.75,1382.5 2240.17,1382.99 2247.6,1383.49 2255.03,1383.97 2262.45,1384.46 2269.88,1384.95 \n",
       "  2277.3,1385.43 2284.73,1385.91 2292.16,1386.4 \n",
       "  \"/>\n",
       "<polyline clip-path=\"url(#clip782)\" style=\"stroke:#e26f46; stroke-width:4; stroke-opacity:1; fill:none\" points=\"\n",
       "  272.201,160.256 279.627,211.029 287.054,271.691 294.48,325.392 301.906,373.171 309.333,415.935 316.759,454.44 324.185,480.892 331.612,513.331 339.038,542.922 \n",
       "  346.464,570.024 353.891,594.942 361.317,617.93 368.743,639.206 376.169,654.155 383.596,672.875 391.022,686.084 398.448,702.686 405.875,718.233 413.301,732.825 \n",
       "  420.727,746.551 428.154,756.323 435.58,765.679 443.006,774.645 450.433,786.034 457.859,794.18 465.285,804.55 472.711,811.984 480.138,821.467 487.564,830.492 \n",
       "  494.99,836.981 502.417,845.281 509.843,853.204 517.269,860.775 524.696,868.017 532.122,874.951 539.548,881.594 546.975,887.966 554.401,894.081 561.827,899.955 \n",
       "  569.253,905.601 576.68,911.032 584.106,914.971 591.532,920.053 598.959,923.742 606.385,928.506 613.811,933.101 621.238,937.536 628.664,941.818 636.09,944.935 \n",
       "  643.517,947.972 650.943,951.904 658.369,955.708 665.795,959.389 673.222,962.953 680.648,966.404 688.074,969.749 695.501,972.99 702.927,976.134 710.353,979.183 \n",
       "  717.78,982.143 725.206,985.015 732.632,987.805 740.059,990.514 747.485,993.147 754.911,995.706 762.338,998.195 769.764,1000.61 777.19,1002.97 784.616,1005.26 \n",
       "  792.043,1007.49 799.469,1009.66 806.895,1011.77 814.322,1013.83 821.748,1015.84 829.174,1017.79 836.601,1019.7 844.027,1021.55 851.453,1023.36 858.88,1024.69 \n",
       "  866.306,1026.43 873.732,1028.12 881.158,1029.77 888.585,1031.38 896.011,1032.95 903.437,1034.48 910.864,1035.98 918.29,1037.44 925.716,1038.87 933.143,1040.27 \n",
       "  940.569,1041.63 947.995,1042.63 955.422,1043.94 962.848,1045.22 970.274,1046.47 977.7,1047.7 985.127,1048.89 992.553,1050.06 999.979,1051.2 1007.41,1052.32 \n",
       "  1014.83,1053.41 1022.26,1054.22 1029.68,1055.01 1037.11,1055.79 1044.54,1056.8 1051.96,1057.55 1059.39,1058.53 1066.82,1059.25 1074.24,1059.96 1081.67,1060.89 \n",
       "  1089.1,1061.8 1096.52,1062.69 1103.95,1063.34 1111.37,1064.2 1118.8,1064.83 1126.23,1065.45 1133.65,1066.26 1141.08,1067.05 1148.51,1067.83 1155.93,1068.59 \n",
       "  1163.36,1069.15 1170.78,1069.88 1178.21,1070.6 1185.64,1071.31 1193.06,1071.99 1200.49,1072.67 1207.92,1073.33 1215.34,1073.98 1222.77,1074.61 1230.19,1075.23 \n",
       "  1237.62,1075.69 1245.05,1076.14 1252.47,1076.58 1259.9,1077.01 1267.33,1077.58 1274.75,1078.14 1282.18,1078.69 1289.61,1079.09 1297.03,1079.49 1304.46,1079.88 \n",
       "  1311.88,1080.26 1319.31,1080.64 1326.74,1081.01 1334.16,1081.38 1341.59,1081.85 1349.02,1082.32 1356.44,1082.78 1363.87,1083.23 1371.29,1083.67 1378.72,1083.99 \n",
       "  1386.15,1084.42 1393.57,1084.83 1401,1085.14 1408.43,1085.53 1415.85,1085.92 1423.28,1086.31 1430.71,1086.59 1438.13,1086.86 1445.56,1087.13 1452.98,1087.49 \n",
       "  1460.41,1087.75 1467.84,1088.01 1475.26,1088.26 1482.69,1088.59 1490.12,1088.91 1497.54,1089.23 1504.97,1089.46 1512.39,1089.76 1519.82,1090.06 1527.25,1090.35 \n",
       "  1534.67,1090.63 1542.1,1090.9 1549.53,1091.17 1556.95,1091.44 1564.38,1091.69 1571.81,1091.94 1579.23,1092.19 1586.66,1092.42 1594.08,1092.66 1601.51,1092.88 \n",
       "  1608.94,1093.1 1616.36,1093.32 1623.79,1093.47 1631.22,1093.68 1638.64,1093.88 1646.07,1094.07 1653.49,1094.26 1660.92,1094.44 1668.35,1094.58 1675.77,1094.71 \n",
       "  1683.2,1094.88 1690.63,1095.05 1698.05,1095.21 1705.48,1095.36 1712.91,1095.48 1720.33,1095.63 1727.76,1095.73 1735.18,1095.87 1742.61,1096.01 1750.04,1096.14 \n",
       "  1757.46,1096.27 1764.89,1096.39 1772.32,1096.51 1779.74,1096.62 1787.17,1096.73 1794.59,1096.84 1802.02,1096.94 1809.45,1097.04 1816.87,1097.13 1824.3,1097.22 \n",
       "  1831.73,1097.3 1839.15,1097.39 1846.58,1097.46 1854,1097.54 1861.43,1097.61 1868.86,1097.68 1876.28,1097.74 1883.71,1097.8 1891.14,1097.86 1898.56,1097.91 \n",
       "  1905.99,1097.96 1913.42,1098.01 1920.84,1098.05 1928.27,1098.09 1935.69,1098.13 1943.12,1098.15 1950.55,1098.18 1957.97,1098.21 1965.4,1098.23 1972.83,1098.25 \n",
       "  1980.25,1098.27 1987.68,1098.29 1995.1,1098.3 2002.53,1098.31 2009.96,1098.32 2017.38,1098.32 2024.81,1098.33 2032.24,1098.33 2039.66,1098.33 2047.09,1098.33 \n",
       "  2054.52,1098.33 2061.94,1098.32 2069.37,1098.32 2076.79,1098.31 2084.22,1098.3 2091.65,1098.29 2099.07,1098.28 2106.5,1098.27 2113.93,1098.25 2121.35,1098.24 \n",
       "  2128.78,1098.22 2136.2,1098.2 2143.63,1098.18 2151.06,1098.16 2158.48,1098.14 2165.91,1098.12 2173.34,1098.08 2180.76,1098.05 2188.19,1098.02 2195.62,1097.99 \n",
       "  2203.04,1097.95 2210.47,1097.91 2217.89,1097.88 2225.32,1097.84 2232.75,1097.79 2240.17,1097.75 2247.6,1097.71 2255.03,1097.67 2262.45,1097.63 2269.88,1097.58 \n",
       "  2277.3,1097.54 2284.73,1097.49 2292.16,1097.44 \n",
       "  \"/>\n",
       "<path clip-path=\"url(#clip780)\" d=\"\n",
       "M1945.59 388.432 L2280.76 388.432 L2280.76 206.992 L1945.59 206.992  Z\n",
       "  \" fill=\"#ffffff\" fill-rule=\"evenodd\" fill-opacity=\"1\"/>\n",
       "<polyline clip-path=\"url(#clip780)\" style=\"stroke:#000000; stroke-width:4; stroke-opacity:1; fill:none\" points=\"\n",
       "  1945.59,388.432 2280.76,388.432 2280.76,206.992 1945.59,206.992 1945.59,388.432 \n",
       "  \"/>\n",
       "<polyline clip-path=\"url(#clip780)\" style=\"stroke:#009af9; stroke-width:4; stroke-opacity:1; fill:none\" points=\"\n",
       "  1969.59,267.472 2113.59,267.472 \n",
       "  \"/>\n",
       "<path clip-path=\"url(#clip780)\" d=\"M 0 0 M2145 251.465 L2145 258.826 L2153.77 258.826 L2153.77 262.137 L2145 262.137 L2145 276.211 Q2145 279.382 2145.86 280.285 Q2146.74 281.187 2149.4 281.187 L2153.77 281.187 L2153.77 284.752 L2149.4 284.752 Q2144.47 284.752 2142.59 282.923 Q2140.72 281.072 2140.72 276.211 L2140.72 262.137 L2137.59 262.137 L2137.59 258.826 L2140.72 258.826 L2140.72 251.465 L2145 251.465 Z\" fill=\"#000000\" fill-rule=\"evenodd\" fill-opacity=\"1\" /><path clip-path=\"url(#clip780)\" d=\"M 0 0 M2173.27 262.808 Q2172.55 262.391 2171.69 262.206 Q2170.86 261.998 2169.84 261.998 Q2166.23 261.998 2164.28 264.359 Q2162.36 266.697 2162.36 271.095 L2162.36 284.752 L2158.08 284.752 L2158.08 258.826 L2162.36 258.826 L2162.36 262.854 Q2163.71 260.493 2165.86 259.359 Q2168.01 258.201 2171.09 258.201 Q2171.53 258.201 2172.06 258.271 Q2172.59 258.317 2173.24 258.433 L2173.27 262.808 Z\" fill=\"#000000\" fill-rule=\"evenodd\" fill-opacity=\"1\" /><path clip-path=\"url(#clip780)\" d=\"M 0 0 M2189.52 271.72 Q2184.35 271.72 2182.36 272.9 Q2180.37 274.081 2180.37 276.928 Q2180.37 279.197 2181.85 280.539 Q2183.36 281.859 2185.93 281.859 Q2189.47 281.859 2191.6 279.359 Q2193.75 276.836 2193.75 272.669 L2193.75 271.72 L2189.52 271.72 M2198.01 269.961 L2198.01 284.752 L2193.75 284.752 L2193.75 280.817 Q2192.29 283.178 2190.12 284.312 Q2187.94 285.423 2184.79 285.423 Q2180.81 285.423 2178.45 283.201 Q2176.11 280.956 2176.11 277.206 Q2176.11 272.831 2179.03 270.609 Q2181.97 268.386 2187.78 268.386 L2193.75 268.386 L2193.75 267.97 Q2193.75 265.03 2191.81 263.433 Q2189.89 261.812 2186.39 261.812 Q2184.17 261.812 2182.06 262.345 Q2179.96 262.877 2178.01 263.942 L2178.01 260.007 Q2180.35 259.104 2182.55 258.664 Q2184.75 258.201 2186.83 258.201 Q2192.46 258.201 2195.23 261.118 Q2198.01 264.035 2198.01 269.961 Z\" fill=\"#000000\" fill-rule=\"evenodd\" fill-opacity=\"1\" /><path clip-path=\"url(#clip780)\" d=\"M 0 0 M2202.48 258.826 L2206.74 258.826 L2206.74 284.752 L2202.48 284.752 L2202.48 258.826 M2202.48 248.734 L2206.74 248.734 L2206.74 254.127 L2202.48 254.127 L2202.48 248.734 Z\" fill=\"#000000\" fill-rule=\"evenodd\" fill-opacity=\"1\" /><path clip-path=\"url(#clip780)\" d=\"M 0 0 M2232.76 269.104 L2232.76 284.752 L2228.5 284.752 L2228.5 269.243 Q2228.5 265.562 2227.06 263.734 Q2225.63 261.905 2222.76 261.905 Q2219.31 261.905 2217.32 264.104 Q2215.33 266.303 2215.33 270.099 L2215.33 284.752 L2211.04 284.752 L2211.04 258.826 L2215.33 258.826 L2215.33 262.854 Q2216.85 260.516 2218.91 259.359 Q2221 258.201 2223.71 258.201 Q2228.17 258.201 2230.46 260.979 Q2232.76 263.734 2232.76 269.104 Z\" fill=\"#000000\" fill-rule=\"evenodd\" fill-opacity=\"1\" /><polyline clip-path=\"url(#clip780)\" style=\"stroke:#e26f46; stroke-width:4; stroke-opacity:1; fill:none\" points=\"\n",
       "  1969.59,327.952 2113.59,327.952 \n",
       "  \"/>\n",
       "<path clip-path=\"url(#clip780)\" d=\"M 0 0 M2145 311.945 L2145 319.306 L2153.77 319.306 L2153.77 322.617 L2145 322.617 L2145 336.691 Q2145 339.862 2145.86 340.765 Q2146.74 341.667 2149.4 341.667 L2153.77 341.667 L2153.77 345.232 L2149.4 345.232 Q2144.47 345.232 2142.59 343.403 Q2140.72 341.552 2140.72 336.691 L2140.72 322.617 L2137.59 322.617 L2137.59 319.306 L2140.72 319.306 L2140.72 311.945 L2145 311.945 Z\" fill=\"#000000\" fill-rule=\"evenodd\" fill-opacity=\"1\" /><path clip-path=\"url(#clip780)\" d=\"M 0 0 M2180.42 331.204 L2180.42 333.288 L2160.83 333.288 Q2161.11 337.686 2163.47 340.001 Q2165.86 342.292 2170.09 342.292 Q2172.55 342.292 2174.84 341.69 Q2177.15 341.089 2179.42 339.885 L2179.42 343.913 Q2177.13 344.885 2174.72 345.394 Q2172.32 345.903 2169.84 345.903 Q2163.64 345.903 2160 342.292 Q2156.39 338.681 2156.39 332.524 Q2156.39 326.158 2159.82 322.431 Q2163.27 318.681 2169.1 318.681 Q2174.33 318.681 2177.36 322.061 Q2180.42 325.417 2180.42 331.204 M2176.16 329.954 Q2176.11 326.459 2174.19 324.376 Q2172.29 322.292 2169.15 322.292 Q2165.58 322.292 2163.43 324.306 Q2161.3 326.32 2160.97 329.978 L2176.16 329.954 Z\" fill=\"#000000\" fill-rule=\"evenodd\" fill-opacity=\"1\" /><path clip-path=\"url(#clip780)\" d=\"M 0 0 M2201.41 320.07 L2201.41 324.098 Q2199.61 323.172 2197.66 322.709 Q2195.72 322.246 2193.64 322.246 Q2190.46 322.246 2188.87 323.218 Q2187.29 324.191 2187.29 326.135 Q2187.29 327.616 2188.43 328.473 Q2189.56 329.306 2192.99 330.07 L2194.45 330.394 Q2198.98 331.366 2200.88 333.149 Q2202.8 334.908 2202.8 338.079 Q2202.8 341.69 2199.93 343.797 Q2197.08 345.903 2192.08 345.903 Q2190 345.903 2187.73 345.487 Q2185.49 345.093 2182.99 344.283 L2182.99 339.885 Q2185.35 341.112 2187.64 341.737 Q2189.93 342.339 2192.18 342.339 Q2195.19 342.339 2196.81 341.32 Q2198.43 340.278 2198.43 338.403 Q2198.43 336.667 2197.25 335.741 Q2196.09 334.816 2192.13 333.959 L2190.65 333.612 Q2186.69 332.778 2184.93 331.066 Q2183.17 329.329 2183.17 326.32 Q2183.17 322.663 2185.77 320.672 Q2188.36 318.681 2193.13 318.681 Q2195.49 318.681 2197.57 319.029 Q2199.65 319.376 2201.41 320.07 Z\" fill=\"#000000\" fill-rule=\"evenodd\" fill-opacity=\"1\" /><path clip-path=\"url(#clip780)\" d=\"M 0 0 M2211.48 311.945 L2211.48 319.306 L2220.26 319.306 L2220.26 322.617 L2211.48 322.617 L2211.48 336.691 Q2211.48 339.862 2212.34 340.765 Q2213.22 341.667 2215.88 341.667 L2220.26 341.667 L2220.26 345.232 L2215.88 345.232 Q2210.95 345.232 2209.08 343.403 Q2207.2 341.552 2207.2 336.691 L2207.2 322.617 L2204.08 322.617 L2204.08 319.306 L2207.2 319.306 L2207.2 311.945 L2211.48 311.945 Z\" fill=\"#000000\" fill-rule=\"evenodd\" fill-opacity=\"1\" /></svg>\n"
      ]
     },
     "execution_count": 66,
     "metadata": {},
     "output_type": "execute_result"
    }
   ],
   "source": [
    "plot(1:length(train_loss), train_loss, xlabel=\"~seconds of training\", label=\"train\")\n",
    "plot!(1:length(test_loss), test_loss, label=\"test\")\n",
    "title!(\"Train vs Test Loss\")\n",
    "ylabel!(\"Loss\")"
   ]
  },
  {
   "cell_type": "markdown",
   "metadata": {},
   "source": [
    "Evaluation"
   ]
  },
  {
   "cell_type": "code",
   "execution_count": 26,
   "metadata": {},
   "outputs": [
    {
     "data": {
      "image/png": "[encoded data removed]",
      "text/plain": [
       "28×28 Array{Gray{N0f8},2} with eltype Gray{Normed{UInt8,8}}:\n",
       " Gray{N0f8}(0.0)  Gray{N0f8}(0.0)  …  Gray{N0f8}(0.0)  Gray{N0f8}(0.0)\n",
       " Gray{N0f8}(0.0)  Gray{N0f8}(0.0)     Gray{N0f8}(0.0)  Gray{N0f8}(0.0)\n",
       " Gray{N0f8}(0.0)  Gray{N0f8}(0.0)     Gray{N0f8}(0.0)  Gray{N0f8}(0.0)\n",
       " Gray{N0f8}(0.0)  Gray{N0f8}(0.0)     Gray{N0f8}(0.0)  Gray{N0f8}(0.0)\n",
       " Gray{N0f8}(0.0)  Gray{N0f8}(0.0)     Gray{N0f8}(0.0)  Gray{N0f8}(0.0)\n",
       " Gray{N0f8}(0.0)  Gray{N0f8}(0.0)  …  Gray{N0f8}(0.0)  Gray{N0f8}(0.0)\n",
       " Gray{N0f8}(0.0)  Gray{N0f8}(0.0)     Gray{N0f8}(0.0)  Gray{N0f8}(0.0)\n",
       " Gray{N0f8}(0.0)  Gray{N0f8}(0.0)     Gray{N0f8}(0.0)  Gray{N0f8}(0.0)\n",
       " Gray{N0f8}(0.0)  Gray{N0f8}(0.0)     Gray{N0f8}(0.0)  Gray{N0f8}(0.0)\n",
       " Gray{N0f8}(0.0)  Gray{N0f8}(0.0)     Gray{N0f8}(0.0)  Gray{N0f8}(0.0)\n",
       " Gray{N0f8}(0.0)  Gray{N0f8}(0.0)  …  Gray{N0f8}(0.0)  Gray{N0f8}(0.0)\n",
       " Gray{N0f8}(0.0)  Gray{N0f8}(0.0)     Gray{N0f8}(0.0)  Gray{N0f8}(0.0)\n",
       " Gray{N0f8}(0.0)  Gray{N0f8}(0.0)     Gray{N0f8}(0.0)  Gray{N0f8}(0.0)\n",
       " ⋮                                 ⋱                   \n",
       " Gray{N0f8}(0.0)  Gray{N0f8}(0.0)     Gray{N0f8}(0.0)  Gray{N0f8}(0.0)\n",
       " Gray{N0f8}(0.0)  Gray{N0f8}(0.0)     Gray{N0f8}(0.0)  Gray{N0f8}(0.0)\n",
       " Gray{N0f8}(0.0)  Gray{N0f8}(0.0)     Gray{N0f8}(0.0)  Gray{N0f8}(0.0)\n",
       " Gray{N0f8}(0.0)  Gray{N0f8}(0.0)     Gray{N0f8}(0.0)  Gray{N0f8}(0.0)\n",
       " Gray{N0f8}(0.0)  Gray{N0f8}(0.0)  …  Gray{N0f8}(0.0)  Gray{N0f8}(0.0)\n",
       " Gray{N0f8}(0.0)  Gray{N0f8}(0.0)     Gray{N0f8}(0.0)  Gray{N0f8}(0.0)\n",
       " Gray{N0f8}(0.0)  Gray{N0f8}(0.0)     Gray{N0f8}(0.0)  Gray{N0f8}(0.0)\n",
       " Gray{N0f8}(0.0)  Gray{N0f8}(0.0)     Gray{N0f8}(0.0)  Gray{N0f8}(0.0)\n",
       " Gray{N0f8}(0.0)  Gray{N0f8}(0.0)     Gray{N0f8}(0.0)  Gray{N0f8}(0.0)\n",
       " Gray{N0f8}(0.0)  Gray{N0f8}(0.0)  …  Gray{N0f8}(0.0)  Gray{N0f8}(0.0)\n",
       " Gray{N0f8}(0.0)  Gray{N0f8}(0.0)     Gray{N0f8}(0.0)  Gray{N0f8}(0.0)\n",
       " Gray{N0f8}(0.0)  Gray{N0f8}(0.0)     Gray{N0f8}(0.0)  Gray{N0f8}(0.0)"
      ]
     },
     "metadata": {},
     "output_type": "display_data"
    },
    {
     "data": {
      "text/plain": [
       "(7, (0.18869843f0, 7))"
      ]
     },
     "execution_count": 26,
     "metadata": {},
     "output_type": "execute_result"
    }
   ],
   "source": [
    "i = 5001\n",
    "display(images[i])\n",
    "labels[i], findmax(model(preprocess(images[i]))) .- (0,1)"
   ]
  },
  {
   "cell_type": "code",
   "execution_count": 68,
   "metadata": {},
   "outputs": [
    {
     "data": {
      "text/plain": [
       "10-element Array{Float32,1}:\n",
       " 2.0329588f-5\n",
       " 1.8282895f-5\n",
       " 0.20669034\n",
       " 0.020154445\n",
       " 0.00014179347\n",
       " 2.0891423f-6\n",
       " 1.5063041f-5\n",
       " 0.7669323\n",
       " 0.0016766522\n",
       " 0.0043487665"
      ]
     },
     "execution_count": 68,
     "metadata": {},
     "output_type": "execute_result"
    }
   ],
   "source": [
    "model(preprocess(images[i]))"
   ]
  },
  {
   "cell_type": "code",
   "execution_count": 106,
   "metadata": {},
   "outputs": [
    {
     "data": {
      "text/plain": [
       "prediction (generic function with 1 method)"
      ]
     },
     "execution_count": 106,
     "metadata": {},
     "output_type": "execute_result"
    }
   ],
   "source": [
    "prediction(i) = findmax(model(preprocess(images[i])))[2] - 1"
   ]
  },
  {
   "cell_type": "code",
   "execution_count": 70,
   "metadata": {},
   "outputs": [
    {
     "data": {
      "text/plain": [
       "0.9648"
      ]
     },
     "execution_count": 70,
     "metadata": {},
     "output_type": "execute_result"
    }
   ],
   "source": [
    "sum(prediction(i) == labels[i] for i in 1:5000)/5000"
   ]
  },
  {
   "cell_type": "code",
   "execution_count": 71,
   "metadata": {},
   "outputs": [
    {
     "data": {
      "text/plain": [
       "0.8948"
      ]
     },
     "execution_count": 71,
     "metadata": {},
     "output_type": "execute_result"
    }
   ],
   "source": [
    "sum(prediction(i) == labels[i] for i in 5001:10000)/5000"
   ]
  },
  {
   "cell_type": "markdown",
   "metadata": {},
   "source": [
    "Hidden Layer and ReLU Activation"
   ]
  },
  {
   "cell_type": "code",
   "execution_count": 96,
   "metadata": {},
   "outputs": [
    {
     "data": {
      "image/svg+xml": [
       "<?xml version=\"1.0\" encoding=\"utf-8\"?>\n",
       "<svg xmlns=\"http://www.w3.org/2000/svg\" xmlns:xlink=\"http://www.w3.org/1999/xlink\" width=\"600\" height=\"400\" viewBox=\"0 0 2400 1600\">\n",
       "<defs>\n",
       "  <clipPath id=\"clip790\">\n",
       "    <rect x=\"0\" y=\"0\" width=\"2400\" height=\"1600\"/>\n",
       "  </clipPath>\n",
       "</defs>\n",
       "<path clip-path=\"url(#clip790)\" d=\"\n",
       "M0 1600 L2400 1600 L2400 0 L0 0  Z\n",
       "  \" fill=\"#ffffff\" fill-rule=\"evenodd\" fill-opacity=\"1\"/>\n",
       "<defs>\n",
       "  <clipPath id=\"clip791\">\n",
       "    <rect x=\"480\" y=\"0\" width=\"1681\" height=\"1600\"/>\n",
       "  </clipPath>\n",
       "</defs>\n",
       "<path clip-path=\"url(#clip790)\" d=\"\n",
       "M112.177 1486.45 L2352.76 1486.45 L2352.76 47.2441 L112.177 47.2441  Z\n",
       "  \" fill=\"#ffffff\" fill-rule=\"evenodd\" fill-opacity=\"1\"/>\n",
       "<defs>\n",
       "  <clipPath id=\"clip792\">\n",
       "    <rect x=\"112\" y=\"47\" width=\"2242\" height=\"1440\"/>\n",
       "  </clipPath>\n",
       "</defs>\n",
       "<polyline clip-path=\"url(#clip792)\" style=\"stroke:#000000; stroke-width:2; stroke-opacity:0.1; fill:none\" points=\"\n",
       "  386.965,1486.45 386.965,47.2441 \n",
       "  \"/>\n",
       "<polyline clip-path=\"url(#clip792)\" style=\"stroke:#000000; stroke-width:2; stroke-opacity:0.1; fill:none\" points=\"\n",
       "  809.716,1486.45 809.716,47.2441 \n",
       "  \"/>\n",
       "<polyline clip-path=\"url(#clip792)\" style=\"stroke:#000000; stroke-width:2; stroke-opacity:0.1; fill:none\" points=\"\n",
       "  1232.47,1486.45 1232.47,47.2441 \n",
       "  \"/>\n",
       "<polyline clip-path=\"url(#clip792)\" style=\"stroke:#000000; stroke-width:2; stroke-opacity:0.1; fill:none\" points=\"\n",
       "  1655.22,1486.45 1655.22,47.2441 \n",
       "  \"/>\n",
       "<polyline clip-path=\"url(#clip792)\" style=\"stroke:#000000; stroke-width:2; stroke-opacity:0.1; fill:none\" points=\"\n",
       "  2077.97,1486.45 2077.97,47.2441 \n",
       "  \"/>\n",
       "<polyline clip-path=\"url(#clip792)\" style=\"stroke:#000000; stroke-width:2; stroke-opacity:0.1; fill:none\" points=\"\n",
       "  112.177,1445.72 2352.76,1445.72 \n",
       "  \"/>\n",
       "<polyline clip-path=\"url(#clip792)\" style=\"stroke:#000000; stroke-width:2; stroke-opacity:0.1; fill:none\" points=\"\n",
       "  112.177,1174.17 2352.76,1174.17 \n",
       "  \"/>\n",
       "<polyline clip-path=\"url(#clip792)\" style=\"stroke:#000000; stroke-width:2; stroke-opacity:0.1; fill:none\" points=\"\n",
       "  112.177,902.62 2352.76,902.62 \n",
       "  \"/>\n",
       "<polyline clip-path=\"url(#clip792)\" style=\"stroke:#000000; stroke-width:2; stroke-opacity:0.1; fill:none\" points=\"\n",
       "  112.177,631.072 2352.76,631.072 \n",
       "  \"/>\n",
       "<polyline clip-path=\"url(#clip792)\" style=\"stroke:#000000; stroke-width:2; stroke-opacity:0.1; fill:none\" points=\"\n",
       "  112.177,359.524 2352.76,359.524 \n",
       "  \"/>\n",
       "<polyline clip-path=\"url(#clip792)\" style=\"stroke:#000000; stroke-width:2; stroke-opacity:0.1; fill:none\" points=\"\n",
       "  112.177,87.9763 2352.76,87.9763 \n",
       "  \"/>\n",
       "<polyline clip-path=\"url(#clip790)\" style=\"stroke:#000000; stroke-width:4; stroke-opacity:1; fill:none\" points=\"\n",
       "  112.177,1486.45 2352.76,1486.45 \n",
       "  \"/>\n",
       "<polyline clip-path=\"url(#clip790)\" style=\"stroke:#000000; stroke-width:4; stroke-opacity:1; fill:none\" points=\"\n",
       "  112.177,1486.45 112.177,47.2441 \n",
       "  \"/>\n",
       "<polyline clip-path=\"url(#clip790)\" style=\"stroke:#000000; stroke-width:4; stroke-opacity:1; fill:none\" points=\"\n",
       "  386.965,1486.45 386.965,1469.18 \n",
       "  \"/>\n",
       "<polyline clip-path=\"url(#clip790)\" style=\"stroke:#000000; stroke-width:4; stroke-opacity:1; fill:none\" points=\"\n",
       "  809.716,1486.45 809.716,1469.18 \n",
       "  \"/>\n",
       "<polyline clip-path=\"url(#clip790)\" style=\"stroke:#000000; stroke-width:4; stroke-opacity:1; fill:none\" points=\"\n",
       "  1232.47,1486.45 1232.47,1469.18 \n",
       "  \"/>\n",
       "<polyline clip-path=\"url(#clip790)\" style=\"stroke:#000000; stroke-width:4; stroke-opacity:1; fill:none\" points=\"\n",
       "  1655.22,1486.45 1655.22,1469.18 \n",
       "  \"/>\n",
       "<polyline clip-path=\"url(#clip790)\" style=\"stroke:#000000; stroke-width:4; stroke-opacity:1; fill:none\" points=\"\n",
       "  2077.97,1486.45 2077.97,1469.18 \n",
       "  \"/>\n",
       "<polyline clip-path=\"url(#clip790)\" style=\"stroke:#000000; stroke-width:4; stroke-opacity:1; fill:none\" points=\"\n",
       "  112.177,1445.72 139.064,1445.72 \n",
       "  \"/>\n",
       "<polyline clip-path=\"url(#clip790)\" style=\"stroke:#000000; stroke-width:4; stroke-opacity:1; fill:none\" points=\"\n",
       "  112.177,1174.17 139.064,1174.17 \n",
       "  \"/>\n",
       "<polyline clip-path=\"url(#clip790)\" style=\"stroke:#000000; stroke-width:4; stroke-opacity:1; fill:none\" points=\"\n",
       "  112.177,902.62 139.064,902.62 \n",
       "  \"/>\n",
       "<polyline clip-path=\"url(#clip790)\" style=\"stroke:#000000; stroke-width:4; stroke-opacity:1; fill:none\" points=\"\n",
       "  112.177,631.072 139.064,631.072 \n",
       "  \"/>\n",
       "<polyline clip-path=\"url(#clip790)\" style=\"stroke:#000000; stroke-width:4; stroke-opacity:1; fill:none\" points=\"\n",
       "  112.177,359.524 139.064,359.524 \n",
       "  \"/>\n",
       "<polyline clip-path=\"url(#clip790)\" style=\"stroke:#000000; stroke-width:4; stroke-opacity:1; fill:none\" points=\"\n",
       "  112.177,87.9763 139.064,87.9763 \n",
       "  \"/>\n",
       "<path clip-path=\"url(#clip790)\" d=\"M 0 0 M366.977 1525.04 L379.454 1525.04 L379.454 1528.83 L366.977 1528.83 L366.977 1525.04 Z\" fill=\"#000000\" fill-rule=\"evenodd\" fill-opacity=\"1\" /><path clip-path=\"url(#clip790)\" d=\"M 0 0 M397.37 1509.43 L385.565 1527.88 L397.37 1527.88 L397.37 1509.43 M396.143 1505.36 L402.023 1505.36 L402.023 1527.88 L406.953 1527.88 L406.953 1531.77 L402.023 1531.77 L402.023 1539.92 L397.37 1539.92 L397.37 1531.77 L381.768 1531.77 L381.768 1527.26 L396.143 1505.36 Z\" fill=\"#000000\" fill-rule=\"evenodd\" fill-opacity=\"1\" /><path clip-path=\"url(#clip790)\" d=\"M 0 0 M790.769 1525.04 L803.246 1525.04 L803.246 1528.83 L790.769 1528.83 L790.769 1525.04 Z\" fill=\"#000000\" fill-rule=\"evenodd\" fill-opacity=\"1\" /><path clip-path=\"url(#clip790)\" d=\"M 0 0 M812.343 1535.98 L828.662 1535.98 L828.662 1539.92 L806.718 1539.92 L806.718 1535.98 Q809.38 1533.23 813.963 1528.6 Q818.57 1523.95 819.751 1522.61 Q821.996 1520.08 822.875 1518.35 Q823.778 1516.59 823.778 1514.9 Q823.778 1512.14 821.834 1510.41 Q819.913 1508.67 816.811 1508.67 Q814.612 1508.67 812.158 1509.43 Q809.727 1510.2 806.95 1511.75 L806.95 1507.03 Q809.774 1505.89 812.227 1505.31 Q814.681 1504.73 816.718 1504.73 Q822.088 1504.73 825.283 1507.42 Q828.477 1510.11 828.477 1514.6 Q828.477 1516.73 827.667 1518.65 Q826.88 1520.54 824.774 1523.14 Q824.195 1523.81 821.093 1527.03 Q817.991 1530.22 812.343 1535.98 Z\" fill=\"#000000\" fill-rule=\"evenodd\" fill-opacity=\"1\" /><path clip-path=\"url(#clip790)\" d=\"M 0 0 M1232.47 1508.44 Q1228.86 1508.44 1227.03 1512 Q1225.22 1515.55 1225.22 1522.67 Q1225.22 1529.78 1227.03 1533.35 Q1228.86 1536.89 1232.47 1536.89 Q1236.1 1536.89 1237.91 1533.35 Q1239.74 1529.78 1239.74 1522.67 Q1239.74 1515.55 1237.91 1512 Q1236.1 1508.44 1232.47 1508.44 M1232.47 1504.73 Q1238.28 1504.73 1241.33 1509.34 Q1244.41 1513.92 1244.41 1522.67 Q1244.41 1531.4 1241.33 1536.01 Q1238.28 1540.59 1232.47 1540.59 Q1226.66 1540.59 1223.58 1536.01 Q1220.52 1531.4 1220.52 1522.67 Q1220.52 1513.92 1223.58 1509.34 Q1226.66 1504.73 1232.47 1504.73 Z\" fill=\"#000000\" fill-rule=\"evenodd\" fill-opacity=\"1\" /><path clip-path=\"url(#clip790)\" d=\"M 0 0 M1649.87 1535.98 L1666.19 1535.98 L1666.19 1539.92 L1644.25 1539.92 L1644.25 1535.98 Q1646.91 1533.23 1651.49 1528.6 Q1656.1 1523.95 1657.28 1522.61 Q1659.52 1520.08 1660.4 1518.35 Q1661.31 1516.59 1661.31 1514.9 Q1661.31 1512.14 1659.36 1510.41 Q1657.44 1508.67 1654.34 1508.67 Q1652.14 1508.67 1649.68 1509.43 Q1647.25 1510.2 1644.48 1511.75 L1644.48 1507.03 Q1647.3 1505.89 1649.75 1505.31 Q1652.21 1504.73 1654.25 1504.73 Q1659.62 1504.73 1662.81 1507.42 Q1666 1510.11 1666 1514.6 Q1666 1516.73 1665.19 1518.65 Q1664.41 1520.54 1662.3 1523.14 Q1661.72 1523.81 1658.62 1527.03 Q1655.52 1530.22 1649.87 1535.98 Z\" fill=\"#000000\" fill-rule=\"evenodd\" fill-opacity=\"1\" /><path clip-path=\"url(#clip790)\" d=\"M 0 0 M2080.98 1509.43 L2069.17 1527.88 L2080.98 1527.88 L2080.98 1509.43 M2079.75 1505.36 L2085.63 1505.36 L2085.63 1527.88 L2090.56 1527.88 L2090.56 1531.77 L2085.63 1531.77 L2085.63 1539.92 L2080.98 1539.92 L2080.98 1531.77 L2065.38 1531.77 L2065.38 1527.26 L2079.75 1505.36 Z\" fill=\"#000000\" fill-rule=\"evenodd\" fill-opacity=\"1\" /><path clip-path=\"url(#clip790)\" d=\"M 0 0 M76.2328 1431.51 Q72.6217 1431.51 70.793 1435.08 Q68.9875 1438.62 68.9875 1445.75 Q68.9875 1452.86 70.793 1456.42 Q72.6217 1459.96 76.2328 1459.96 Q79.867 1459.96 81.6726 1456.42 Q83.5013 1452.86 83.5013 1445.75 Q83.5013 1438.62 81.6726 1435.08 Q79.867 1431.51 76.2328 1431.51 M76.2328 1427.81 Q82.0429 1427.81 85.0985 1432.42 Q88.1772 1437 88.1772 1445.75 Q88.1772 1454.48 85.0985 1459.08 Q82.0429 1463.67 76.2328 1463.67 Q70.4226 1463.67 67.344 1459.08 Q64.2884 1454.48 64.2884 1445.75 Q64.2884 1437 67.344 1432.42 Q70.4226 1427.81 76.2328 1427.81 Z\" fill=\"#000000\" fill-rule=\"evenodd\" fill-opacity=\"1\" /><path clip-path=\"url(#clip790)\" d=\"M 0 0 M68.2699 1187.51 L75.9087 1187.51 L75.9087 1161.15 L67.5986 1162.81 L67.5986 1158.55 L75.8624 1156.89 L80.5383 1156.89 L80.5383 1187.51 L88.1772 1187.51 L88.1772 1191.45 L68.2699 1191.45 L68.2699 1187.51 Z\" fill=\"#000000\" fill-rule=\"evenodd\" fill-opacity=\"1\" /><path clip-path=\"url(#clip790)\" d=\"M 0 0 M71.8578 915.965 L88.1772 915.965 L88.1772 919.9 L66.2328 919.9 L66.2328 915.965 Q68.8949 913.21 73.4782 908.581 Q78.0846 903.928 79.2652 902.585 Q81.5105 900.062 82.3902 898.326 Q83.2929 896.567 83.2929 894.877 Q83.2929 892.122 81.3485 890.386 Q79.4272 888.65 76.3254 888.65 Q74.1263 888.65 71.6726 889.414 Q69.2421 890.178 66.4643 891.729 L66.4643 887.007 Q69.2884 885.872 71.7421 885.294 Q74.1958 884.715 76.2328 884.715 Q81.6031 884.715 84.7976 887.4 Q87.992 890.085 87.992 894.576 Q87.992 896.706 87.1818 898.627 Q86.3948 900.525 84.2883 903.118 Q83.7096 903.789 80.6078 907.006 Q77.5059 910.201 71.8578 915.965 Z\" fill=\"#000000\" fill-rule=\"evenodd\" fill-opacity=\"1\" /><path clip-path=\"url(#clip790)\" d=\"M 0 0 M81.0476 629.718 Q84.404 630.435 86.279 632.704 Q88.1772 634.972 88.1772 638.306 Q88.1772 643.422 84.6587 646.222 Q81.1402 649.023 74.6587 649.023 Q72.4828 649.023 70.168 648.584 Q67.8764 648.167 65.4227 647.31 L65.4227 642.797 Q67.3671 643.931 69.6819 644.509 Q71.9967 645.088 74.5198 645.088 Q78.918 645.088 81.2096 643.352 Q83.5244 641.616 83.5244 638.306 Q83.5244 635.25 81.3717 633.537 Q79.242 631.801 75.4226 631.801 L71.3949 631.801 L71.3949 627.959 L75.6078 627.959 Q79.0569 627.959 80.8855 626.593 Q82.7142 625.204 82.7142 622.611 Q82.7142 619.949 80.8161 618.537 Q78.9411 617.102 75.4226 617.102 Q73.5013 617.102 71.3023 617.519 Q69.1032 617.936 66.4643 618.815 L66.4643 614.649 Q69.1264 613.908 71.4412 613.537 Q73.7791 613.167 75.8393 613.167 Q81.1633 613.167 84.2652 615.598 Q87.367 618.005 87.367 622.125 Q87.367 624.996 85.7235 626.986 Q84.08 628.954 81.0476 629.718 Z\" fill=\"#000000\" fill-rule=\"evenodd\" fill-opacity=\"1\" /><path clip-path=\"url(#clip790)\" d=\"M 0 0 M78.5939 346.318 L66.7884 364.767 L78.5939 364.767 L78.5939 346.318 M77.367 342.244 L83.2466 342.244 L83.2466 364.767 L88.1772 364.767 L88.1772 368.656 L83.2466 368.656 L83.2466 376.804 L78.5939 376.804 L78.5939 368.656 L62.9921 368.656 L62.9921 364.142 L77.367 342.244 Z\" fill=\"#000000\" fill-rule=\"evenodd\" fill-opacity=\"1\" /><path clip-path=\"url(#clip790)\" d=\"M 0 0 M67.2745 70.6963 L85.6309 70.6963 L85.6309 74.6314 L71.5569 74.6314 L71.5569 83.1036 Q72.5754 82.7564 73.5939 82.5944 Q74.6124 82.4092 75.6309 82.4092 Q81.418 82.4092 84.7976 85.5805 Q88.1772 88.7517 88.1772 94.1684 Q88.1772 99.747 84.705 102.849 Q81.2328 105.928 74.9134 105.928 Q72.7374 105.928 70.4689 105.557 Q68.2236 105.187 65.8162 104.446 L65.8162 99.747 Q67.8995 100.881 70.1217 101.437 Q72.3439 101.992 74.8208 101.992 Q78.8254 101.992 81.1633 99.8859 Q83.5013 97.7795 83.5013 94.1684 Q83.5013 90.5573 81.1633 88.4508 Q78.8254 86.3443 74.8208 86.3443 Q72.9458 86.3443 71.0708 86.761 Q69.2189 87.1777 67.2745 88.0573 L67.2745 70.6963 Z\" fill=\"#000000\" fill-rule=\"evenodd\" fill-opacity=\"1\" /><polyline clip-path=\"url(#clip792)\" style=\"stroke:#009af9; stroke-width:4; stroke-opacity:1; fill:none\" points=\"\n",
       "  175.59,1445.72 196.232,1445.72 387.102,1445.72 501.807,1445.72 598.789,1445.72 704.138,1445.72 801.261,1445.72 905.386,1445.72 1026.03,1445.72 1079.63,1445.72 \n",
       "  1133.24,1445.72 1180.24,1445.72 1227.25,1445.72 1252.88,1419.5 1278.5,1386.58 1304.13,1353.66 1329.75,1320.74 1381.31,1254.51 1432.86,1188.28 1546.86,1041.82 \n",
       "  1655.33,902.475 1768.11,757.586 1863.05,635.621 1978.96,486.715 2087.92,346.74 2262.48,122.488 2289.34,87.9763 \n",
       "  \"/>\n",
       "</svg>\n"
      ]
     },
     "execution_count": 96,
     "metadata": {},
     "output_type": "execute_result"
    }
   ],
   "source": [
    "plot(relu, legend=false)"
   ]
  },
  {
   "cell_type": "code",
   "execution_count": 97,
   "metadata": {},
   "outputs": [
    {
     "data": {
      "text/plain": [
       "ADAM(0.001, (0.9, 0.999), IdDict{Any,Any}())"
      ]
     },
     "execution_count": 97,
     "metadata": {},
     "output_type": "execute_result"
    }
   ],
   "source": [
    "n_hidden = 20\n",
    "model = Chain(Dense(n_inputs, n_hidden, relu), Dense(n_hidden, n_outputs, identity), softmax)\n",
    "ps = params(model)\n",
    "L(x,y) = Flux.crossentropy(model(x),y)\n",
    "opt = ADAM()"
   ]
  },
  {
   "cell_type": "code",
   "execution_count": 98,
   "metadata": {},
   "outputs": [],
   "source": [
    "Flux.train!(L, ps, [trainbatch], opt)"
   ]
  },
  {
   "cell_type": "code",
   "execution_count": 99,
   "metadata": {
    "scrolled": true
   },
   "outputs": [
    {
     "name": "stdout",
     "output_type": "stream",
     "text": [
      "train loss = 2.29, test loss=2.29\n",
      "train loss = 2.10, test loss=2.10\n",
      "train loss = 1.93, test loss=1.94\n",
      "train loss = 1.76, test loss=1.77\n",
      "train loss = 1.59, test loss=1.60\n",
      "train loss = 1.45, test loss=1.46\n",
      "train loss = 1.32, test loss=1.34\n",
      "train loss = 1.20, test loss=1.22\n",
      "train loss = 1.12, test loss=1.14\n",
      "train loss = 1.05, test loss=1.07\n",
      "train loss = 0.97, test loss=0.99\n",
      "train loss = 0.89, test loss=0.92\n",
      "train loss = 0.82, test loss=0.86\n",
      "train loss = 0.76, test loss=0.80\n",
      "train loss = 0.71, test loss=0.75\n",
      "train loss = 0.67, test loss=0.71\n",
      "train loss = 0.63, test loss=0.68\n",
      "train loss = 0.60, test loss=0.65\n",
      "train loss = 0.57, test loss=0.62\n",
      "train loss = 0.54, test loss=0.59\n",
      "train loss = 0.52, test loss=0.57\n",
      "train loss = 0.49, test loss=0.55\n",
      "train loss = 0.48, test loss=0.54\n",
      "train loss = 0.46, test loss=0.52\n",
      "train loss = 0.44, test loss=0.51\n",
      "train loss = 0.43, test loss=0.50\n",
      "train loss = 0.41, test loss=0.48\n",
      "train loss = 0.40, test loss=0.47\n",
      "train loss = 0.39, test loss=0.46\n",
      "train loss = 0.38, test loss=0.46\n",
      "train loss = 0.37, test loss=0.45\n",
      "train loss = 0.36, test loss=0.44\n",
      "train loss = 0.35, test loss=0.43\n",
      "train loss = 0.35, test loss=0.43\n",
      "train loss = 0.34, test loss=0.42\n",
      "train loss = 0.33, test loss=0.42\n",
      "train loss = 0.32, test loss=0.41\n",
      "train loss = 0.32, test loss=0.41\n",
      "train loss = 0.31, test loss=0.40\n",
      "train loss = 0.31, test loss=0.40\n",
      "train loss = 0.30, test loss=0.39\n",
      "train loss = 0.30, test loss=0.39\n",
      "train loss = 0.29, test loss=0.39\n",
      "train loss = 0.29, test loss=0.39\n",
      "train loss = 0.28, test loss=0.38\n",
      "train loss = 0.28, test loss=0.38\n",
      "train loss = 0.27, test loss=0.38\n",
      "train loss = 0.27, test loss=0.37\n",
      "train loss = 0.27, test loss=0.37\n",
      "train loss = 0.26, test loss=0.37\n",
      "train loss = 0.26, test loss=0.37\n",
      "train loss = 0.25, test loss=0.36\n",
      "train loss = 0.25, test loss=0.36\n",
      "train loss = 0.25, test loss=0.36\n",
      "train loss = 0.24, test loss=0.36\n",
      "train loss = 0.24, test loss=0.36\n",
      "train loss = 0.24, test loss=0.35\n",
      "train loss = 0.23, test loss=0.35\n",
      "train loss = 0.23, test loss=0.35\n",
      "train loss = 0.23, test loss=0.35\n",
      "train loss = 0.22, test loss=0.35\n",
      "train loss = 0.22, test loss=0.35\n",
      "train loss = 0.22, test loss=0.35\n",
      "train loss = 0.22, test loss=0.35\n",
      "train loss = 0.21, test loss=0.34\n",
      "train loss = 0.21, test loss=0.34\n",
      "train loss = 0.21, test loss=0.34\n",
      "train loss = 0.21, test loss=0.34\n",
      "train loss = 0.20, test loss=0.34\n",
      "train loss = 0.20, test loss=0.34\n",
      "train loss = 0.20, test loss=0.34\n",
      "train loss = 0.20, test loss=0.34\n",
      "train loss = 0.19, test loss=0.34\n",
      "train loss = 0.19, test loss=0.34\n",
      "train loss = 0.19, test loss=0.34\n",
      "train loss = 0.19, test loss=0.33\n",
      "train loss = 0.19, test loss=0.33\n",
      "train loss = 0.18, test loss=0.33\n",
      "train loss = 0.18, test loss=0.33\n",
      "train loss = 0.18, test loss=0.33\n",
      "train loss = 0.18, test loss=0.33\n",
      "train loss = 0.18, test loss=0.33\n",
      "train loss = 0.17, test loss=0.33\n",
      "train loss = 0.17, test loss=0.33\n",
      "train loss = 0.17, test loss=0.33\n",
      "train loss = 0.17, test loss=0.33\n",
      "train loss = 0.17, test loss=0.33\n",
      "train loss = 0.17, test loss=0.33\n",
      "train loss = 0.16, test loss=0.33\n",
      "train loss = 0.16, test loss=0.33\n",
      "train loss = 0.16, test loss=0.33\n",
      "train loss = 0.16, test loss=0.33\n",
      "train loss = 0.16, test loss=0.33\n",
      "train loss = 0.15, test loss=0.33\n",
      "train loss = 0.15, test loss=0.33\n",
      "train loss = 0.15, test loss=0.33\n",
      "train loss = 0.15, test loss=0.33\n",
      "train loss = 0.15, test loss=0.33\n",
      "train loss = 0.15, test loss=0.33\n",
      "train loss = 0.15, test loss=0.33\n",
      "train loss = 0.14, test loss=0.33\n",
      "train loss = 0.14, test loss=0.33\n",
      "train loss = 0.14, test loss=0.33\n",
      "train loss = 0.14, test loss=0.33\n",
      "train loss = 0.14, test loss=0.33\n",
      "train loss = 0.14, test loss=0.33\n",
      "train loss = 0.14, test loss=0.33\n",
      "train loss = 0.13, test loss=0.33\n",
      "train loss = 0.13, test loss=0.33\n",
      "train loss = 0.13, test loss=0.33\n",
      "train loss = 0.13, test loss=0.33\n",
      "train loss = 0.13, test loss=0.33\n",
      "train loss = 0.13, test loss=0.33\n",
      "train loss = 0.13, test loss=0.33\n",
      "train loss = 0.13, test loss=0.33\n",
      "train loss = 0.12, test loss=0.33\n",
      "train loss = 0.12, test loss=0.33\n"
     ]
    },
    {
     "ename": "InterruptException",
     "evalue": "InterruptException:",
     "output_type": "error",
     "traceback": [
      "InterruptException:",
      "",
      "Stacktrace:",
      " [1] getindex at ./tuple.jl:24 [inlined]",
      " [2] _get at /home/sahil/.julia/packages/Zygote/YeCEW/src/lib/broadcast.jl:131 [inlined]",
      " [3] #1756 at /home/sahil/.julia/packages/Zygote/YeCEW/src/lib/broadcast.jl:143 [inlined]",
      " [4] iterate at ./generator.jl:47 [inlined]",
      " [5] collect_to!(::Array{Float32,2}, ::Base.Generator{Array{Tuple{Nothing,Float32},2},Zygote.var\"#1756#1763\"{Int64}}, ::Int64, ::Int64) at ./array.jl:711",
      " [6] collect_to_with_first! at ./array.jl:689 [inlined]",
      " [7] _collect(::Array{Tuple{Nothing,Float32},2}, ::Base.Generator{Array{Tuple{Nothing,Float32},2},Zygote.var\"#1756#1763\"{Int64}}, ::Base.EltypeUnknown, ::Base.HasShape{2}) at ./array.jl:683",
      " [8] collect_similar at ./array.jl:607 [inlined]",
      " [9] map at ./abstractarray.jl:2072 [inlined]",
      " [10] #1755 at /home/sahil/.julia/packages/Zygote/YeCEW/src/lib/broadcast.jl:143 [inlined]",
      " [11] ntuple at ./ntuple.jl:42 [inlined]",
      " [12] (::Zygote.var\"#1753#1760\"{Tuple{Array{Float64,2}},Val{2},Array{Zygote.var\"#1818#back#681\"{Zygote.var\"#679#680\"},2}})(::Array{Float32,2}) at /home/sahil/.julia/packages/Zygote/YeCEW/src/lib/broadcast.jl:143",
      " [13] #4425#back at /home/sahil/.julia/packages/ZygoteRules/6nssF/src/adjoint.jl:49 [inlined]",
      " [14] (::Zygote.var\"#174#175\"{Zygote.var\"#4425#back#1764\"{Zygote.var\"#1753#1760\"{Tuple{Array{Float64,2}},Val{2},Array{Zygote.var\"#1818#back#681\"{Zygote.var\"#679#680\"},2}}},Tuple{Tuple{Nothing,Nothing,Nothing},Tuple{}}})(::Array{Float32,2}) at /home/sahil/.julia/packages/Zygote/YeCEW/src/lib/lib.jl:182",
      " [15] #347#back at /home/sahil/.julia/packages/ZygoteRules/6nssF/src/adjoint.jl:49 [inlined]",
      " [16] broadcasted at ./broadcast.jl:1232 [inlined]",
      " [17] Dense at /home/sahil/.julia/packages/Flux/Fj3bt/src/layers/basic.jl:136 [inlined]",
      " [18] (::typeof(∂(λ)))(::Array{Float32,2}) at /home/sahil/.julia/packages/Zygote/YeCEW/src/compiler/interface2.jl:0",
      " [19] applychain at /home/sahil/.julia/packages/Flux/Fj3bt/src/layers/basic.jl:36 [inlined]",
      " [20] Chain at /home/sahil/.julia/packages/Flux/Fj3bt/src/layers/basic.jl:38 [inlined]",
      " [21] (::typeof(∂(λ)))(::Array{Float32,2}) at /home/sahil/.julia/packages/Zygote/YeCEW/src/compiler/interface2.jl:0",
      " [22] L at ./In[97]:4 [inlined]",
      " [23] (::typeof(∂(L)))(::Float32) at /home/sahil/.julia/packages/Zygote/YeCEW/src/compiler/interface2.jl:0",
      " [24] #174 at /home/sahil/.julia/packages/Zygote/YeCEW/src/lib/lib.jl:182 [inlined]",
      " [25] #347#back at /home/sahil/.julia/packages/ZygoteRules/6nssF/src/adjoint.jl:49 [inlined]",
      " [26] #17 at /home/sahil/.julia/packages/Flux/Fj3bt/src/optimise/train.jl:89 [inlined]",
      " [27] (::typeof(∂(λ)))(::Float32) at /home/sahil/.julia/packages/Zygote/YeCEW/src/compiler/interface2.jl:0",
      " [28] (::Zygote.var\"#49#50\"{Zygote.Params,Zygote.Context,typeof(∂(λ))})(::Float32) at /home/sahil/.julia/packages/Zygote/YeCEW/src/compiler/interface.jl:179",
      " [29] gradient(::Function, ::Zygote.Params) at /home/sahil/.julia/packages/Zygote/YeCEW/src/compiler/interface.jl:55",
      " [30] macro expansion at /home/sahil/.julia/packages/Flux/Fj3bt/src/optimise/train.jl:88 [inlined]",
      " [31] macro expansion at /home/sahil/.julia/packages/Juno/f8hj2/src/progress.jl:134 [inlined]",
      " [32] train!(::typeof(L), ::Zygote.Params, ::Base.Iterators.Take{Base.Iterators.Repeated{Tuple{Array{Float64,2},Flux.OneHotMatrix{Array{Flux.OneHotVector,1}}}}}, ::ADAM; cb::Flux.var\"#throttled#20\"{Flux.var\"#throttled#16#21\"{Bool,Bool,typeof(update_loss!),Int64}}) at /home/sahil/.julia/packages/Flux/Fj3bt/src/optimise/train.jl:81",
      " [33] top-level scope at In[99]:3"
     ]
    }
   ],
   "source": [
    "train_loss = []\n",
    "test_loss = []\n",
    "Flux.train!(L, ps, Iterators.repeated(trainbatch, 1000), opt; cb=Flux.throttle(update_loss!, 1))"
   ]
  },
  {
   "cell_type": "code",
   "execution_count": 105,
   "metadata": {},
   "outputs": [
    {
     "data": {
      "image/svg+xml": [
       "<?xml version=\"1.0\" encoding=\"utf-8\"?>\n",
       "<svg xmlns=\"http://www.w3.org/2000/svg\" xmlns:xlink=\"http://www.w3.org/1999/xlink\" width=\"600\" height=\"400\" viewBox=\"0 0 2400 1600\">\n",
       "<defs>\n",
       "  <clipPath id=\"clip910\">\n",
       "    <rect x=\"0\" y=\"0\" width=\"2400\" height=\"1600\"/>\n",
       "  </clipPath>\n",
       "</defs>\n",
       "<path clip-path=\"url(#clip910)\" d=\"\n",
       "M0 1600 L2400 1600 L2400 0 L0 0  Z\n",
       "  \" fill=\"#ffffff\" fill-rule=\"evenodd\" fill-opacity=\"1\"/>\n",
       "<defs>\n",
       "  <clipPath id=\"clip911\">\n",
       "    <rect x=\"480\" y=\"0\" width=\"1681\" height=\"1600\"/>\n",
       "  </clipPath>\n",
       "</defs>\n",
       "<path clip-path=\"url(#clip910)\" d=\"\n",
       "M210.121 1423.18 L2352.76 1423.18 L2352.76 123.472 L210.121 123.472  Z\n",
       "  \" fill=\"#ffffff\" fill-rule=\"evenodd\" fill-opacity=\"1\"/>\n",
       "<defs>\n",
       "  <clipPath id=\"clip912\">\n",
       "    <rect x=\"210\" y=\"123\" width=\"2144\" height=\"1301\"/>\n",
       "  </clipPath>\n",
       "</defs>\n",
       "<polyline clip-path=\"url(#clip912)\" style=\"stroke:#000000; stroke-width:2; stroke-opacity:0.1; fill:none\" points=\"\n",
       "  253.336,1423.18 253.336,123.472 \n",
       "  \"/>\n",
       "<polyline clip-path=\"url(#clip912)\" style=\"stroke:#000000; stroke-width:2; stroke-opacity:0.1; fill:none\" points=\"\n",
       "  688.973,1423.18 688.973,123.472 \n",
       "  \"/>\n",
       "<polyline clip-path=\"url(#clip912)\" style=\"stroke:#000000; stroke-width:2; stroke-opacity:0.1; fill:none\" points=\"\n",
       "  1124.61,1423.18 1124.61,123.472 \n",
       "  \"/>\n",
       "<polyline clip-path=\"url(#clip912)\" style=\"stroke:#000000; stroke-width:2; stroke-opacity:0.1; fill:none\" points=\"\n",
       "  1560.25,1423.18 1560.25,123.472 \n",
       "  \"/>\n",
       "<polyline clip-path=\"url(#clip912)\" style=\"stroke:#000000; stroke-width:2; stroke-opacity:0.1; fill:none\" points=\"\n",
       "  1995.88,1423.18 1995.88,123.472 \n",
       "  \"/>\n",
       "<polyline clip-path=\"url(#clip912)\" style=\"stroke:#000000; stroke-width:2; stroke-opacity:0.1; fill:none\" points=\"\n",
       "  210.121,1173.33 2352.76,1173.33 \n",
       "  \"/>\n",
       "<polyline clip-path=\"url(#clip912)\" style=\"stroke:#000000; stroke-width:2; stroke-opacity:0.1; fill:none\" points=\"\n",
       "  210.121,891.037 2352.76,891.037 \n",
       "  \"/>\n",
       "<polyline clip-path=\"url(#clip912)\" style=\"stroke:#000000; stroke-width:2; stroke-opacity:0.1; fill:none\" points=\"\n",
       "  210.121,608.746 2352.76,608.746 \n",
       "  \"/>\n",
       "<polyline clip-path=\"url(#clip912)\" style=\"stroke:#000000; stroke-width:2; stroke-opacity:0.1; fill:none\" points=\"\n",
       "  210.121,326.455 2352.76,326.455 \n",
       "  \"/>\n",
       "<polyline clip-path=\"url(#clip910)\" style=\"stroke:#000000; stroke-width:4; stroke-opacity:1; fill:none\" points=\"\n",
       "  210.121,1423.18 2352.76,1423.18 \n",
       "  \"/>\n",
       "<polyline clip-path=\"url(#clip910)\" style=\"stroke:#000000; stroke-width:4; stroke-opacity:1; fill:none\" points=\"\n",
       "  210.121,1423.18 210.121,123.472 \n",
       "  \"/>\n",
       "<polyline clip-path=\"url(#clip910)\" style=\"stroke:#000000; stroke-width:4; stroke-opacity:1; fill:none\" points=\"\n",
       "  253.336,1423.18 253.336,1407.58 \n",
       "  \"/>\n",
       "<polyline clip-path=\"url(#clip910)\" style=\"stroke:#000000; stroke-width:4; stroke-opacity:1; fill:none\" points=\"\n",
       "  688.973,1423.18 688.973,1407.58 \n",
       "  \"/>\n",
       "<polyline clip-path=\"url(#clip910)\" style=\"stroke:#000000; stroke-width:4; stroke-opacity:1; fill:none\" points=\"\n",
       "  1124.61,1423.18 1124.61,1407.58 \n",
       "  \"/>\n",
       "<polyline clip-path=\"url(#clip910)\" style=\"stroke:#000000; stroke-width:4; stroke-opacity:1; fill:none\" points=\"\n",
       "  1560.25,1423.18 1560.25,1407.58 \n",
       "  \"/>\n",
       "<polyline clip-path=\"url(#clip910)\" style=\"stroke:#000000; stroke-width:4; stroke-opacity:1; fill:none\" points=\"\n",
       "  1995.88,1423.18 1995.88,1407.58 \n",
       "  \"/>\n",
       "<polyline clip-path=\"url(#clip910)\" style=\"stroke:#000000; stroke-width:4; stroke-opacity:1; fill:none\" points=\"\n",
       "  210.121,1173.33 235.833,1173.33 \n",
       "  \"/>\n",
       "<polyline clip-path=\"url(#clip910)\" style=\"stroke:#000000; stroke-width:4; stroke-opacity:1; fill:none\" points=\"\n",
       "  210.121,891.037 235.833,891.037 \n",
       "  \"/>\n",
       "<polyline clip-path=\"url(#clip910)\" style=\"stroke:#000000; stroke-width:4; stroke-opacity:1; fill:none\" points=\"\n",
       "  210.121,608.746 235.833,608.746 \n",
       "  \"/>\n",
       "<polyline clip-path=\"url(#clip910)\" style=\"stroke:#000000; stroke-width:4; stroke-opacity:1; fill:none\" points=\"\n",
       "  210.121,326.455 235.833,326.455 \n",
       "  \"/>\n",
       "<path clip-path=\"url(#clip910)\" d=\"M 0 0 M253.336 1445.17 Q249.725 1445.17 247.896 1448.74 Q246.091 1452.28 246.091 1459.41 Q246.091 1466.51 247.896 1470.08 Q249.725 1473.62 253.336 1473.62 Q256.97 1473.62 258.776 1470.08 Q260.605 1466.51 260.605 1459.41 Q260.605 1452.28 258.776 1448.74 Q256.97 1445.17 253.336 1445.17 M253.336 1441.47 Q259.146 1441.47 262.202 1446.07 Q265.28 1450.66 265.28 1459.41 Q265.28 1468.13 262.202 1472.74 Q259.146 1477.32 253.336 1477.32 Q247.526 1477.32 244.447 1472.74 Q241.392 1468.13 241.392 1459.41 Q241.392 1450.66 244.447 1446.07 Q247.526 1441.47 253.336 1441.47 Z\" fill=\"#000000\" fill-rule=\"evenodd\" fill-opacity=\"1\" /><path clip-path=\"url(#clip910)\" d=\"M 0 0 M670.616 1472.72 L686.936 1472.72 L686.936 1476.65 L664.991 1476.65 L664.991 1472.72 Q667.653 1469.96 672.237 1465.33 Q676.843 1460.68 678.024 1459.34 Q680.269 1456.81 681.149 1455.08 Q682.051 1453.32 682.051 1451.63 Q682.051 1448.87 680.107 1447.14 Q678.186 1445.4 675.084 1445.4 Q672.885 1445.4 670.431 1446.17 Q668.001 1446.93 665.223 1448.48 L665.223 1443.76 Q668.047 1442.62 670.501 1442.05 Q672.954 1441.47 674.991 1441.47 Q680.362 1441.47 683.556 1444.15 Q686.75 1446.84 686.75 1451.33 Q686.75 1453.46 685.94 1455.38 Q685.153 1457.28 683.047 1459.87 Q682.468 1460.54 679.366 1463.76 Q676.264 1466.95 670.616 1472.72 Z\" fill=\"#000000\" fill-rule=\"evenodd\" fill-opacity=\"1\" /><path clip-path=\"url(#clip910)\" d=\"M 0 0 M692.051 1442.09 L710.408 1442.09 L710.408 1446.03 L696.334 1446.03 L696.334 1454.5 Q697.352 1454.15 698.371 1453.99 Q699.389 1453.8 700.408 1453.8 Q706.195 1453.8 709.574 1456.98 Q712.954 1460.15 712.954 1465.56 Q712.954 1471.14 709.482 1474.24 Q706.01 1477.32 699.69 1477.32 Q697.514 1477.32 695.246 1476.95 Q693 1476.58 690.593 1475.84 L690.593 1471.14 Q692.676 1472.28 694.899 1472.83 Q697.121 1473.39 699.598 1473.39 Q703.602 1473.39 705.94 1471.28 Q708.278 1469.18 708.278 1465.56 Q708.278 1461.95 705.94 1459.85 Q703.602 1457.74 699.598 1457.74 Q697.723 1457.74 695.848 1458.16 Q693.996 1458.57 692.051 1459.45 L692.051 1442.09 Z\" fill=\"#000000\" fill-rule=\"evenodd\" fill-opacity=\"1\" /><path clip-path=\"url(#clip910)\" d=\"M 0 0 M1101.38 1442.09 L1119.74 1442.09 L1119.74 1446.03 L1105.66 1446.03 L1105.66 1454.5 Q1106.68 1454.15 1107.7 1453.99 Q1108.72 1453.8 1109.74 1453.8 Q1115.52 1453.8 1118.9 1456.98 Q1122.28 1460.15 1122.28 1465.56 Q1122.28 1471.14 1118.81 1474.24 Q1115.34 1477.32 1109.02 1477.32 Q1106.84 1477.32 1104.57 1476.95 Q1102.33 1476.58 1099.92 1475.84 L1099.92 1471.14 Q1102.01 1472.28 1104.23 1472.83 Q1106.45 1473.39 1108.93 1473.39 Q1112.93 1473.39 1115.27 1471.28 Q1117.61 1469.18 1117.61 1465.56 Q1117.61 1461.95 1115.27 1459.85 Q1112.93 1457.74 1108.93 1457.74 Q1107.05 1457.74 1105.18 1458.16 Q1103.32 1458.57 1101.38 1459.45 L1101.38 1442.09 Z\" fill=\"#000000\" fill-rule=\"evenodd\" fill-opacity=\"1\" /><path clip-path=\"url(#clip910)\" d=\"M 0 0 M1137.35 1445.17 Q1133.74 1445.17 1131.91 1448.74 Q1130.11 1452.28 1130.11 1459.41 Q1130.11 1466.51 1131.91 1470.08 Q1133.74 1473.62 1137.35 1473.62 Q1140.99 1473.62 1142.79 1470.08 Q1144.62 1466.51 1144.62 1459.41 Q1144.62 1452.28 1142.79 1448.74 Q1140.99 1445.17 1137.35 1445.17 M1137.35 1441.47 Q1143.16 1441.47 1146.22 1446.07 Q1149.3 1450.66 1149.3 1459.41 Q1149.3 1468.13 1146.22 1472.74 Q1143.16 1477.32 1137.35 1477.32 Q1131.54 1477.32 1128.46 1472.74 Q1125.41 1468.13 1125.41 1459.41 Q1125.41 1450.66 1128.46 1446.07 Q1131.54 1441.47 1137.35 1441.47 Z\" fill=\"#000000\" fill-rule=\"evenodd\" fill-opacity=\"1\" /><path clip-path=\"url(#clip910)\" d=\"M 0 0 M1536.13 1442.09 L1558.35 1442.09 L1558.35 1444.08 L1545.8 1476.65 L1540.92 1476.65 L1552.72 1446.03 L1536.13 1446.03 L1536.13 1442.09 Z\" fill=\"#000000\" fill-rule=\"evenodd\" fill-opacity=\"1\" /><path clip-path=\"url(#clip910)\" d=\"M 0 0 M1563.46 1442.09 L1581.82 1442.09 L1581.82 1446.03 L1567.75 1446.03 L1567.75 1454.5 Q1568.76 1454.15 1569.78 1453.99 Q1570.8 1453.8 1571.82 1453.8 Q1577.61 1453.8 1580.99 1456.98 Q1584.37 1460.15 1584.37 1465.56 Q1584.37 1471.14 1580.89 1474.24 Q1577.42 1477.32 1571.1 1477.32 Q1568.93 1477.32 1566.66 1476.95 Q1564.41 1476.58 1562.01 1475.84 L1562.01 1471.14 Q1564.09 1472.28 1566.31 1472.83 Q1568.53 1473.39 1571.01 1473.39 Q1575.01 1473.39 1577.35 1471.28 Q1579.69 1469.18 1579.69 1465.56 Q1579.69 1461.95 1577.35 1459.85 Q1575.01 1457.74 1571.01 1457.74 Q1569.13 1457.74 1567.26 1458.16 Q1565.41 1458.57 1563.46 1459.45 L1563.46 1442.09 Z\" fill=\"#000000\" fill-rule=\"evenodd\" fill-opacity=\"1\" /><path clip-path=\"url(#clip910)\" d=\"M 0 0 M1959.25 1472.72 L1966.89 1472.72 L1966.89 1446.35 L1958.58 1448.02 L1958.58 1443.76 L1966.84 1442.09 L1971.52 1442.09 L1971.52 1472.72 L1979.16 1472.72 L1979.16 1476.65 L1959.25 1476.65 L1959.25 1472.72 Z\" fill=\"#000000\" fill-rule=\"evenodd\" fill-opacity=\"1\" /><path clip-path=\"url(#clip910)\" d=\"M 0 0 M1994.23 1445.17 Q1990.62 1445.17 1988.79 1448.74 Q1986.98 1452.28 1986.98 1459.41 Q1986.98 1466.51 1988.79 1470.08 Q1990.62 1473.62 1994.23 1473.62 Q1997.86 1473.62 1999.67 1470.08 Q2001.5 1466.51 2001.5 1459.41 Q2001.5 1452.28 1999.67 1448.74 Q1997.86 1445.17 1994.23 1445.17 M1994.23 1441.47 Q2000.04 1441.47 2003.09 1446.07 Q2006.17 1450.66 2006.17 1459.41 Q2006.17 1468.13 2003.09 1472.74 Q2000.04 1477.32 1994.23 1477.32 Q1988.42 1477.32 1985.34 1472.74 Q1982.28 1468.13 1982.28 1459.41 Q1982.28 1450.66 1985.34 1446.07 Q1988.42 1441.47 1994.23 1441.47 Z\" fill=\"#000000\" fill-rule=\"evenodd\" fill-opacity=\"1\" /><path clip-path=\"url(#clip910)\" d=\"M 0 0 M2021.24 1445.17 Q2017.63 1445.17 2015.8 1448.74 Q2014 1452.28 2014 1459.41 Q2014 1466.51 2015.8 1470.08 Q2017.63 1473.62 2021.24 1473.62 Q2024.88 1473.62 2026.68 1470.08 Q2028.51 1466.51 2028.51 1459.41 Q2028.51 1452.28 2026.68 1448.74 Q2024.88 1445.17 2021.24 1445.17 M2021.24 1441.47 Q2027.05 1441.47 2030.11 1446.07 Q2033.19 1450.66 2033.19 1459.41 Q2033.19 1468.13 2030.11 1472.74 Q2027.05 1477.32 2021.24 1477.32 Q2015.43 1477.32 2012.35 1472.74 Q2009.3 1468.13 2009.3 1459.41 Q2009.3 1450.66 2012.35 1446.07 Q2015.43 1441.47 2021.24 1441.47 Z\" fill=\"#000000\" fill-rule=\"evenodd\" fill-opacity=\"1\" /><path clip-path=\"url(#clip910)\" d=\"M 0 0 M138.205 1159.13 Q134.593 1159.13 132.765 1162.69 Q130.959 1166.23 130.959 1173.36 Q130.959 1180.47 132.765 1184.03 Q134.593 1187.58 138.205 1187.58 Q141.839 1187.58 143.644 1184.03 Q145.473 1180.47 145.473 1173.36 Q145.473 1166.23 143.644 1162.69 Q141.839 1159.13 138.205 1159.13 M138.205 1155.42 Q144.015 1155.42 147.07 1160.03 Q150.149 1164.61 150.149 1173.36 Q150.149 1182.09 147.07 1186.7 Q144.015 1191.28 138.205 1191.28 Q132.394 1191.28 129.316 1186.7 Q126.26 1182.09 126.26 1173.36 Q126.26 1164.61 129.316 1160.03 Q132.394 1155.42 138.205 1155.42 Z\" fill=\"#000000\" fill-rule=\"evenodd\" fill-opacity=\"1\" /><path clip-path=\"url(#clip910)\" d=\"M 0 0 M155.218 1184.73 L160.103 1184.73 L160.103 1190.61 L155.218 1190.61 L155.218 1184.73 Z\" fill=\"#000000\" fill-rule=\"evenodd\" fill-opacity=\"1\" /><path clip-path=\"url(#clip910)\" d=\"M 0 0 M165.218 1156.05 L183.575 1156.05 L183.575 1159.98 L169.501 1159.98 L169.501 1168.46 Q170.519 1168.11 171.538 1167.95 Q172.556 1167.76 173.575 1167.76 Q179.362 1167.76 182.741 1170.93 Q186.121 1174.1 186.121 1179.52 Q186.121 1185.1 182.649 1188.2 Q179.177 1191.28 172.857 1191.28 Q170.681 1191.28 168.413 1190.91 Q166.167 1190.54 163.76 1189.8 L163.76 1185.1 Q165.843 1186.23 168.065 1186.79 Q170.288 1187.34 172.765 1187.34 Q176.769 1187.34 179.107 1185.24 Q181.445 1183.13 181.445 1179.52 Q181.445 1175.91 179.107 1173.8 Q176.769 1171.7 172.765 1171.7 Q170.89 1171.7 169.015 1172.11 Q167.163 1172.53 165.218 1173.41 L165.218 1156.05 Z\" fill=\"#000000\" fill-rule=\"evenodd\" fill-opacity=\"1\" /><path clip-path=\"url(#clip910)\" d=\"M 0 0 M129.246 904.382 L136.885 904.382 L136.885 878.016 L128.575 879.683 L128.575 875.424 L136.839 873.757 L141.515 873.757 L141.515 904.382 L149.154 904.382 L149.154 908.317 L129.246 908.317 L129.246 904.382 Z\" fill=\"#000000\" fill-rule=\"evenodd\" fill-opacity=\"1\" /><path clip-path=\"url(#clip910)\" d=\"M 0 0 M154.223 902.438 L159.107 902.438 L159.107 908.317 L154.223 908.317 L154.223 902.438 Z\" fill=\"#000000\" fill-rule=\"evenodd\" fill-opacity=\"1\" /><path clip-path=\"url(#clip910)\" d=\"M 0 0 M174.177 876.836 Q170.565 876.836 168.737 880.401 Q166.931 883.942 166.931 891.072 Q166.931 898.178 168.737 901.743 Q170.565 905.285 174.177 905.285 Q177.811 905.285 179.616 901.743 Q181.445 898.178 181.445 891.072 Q181.445 883.942 179.616 880.401 Q177.811 876.836 174.177 876.836 M174.177 873.132 Q179.987 873.132 183.042 877.739 Q186.121 882.322 186.121 891.072 Q186.121 899.799 183.042 904.405 Q179.987 908.989 174.177 908.989 Q168.366 908.989 165.288 904.405 Q162.232 899.799 162.232 891.072 Q162.232 882.322 165.288 877.739 Q168.366 873.132 174.177 873.132 Z\" fill=\"#000000\" fill-rule=\"evenodd\" fill-opacity=\"1\" /><path clip-path=\"url(#clip910)\" d=\"M 0 0 M130.242 622.091 L137.88 622.091 L137.88 595.726 L129.57 597.392 L129.57 593.133 L137.834 591.466 L142.51 591.466 L142.51 622.091 L150.149 622.091 L150.149 626.026 L130.242 626.026 L130.242 622.091 Z\" fill=\"#000000\" fill-rule=\"evenodd\" fill-opacity=\"1\" /><path clip-path=\"url(#clip910)\" d=\"M 0 0 M155.218 620.147 L160.103 620.147 L160.103 626.026 L155.218 626.026 L155.218 620.147 Z\" fill=\"#000000\" fill-rule=\"evenodd\" fill-opacity=\"1\" /><path clip-path=\"url(#clip910)\" d=\"M 0 0 M165.218 591.466 L183.575 591.466 L183.575 595.401 L169.501 595.401 L169.501 603.874 Q170.519 603.526 171.538 603.364 Q172.556 603.179 173.575 603.179 Q179.362 603.179 182.741 606.35 Q186.121 609.522 186.121 614.938 Q186.121 620.517 182.649 623.619 Q179.177 626.698 172.857 626.698 Q170.681 626.698 168.413 626.327 Q166.167 625.957 163.76 625.216 L163.76 620.517 Q165.843 621.651 168.065 622.207 Q170.288 622.762 172.765 622.762 Q176.769 622.762 179.107 620.656 Q181.445 618.549 181.445 614.938 Q181.445 611.327 179.107 609.221 Q176.769 607.114 172.765 607.114 Q170.89 607.114 169.015 607.531 Q167.163 607.948 165.218 608.827 L165.218 591.466 Z\" fill=\"#000000\" fill-rule=\"evenodd\" fill-opacity=\"1\" /><path clip-path=\"url(#clip910)\" d=\"M 0 0 M132.834 339.8 L149.154 339.8 L149.154 343.735 L127.209 343.735 L127.209 339.8 Q129.871 337.046 134.455 332.416 Q139.061 327.763 140.242 326.421 Q142.487 323.897 143.367 322.161 Q144.269 320.402 144.269 318.712 Q144.269 315.958 142.325 314.222 Q140.404 312.486 137.302 312.486 Q135.103 312.486 132.649 313.249 Q130.218 314.013 127.441 315.564 L127.441 310.842 Q130.265 309.708 132.718 309.129 Q135.172 308.55 137.209 308.55 Q142.58 308.55 145.774 311.236 Q148.968 313.921 148.968 318.411 Q148.968 320.541 148.158 322.462 Q147.371 324.36 145.265 326.953 Q144.686 327.624 141.584 330.842 Q138.482 334.036 132.834 339.8 Z\" fill=\"#000000\" fill-rule=\"evenodd\" fill-opacity=\"1\" /><path clip-path=\"url(#clip910)\" d=\"M 0 0 M154.223 337.856 L159.107 337.856 L159.107 343.735 L154.223 343.735 L154.223 337.856 Z\" fill=\"#000000\" fill-rule=\"evenodd\" fill-opacity=\"1\" /><path clip-path=\"url(#clip910)\" d=\"M 0 0 M174.177 312.254 Q170.565 312.254 168.737 315.819 Q166.931 319.36 166.931 326.49 Q166.931 333.597 168.737 337.161 Q170.565 340.703 174.177 340.703 Q177.811 340.703 179.616 337.161 Q181.445 333.597 181.445 326.49 Q181.445 319.36 179.616 315.819 Q177.811 312.254 174.177 312.254 M174.177 308.55 Q179.987 308.55 183.042 313.157 Q186.121 317.74 186.121 326.49 Q186.121 335.217 183.042 339.823 Q179.987 344.407 174.177 344.407 Q168.366 344.407 165.288 339.823 Q162.232 335.217 162.232 326.49 Q162.232 317.74 165.288 313.157 Q168.366 308.55 174.177 308.55 Z\" fill=\"#000000\" fill-rule=\"evenodd\" fill-opacity=\"1\" /><path clip-path=\"url(#clip910)\" d=\"M 0 0 M949.366 12.096 L1000.53 12.096 L1000.53 18.9825 L979.059 18.9825 L979.059 72.576 L970.835 72.576 L970.835 18.9825 L949.366 18.9825 L949.366 12.096 Z\" fill=\"#000000\" fill-rule=\"evenodd\" fill-opacity=\"1\" /><path clip-path=\"url(#clip910)\" d=\"M 0 0 M1022.44 34.1734 Q1021.19 33.4443 1019.69 33.1202 Q1018.23 32.7556 1016.45 32.7556 Q1010.13 32.7556 1006.73 36.8875 Q1003.36 40.9789 1003.36 48.6757 L1003.36 72.576 L995.87 72.576 L995.87 27.2059 L1003.36 27.2059 L1003.36 34.2544 Q1005.71 30.1225 1009.48 28.1376 Q1013.25 26.1121 1018.64 26.1121 Q1019.41 26.1121 1020.34 26.2337 Q1021.27 26.3147 1022.4 26.5172 L1022.44 34.1734 Z\" fill=\"#000000\" fill-rule=\"evenodd\" fill-opacity=\"1\" /><path clip-path=\"url(#clip910)\" d=\"M 0 0 M1050.88 49.7694 Q1041.85 49.7694 1038.36 51.8354 Q1034.88 53.9013 1034.88 58.8839 Q1034.88 62.8538 1037.47 65.2034 Q1040.11 67.5124 1044.6 67.5124 Q1050.8 67.5124 1054.53 63.1374 Q1058.29 58.7219 1058.29 51.4303 L1058.29 49.7694 L1050.88 49.7694 M1065.75 46.6907 L1065.75 72.576 L1058.29 72.576 L1058.29 65.6895 Q1055.74 69.8214 1051.93 71.8063 Q1048.13 73.7508 1042.62 73.7508 Q1035.65 73.7508 1031.52 69.8619 Q1027.43 65.9325 1027.43 59.3701 Q1027.43 51.7138 1032.53 47.825 Q1037.68 43.9361 1047.84 43.9361 L1058.29 43.9361 L1058.29 43.2069 Q1058.29 38.0623 1054.89 35.2672 Q1051.53 32.4315 1045.41 32.4315 Q1041.52 32.4315 1037.84 33.3632 Q1034.15 34.295 1030.75 36.1584 L1030.75 29.2718 Q1034.84 27.692 1038.69 26.9223 Q1042.54 26.1121 1046.18 26.1121 Q1056.03 26.1121 1060.89 31.2163 Q1065.75 36.3204 1065.75 46.6907 Z\" fill=\"#000000\" fill-rule=\"evenodd\" fill-opacity=\"1\" /><path clip-path=\"url(#clip910)\" d=\"M 0 0 M1073.57 27.2059 L1081.02 27.2059 L1081.02 72.576 L1073.57 72.576 L1073.57 27.2059 M1073.57 9.54393 L1081.02 9.54393 L1081.02 18.9825 L1073.57 18.9825 L1073.57 9.54393 Z\" fill=\"#000000\" fill-rule=\"evenodd\" fill-opacity=\"1\" /><path clip-path=\"url(#clip910)\" d=\"M 0 0 M1126.55 45.1919 L1126.55 72.576 L1119.1 72.576 L1119.1 45.4349 Q1119.1 38.994 1116.59 35.7938 Q1114.08 32.5936 1109.05 32.5936 Q1103.02 32.5936 1099.53 36.4419 Q1096.05 40.2903 1096.05 46.9338 L1096.05 72.576 L1088.55 72.576 L1088.55 27.2059 L1096.05 27.2059 L1096.05 34.2544 Q1098.72 30.163 1102.33 28.1376 Q1105.97 26.1121 1110.71 26.1121 Q1118.53 26.1121 1122.54 30.9732 Q1126.55 35.7938 1126.55 45.1919 Z\" fill=\"#000000\" fill-rule=\"evenodd\" fill-opacity=\"1\" /><path clip-path=\"url(#clip910)\" d=\"M 0 0 M1155.39 27.2059 L1163.29 27.2059 L1177.47 65.2844 L1191.65 27.2059 L1199.55 27.2059 L1182.54 72.576 L1172.41 72.576 L1155.39 27.2059 Z\" fill=\"#000000\" fill-rule=\"evenodd\" fill-opacity=\"1\" /><path clip-path=\"url(#clip910)\" d=\"M 0 0 M1236.29 28.5427 L1236.29 35.5912 Q1233.13 33.9709 1229.73 33.1607 Q1226.33 32.3505 1222.68 32.3505 Q1217.13 32.3505 1214.34 34.0519 Q1211.58 35.7533 1211.58 39.156 Q1211.58 41.7486 1213.57 43.2475 Q1215.55 44.7058 1221.55 46.0426 L1224.1 46.6097 Q1232.04 48.3111 1235.36 51.4303 Q1238.72 54.509 1238.72 60.0587 Q1238.72 66.3781 1233.7 70.0644 Q1228.72 73.7508 1219.97 73.7508 Q1216.32 73.7508 1212.35 73.0216 Q1208.42 72.3329 1204.05 70.9151 L1204.05 63.2184 Q1208.18 65.3654 1212.19 66.4591 Q1216.2 67.5124 1220.13 67.5124 Q1225.39 67.5124 1228.23 65.73 Q1231.07 63.9071 1231.07 60.6258 Q1231.07 57.5877 1229 55.9673 Q1226.97 54.3469 1220.05 52.8481 L1217.45 52.2405 Q1210.53 50.7821 1207.45 47.7845 Q1204.37 44.7463 1204.37 39.4801 Q1204.37 33.0797 1208.91 29.5959 Q1213.44 26.1121 1221.79 26.1121 Q1225.92 26.1121 1229.57 26.7198 Q1233.21 27.3274 1236.29 28.5427 Z\" fill=\"#000000\" fill-rule=\"evenodd\" fill-opacity=\"1\" /><path clip-path=\"url(#clip910)\" d=\"M 0 0 M1264.85 12.096 L1316.01 12.096 L1316.01 18.9825 L1294.54 18.9825 L1294.54 72.576 L1286.32 72.576 L1286.32 18.9825 L1264.85 18.9825 L1264.85 12.096 Z\" fill=\"#000000\" fill-rule=\"evenodd\" fill-opacity=\"1\" /><path clip-path=\"url(#clip910)\" d=\"M 0 0 M1348.54 48.0275 L1348.54 51.6733 L1314.27 51.6733 Q1314.76 59.3701 1318.89 63.421 Q1323.06 67.4314 1330.47 67.4314 Q1334.77 67.4314 1338.78 66.3781 Q1342.83 65.3249 1346.8 63.2184 L1346.8 70.267 Q1342.79 71.9684 1338.58 72.8596 Q1334.36 73.7508 1330.03 73.7508 Q1319.17 73.7508 1312.81 67.4314 Q1306.49 61.1119 1306.49 50.3365 Q1306.49 39.1965 1312.49 32.6746 Q1318.52 26.1121 1328.73 26.1121 Q1337.89 26.1121 1343.19 32.0264 Q1348.54 37.9003 1348.54 48.0275 M1341.09 45.84 Q1341.01 39.7232 1337.64 36.0774 Q1334.32 32.4315 1328.81 32.4315 Q1322.58 32.4315 1318.81 35.9558 Q1315.08 39.4801 1314.51 45.8805 L1341.09 45.84 Z\" fill=\"#000000\" fill-rule=\"evenodd\" fill-opacity=\"1\" /><path clip-path=\"url(#clip910)\" d=\"M 0 0 M1385.28 28.5427 L1385.28 35.5912 Q1382.12 33.9709 1378.72 33.1607 Q1375.32 32.3505 1371.67 32.3505 Q1366.12 32.3505 1363.33 34.0519 Q1360.57 35.7533 1360.57 39.156 Q1360.57 41.7486 1362.56 43.2475 Q1364.54 44.7058 1370.54 46.0426 L1373.09 46.6097 Q1381.03 48.3111 1384.35 51.4303 Q1387.71 54.509 1387.71 60.0587 Q1387.71 66.3781 1382.69 70.0644 Q1377.71 73.7508 1368.96 73.7508 Q1365.31 73.7508 1361.34 73.0216 Q1357.41 72.3329 1353.04 70.9151 L1353.04 63.2184 Q1357.17 65.3654 1361.18 66.4591 Q1365.19 67.5124 1369.12 67.5124 Q1374.39 67.5124 1377.22 65.73 Q1380.06 63.9071 1380.06 60.6258 Q1380.06 57.5877 1377.99 55.9673 Q1375.97 54.3469 1369.04 52.8481 L1366.45 52.2405 Q1359.52 50.7821 1356.44 47.7845 Q1353.36 44.7463 1353.36 39.4801 Q1353.36 33.0797 1357.9 29.5959 Q1362.44 26.1121 1370.78 26.1121 Q1374.91 26.1121 1378.56 26.7198 Q1382.2 27.3274 1385.28 28.5427 Z\" fill=\"#000000\" fill-rule=\"evenodd\" fill-opacity=\"1\" /><path clip-path=\"url(#clip910)\" d=\"M 0 0 M1402.9 14.324 L1402.9 27.2059 L1418.26 27.2059 L1418.26 32.9987 L1402.9 32.9987 L1402.9 57.6282 Q1402.9 63.1779 1404.4 64.7578 Q1405.94 66.3376 1410.6 66.3376 L1418.26 66.3376 L1418.26 72.576 L1410.6 72.576 Q1401.97 72.576 1398.69 69.3758 Q1395.41 66.1351 1395.41 57.6282 L1395.41 32.9987 L1389.94 32.9987 L1389.94 27.2059 L1395.41 27.2059 L1395.41 14.324 L1402.9 14.324 Z\" fill=\"#000000\" fill-rule=\"evenodd\" fill-opacity=\"1\" /><path clip-path=\"url(#clip910)\" d=\"M 0 0 M1452.77 12.096 L1460.95 12.096 L1460.95 65.6895 L1490.4 65.6895 L1490.4 72.576 L1452.77 72.576 L1452.77 12.096 Z\" fill=\"#000000\" fill-rule=\"evenodd\" fill-opacity=\"1\" /><path clip-path=\"url(#clip910)\" d=\"M 0 0 M1514.35 32.4315 Q1508.35 32.4315 1504.87 37.1306 Q1501.38 41.7891 1501.38 49.9314 Q1501.38 58.0738 1504.83 62.7728 Q1508.31 67.4314 1514.35 67.4314 Q1520.3 67.4314 1523.78 62.7323 Q1527.27 58.0333 1527.27 49.9314 Q1527.27 41.8701 1523.78 37.1711 Q1520.3 32.4315 1514.35 32.4315 M1514.35 26.1121 Q1524.07 26.1121 1529.62 32.4315 Q1535.17 38.7509 1535.17 49.9314 Q1535.17 61.0714 1529.62 67.4314 Q1524.07 73.7508 1514.35 73.7508 Q1504.58 73.7508 1499.03 67.4314 Q1493.52 61.0714 1493.52 49.9314 Q1493.52 38.7509 1499.03 32.4315 Q1504.58 26.1121 1514.35 26.1121 Z\" fill=\"#000000\" fill-rule=\"evenodd\" fill-opacity=\"1\" /><path clip-path=\"url(#clip910)\" d=\"M 0 0 M1571.91 28.5427 L1571.91 35.5912 Q1568.75 33.9709 1565.35 33.1607 Q1561.94 32.3505 1558.3 32.3505 Q1552.75 32.3505 1549.95 34.0519 Q1547.2 35.7533 1547.2 39.156 Q1547.2 41.7486 1549.18 43.2475 Q1551.17 44.7058 1557.16 46.0426 L1559.72 46.6097 Q1567.66 48.3111 1570.98 51.4303 Q1574.34 54.509 1574.34 60.0587 Q1574.34 66.3781 1569.32 70.0644 Q1564.33 73.7508 1555.58 73.7508 Q1551.94 73.7508 1547.97 73.0216 Q1544.04 72.3329 1539.66 70.9151 L1539.66 63.2184 Q1543.8 65.3654 1547.81 66.4591 Q1551.82 67.5124 1555.75 67.5124 Q1561.01 67.5124 1563.85 65.73 Q1566.68 63.9071 1566.68 60.6258 Q1566.68 57.5877 1564.62 55.9673 Q1562.59 54.3469 1555.66 52.8481 L1553.07 52.2405 Q1546.14 50.7821 1543.07 47.7845 Q1539.99 44.7463 1539.99 39.4801 Q1539.99 33.0797 1544.52 29.5959 Q1549.06 26.1121 1557.41 26.1121 Q1561.54 26.1121 1565.18 26.7198 Q1568.83 27.3274 1571.91 28.5427 Z\" fill=\"#000000\" fill-rule=\"evenodd\" fill-opacity=\"1\" /><path clip-path=\"url(#clip910)\" d=\"M 0 0 M1611.08 28.5427 L1611.08 35.5912 Q1607.92 33.9709 1604.52 33.1607 Q1601.12 32.3505 1597.47 32.3505 Q1591.92 32.3505 1589.12 34.0519 Q1586.37 35.7533 1586.37 39.156 Q1586.37 41.7486 1588.36 43.2475 Q1590.34 44.7058 1596.34 46.0426 L1598.89 46.6097 Q1606.83 48.3111 1610.15 51.4303 Q1613.51 54.509 1613.51 60.0587 Q1613.51 66.3781 1608.49 70.0644 Q1603.51 73.7508 1594.76 73.7508 Q1591.11 73.7508 1587.14 73.0216 Q1583.21 72.3329 1578.84 70.9151 L1578.84 63.2184 Q1582.97 65.3654 1586.98 66.4591 Q1590.99 67.5124 1594.92 67.5124 Q1600.18 67.5124 1603.02 65.73 Q1605.86 63.9071 1605.86 60.6258 Q1605.86 57.5877 1603.79 55.9673 Q1601.76 54.3469 1594.84 52.8481 L1592.24 52.2405 Q1585.32 50.7821 1582.24 47.7845 Q1579.16 44.7463 1579.16 39.4801 Q1579.16 33.0797 1583.7 29.5959 Q1588.23 26.1121 1596.58 26.1121 Q1600.71 26.1121 1604.36 26.7198 Q1608 27.3274 1611.08 28.5427 Z\" fill=\"#000000\" fill-rule=\"evenodd\" fill-opacity=\"1\" /><path clip-path=\"url(#clip910)\" d=\"M 0 0 M1024.18 1530.04 L1024.18 1535.71 Q1020.84 1538.22 1017.98 1539.3 Q1015.15 1540.38 1012.06 1540.38 Q1008.56 1540.38 1003.91 1538.51 Q1003.56 1538.38 1003.4 1538.32 Q1003.18 1538.22 1002.7 1538.06 Q997.767 1536.09 994.775 1536.09 Q991.974 1536.09 989.237 1537.33 Q986.499 1538.54 983.38 1541.18 L983.38 1535.51 Q986.722 1533 989.555 1531.92 Q992.419 1530.8 995.507 1530.8 Q999.008 1530.8 1003.69 1532.71 Q1004.01 1532.84 1004.16 1532.9 Q1004.42 1533 1004.86 1533.16 Q1009.8 1535.13 1012.79 1535.13 Q1015.53 1535.13 1018.2 1533.92 Q1020.91 1532.71 1024.18 1530.04 Z\" fill=\"#000000\" fill-rule=\"evenodd\" fill-opacity=\"1\" /><path clip-path=\"url(#clip910)\" d=\"M 0 0 M1053.05 1521.45 L1053.05 1526.98 Q1050.57 1525.71 1047.9 1525.07 Q1045.22 1524.44 1042.36 1524.44 Q1038 1524.44 1035.8 1525.77 Q1033.64 1527.11 1033.64 1529.79 Q1033.64 1531.82 1035.2 1533 Q1036.76 1534.15 1041.47 1535.2 L1043.47 1535.64 Q1049.71 1536.98 1052.32 1539.43 Q1054.96 1541.85 1054.96 1546.21 Q1054.96 1551.17 1051.02 1554.07 Q1047.1 1556.97 1040.23 1556.97 Q1037.36 1556.97 1034.24 1556.39 Q1031.15 1555.85 1027.72 1554.74 L1027.72 1548.69 Q1030.96 1550.38 1034.11 1551.24 Q1037.27 1552.07 1040.35 1552.07 Q1044.49 1552.07 1046.72 1550.66 Q1048.95 1549.23 1048.95 1546.65 Q1048.95 1544.27 1047.32 1542.99 Q1045.73 1541.72 1040.29 1540.54 L1038.25 1540.07 Q1032.81 1538.92 1030.39 1536.56 Q1027.97 1534.18 1027.97 1530.04 Q1027.97 1525.01 1031.54 1522.27 Q1035.1 1519.54 1041.66 1519.54 Q1044.9 1519.54 1047.77 1520.01 Q1050.63 1520.49 1053.05 1521.45 Z\" fill=\"#000000\" fill-rule=\"evenodd\" fill-opacity=\"1\" /><path clip-path=\"url(#clip910)\" d=\"M 0 0 M1091.6 1536.76 L1091.6 1539.62 L1064.67 1539.62 Q1065.05 1545.67 1068.3 1548.85 Q1071.58 1552 1077.4 1552 Q1080.78 1552 1083.93 1551.17 Q1087.11 1550.35 1090.23 1548.69 L1090.23 1554.23 Q1087.08 1555.57 1083.77 1556.27 Q1080.46 1556.97 1077.05 1556.97 Q1068.52 1556.97 1063.52 1552 Q1058.56 1547.04 1058.56 1538.57 Q1058.56 1529.82 1063.27 1524.69 Q1068.01 1519.54 1076.03 1519.54 Q1083.23 1519.54 1087.4 1524.18 Q1091.6 1528.8 1091.6 1536.76 M1085.74 1535.04 Q1085.68 1530.23 1083.04 1527.37 Q1080.43 1524.5 1076.1 1524.5 Q1071.2 1524.5 1068.23 1527.27 Q1065.31 1530.04 1064.86 1535.07 L1085.74 1535.04 Z\" fill=\"#000000\" fill-rule=\"evenodd\" fill-opacity=\"1\" /><path clip-path=\"url(#clip910)\" d=\"M 0 0 M1123.39 1521.76 L1123.39 1527.24 Q1120.91 1525.87 1118.4 1525.2 Q1115.91 1524.5 1113.37 1524.5 Q1107.67 1524.5 1104.52 1528.13 Q1101.37 1531.73 1101.37 1538.25 Q1101.37 1544.78 1104.52 1548.4 Q1107.67 1552 1113.37 1552 Q1115.91 1552 1118.4 1551.33 Q1120.91 1550.63 1123.39 1549.26 L1123.39 1554.68 Q1120.94 1555.82 1118.3 1556.39 Q1115.69 1556.97 1112.73 1556.97 Q1104.68 1556.97 1099.94 1551.91 Q1095.19 1546.85 1095.19 1538.25 Q1095.19 1529.53 1099.97 1524.53 Q1104.77 1519.54 1113.11 1519.54 Q1115.82 1519.54 1118.4 1520.11 Q1120.97 1520.65 1123.39 1521.76 Z\" fill=\"#000000\" fill-rule=\"evenodd\" fill-opacity=\"1\" /><path clip-path=\"url(#clip910)\" d=\"M 0 0 M1143.35 1524.5 Q1138.64 1524.5 1135.9 1528.19 Q1133.17 1531.85 1133.17 1538.25 Q1133.17 1544.65 1135.87 1548.34 Q1138.61 1552 1143.35 1552 Q1148.03 1552 1150.77 1548.31 Q1153.5 1544.62 1153.5 1538.25 Q1153.5 1531.92 1150.77 1528.23 Q1148.03 1524.5 1143.35 1524.5 M1143.35 1519.54 Q1150.99 1519.54 1155.35 1524.5 Q1159.71 1529.47 1159.71 1538.25 Q1159.71 1547 1155.35 1552 Q1150.99 1556.97 1143.35 1556.97 Q1135.68 1556.97 1131.32 1552 Q1126.99 1547 1126.99 1538.25 Q1126.99 1529.47 1131.32 1524.5 Q1135.68 1519.54 1143.35 1519.54 Z\" fill=\"#000000\" fill-rule=\"evenodd\" fill-opacity=\"1\" /><path clip-path=\"url(#clip910)\" d=\"M 0 0 M1195.49 1534.53 L1195.49 1556.04 L1189.63 1556.04 L1189.63 1534.72 Q1189.63 1529.66 1187.66 1527.14 Q1185.68 1524.63 1181.74 1524.63 Q1176.99 1524.63 1174.26 1527.65 Q1171.52 1530.68 1171.52 1535.9 L1171.52 1556.04 L1165.63 1556.04 L1165.63 1520.4 L1171.52 1520.4 L1171.52 1525.93 Q1173.62 1522.72 1176.45 1521.13 Q1179.32 1519.54 1183.04 1519.54 Q1189.18 1519.54 1192.33 1523.36 Q1195.49 1527.14 1195.49 1534.53 Z\" fill=\"#000000\" fill-rule=\"evenodd\" fill-opacity=\"1\" /><path clip-path=\"url(#clip910)\" d=\"M 0 0 M1225.09 1525.81 L1225.09 1506.52 L1230.94 1506.52 L1230.94 1556.04 L1225.09 1556.04 L1225.09 1550.7 Q1223.24 1553.88 1220.41 1555.44 Q1217.61 1556.97 1213.66 1556.97 Q1207.2 1556.97 1203.12 1551.81 Q1199.08 1546.65 1199.08 1538.25 Q1199.08 1529.85 1203.12 1524.69 Q1207.2 1519.54 1213.66 1519.54 Q1217.61 1519.54 1220.41 1521.1 Q1223.24 1522.62 1225.09 1525.81 M1205.13 1538.25 Q1205.13 1544.71 1207.77 1548.4 Q1210.44 1552.07 1215.09 1552.07 Q1219.74 1552.07 1222.41 1548.4 Q1225.09 1544.71 1225.09 1538.25 Q1225.09 1531.79 1222.41 1528.13 Q1219.74 1524.44 1215.09 1524.44 Q1210.44 1524.44 1207.77 1528.13 Q1205.13 1531.79 1205.13 1538.25 Z\" fill=\"#000000\" fill-rule=\"evenodd\" fill-opacity=\"1\" /><path clip-path=\"url(#clip910)\" d=\"M 0 0 M1259.81 1521.45 L1259.81 1526.98 Q1257.33 1525.71 1254.65 1525.07 Q1251.98 1524.44 1249.12 1524.44 Q1244.76 1524.44 1242.56 1525.77 Q1240.4 1527.11 1240.4 1529.79 Q1240.4 1531.82 1241.96 1533 Q1243.51 1534.15 1248.23 1535.2 L1250.23 1535.64 Q1256.47 1536.98 1259.08 1539.43 Q1261.72 1541.85 1261.72 1546.21 Q1261.72 1551.17 1257.77 1554.07 Q1253.86 1556.97 1246.98 1556.97 Q1244.12 1556.97 1241 1556.39 Q1237.91 1555.85 1234.48 1554.74 L1234.48 1548.69 Q1237.72 1550.38 1240.87 1551.24 Q1244.02 1552.07 1247.11 1552.07 Q1251.25 1552.07 1253.48 1550.66 Q1255.71 1549.23 1255.71 1546.65 Q1255.71 1544.27 1254.08 1542.99 Q1252.49 1541.72 1247.05 1540.54 L1245.01 1540.07 Q1239.57 1538.92 1237.15 1536.56 Q1234.73 1534.18 1234.73 1530.04 Q1234.73 1525.01 1238.29 1522.27 Q1241.86 1519.54 1248.42 1519.54 Q1251.66 1519.54 1254.53 1520.01 Q1257.39 1520.49 1259.81 1521.45 Z\" fill=\"#000000\" fill-rule=\"evenodd\" fill-opacity=\"1\" /><path clip-path=\"url(#clip910)\" d=\"M 0 0 M1302.4 1524.5 Q1297.69 1524.5 1294.95 1528.19 Q1292.21 1531.85 1292.21 1538.25 Q1292.21 1544.65 1294.92 1548.34 Q1297.66 1552 1302.4 1552 Q1307.08 1552 1309.81 1548.31 Q1312.55 1544.62 1312.55 1538.25 Q1312.55 1531.92 1309.81 1528.23 Q1307.08 1524.5 1302.4 1524.5 M1302.4 1519.54 Q1310.04 1519.54 1314.4 1524.5 Q1318.76 1529.47 1318.76 1538.25 Q1318.76 1547 1314.4 1552 Q1310.04 1556.97 1302.4 1556.97 Q1294.73 1556.97 1290.37 1552 Q1286.04 1547 1286.04 1538.25 Q1286.04 1529.47 1290.37 1524.5 Q1294.73 1519.54 1302.4 1519.54 Z\" fill=\"#000000\" fill-rule=\"evenodd\" fill-opacity=\"1\" /><path clip-path=\"url(#clip910)\" d=\"M 0 0 M1342.95 1506.52 L1342.95 1511.39 L1337.35 1511.39 Q1334.19 1511.39 1332.95 1512.66 Q1331.74 1513.93 1331.74 1517.24 L1331.74 1520.4 L1341.39 1520.4 L1341.39 1524.95 L1331.74 1524.95 L1331.74 1556.04 L1325.86 1556.04 L1325.86 1524.95 L1320.25 1524.95 L1320.25 1520.4 L1325.86 1520.4 L1325.86 1517.91 Q1325.86 1511.96 1328.62 1509.26 Q1331.39 1506.52 1337.41 1506.52 L1342.95 1506.52 Z\" fill=\"#000000\" fill-rule=\"evenodd\" fill-opacity=\"1\" /><path clip-path=\"url(#clip910)\" d=\"M 0 0 M1375.6 1510.27 L1375.6 1520.4 L1387.67 1520.4 L1387.67 1524.95 L1375.6 1524.95 L1375.6 1544.3 Q1375.6 1548.66 1376.78 1549.9 Q1377.99 1551.14 1381.65 1551.14 L1387.67 1551.14 L1387.67 1556.04 L1381.65 1556.04 Q1374.87 1556.04 1372.29 1553.53 Q1369.71 1550.98 1369.71 1544.3 L1369.71 1524.95 L1365.42 1524.95 L1365.42 1520.4 L1369.71 1520.4 L1369.71 1510.27 L1375.6 1510.27 Z\" fill=\"#000000\" fill-rule=\"evenodd\" fill-opacity=\"1\" /><path clip-path=\"url(#clip910)\" d=\"M 0 0 M1414.47 1525.87 Q1413.48 1525.3 1412.3 1525.04 Q1411.16 1524.76 1409.76 1524.76 Q1404.79 1524.76 1402.12 1528 Q1399.47 1531.22 1399.47 1537.27 L1399.47 1556.04 L1393.59 1556.04 L1393.59 1520.4 L1399.47 1520.4 L1399.47 1525.93 Q1401.32 1522.69 1404.28 1521.13 Q1407.24 1519.54 1411.47 1519.54 Q1412.08 1519.54 1412.81 1519.63 Q1413.54 1519.7 1414.43 1519.85 L1414.47 1525.87 Z\" fill=\"#000000\" fill-rule=\"evenodd\" fill-opacity=\"1\" /><path clip-path=\"url(#clip910)\" d=\"M 0 0 M1436.81 1538.12 Q1429.71 1538.12 1426.97 1539.75 Q1424.24 1541.37 1424.24 1545.29 Q1424.24 1548.4 1426.27 1550.25 Q1428.34 1552.07 1431.88 1552.07 Q1436.75 1552.07 1439.67 1548.63 Q1442.63 1545.16 1442.63 1539.43 L1442.63 1538.12 L1436.81 1538.12 M1448.49 1535.71 L1448.49 1556.04 L1442.63 1556.04 L1442.63 1550.63 Q1440.63 1553.88 1437.64 1555.44 Q1434.65 1556.97 1430.32 1556.97 Q1424.84 1556.97 1421.6 1553.91 Q1418.38 1550.82 1418.38 1545.67 Q1418.38 1539.65 1422.39 1536.6 Q1426.43 1533.54 1434.42 1533.54 L1442.63 1533.54 L1442.63 1532.97 Q1442.63 1528.93 1439.96 1526.73 Q1437.32 1524.5 1432.51 1524.5 Q1429.46 1524.5 1426.56 1525.23 Q1423.66 1525.97 1420.99 1527.43 L1420.99 1522.02 Q1424.21 1520.78 1427.23 1520.17 Q1430.25 1519.54 1433.12 1519.54 Q1440.85 1519.54 1444.67 1523.55 Q1448.49 1527.56 1448.49 1535.71 Z\" fill=\"#000000\" fill-rule=\"evenodd\" fill-opacity=\"1\" /><path clip-path=\"url(#clip910)\" d=\"M 0 0 M1454.63 1520.4 L1460.49 1520.4 L1460.49 1556.04 L1454.63 1556.04 L1454.63 1520.4 M1454.63 1506.52 L1460.49 1506.52 L1460.49 1513.93 L1454.63 1513.93 L1454.63 1506.52 Z\" fill=\"#000000\" fill-rule=\"evenodd\" fill-opacity=\"1\" /><path clip-path=\"url(#clip910)\" d=\"M 0 0 M1496.27 1534.53 L1496.27 1556.04 L1490.41 1556.04 L1490.41 1534.72 Q1490.41 1529.66 1488.44 1527.14 Q1486.46 1524.63 1482.52 1524.63 Q1477.77 1524.63 1475.04 1527.65 Q1472.3 1530.68 1472.3 1535.9 L1472.3 1556.04 L1466.41 1556.04 L1466.41 1520.4 L1472.3 1520.4 L1472.3 1525.93 Q1474.4 1522.72 1477.23 1521.13 Q1480.1 1519.54 1483.82 1519.54 Q1489.96 1519.54 1493.11 1523.36 Q1496.27 1527.14 1496.27 1534.53 Z\" fill=\"#000000\" fill-rule=\"evenodd\" fill-opacity=\"1\" /><path clip-path=\"url(#clip910)\" d=\"M 0 0 M1502.41 1520.4 L1508.26 1520.4 L1508.26 1556.04 L1502.41 1556.04 L1502.41 1520.4 M1502.41 1506.52 L1508.26 1506.52 L1508.26 1513.93 L1502.41 1513.93 L1502.41 1506.52 Z\" fill=\"#000000\" fill-rule=\"evenodd\" fill-opacity=\"1\" /><path clip-path=\"url(#clip910)\" d=\"M 0 0 M1544.04 1534.53 L1544.04 1556.04 L1538.18 1556.04 L1538.18 1534.72 Q1538.18 1529.66 1536.21 1527.14 Q1534.24 1524.63 1530.29 1524.63 Q1525.55 1524.63 1522.81 1527.65 Q1520.07 1530.68 1520.07 1535.9 L1520.07 1556.04 L1514.18 1556.04 L1514.18 1520.4 L1520.07 1520.4 L1520.07 1525.93 Q1522.17 1522.72 1525.01 1521.13 Q1527.87 1519.54 1531.59 1519.54 Q1537.74 1519.54 1540.89 1523.36 Q1544.04 1527.14 1544.04 1534.53 Z\" fill=\"#000000\" fill-rule=\"evenodd\" fill-opacity=\"1\" /><path clip-path=\"url(#clip910)\" d=\"M 0 0 M1573.64 1537.81 Q1573.64 1531.44 1571 1527.94 Q1568.39 1524.44 1563.65 1524.44 Q1558.94 1524.44 1556.29 1527.94 Q1553.68 1531.44 1553.68 1537.81 Q1553.68 1544.14 1556.29 1547.64 Q1558.94 1551.14 1563.65 1551.14 Q1568.39 1551.14 1571 1547.64 Q1573.64 1544.14 1573.64 1537.81 M1579.5 1551.62 Q1579.5 1560.72 1575.45 1565.15 Q1571.41 1569.6 1563.07 1569.6 Q1559.99 1569.6 1557.25 1569.13 Q1554.51 1568.68 1551.93 1567.72 L1551.93 1562.03 Q1554.51 1563.43 1557.03 1564.1 Q1559.54 1564.76 1562.15 1564.76 Q1567.91 1564.76 1570.78 1561.74 Q1573.64 1558.75 1573.64 1552.67 L1573.64 1549.77 Q1571.83 1552.92 1568.99 1554.48 Q1566.16 1556.04 1562.21 1556.04 Q1555.66 1556.04 1551.65 1551.05 Q1547.64 1546.05 1547.64 1537.81 Q1547.64 1529.53 1551.65 1524.53 Q1555.66 1519.54 1562.21 1519.54 Q1566.16 1519.54 1568.99 1521.1 Q1571.83 1522.66 1573.64 1525.81 L1573.64 1520.4 L1579.5 1520.4 L1579.5 1551.62 Z\" fill=\"#000000\" fill-rule=\"evenodd\" fill-opacity=\"1\" /><path clip-path=\"url(#clip910)\" d=\"M 0 0 M40.4842 836.474 L40.4842 830.044 L82.5933 830.044 L82.5933 806.905 L88.0042 806.905 L88.0042 836.474 L40.4842 836.474 Z\" fill=\"#000000\" fill-rule=\"evenodd\" fill-opacity=\"1\" /><path clip-path=\"url(#clip910)\" d=\"M 0 0 M56.4621 788.094 Q56.4621 792.805 60.1542 795.542 Q63.8145 798.28 70.212 798.28 Q76.6095 798.28 80.3017 795.574 Q83.9619 792.837 83.9619 788.094 Q83.9619 783.416 80.2698 780.678 Q76.5777 777.941 70.212 777.941 Q63.8781 777.941 60.186 780.678 Q56.4621 783.416 56.4621 788.094 M51.4968 788.094 Q51.4968 780.456 56.4621 776.095 Q61.4273 771.735 70.212 771.735 Q78.9649 771.735 83.9619 776.095 Q88.9272 780.456 88.9272 788.094 Q88.9272 795.765 83.9619 800.126 Q78.9649 804.454 70.212 804.454 Q61.4273 804.454 56.4621 800.126 Q51.4968 795.765 51.4968 788.094 Z\" fill=\"#000000\" fill-rule=\"evenodd\" fill-opacity=\"1\" /><path clip-path=\"url(#clip910)\" d=\"M 0 0 M53.4065 742.866 L58.9447 742.866 Q57.6716 745.349 57.035 748.022 Q56.3984 750.696 56.3984 753.56 Q56.3984 757.921 57.7352 760.117 Q59.072 762.281 61.7456 762.281 Q63.7826 762.281 64.9603 760.722 Q66.1061 759.162 67.1565 754.452 L67.6021 752.446 Q68.9389 746.208 71.3897 743.598 Q73.8086 740.956 78.1691 740.956 Q83.1344 740.956 86.0308 744.903 Q88.9272 748.818 88.9272 755.693 Q88.9272 758.558 88.3543 761.677 Q87.8132 764.764 86.6992 768.202 L80.6518 768.202 Q82.3387 764.955 83.198 761.804 Q84.0256 758.653 84.0256 755.566 Q84.0256 751.428 82.6251 749.2 Q81.1929 746.972 78.6147 746.972 Q76.2276 746.972 74.9545 748.595 Q73.6813 750.187 72.5037 755.629 L72.0262 757.666 Q70.8804 763.109 68.5251 765.528 Q66.138 767.947 62.0002 767.947 Q56.9713 767.947 54.2341 764.382 Q51.4968 760.817 51.4968 754.261 Q51.4968 751.014 51.9743 748.15 Q52.4517 745.285 53.4065 742.866 Z\" fill=\"#000000\" fill-rule=\"evenodd\" fill-opacity=\"1\" /><path clip-path=\"url(#clip910)\" d=\"M 0 0 M53.4065 712.088 L58.9447 712.088 Q57.6716 714.571 57.035 717.244 Q56.3984 719.918 56.3984 722.782 Q56.3984 727.143 57.7352 729.339 Q59.072 731.503 61.7456 731.503 Q63.7826 731.503 64.9603 729.944 Q66.1061 728.384 67.1565 723.673 L67.6021 721.668 Q68.9389 715.43 71.3897 712.82 Q73.8086 710.178 78.1691 710.178 Q83.1344 710.178 86.0308 714.125 Q88.9272 718.04 88.9272 724.915 Q88.9272 727.779 88.3543 730.899 Q87.8132 733.986 86.6992 737.423 L80.6518 737.423 Q82.3387 734.177 83.198 731.026 Q84.0256 727.875 84.0256 724.787 Q84.0256 720.65 82.6251 718.422 Q81.1929 716.194 78.6147 716.194 Q76.2276 716.194 74.9545 717.817 Q73.6813 719.408 72.5037 724.851 L72.0262 726.888 Q70.8804 732.331 68.5251 734.75 Q66.138 737.169 62.0002 737.169 Q56.9713 737.169 54.2341 733.604 Q51.4968 730.039 51.4968 723.483 Q51.4968 720.236 51.9743 717.371 Q52.4517 714.507 53.4065 712.088 Z\" fill=\"#000000\" fill-rule=\"evenodd\" fill-opacity=\"1\" /><polyline clip-path=\"url(#clip912)\" style=\"stroke:#009af9; stroke-width:4; stroke-opacity:1; fill:none\" points=\"\n",
       "  270.762,162.7 288.187,272.247 305.612,367.035 323.038,463.559 340.463,556.902 357.889,639.009 375.314,711.552 392.74,777.591 410.165,822.687 427.591,863.155 \n",
       "  445.016,910.6 462.442,953.437 479.867,991.542 497.293,1024.64 514.718,1053.36 532.144,1078.26 549.569,1100.03 566.994,1119.15 584.42,1135.99 601.845,1150.94 \n",
       "  619.271,1164.27 636.696,1176.22 654.122,1187.01 671.547,1196.78 688.973,1205.71 706.398,1213.88 723.824,1221.38 741.249,1228.29 758.675,1234.67 776.1,1240.61 \n",
       "  793.525,1246.14 810.951,1251.32 828.376,1256.17 845.802,1260.74 863.227,1265.04 880.653,1269.1 898.078,1272.96 915.504,1276.62 932.929,1280.11 950.355,1282.61 \n",
       "  967.78,1285.82 985.206,1288.13 1002.63,1290.37 1020.06,1293.24 1037.48,1296 1054.91,1298.64 1072.33,1301.18 1089.76,1303.02 1107.18,1305.4 1124.61,1307.7 \n",
       "  1142.03,1309.92 1159.46,1312.07 1176.89,1314.15 1194.31,1316.17 1211.74,1318.12 1229.16,1320.02 1246.59,1321.87 1264.01,1323.66 1281.44,1325.41 1298.86,1327.12 \n",
       "  1316.29,1328.78 1333.71,1330.01 1351.14,1331.6 1368.57,1332.78 1385.99,1334.32 1403.42,1335.82 1420.84,1337.3 1438.27,1338.74 1455.69,1340.16 1473.12,1341.54 \n",
       "  1490.54,1342.9 1507.97,1344.23 1525.39,1345.53 1542.82,1346.81 1560.25,1348.06 1577.67,1349.28 1595.1,1350.49 1612.52,1351.67 1629.95,1352.83 1647.37,1353.97 \n",
       "  1664.8,1355.09 1682.22,1356.19 1699.65,1357.28 1717.08,1358.34 1734.5,1359.39 1751.93,1360.43 1769.35,1361.44 1786.78,1362.44 1804.2,1363.43 1821.63,1364.4 \n",
       "  1839.05,1365.36 1856.48,1366.31 1873.9,1367.24 1891.33,1368.16 1908.76,1369.06 1926.18,1369.96 1943.61,1370.84 1961.03,1371.71 1978.46,1372.57 1995.88,1373.42 \n",
       "  2013.31,1374.26 2030.73,1375.09 2048.16,1375.91 2065.58,1376.71 2083.01,1377.51 2100.44,1378.3 2117.86,1379.08 2135.29,1379.85 2152.71,1380.61 2170.14,1381.37 \n",
       "  2187.56,1382.11 2204.99,1382.84 2222.41,1383.57 2239.84,1384.29 2257.26,1385 2274.69,1385.7 2292.12,1386.4 \n",
       "  \"/>\n",
       "<polyline clip-path=\"url(#clip912)\" style=\"stroke:#e26f46; stroke-width:4; stroke-opacity:1; fill:none\" points=\"\n",
       "  270.762,160.256 288.187,268.777 305.612,362.953 323.038,458.553 340.463,550.403 357.889,630.41 375.314,700.87 392.74,765.159 410.165,809.588 427.591,849.544 \n",
       "  445.016,895.629 462.442,936.522 479.867,972.438 497.293,1003.37 514.718,1030.12 532.144,1053.29 549.569,1073.58 566.994,1091.37 584.42,1106.93 601.845,1120.64 \n",
       "  619.271,1132.73 636.696,1143.44 654.122,1152.98 671.547,1161.48 688.973,1169.12 706.398,1176.04 723.824,1182.36 741.249,1188.14 758.675,1193.42 776.1,1198.28 \n",
       "  793.525,1202.76 810.951,1206.91 828.376,1210.78 845.802,1214.36 863.227,1217.7 880.653,1220.81 898.078,1223.7 915.504,1226.41 932.929,1228.99 950.355,1230.82 \n",
       "  967.78,1233.11 985.206,1234.72 1002.63,1236.25 1020.06,1238.19 1037.48,1240.04 1054.91,1241.78 1072.33,1243.42 1089.76,1244.59 1107.18,1246.06 1124.61,1247.45 \n",
       "  1142.03,1248.78 1159.46,1250.04 1176.89,1251.23 1194.31,1252.37 1211.74,1253.43 1229.16,1254.43 1246.59,1255.38 1264.01,1256.3 1281.44,1257.17 1298.86,1257.99 \n",
       "  1316.29,1258.79 1333.71,1259.37 1351.14,1260.09 1368.57,1260.6 1385.99,1261.26 1403.42,1261.89 1420.84,1262.48 1438.27,1263.04 1455.69,1263.58 1473.12,1264.09 \n",
       "  1490.54,1264.58 1507.97,1265.04 1525.39,1265.49 1542.82,1265.93 1560.25,1266.32 1577.67,1266.69 1595.1,1267.02 1612.52,1267.31 1629.95,1267.59 1647.37,1267.86 \n",
       "  1664.8,1268.12 1682.22,1268.36 1699.65,1268.57 1717.08,1268.78 1734.5,1268.97 1751.93,1269.15 1769.35,1269.33 1786.78,1269.5 1804.2,1269.64 1821.63,1269.78 \n",
       "  1839.05,1269.91 1856.48,1270.03 1873.9,1270.14 1891.33,1270.23 1908.76,1270.33 1926.18,1270.41 1943.61,1270.47 1961.03,1270.53 1978.46,1270.58 1995.88,1270.61 \n",
       "  2013.31,1270.64 2030.73,1270.67 2048.16,1270.68 2065.58,1270.68 2083.01,1270.66 2100.44,1270.65 2117.86,1270.64 2135.29,1270.62 2152.71,1270.58 2170.14,1270.53 \n",
       "  2187.56,1270.51 2204.99,1270.45 2222.41,1270.41 2239.84,1270.36 2257.26,1270.29 2274.69,1270.22 2292.12,1270.16 \n",
       "  \"/>\n",
       "<path clip-path=\"url(#clip910)\" d=\"\n",
       "M1945.59 388.432 L2280.76 388.432 L2280.76 206.992 L1945.59 206.992  Z\n",
       "  \" fill=\"#ffffff\" fill-rule=\"evenodd\" fill-opacity=\"1\"/>\n",
       "<polyline clip-path=\"url(#clip910)\" style=\"stroke:#000000; stroke-width:4; stroke-opacity:1; fill:none\" points=\"\n",
       "  1945.59,388.432 2280.76,388.432 2280.76,206.992 1945.59,206.992 1945.59,388.432 \n",
       "  \"/>\n",
       "<polyline clip-path=\"url(#clip910)\" style=\"stroke:#009af9; stroke-width:4; stroke-opacity:1; fill:none\" points=\"\n",
       "  1969.59,267.472 2113.59,267.472 \n",
       "  \"/>\n",
       "<path clip-path=\"url(#clip910)\" d=\"M 0 0 M2145 251.465 L2145 258.826 L2153.77 258.826 L2153.77 262.137 L2145 262.137 L2145 276.211 Q2145 279.382 2145.86 280.285 Q2146.74 281.187 2149.4 281.187 L2153.77 281.187 L2153.77 284.752 L2149.4 284.752 Q2144.47 284.752 2142.59 282.923 Q2140.72 281.072 2140.72 276.211 L2140.72 262.137 L2137.59 262.137 L2137.59 258.826 L2140.72 258.826 L2140.72 251.465 L2145 251.465 Z\" fill=\"#000000\" fill-rule=\"evenodd\" fill-opacity=\"1\" /><path clip-path=\"url(#clip910)\" d=\"M 0 0 M2173.27 262.808 Q2172.55 262.391 2171.69 262.206 Q2170.86 261.998 2169.84 261.998 Q2166.23 261.998 2164.28 264.359 Q2162.36 266.697 2162.36 271.095 L2162.36 284.752 L2158.08 284.752 L2158.08 258.826 L2162.36 258.826 L2162.36 262.854 Q2163.71 260.493 2165.86 259.359 Q2168.01 258.201 2171.09 258.201 Q2171.53 258.201 2172.06 258.271 Q2172.59 258.317 2173.24 258.433 L2173.27 262.808 Z\" fill=\"#000000\" fill-rule=\"evenodd\" fill-opacity=\"1\" /><path clip-path=\"url(#clip910)\" d=\"M 0 0 M2189.52 271.72 Q2184.35 271.72 2182.36 272.9 Q2180.37 274.081 2180.37 276.928 Q2180.37 279.197 2181.85 280.539 Q2183.36 281.859 2185.93 281.859 Q2189.47 281.859 2191.6 279.359 Q2193.75 276.836 2193.75 272.669 L2193.75 271.72 L2189.52 271.72 M2198.01 269.961 L2198.01 284.752 L2193.75 284.752 L2193.75 280.817 Q2192.29 283.178 2190.12 284.312 Q2187.94 285.423 2184.79 285.423 Q2180.81 285.423 2178.45 283.201 Q2176.11 280.956 2176.11 277.206 Q2176.11 272.831 2179.03 270.609 Q2181.97 268.386 2187.78 268.386 L2193.75 268.386 L2193.75 267.97 Q2193.75 265.03 2191.81 263.433 Q2189.89 261.812 2186.39 261.812 Q2184.17 261.812 2182.06 262.345 Q2179.96 262.877 2178.01 263.942 L2178.01 260.007 Q2180.35 259.104 2182.55 258.664 Q2184.75 258.201 2186.83 258.201 Q2192.46 258.201 2195.23 261.118 Q2198.01 264.035 2198.01 269.961 Z\" fill=\"#000000\" fill-rule=\"evenodd\" fill-opacity=\"1\" /><path clip-path=\"url(#clip910)\" d=\"M 0 0 M2202.48 258.826 L2206.74 258.826 L2206.74 284.752 L2202.48 284.752 L2202.48 258.826 M2202.48 248.734 L2206.74 248.734 L2206.74 254.127 L2202.48 254.127 L2202.48 248.734 Z\" fill=\"#000000\" fill-rule=\"evenodd\" fill-opacity=\"1\" /><path clip-path=\"url(#clip910)\" d=\"M 0 0 M2232.76 269.104 L2232.76 284.752 L2228.5 284.752 L2228.5 269.243 Q2228.5 265.562 2227.06 263.734 Q2225.63 261.905 2222.76 261.905 Q2219.31 261.905 2217.32 264.104 Q2215.33 266.303 2215.33 270.099 L2215.33 284.752 L2211.04 284.752 L2211.04 258.826 L2215.33 258.826 L2215.33 262.854 Q2216.85 260.516 2218.91 259.359 Q2221 258.201 2223.71 258.201 Q2228.17 258.201 2230.46 260.979 Q2232.76 263.734 2232.76 269.104 Z\" fill=\"#000000\" fill-rule=\"evenodd\" fill-opacity=\"1\" /><polyline clip-path=\"url(#clip910)\" style=\"stroke:#e26f46; stroke-width:4; stroke-opacity:1; fill:none\" points=\"\n",
       "  1969.59,327.952 2113.59,327.952 \n",
       "  \"/>\n",
       "<path clip-path=\"url(#clip910)\" d=\"M 0 0 M2145 311.945 L2145 319.306 L2153.77 319.306 L2153.77 322.617 L2145 322.617 L2145 336.691 Q2145 339.862 2145.86 340.765 Q2146.74 341.667 2149.4 341.667 L2153.77 341.667 L2153.77 345.232 L2149.4 345.232 Q2144.47 345.232 2142.59 343.403 Q2140.72 341.552 2140.72 336.691 L2140.72 322.617 L2137.59 322.617 L2137.59 319.306 L2140.72 319.306 L2140.72 311.945 L2145 311.945 Z\" fill=\"#000000\" fill-rule=\"evenodd\" fill-opacity=\"1\" /><path clip-path=\"url(#clip910)\" d=\"M 0 0 M2180.42 331.204 L2180.42 333.288 L2160.83 333.288 Q2161.11 337.686 2163.47 340.001 Q2165.86 342.292 2170.09 342.292 Q2172.55 342.292 2174.84 341.69 Q2177.15 341.089 2179.42 339.885 L2179.42 343.913 Q2177.13 344.885 2174.72 345.394 Q2172.32 345.903 2169.84 345.903 Q2163.64 345.903 2160 342.292 Q2156.39 338.681 2156.39 332.524 Q2156.39 326.158 2159.82 322.431 Q2163.27 318.681 2169.1 318.681 Q2174.33 318.681 2177.36 322.061 Q2180.42 325.417 2180.42 331.204 M2176.16 329.954 Q2176.11 326.459 2174.19 324.376 Q2172.29 322.292 2169.15 322.292 Q2165.58 322.292 2163.43 324.306 Q2161.3 326.32 2160.97 329.978 L2176.16 329.954 Z\" fill=\"#000000\" fill-rule=\"evenodd\" fill-opacity=\"1\" /><path clip-path=\"url(#clip910)\" d=\"M 0 0 M2201.41 320.07 L2201.41 324.098 Q2199.61 323.172 2197.66 322.709 Q2195.72 322.246 2193.64 322.246 Q2190.46 322.246 2188.87 323.218 Q2187.29 324.191 2187.29 326.135 Q2187.29 327.616 2188.43 328.473 Q2189.56 329.306 2192.99 330.07 L2194.45 330.394 Q2198.98 331.366 2200.88 333.149 Q2202.8 334.908 2202.8 338.079 Q2202.8 341.69 2199.93 343.797 Q2197.08 345.903 2192.08 345.903 Q2190 345.903 2187.73 345.487 Q2185.49 345.093 2182.99 344.283 L2182.99 339.885 Q2185.35 341.112 2187.64 341.737 Q2189.93 342.339 2192.18 342.339 Q2195.19 342.339 2196.81 341.32 Q2198.43 340.278 2198.43 338.403 Q2198.43 336.667 2197.25 335.741 Q2196.09 334.816 2192.13 333.959 L2190.65 333.612 Q2186.69 332.778 2184.93 331.066 Q2183.17 329.329 2183.17 326.32 Q2183.17 322.663 2185.77 320.672 Q2188.36 318.681 2193.13 318.681 Q2195.49 318.681 2197.57 319.029 Q2199.65 319.376 2201.41 320.07 Z\" fill=\"#000000\" fill-rule=\"evenodd\" fill-opacity=\"1\" /><path clip-path=\"url(#clip910)\" d=\"M 0 0 M2211.48 311.945 L2211.48 319.306 L2220.26 319.306 L2220.26 322.617 L2211.48 322.617 L2211.48 336.691 Q2211.48 339.862 2212.34 340.765 Q2213.22 341.667 2215.88 341.667 L2220.26 341.667 L2220.26 345.232 L2215.88 345.232 Q2210.95 345.232 2209.08 343.403 Q2207.2 341.552 2207.2 336.691 L2207.2 322.617 L2204.08 322.617 L2204.08 319.306 L2207.2 319.306 L2207.2 311.945 L2211.48 311.945 Z\" fill=\"#000000\" fill-rule=\"evenodd\" fill-opacity=\"1\" /></svg>\n"
      ]
     },
     "execution_count": 105,
     "metadata": {},
     "output_type": "execute_result"
    }
   ],
   "source": [
    "plot(1:length(train_loss), train_loss, xlabel=\"~seconds of training\", label=\"train\")\n",
    "plot!(1:length(test_loss), test_loss, label=\"test\")\n",
    "title!(\"Train vs Test Loss\")\n",
    "ylabel!(\"Loss\")"
   ]
  },
  {
   "cell_type": "code",
   "execution_count": 107,
   "metadata": {},
   "outputs": [
    {
     "data": {
      "text/plain": [
       "0.9718"
      ]
     },
     "execution_count": 107,
     "metadata": {},
     "output_type": "execute_result"
    }
   ],
   "source": [
    "sum(prediction(i) == labels[i] for i in 1:5000)/5000"
   ]
  },
  {
   "cell_type": "code",
   "execution_count": 108,
   "metadata": {},
   "outputs": [
    {
     "data": {
      "text/plain": [
       "0.9072"
      ]
     },
     "execution_count": 108,
     "metadata": {},
     "output_type": "execute_result"
    }
   ],
   "source": [
    "sum(prediction(i) == labels[i] for i in 5001:10000)/5000"
   ]
  },
  {
   "cell_type": "markdown",
   "metadata": {},
   "source": [
    "Convolutional Neural Net"
   ]
  },
  {
   "cell_type": "code",
   "execution_count": 101,
   "metadata": {},
   "outputs": [
    {
     "name": "stdout",
     "output_type": "stream",
     "text": [
      "search: \u001b[0m\u001b[1mC\u001b[22m\u001b[0m\u001b[1mo\u001b[22m\u001b[0m\u001b[1mn\u001b[22m\u001b[0m\u001b[1mv\u001b[22m \u001b[0m\u001b[1mc\u001b[22m\u001b[0m\u001b[1mo\u001b[22m\u001b[0m\u001b[1mn\u001b[22m\u001b[0m\u001b[1mv\u001b[22m \u001b[0m\u001b[1mc\u001b[22m\u001b[0m\u001b[1mo\u001b[22m\u001b[0m\u001b[1mn\u001b[22m\u001b[0m\u001b[1mv\u001b[22m! \u001b[0m\u001b[1mc\u001b[22m\u001b[0m\u001b[1mo\u001b[22m\u001b[0m\u001b[1mn\u001b[22m\u001b[0m\u001b[1mv\u001b[22mert \u001b[0m\u001b[1mC\u001b[22m\u001b[0m\u001b[1mo\u001b[22m\u001b[0m\u001b[1mn\u001b[22m\u001b[0m\u001b[1mv\u001b[22mDims \u001b[0m\u001b[1mc\u001b[22m\u001b[0m\u001b[1mo\u001b[22m\u001b[0m\u001b[1mn\u001b[22m\u001b[0m\u001b[1mv\u001b[22mexhull \u001b[0m\u001b[1mC\u001b[22m\u001b[0m\u001b[1mo\u001b[22m\u001b[0m\u001b[1mn\u001b[22m\u001b[0m\u001b[1mv\u001b[22mTranspose ∇\u001b[0m\u001b[1mc\u001b[22m\u001b[0m\u001b[1mo\u001b[22m\u001b[0m\u001b[1mn\u001b[22m\u001b[0m\u001b[1mv\u001b[22m_data\n",
      "\n"
     ]
    },
    {
     "data": {
      "text/latex": [
       "\\begin{verbatim}\n",
       "Conv(size, in => out, σ = identity; init = glorot_uniform,\n",
       "     stride = 1, pad = 0, dilation = 1)\n",
       "\\end{verbatim}\n",
       "Standard convolutional layer. \\texttt{size} should be a tuple like \\texttt{(2, 2)}. \\texttt{in} and \\texttt{out} specify the number of input and output channels respectively.\n",
       "\n",
       "Data should be stored in WHCN order (width, height, \\# channels, batch size). In other words, a 100×100 RGB image would be a \\texttt{100×100×3×1} array, and a batch of 50 would be a \\texttt{100×100×3×50} array.\n",
       "\n",
       "\\section{Examples}\n",
       "Apply a \\texttt{Conv} layer to a 1-channel input using a 2×2 window size, giving us a 16-channel output. Output is activated with ReLU.\n",
       "\n",
       "\\begin{verbatim}\n",
       "size = (2,2)\n",
       "in = 1\n",
       "out = 16\n",
       "Conv(size, in => out, relu)\n",
       "\\end{verbatim}\n"
      ],
      "text/markdown": [
       "```\n",
       "Conv(size, in => out, σ = identity; init = glorot_uniform,\n",
       "     stride = 1, pad = 0, dilation = 1)\n",
       "```\n",
       "\n",
       "Standard convolutional layer. `size` should be a tuple like `(2, 2)`. `in` and `out` specify the number of input and output channels respectively.\n",
       "\n",
       "Data should be stored in WHCN order (width, height, # channels, batch size). In other words, a 100×100 RGB image would be a `100×100×3×1` array, and a batch of 50 would be a `100×100×3×50` array.\n",
       "\n",
       "# Examples\n",
       "\n",
       "Apply a `Conv` layer to a 1-channel input using a 2×2 window size, giving us a 16-channel output. Output is activated with ReLU.\n",
       "\n",
       "```julia\n",
       "size = (2,2)\n",
       "in = 1\n",
       "out = 16\n",
       "Conv(size, in => out, relu)\n",
       "```\n"
      ],
      "text/plain": [
       "\u001b[36m  Conv(size, in => out, σ = identity; init = glorot_uniform,\u001b[39m\n",
       "\u001b[36m       stride = 1, pad = 0, dilation = 1)\u001b[39m\n",
       "\n",
       "  Standard convolutional layer. \u001b[36msize\u001b[39m should be a tuple like \u001b[36m(2, 2)\u001b[39m. \u001b[36min\u001b[39m and \u001b[36mout\u001b[39m\n",
       "  specify the number of input and output channels respectively.\n",
       "\n",
       "  Data should be stored in WHCN order (width, height, # channels, batch size).\n",
       "  In other words, a 100×100 RGB image would be a \u001b[36m100×100×3×1\u001b[39m array, and a\n",
       "  batch of 50 would be a \u001b[36m100×100×3×50\u001b[39m array.\n",
       "\n",
       "\u001b[1m  Examples\u001b[22m\n",
       "\u001b[1m  ≡≡≡≡≡≡≡≡≡≡\u001b[22m\n",
       "\n",
       "  Apply a \u001b[36mConv\u001b[39m layer to a 1-channel input using a 2×2 window size, giving us a\n",
       "  16-channel output. Output is activated with ReLU.\n",
       "\n",
       "\u001b[36m  size = (2,2)\u001b[39m\n",
       "\u001b[36m  in = 1\u001b[39m\n",
       "\u001b[36m  out = 16\u001b[39m\n",
       "\u001b[36m  Conv(size, in => out, relu)\u001b[39m"
      ]
     },
     "execution_count": 101,
     "metadata": {},
     "output_type": "execute_result"
    }
   ],
   "source": [
    "?Conv"
   ]
  }
 ],
 "metadata": {
  "kernelspec": {
   "display_name": "Julia 1.4.1",
   "language": "julia",
   "name": "julia-1.4"
  },
  "language_info": {
   "file_extension": ".jl",
   "mimetype": "application/julia",
   "name": "julia",
   "version": "1.4.1"
  }
 },
 "nbformat": 4,
 "nbformat_minor": 4
}
