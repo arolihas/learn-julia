{
 "cells": [
  {
   "cell_type": "markdown",
   "metadata": {},
   "source": [
    "**Bayesian Logistic Regression**\n",
    "\n",
    "Predict likeliness to default given credit data from a popular R dataset"
   ]
  },
  {
   "cell_type": "code",
   "execution_count": 13,
   "metadata": {},
   "outputs": [
    {
     "name": "stderr",
     "output_type": "stream",
     "text": [
      "┌ Info: [Turing]: progress logging is disabled globally\n",
      "└ @ Turing /home/sahil/.julia/packages/Turing/d4vqQ/src/Turing.jl:22\n"
     ]
    },
    {
     "data": {
      "text/plain": [
       "false"
      ]
     },
     "execution_count": 13,
     "metadata": {},
     "output_type": "execute_result"
    }
   ],
   "source": [
    "using Turing, Distributions\n",
    "using RDatasets\n",
    "using MCMCChains, Plots, StatsPlots\n",
    "using MLDataUtils: shuffleobs, stratifiedobs, rescale!\n",
    "using StatsFuns: logistic\n",
    "using Random\n",
    "\n",
    "Random.seed!(0)\n",
    "Turing.turnprogress(false)"
   ]
  },
  {
   "cell_type": "code",
   "execution_count": 14,
   "metadata": {},
   "outputs": [
    {
     "data": {
      "text/html": [
       "<table class=\"data-frame\"><thead><tr><th></th><th>Default</th><th>Student</th><th>Balance</th><th>Income</th></tr><tr><th></th><th>Cat…</th><th>Cat…</th><th>Float64</th><th>Float64</th></tr></thead><tbody><p>6 rows × 4 columns</p><tr><th>1</th><td>No</td><td>No</td><td>729.526</td><td>44361.6</td></tr><tr><th>2</th><td>No</td><td>Yes</td><td>817.18</td><td>12106.1</td></tr><tr><th>3</th><td>No</td><td>No</td><td>1073.55</td><td>31767.1</td></tr><tr><th>4</th><td>No</td><td>No</td><td>529.251</td><td>35704.5</td></tr><tr><th>5</th><td>No</td><td>No</td><td>785.656</td><td>38463.5</td></tr><tr><th>6</th><td>No</td><td>Yes</td><td>919.589</td><td>7491.56</td></tr></tbody></table>"
      ],
      "text/latex": [
       "\\begin{tabular}{r|cccc}\n",
       "\t& Default & Student & Balance & Income\\\\\n",
       "\t\\hline\n",
       "\t& Cat… & Cat… & Float64 & Float64\\\\\n",
       "\t\\hline\n",
       "\t1 & No & No & 729.526 & 44361.6 \\\\\n",
       "\t2 & No & Yes & 817.18 & 12106.1 \\\\\n",
       "\t3 & No & No & 1073.55 & 31767.1 \\\\\n",
       "\t4 & No & No & 529.251 & 35704.5 \\\\\n",
       "\t5 & No & No & 785.656 & 38463.5 \\\\\n",
       "\t6 & No & Yes & 919.589 & 7491.56 \\\\\n",
       "\\end{tabular}\n"
      ],
      "text/plain": [
       "6×4 DataFrame\n",
       "│ Row │ Default │ Student │ Balance │ Income  │\n",
       "│     │ \u001b[90mCat…\u001b[39m    │ \u001b[90mCat…\u001b[39m    │ \u001b[90mFloat64\u001b[39m │ \u001b[90mFloat64\u001b[39m │\n",
       "├─────┼─────────┼─────────┼─────────┼─────────┤\n",
       "│ 1   │ No      │ No      │ 729.526 │ 44361.6 │\n",
       "│ 2   │ No      │ Yes     │ 817.18  │ 12106.1 │\n",
       "│ 3   │ No      │ No      │ 1073.55 │ 31767.1 │\n",
       "│ 4   │ No      │ No      │ 529.251 │ 35704.5 │\n",
       "│ 5   │ No      │ No      │ 785.656 │ 38463.5 │\n",
       "│ 6   │ No      │ Yes     │ 919.589 │ 7491.56 │"
      ]
     },
     "execution_count": 14,
     "metadata": {},
     "output_type": "execute_result"
    }
   ],
   "source": [
    "data = RDatasets.dataset(\"ISLR\", \"Default\");\n",
    "first(data, 6)"
   ]
  },
  {
   "cell_type": "code",
   "execution_count": 15,
   "metadata": {},
   "outputs": [
    {
     "data": {
      "text/html": [
       "<table class=\"data-frame\"><thead><tr><th></th><th>Balance</th><th>Income</th><th>DefaultNum</th><th>StudentNum</th></tr><tr><th></th><th>Float64</th><th>Float64</th><th>Float64</th><th>Float64</th></tr></thead><tbody><p>6 rows × 4 columns</p><tr><th>1</th><td>729.526</td><td>44361.6</td><td>0.0</td><td>0.0</td></tr><tr><th>2</th><td>817.18</td><td>12106.1</td><td>0.0</td><td>1.0</td></tr><tr><th>3</th><td>1073.55</td><td>31767.1</td><td>0.0</td><td>0.0</td></tr><tr><th>4</th><td>529.251</td><td>35704.5</td><td>0.0</td><td>0.0</td></tr><tr><th>5</th><td>785.656</td><td>38463.5</td><td>0.0</td><td>0.0</td></tr><tr><th>6</th><td>919.589</td><td>7491.56</td><td>0.0</td><td>1.0</td></tr></tbody></table>"
      ],
      "text/latex": [
       "\\begin{tabular}{r|cccc}\n",
       "\t& Balance & Income & DefaultNum & StudentNum\\\\\n",
       "\t\\hline\n",
       "\t& Float64 & Float64 & Float64 & Float64\\\\\n",
       "\t\\hline\n",
       "\t1 & 729.526 & 44361.6 & 0.0 & 0.0 \\\\\n",
       "\t2 & 817.18 & 12106.1 & 0.0 & 1.0 \\\\\n",
       "\t3 & 1073.55 & 31767.1 & 0.0 & 0.0 \\\\\n",
       "\t4 & 529.251 & 35704.5 & 0.0 & 0.0 \\\\\n",
       "\t5 & 785.656 & 38463.5 & 0.0 & 0.0 \\\\\n",
       "\t6 & 919.589 & 7491.56 & 0.0 & 1.0 \\\\\n",
       "\\end{tabular}\n"
      ],
      "text/plain": [
       "6×4 DataFrame\n",
       "│ Row │ Balance │ Income  │ DefaultNum │ StudentNum │\n",
       "│     │ \u001b[90mFloat64\u001b[39m │ \u001b[90mFloat64\u001b[39m │ \u001b[90mFloat64\u001b[39m    │ \u001b[90mFloat64\u001b[39m    │\n",
       "├─────┼─────────┼─────────┼────────────┼────────────┤\n",
       "│ 1   │ 729.526 │ 44361.6 │ 0.0        │ 0.0        │\n",
       "│ 2   │ 817.18  │ 12106.1 │ 0.0        │ 1.0        │\n",
       "│ 3   │ 1073.55 │ 31767.1 │ 0.0        │ 0.0        │\n",
       "│ 4   │ 529.251 │ 35704.5 │ 0.0        │ 0.0        │\n",
       "│ 5   │ 785.656 │ 38463.5 │ 0.0        │ 0.0        │\n",
       "│ 6   │ 919.589 │ 7491.56 │ 0.0        │ 1.0        │"
      ]
     },
     "execution_count": 15,
     "metadata": {},
     "output_type": "execute_result"
    }
   ],
   "source": [
    "data[!, :DefaultNum] = [r.Default == \"Yes\" ? 1.0 : 0.0 for r in eachrow(data)]\n",
    "data[!, :StudentNum] = [r.Student == \"Yes\" ? 1.0 : 0.0 for r in eachrow(data)]\n",
    "select!(data, Not([:Default, :Student]))\n",
    "first(data, 6)"
   ]
  },
  {
   "cell_type": "code",
   "execution_count": 18,
   "metadata": {},
   "outputs": [
    {
     "data": {
      "text/plain": [
       "split_data (generic function with 1 method)"
      ]
     },
     "execution_count": 18,
     "metadata": {},
     "output_type": "execute_result"
    }
   ],
   "source": [
    "function split_data(df, target; at=0.70)\n",
    "    shuffled = shuffleobs(df)\n",
    "    train, test = stratifiedobs(row -> row[target], shuffled, p=at)\n",
    "end"
   ]
  },
  {
   "cell_type": "code",
   "execution_count": 19,
   "metadata": {},
   "outputs": [],
   "source": [
    "features = [:StudentNum, :Balance, :Income]\n",
    "numerics = [:Balance, :Income]\n",
    "target = :DefaultNum\n",
    "\n",
    "train, test = split_data(data, target, at = 0.05)\n",
    "for feature in numerics\n",
    "    μ, σ = rescale!(train[!, feature], obsdim=1)\n",
    "    rescale!(test[!, feature], μ, σ, obsdim=1)\n",
    "end\n",
    "\n",
    "train_data = Matrix(train[:, features])\n",
    "test_data = Matrix(test[:, features])\n",
    "train_label = train[:, target]\n",
    "test_label = test[:, target];"
   ]
  },
  {
   "cell_type": "markdown",
   "metadata": {},
   "source": [
    "**Multinomial Logistic Regression**"
   ]
  },
  {
   "cell_type": "markdown",
   "metadata": {},
   "source": [
    "**Linear Regression**"
   ]
  },
  {
   "cell_type": "markdown",
   "metadata": {},
   "source": [
    "**Bayesian Poisson Regression**"
   ]
  },
  {
   "cell_type": "code",
   "execution_count": null,
   "metadata": {},
   "outputs": [],
   "source": []
  }
 ],
 "metadata": {
  "kernelspec": {
   "display_name": "Julia 1.4.1",
   "language": "julia",
   "name": "julia-1.4"
  },
  "language_info": {
   "file_extension": ".jl",
   "mimetype": "application/julia",
   "name": "julia",
   "version": "1.4.1"
  }
 },
 "nbformat": 4,
 "nbformat_minor": 4
}
